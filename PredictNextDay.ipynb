{
 "metadata": {
  "name": ""
 },
 "nbformat": 3,
 "nbformat_minor": 0,
 "worksheets": [
  {
   "cells": [
    {
     "cell_type": "code",
     "collapsed": false,
     "input": [
      "import pandas as pd\n",
      "import numpy as np\n",
      "import xgboost as xgb\n",
      "import hyperopt as hpt\n",
      "import warnings\n",
      "import matplotlib.pyplot as plt\n",
      "import seaborn as sns\n",
      "warnings.filterwarnings(\"ignore\")\n",
      "import time\n",
      "from sklearn.ensemble import GradientBoostingRegressor\n",
      "from sklearn.cross_validation import train_test_split\n",
      "from sklearn.metrics import mean_squared_error\n",
      "from sklearn.metrics import mean_absolute_error\n",
      "from sklearn.grid_search import RandomizedSearchCV\n"
     ],
     "language": "python",
     "metadata": {},
     "outputs": [],
     "prompt_number": 17
    },
    {
     "cell_type": "code",
     "collapsed": false,
     "input": [
      "load_data = pd.read_csv('/home/gkaiafas/Load_Data/0a05916b-d667-497f-b78c-749536429dbd.csv')\n",
      "load_data.columns=['Time', 'kwh']\n",
      "load_data['Time'] = pd.to_datetime(load_data['Time'])\n",
      "load_data.head()\n",
      "#### we sort the dataframe based on Time\n",
      "load_data = load_data.sort('Time')"
     ],
     "language": "python",
     "metadata": {},
     "outputs": [],
     "prompt_number": 3
    },
    {
     "cell_type": "code",
     "collapsed": false,
     "input": [
      "### We check if we have missing values \n",
      "empty = load_data.apply(lambda col: pd.isnull(col).sum())\n",
      "empty"
     ],
     "language": "python",
     "metadata": {},
     "outputs": [
      {
       "metadata": {},
       "output_type": "pyout",
       "prompt_number": 4,
       "text": [
        "Time    0\n",
        "kwh     0\n",
        "dtype: int64"
       ]
      }
     ],
     "prompt_number": 4
    },
    {
     "cell_type": "code",
     "collapsed": false,
     "input": [
      "### for some reason if a have the for loop for the len(load_data) the loop does not work. So I assign the load_data as x \n",
      "x = load_data[:load_data.shape[0]]\n",
      "##### Replace exreme values with the the measurement of the last quarter. We see an extremely peak plotting tha data\n",
      "x.iloc[105308:105312].kwh =x.iloc[105307].kwh\n",
      "############### Calculate the sum of kwh for every 96 measurements (each day has 96 measurements)\n",
      "p = 0\n",
      "j = 1\n",
      "y = []\n",
      "yy = []\n",
      "yy1 = []\n",
      "yy2 = []\n",
      "yy3 = []\n",
      "yy4 = []\n",
      "yy5 = []\n",
      "yy6 = []\n",
      "for i in range(0,len(x),96):\n",
      "    y.append(sum(x['kwh'][p*96:j*96]))\n",
      "    yy.append(x['Time'][p*96])\n",
      "    yy1.append(np.mean(x['kwh'][p*96:j*96]))\n",
      "    yy2.append(np.std(x['kwh'][p*96:j*96]))\n",
      "    yy3.append(max(x['kwh'][p*96:j*96]))\n",
      "    w2 = x['kwh'][p*96:j*96]\n",
      "    yy4.append(float(len(w2[w2>w2.mean()])))# / len(w2))\n",
      "    yy5.append((np.ptp(x['kwh'][p*96:j*96])))\n",
      "    w3 = x['kwh'][p*96:j*96]\n",
      "    w4 = w3.map(lambda x: abs(x-np.mean(w3)))\n",
      "    yy6.append(sum(w4))\n",
      "    p += 1\n",
      "    j += 1"
     ],
     "language": "python",
     "metadata": {},
     "outputs": [],
     "prompt_number": 5
    },
    {
     "cell_type": "code",
     "collapsed": false,
     "input": [
      "dd = pd.DataFrame([y,yy, yy1, yy2, yy3, yy4, yy5, yy6]).T\n",
      "data = dd.sort([1])\n",
      "data.head()\n",
      "data.columns = ['kwh', 'Time','mean_day', 'std_day','max_day', '#values_exceed_mean', 'max-min', 'standarized_sum']"
     ],
     "language": "python",
     "metadata": {},
     "outputs": [],
     "prompt_number": 6
    },
    {
     "cell_type": "code",
     "collapsed": false,
     "input": [
      "data['hour'] = data['Time'].map(lambda x: x.hour)\n",
      "data['day'] = data['Time'].map(lambda x: x.day)\n",
      "data['weekday'] = data['Time'].map(lambda x: x.weekday())\n",
      "data['month'] = data['Time'].map(lambda x: x.month)\n",
      "data['quarter'] = data['Time'].map(lambda x: x.quarter)\n",
      "data['year'] = data['Time'].map(lambda x: x.year)\n",
      "daily_data = data.drop(['Time','hour'],axis=1)"
     ],
     "language": "python",
     "metadata": {},
     "outputs": [],
     "prompt_number": 7
    },
    {
     "cell_type": "code",
     "collapsed": false,
     "input": [
      "daily_data[['mean_day', 'std_day', 'max_day', '#values_exceed_mean','max-min', 'standarized_sum']]= daily_data[['mean_day', 'std_day', 'max_day', '#values_exceed_mean','max-min', 'standarized_sum']].astype(float)"
     ],
     "language": "python",
     "metadata": {},
     "outputs": [],
     "prompt_number": 72
    },
    {
     "cell_type": "code",
     "collapsed": false,
     "input": [
      "daily_data.index = range(len(daily_data.kwh))\n",
      "daily_data.head()"
     ],
     "language": "python",
     "metadata": {},
     "outputs": [
      {
       "html": [
        "<div style=\"max-width:1500px;overflow:auto;\">\n",
        "<table border=\"1\" class=\"dataframe\">\n",
        "  <thead>\n",
        "    <tr style=\"text-align: right;\">\n",
        "      <th></th>\n",
        "      <th>kwh</th>\n",
        "      <th>mean_day</th>\n",
        "      <th>std_day</th>\n",
        "      <th>max_day</th>\n",
        "      <th>#values_exceed_mean</th>\n",
        "      <th>max-min</th>\n",
        "      <th>standarized_sum</th>\n",
        "      <th>day</th>\n",
        "      <th>weekday</th>\n",
        "      <th>month</th>\n",
        "      <th>quarter</th>\n",
        "      <th>year</th>\n",
        "    </tr>\n",
        "  </thead>\n",
        "  <tbody>\n",
        "    <tr>\n",
        "      <th>0</th>\n",
        "      <td>787.2</td>\n",
        "      <td>8.200000</td>\n",
        "      <td>5.730692</td>\n",
        "      <td>23.8</td>\n",
        "      <td>44</td>\n",
        "      <td>22.0</td>\n",
        "      <td>478.800000</td>\n",
        "      <td>1</td>\n",
        "      <td>6</td>\n",
        "      <td>1</td>\n",
        "      <td>1</td>\n",
        "      <td>2012</td>\n",
        "    </tr>\n",
        "    <tr>\n",
        "      <th>1</th>\n",
        "      <td>469</td>\n",
        "      <td>4.885417</td>\n",
        "      <td>4.507840</td>\n",
        "      <td>16.6</td>\n",
        "      <td>35</td>\n",
        "      <td>16.0</td>\n",
        "      <td>380.820833</td>\n",
        "      <td>2</td>\n",
        "      <td>0</td>\n",
        "      <td>1</td>\n",
        "      <td>1</td>\n",
        "      <td>2012</td>\n",
        "    </tr>\n",
        "    <tr>\n",
        "      <th>2</th>\n",
        "      <td>818</td>\n",
        "      <td>8.520833</td>\n",
        "      <td>5.767327</td>\n",
        "      <td>22.0</td>\n",
        "      <td>46</td>\n",
        "      <td>20.0</td>\n",
        "      <td>493.283333</td>\n",
        "      <td>3</td>\n",
        "      <td>1</td>\n",
        "      <td>1</td>\n",
        "      <td>1</td>\n",
        "      <td>2012</td>\n",
        "    </tr>\n",
        "    <tr>\n",
        "      <th>3</th>\n",
        "      <td>765.6</td>\n",
        "      <td>7.975000</td>\n",
        "      <td>5.714474</td>\n",
        "      <td>22.0</td>\n",
        "      <td>41</td>\n",
        "      <td>20.2</td>\n",
        "      <td>494.050000</td>\n",
        "      <td>4</td>\n",
        "      <td>2</td>\n",
        "      <td>1</td>\n",
        "      <td>1</td>\n",
        "      <td>2012</td>\n",
        "    </tr>\n",
        "    <tr>\n",
        "      <th>4</th>\n",
        "      <td>674.6</td>\n",
        "      <td>7.027083</td>\n",
        "      <td>5.375455</td>\n",
        "      <td>20.0</td>\n",
        "      <td>36</td>\n",
        "      <td>18.6</td>\n",
        "      <td>455.250000</td>\n",
        "      <td>5</td>\n",
        "      <td>3</td>\n",
        "      <td>1</td>\n",
        "      <td>1</td>\n",
        "      <td>2012</td>\n",
        "    </tr>\n",
        "  </tbody>\n",
        "</table>\n",
        "</div>"
       ],
       "metadata": {},
       "output_type": "pyout",
       "prompt_number": 73,
       "text": [
        "     kwh  mean_day   std_day  max_day  #values_exceed_mean  max-min  \\\n",
        "0  787.2  8.200000  5.730692     23.8                   44     22.0   \n",
        "1    469  4.885417  4.507840     16.6                   35     16.0   \n",
        "2    818  8.520833  5.767327     22.0                   46     20.0   \n",
        "3  765.6  7.975000  5.714474     22.0                   41     20.2   \n",
        "4  674.6  7.027083  5.375455     20.0                   36     18.6   \n",
        "\n",
        "   standarized_sum  day  weekday  month  quarter  year  \n",
        "0       478.800000    1        6      1        1  2012  \n",
        "1       380.820833    2        0      1        1  2012  \n",
        "2       493.283333    3        1      1        1  2012  \n",
        "3       494.050000    4        2      1        1  2012  \n",
        "4       455.250000    5        3      1        1  2012  "
       ]
      }
     ],
     "prompt_number": 73
    },
    {
     "cell_type": "code",
     "collapsed": false,
     "input": [
      "X = daily_data.drop(['kwh','quarter','year','month','weekday'],axis=1)\n",
      "y= daily_data['kwh']\n",
      "X_train, X_test, y_train, y_test = train_test_split(X, y, test_size=0.25)"
     ],
     "language": "python",
     "metadata": {},
     "outputs": [],
     "prompt_number": 77
    },
    {
     "cell_type": "code",
     "collapsed": false,
     "input": [
      "start_time = time.time()\n",
      "param_grid = {'learning_rate': [0.07, 0.01, 0.08, 0.02, 0.03, 0.04, 0.05, 0.055, 0.045, 0.035],\n",
      "              'max_depth': [2, 3, 4, 5, 6, 7],\n",
      "              'n_estimators': [9000, 8000, 10000, 8500, 9500, 10500, 7500],\n",
      "              'max_features': [2, 3, 4, 5, 6],\n",
      "              'min_samples_leaf':[2, 3, 4, 5, 6],\n",
      "              'subsample':[0.1, 0.2, 0.09, 0.3, 0.4, 0.5, 0.6, 0.7, 0.8, 0.9]\n",
      "#               'min_samples_split':[2, 3, 4, 5, 6]\n",
      "              }\n",
      "#  scoring=sklearn.metrics.make_scorer(mean_squared_error),\n",
      "est = GradientBoostingRegressor(verbose=1)\n",
      "# this may take some minutes\n",
      "gs_cv = RandomizedSearchCV(est, param_grid, cv=5, n_jobs=1, verbose=1).fit(X_train, y_train)\n",
      "\n",
      "# best hyperparameter setting\n",
      "print('Best hyperparameters: %r' % gs_cv.best_params_)\n",
      "est.set_params(**gs_cv.best_params_)\n",
      "est.fit(X_train, y_train)\n",
      "print (\"--- %s seconds ---\" % (time.time() - start_time))"
     ],
     "language": "python",
     "metadata": {},
     "outputs": [
      {
       "output_type": "stream",
       "stream": "stdout",
       "text": [
        "Fitting 5 folds for each of 10 candidates, totalling 50 fits\n",
        "      Iter       Train Loss      OOB Improve   Remaining Time "
       ]
      },
      {
       "output_type": "stream",
       "stream": "stdout",
       "text": [
        "\n",
        "         1     5312309.9633      372499.0494           15.56s\n",
        "         2     4940956.4006      323843.6801           13.10s\n",
        "         3     4582493.1743      337676.2477           12.24s\n",
        "         4     4306762.8851      299301.6930           11.95s\n",
        "         5     3997194.0654      283904.7625           11.89s\n",
        "         6     3737439.6913      262565.9132           11.89s\n",
        "         7     3613247.4883      220563.7149           11.73s\n",
        "         8     3261731.8628      215786.9892           11.63s\n",
        "         9     2992120.7926      223703.5323           11.53s\n",
        "        10     2843672.5600      185826.4594           11.41s\n",
        "        20     1415273.5523       95110.2150           10.84s\n",
        "        30      715392.4582       52378.9518           10.59s\n",
        "        40      335583.7688       29055.6422           10.73s\n",
        "        50      183556.2778       13175.0865           10.52s"
       ]
      },
      {
       "output_type": "stream",
       "stream": "stdout",
       "text": [
        "\n",
        "        60       98104.7134        5567.9620           10.45s\n",
        "        70       52429.2512        2648.0977           10.38s\n",
        "        80       28113.8820        1596.0350            9.97s\n",
        "        90       16593.0572         818.8828            9.56s\n",
        "       100        9178.1516         469.8745            9.34s\n",
        "       200        1565.6277          -1.3371            7.72s"
       ]
      },
      {
       "output_type": "stream",
       "stream": "stdout",
       "text": [
        "\n",
        "       300         860.0899          -2.3917            7.43s"
       ]
      },
      {
       "output_type": "stream",
       "stream": "stdout",
       "text": [
        "\n",
        "       400         563.0863           0.8195            7.18s"
       ]
      },
      {
       "output_type": "stream",
       "stream": "stdout",
       "text": [
        "\n",
        "       500         368.2299          -1.3766            6.87s"
       ]
      },
      {
       "output_type": "stream",
       "stream": "stdout",
       "text": [
        "\n",
        "       600         248.4482          -0.3602            6.67s"
       ]
      },
      {
       "output_type": "stream",
       "stream": "stdout",
       "text": [
        "\n",
        "       700         181.8620          -0.6461            6.50s"
       ]
      },
      {
       "output_type": "stream",
       "stream": "stdout",
       "text": [
        "\n",
        "       800         137.1184          -0.2902            6.36s"
       ]
      },
      {
       "output_type": "stream",
       "stream": "stdout",
       "text": [
        "\n",
        "       900          99.2361          -0.4306            6.23s"
       ]
      },
      {
       "output_type": "stream",
       "stream": "stdout",
       "text": [
        "\n",
        "      1000          73.7424          -0.2544            6.11s"
       ]
      },
      {
       "output_type": "stream",
       "stream": "stdout",
       "text": [
        "\n",
        "      2000           7.8521          -0.0133            5.21s"
       ]
      },
      {
       "output_type": "stream",
       "stream": "stdout",
       "text": [
        "\n",
        "      3000           1.2528          -0.0017            4.65s"
       ]
      },
      {
       "output_type": "stream",
       "stream": "stdout",
       "text": [
        "\n",
        "      4000           0.2453          -0.0014            4.13s"
       ]
      },
      {
       "output_type": "stream",
       "stream": "stdout",
       "text": [
        "\n",
        "      5000           0.0572          -0.0002            3.67s"
       ]
      },
      {
       "output_type": "stream",
       "stream": "stdout",
       "text": [
        "\n",
        "      6000           0.0183          -0.0001            2.93s"
       ]
      },
      {
       "output_type": "stream",
       "stream": "stdout",
       "text": [
        "\n",
        "      7000           0.0058          -0.0000            2.24s"
       ]
      },
      {
       "output_type": "stream",
       "stream": "stdout",
       "text": [
        "\n",
        "      8000           0.0018          -0.0000            1.58s"
       ]
      },
      {
       "output_type": "stream",
       "stream": "stdout",
       "text": [
        "\n",
        "      9000           0.0007          -0.0000            0.94s"
       ]
      },
      {
       "output_type": "stream",
       "stream": "stdout",
       "text": [
        "\n",
        "     10000           0.0003          -0.0000            0.31s"
       ]
      },
      {
       "output_type": "stream",
       "stream": "stdout",
       "text": [
        "\n",
        "      Iter       Train Loss      OOB Improve   Remaining Time "
       ]
      },
      {
       "output_type": "stream",
       "stream": "stdout",
       "text": [
        "\n",
        "         1     5420966.5739      380788.8901           12.08s\n",
        "         2     5144077.0110      324631.3407           10.41s\n",
        "         3     4601747.2890      348355.0115            9.28s\n",
        "         4     4254228.7419      340134.2069            8.79s\n",
        "         5     4055648.6927      290912.2158            8.35s\n",
        "         6     3769049.6286      279003.9474            8.07s\n",
        "         7     3418671.1883      288091.2437            7.90s\n",
        "         8     3301406.7159      235820.1678            7.80s\n",
        "         9     3070035.7462      210670.2918            7.64s\n",
        "        10     2899795.4042      194390.1546            7.55s\n",
        "        20     1407952.2916      105882.0031            6.93s\n",
        "        30      729457.0949       49177.0089            6.84s\n",
        "        40      363997.0659       25694.7376            6.72s\n",
        "        50      181697.9828       13044.3211            6.64s\n",
        "        60       94660.4485        7079.2320            6.62s\n",
        "        70       52791.1175        2933.3300            6.57s\n",
        "        80       29485.5646        1694.3062            6.53s"
       ]
      },
      {
       "output_type": "stream",
       "stream": "stdout",
       "text": [
        "\n",
        "        90       15957.2513         903.5400            6.55s\n",
        "       100        9734.0109         478.4018            6.52s\n",
        "       200        1453.0261           0.3877            6.27s"
       ]
      },
      {
       "output_type": "stream",
       "stream": "stdout",
       "text": [
        "\n",
        "       300         837.0735          -1.6966            6.11s"
       ]
      },
      {
       "output_type": "stream",
       "stream": "stdout",
       "text": [
        "\n",
        "       400         492.9192          -0.5784            6.03s"
       ]
      },
      {
       "output_type": "stream",
       "stream": "stdout",
       "text": [
        "\n",
        "       500         370.2195          -0.6645            5.92s"
       ]
      },
      {
       "output_type": "stream",
       "stream": "stdout",
       "text": [
        "\n",
        "       600         285.4248           0.2881            5.85s"
       ]
      },
      {
       "output_type": "stream",
       "stream": "stdout",
       "text": [
        "\n",
        "       700         202.0655          -0.0906            5.79s"
       ]
      },
      {
       "output_type": "stream",
       "stream": "stdout",
       "text": [
        "\n",
        "       800         151.8994          -0.3018            5.75s"
       ]
      },
      {
       "output_type": "stream",
       "stream": "stdout",
       "text": [
        "\n",
        "       900         111.9653          -0.6110            5.75s"
       ]
      },
      {
       "output_type": "stream",
       "stream": "stdout",
       "text": [
        "\n",
        "      1000          86.0292          -0.3020            5.74s"
       ]
      },
      {
       "output_type": "stream",
       "stream": "stdout",
       "text": [
        "\n",
        "      2000           8.5098          -0.0344            5.01s"
       ]
      },
      {
       "output_type": "stream",
       "stream": "stdout",
       "text": [
        "\n",
        "      3000           1.3394          -0.0038            4.39s"
       ]
      },
      {
       "output_type": "stream",
       "stream": "stdout",
       "text": [
        "\n",
        "      4000           0.2759          -0.0018            3.81s"
       ]
      },
      {
       "output_type": "stream",
       "stream": "stdout",
       "text": [
        "\n",
        "      5000           0.0744          -0.0002            3.22s"
       ]
      },
      {
       "output_type": "stream",
       "stream": "stdout",
       "text": [
        "\n",
        "      6000           0.0202          -0.0001            2.62s"
       ]
      },
      {
       "output_type": "stream",
       "stream": "stdout",
       "text": [
        "\n",
        "      7000           0.0057          -0.0000            2.04s"
       ]
      },
      {
       "output_type": "stream",
       "stream": "stdout",
       "text": [
        "\n",
        "      8000           0.0020          -0.0000            1.46s"
       ]
      },
      {
       "output_type": "stream",
       "stream": "stdout",
       "text": [
        "\n",
        "      9000           0.0007          -0.0000            0.87s"
       ]
      },
      {
       "output_type": "stream",
       "stream": "stdout",
       "text": [
        "\n",
        "     10000           0.0002          -0.0000            0.29s"
       ]
      },
      {
       "output_type": "stream",
       "stream": "stdout",
       "text": [
        "\n",
        "      Iter       Train Loss      OOB Improve   Remaining Time "
       ]
      },
      {
       "output_type": "stream",
       "stream": "stdout",
       "text": [
        "\n",
        "         1     5203121.1134      394582.4576           11.26s\n",
        "         2     4849787.8854      355382.9742            9.18s\n",
        "         3     4519459.7989      344200.1409            8.35s\n",
        "         4     4320756.6968      300905.1711            7.96s\n",
        "         5     4066707.7369      260110.8397            7.65s\n",
        "         6     3762469.9184      246445.5632            7.46s\n",
        "         7     3515880.5416      235041.3892            7.35s\n",
        "         8     3276884.6309      226805.9456            7.28s\n",
        "         9     3014703.9234      220457.0055            7.20s\n",
        "        10     2804751.2153      205851.9268            7.12s\n",
        "        20     1475105.1779       84947.3766            6.77s\n",
        "        30      721391.5672       46316.2195            6.64s\n",
        "        40      360214.8919       25430.8546            6.58s\n",
        "        50      192031.0650       10015.5272            6.59s\n",
        "        60       93742.6356        7171.5083            6.56s\n",
        "        70       53492.2072        2929.1198            6.52s\n",
        "        80       28726.2418        1724.8442            6.51s"
       ]
      },
      {
       "output_type": "stream",
       "stream": "stdout",
       "text": [
        "\n",
        "        90       16410.0799         858.3910            6.53s\n",
        "       100       10412.4903         383.1835            6.49s\n",
        "       200        1884.2963           3.1423            6.49s"
       ]
      },
      {
       "output_type": "stream",
       "stream": "stdout",
       "text": [
        "\n",
        "       300         986.5097          -3.7279            6.27s"
       ]
      },
      {
       "output_type": "stream",
       "stream": "stdout",
       "text": [
        "\n",
        "       400         634.8881          -0.7228            6.21s"
       ]
      },
      {
       "output_type": "stream",
       "stream": "stdout",
       "text": [
        "\n",
        "       500         408.4270          -1.0488            6.14s"
       ]
      },
      {
       "output_type": "stream",
       "stream": "stdout",
       "text": [
        "\n",
        "       600         285.9348          -0.7489            6.03s"
       ]
      },
      {
       "output_type": "stream",
       "stream": "stdout",
       "text": [
        "\n",
        "       700         222.5118           0.1137            5.93s"
       ]
      },
      {
       "output_type": "stream",
       "stream": "stdout",
       "text": [
        "\n",
        "       800         157.0179          -0.2927            5.84s"
       ]
      },
      {
       "output_type": "stream",
       "stream": "stdout",
       "text": [
        "\n",
        "       900         120.1459          -0.4359            5.77s"
       ]
      },
      {
       "output_type": "stream",
       "stream": "stdout",
       "text": [
        "\n",
        "      1000          96.6859          -0.4939            5.79s"
       ]
      },
      {
       "output_type": "stream",
       "stream": "stdout",
       "text": [
        "\n",
        "      2000          10.9842          -0.0215            5.14s"
       ]
      },
      {
       "output_type": "stream",
       "stream": "stdout",
       "text": [
        "\n",
        "      3000           1.6941          -0.0065            4.67s"
       ]
      },
      {
       "output_type": "stream",
       "stream": "stdout",
       "text": [
        "\n",
        "      4000           0.3398          -0.0012            3.97s"
       ]
      },
      {
       "output_type": "stream",
       "stream": "stdout",
       "text": [
        "\n",
        "      5000           0.1033          -0.0002            3.32s"
       ]
      },
      {
       "output_type": "stream",
       "stream": "stdout",
       "text": [
        "\n",
        "      6000           0.0317          -0.0001            2.73s"
       ]
      },
      {
       "output_type": "stream",
       "stream": "stdout",
       "text": [
        "\n",
        "      7000           0.0107          -0.0001            2.11s"
       ]
      },
      {
       "output_type": "stream",
       "stream": "stdout",
       "text": [
        "\n",
        "      8000           0.0043          -0.0000            1.50s"
       ]
      },
      {
       "output_type": "stream",
       "stream": "stdout",
       "text": [
        "\n",
        "      9000           0.0017          -0.0000            0.90s"
       ]
      },
      {
       "output_type": "stream",
       "stream": "stdout",
       "text": [
        "\n",
        "     10000           0.0007          -0.0000            0.30s"
       ]
      },
      {
       "output_type": "stream",
       "stream": "stdout",
       "text": [
        "\n",
        "      Iter       Train Loss      OOB Improve   Remaining Time "
       ]
      },
      {
       "output_type": "stream",
       "stream": "stdout",
       "text": [
        "\n",
        "         1     5501679.2665      346071.6273           11.15s\n",
        "         2     5038754.4161      356026.4465            9.29s\n",
        "         3     4716040.1312      329534.7102            8.50s\n",
        "         4     4396632.8421      305417.7358            7.91s\n",
        "         5     3973339.4101      322414.3600            7.70s\n",
        "         6     3658932.4356      295424.9467            7.53s\n",
        "         7     3531610.7253      261418.2067            7.41s\n",
        "         8     3473216.8082      190391.7890            7.34s\n",
        "         9     3137265.0276      192071.4254            7.27s\n",
        "        10     2981003.3796      168929.5735            7.28s\n",
        "        20     1443658.2579       99752.4435            6.89s\n",
        "        30      710803.1710       52982.8828            6.74s\n",
        "        40      365279.5039       24345.1578            6.70s\n",
        "        50      185662.3903       13522.4276            6.63s\n",
        "        60       96503.3382        6416.5806            6.57s\n",
        "        70       52011.8666        3198.5789            6.56s\n",
        "        80       27892.3960        1811.3649            6.53s"
       ]
      },
      {
       "output_type": "stream",
       "stream": "stdout",
       "text": [
        "\n",
        "        90       16662.3011         837.2442            6.53s\n",
        "       100       10706.4903         407.2749            6.51s\n",
        "       200        1632.0275           4.1185            6.23s"
       ]
      },
      {
       "output_type": "stream",
       "stream": "stdout",
       "text": [
        "\n",
        "       300         950.0265           0.1337            6.06s"
       ]
      },
      {
       "output_type": "stream",
       "stream": "stdout",
       "text": [
        "\n",
        "       400         620.5528          -1.1942            5.97s"
       ]
      },
      {
       "output_type": "stream",
       "stream": "stdout",
       "text": [
        "\n",
        "       500         461.3188          -0.5518            6.15s"
       ]
      },
      {
       "output_type": "stream",
       "stream": "stdout",
       "text": [
        "\n",
        "       600         306.5245          -1.6349            6.16s"
       ]
      },
      {
       "output_type": "stream",
       "stream": "stdout",
       "text": [
        "\n",
        "       700         226.4707          -1.3776            6.44s"
       ]
      },
      {
       "output_type": "stream",
       "stream": "stdout",
       "text": [
        "\n",
        "       800         176.5740          -0.6520            6.45s"
       ]
      },
      {
       "output_type": "stream",
       "stream": "stdout",
       "text": [
        "\n",
        "       900         126.6175          -0.5302            6.32s"
       ]
      },
      {
       "output_type": "stream",
       "stream": "stdout",
       "text": [
        "\n",
        "      1000          91.4378          -0.3694            6.29s"
       ]
      },
      {
       "output_type": "stream",
       "stream": "stdout",
       "text": [
        "\n",
        "      2000          11.2064          -0.0505            5.57s"
       ]
      },
      {
       "output_type": "stream",
       "stream": "stdout",
       "text": [
        "\n",
        "      3000           2.0764          -0.0139            4.80s"
       ]
      },
      {
       "output_type": "stream",
       "stream": "stdout",
       "text": [
        "\n",
        "      4000           0.4227          -0.0013            4.06s"
       ]
      },
      {
       "output_type": "stream",
       "stream": "stdout",
       "text": [
        "\n",
        "      5000           0.1009          -0.0004            3.39s"
       ]
      },
      {
       "output_type": "stream",
       "stream": "stdout",
       "text": [
        "\n",
        "      6000           0.0303          -0.0001            2.74s"
       ]
      },
      {
       "output_type": "stream",
       "stream": "stdout",
       "text": [
        "\n",
        "      7000           0.0088          -0.0000            2.12s"
       ]
      },
      {
       "output_type": "stream",
       "stream": "stdout",
       "text": [
        "\n",
        "      8000           0.0032          -0.0000            1.50s"
       ]
      },
      {
       "output_type": "stream",
       "stream": "stdout",
       "text": [
        "\n",
        "      9000           0.0011          -0.0000            0.90s"
       ]
      },
      {
       "output_type": "stream",
       "stream": "stdout",
       "text": [
        "\n",
        "     10000           0.0003          -0.0000            0.30s"
       ]
      },
      {
       "output_type": "stream",
       "stream": "stdout",
       "text": [
        "\n",
        "      Iter       Train Loss      OOB Improve   Remaining Time "
       ]
      },
      {
       "output_type": "stream",
       "stream": "stdout",
       "text": [
        "\n",
        "         1     5271233.0313      404605.7354           11.45s\n",
        "         2     4933877.1028      371625.3286            9.42s\n",
        "         3     4686094.5595      335049.7800            8.61s\n",
        "         4     4441485.6482      288894.5645            8.25s\n",
        "         5     4098099.9861      282022.3296            7.93s\n",
        "         6     3710067.7749      293961.2427            7.74s\n",
        "         7     3625461.4679      221471.5827            7.56s\n",
        "         8     3322048.3421      231401.9712            7.47s\n",
        "         9     3093515.5906      215299.5940            7.39s\n",
        "        10     2909621.5261      200285.8806            7.34s\n",
        "        20     1426457.3365       95210.1217            6.92s\n",
        "        30      722828.0082       52174.9406            6.78s\n",
        "        40      369384.2849       26772.3275            6.76s\n",
        "        50      200174.0694       10652.5833            6.71s\n",
        "        60      103289.9411        5464.2499            6.66s\n",
        "        70       53718.2866        3142.6179            6.64s\n",
        "        80       28182.1266        1996.6585            6.60s"
       ]
      },
      {
       "output_type": "stream",
       "stream": "stdout",
       "text": [
        "\n",
        "        90       17740.3638         892.0203            6.60s\n",
        "       100       11409.5400         350.2961            6.55s\n",
        "       200        1796.3711          13.7514            6.30s"
       ]
      },
      {
       "output_type": "stream",
       "stream": "stdout",
       "text": [
        "\n",
        "       300         988.7058          -4.6129            6.15s"
       ]
      },
      {
       "output_type": "stream",
       "stream": "stdout",
       "text": [
        "\n",
        "       400         625.8322          -0.0045            6.05s"
       ]
      },
      {
       "output_type": "stream",
       "stream": "stdout",
       "text": [
        "\n",
        "       500         411.3441          -2.1984            5.95s"
       ]
      },
      {
       "output_type": "stream",
       "stream": "stdout",
       "text": [
        "\n",
        "       600         286.8790          -0.8353            5.88s"
       ]
      },
      {
       "output_type": "stream",
       "stream": "stdout",
       "text": [
        "\n",
        "       700         205.4938          -1.0604            5.79s"
       ]
      },
      {
       "output_type": "stream",
       "stream": "stdout",
       "text": [
        "\n",
        "       800         145.0835          -0.6516            5.72s"
       ]
      },
      {
       "output_type": "stream",
       "stream": "stdout",
       "text": [
        "\n",
        "       900         111.3505           0.0419            5.65s"
       ]
      },
      {
       "output_type": "stream",
       "stream": "stdout",
       "text": [
        "\n",
        "      1000          93.0347          -0.2035            5.59s"
       ]
      },
      {
       "output_type": "stream",
       "stream": "stdout",
       "text": [
        "\n",
        "      2000           9.2376          -0.0352            4.95s"
       ]
      },
      {
       "output_type": "stream",
       "stream": "stdout",
       "text": [
        "\n",
        "      3000           1.4242          -0.0065            4.36s"
       ]
      },
      {
       "output_type": "stream",
       "stream": "stdout",
       "text": [
        "\n",
        "      4000           0.2871          -0.0009            3.77s"
       ]
      },
      {
       "output_type": "stream",
       "stream": "stdout",
       "text": [
        "\n",
        "      5000           0.0707          -0.0004            3.19s"
       ]
      },
      {
       "output_type": "stream",
       "stream": "stdout",
       "text": [
        "\n",
        "      6000           0.0233          -0.0001            2.60s"
       ]
      },
      {
       "output_type": "stream",
       "stream": "stdout",
       "text": [
        "\n",
        "      7000           0.0074          -0.0000            2.02s"
       ]
      },
      {
       "output_type": "stream",
       "stream": "stdout",
       "text": [
        "\n",
        "      8000           0.0026          -0.0000            1.44s"
       ]
      },
      {
       "output_type": "stream",
       "stream": "stdout",
       "text": [
        "\n",
        "      9000           0.0009          -0.0000            0.87s"
       ]
      },
      {
       "output_type": "stream",
       "stream": "stdout",
       "text": [
        "\n",
        "     10000           0.0004          -0.0000            0.29s"
       ]
      },
      {
       "output_type": "stream",
       "stream": "stdout",
       "text": [
        "\n",
        "      Iter       Train Loss      OOB Improve   Remaining Time "
       ]
      },
      {
       "output_type": "stream",
       "stream": "stdout",
       "text": [
        "\n",
        "         1     6708630.6363      319819.2977            8.49s\n",
        "         2     5237747.6707      314655.9046            6.59s\n",
        "         3     4306821.2957      291029.2607            5.75s\n",
        "         4     4134078.5704      264470.3139            5.35s\n",
        "         5     3401543.4576      258602.8143            5.14s\n",
        "         6     3502722.2066      242577.6326            4.96s\n",
        "         7     3135498.9015      227782.6156            4.83s\n",
        "         8     2633608.0846      223559.5272            4.72s\n",
        "         9     3108683.2958      204755.9649            4.65s\n",
        "        10     3611703.4535      180749.1641            4.57s\n",
        "        20     1774869.5933      107811.1908            4.11s\n",
        "        30     1062142.1830       57558.5268            3.96s\n",
        "        40      501474.8733       32923.0682            3.89s\n",
        "        50      348541.6891       16714.1169            3.85s\n",
        "        60      181448.4580        8505.0717            3.82s\n",
        "        70      173543.4808        5526.2649            3.79s\n",
        "        80       81026.8190        3646.6653            3.77s\n",
        "        90       26097.5832        1534.1592            3.75s\n",
        "       100       52338.5554        1228.1968            3.75s\n",
        "       200        5567.2272          18.9012            3.65s"
       ]
      },
      {
       "output_type": "stream",
       "stream": "stdout",
       "text": [
        "\n",
        "       300        7690.3969          27.6890            3.60s\n",
        "       400       16162.5353          17.1683            3.57s"
       ]
      },
      {
       "output_type": "stream",
       "stream": "stdout",
       "text": [
        "\n",
        "       500        2283.2766          -1.4720            3.53s\n",
        "       600        2085.2599          -8.4475            3.48s"
       ]
      },
      {
       "output_type": "stream",
       "stream": "stdout",
       "text": [
        "\n",
        "       700        1575.8611          -2.8134            3.45s\n",
        "       800        2880.4542           0.4327            3.40s"
       ]
      },
      {
       "output_type": "stream",
       "stream": "stdout",
       "text": [
        "\n",
        "       900        3123.7387           1.2277            3.37s\n",
        "      1000        1438.5438          -1.1294            3.32s"
       ]
      },
      {
       "output_type": "stream",
       "stream": "stdout",
       "text": [
        "\n",
        "      2000        3829.3068          -1.3998            2.96s"
       ]
      },
      {
       "output_type": "stream",
       "stream": "stdout",
       "text": [
        "\n",
        "      3000        1580.9745          -2.6767            2.60s"
       ]
      },
      {
       "output_type": "stream",
       "stream": "stdout",
       "text": [
        "\n",
        "      4000        1391.0620          -2.3604            2.25s"
       ]
      },
      {
       "output_type": "stream",
       "stream": "stdout",
       "text": [
        "\n",
        "      5000        1576.6248          -0.9158            1.91s"
       ]
      },
      {
       "output_type": "stream",
       "stream": "stdout",
       "text": [
        "\n",
        "      6000         214.5267          -0.7898            1.56s"
       ]
      },
      {
       "output_type": "stream",
       "stream": "stdout",
       "text": [
        "\n",
        "      7000          79.3729          -0.1467            1.21s"
       ]
      },
      {
       "output_type": "stream",
       "stream": "stdout",
       "text": [
        "\n",
        "      8000         141.1266          -0.2245            0.87s"
       ]
      },
      {
       "output_type": "stream",
       "stream": "stdout",
       "text": [
        "\n",
        "      9000         221.2860          -0.1616            0.52s"
       ]
      },
      {
       "output_type": "stream",
       "stream": "stdout",
       "text": [
        "\n",
        "     10000         173.7554          -0.2734            0.17s"
       ]
      },
      {
       "output_type": "stream",
       "stream": "stdout",
       "text": [
        "\n",
        "      Iter       Train Loss      OOB Improve   Remaining Time "
       ]
      },
      {
       "output_type": "stream",
       "stream": "stdout",
       "text": [
        "\n",
        "         1     5888232.2325      313922.9730            8.37s\n",
        "         2     5137709.1235      318002.2818            6.53s\n",
        "         3     5793767.2931      281838.0200            5.81s\n",
        "         4     3950891.5901      290907.5122            5.38s\n",
        "         5     4615244.9067      268173.7053            5.12s\n",
        "         6     4548646.3077      239860.2279            4.93s\n",
        "         7     4618815.5569      225832.8727            4.78s\n",
        "         8     3929733.7614      224748.2320            4.68s\n",
        "         9     3449679.1439      206057.4690            4.60s\n",
        "        10     2916987.4626      191436.3732            4.54s\n",
        "        20     1762030.2827      107095.6612            4.11s\n",
        "        30      874550.4770       58531.5164            3.97s\n",
        "        40      585203.1291       32410.9339            3.89s\n",
        "        50      393925.5156       18501.0606            3.85s\n",
        "        60      243426.7461        9455.2572            3.83s\n",
        "        70      125052.8223        6094.4125            3.81s\n",
        "        80       94538.6638        3405.2291            3.79s\n",
        "        90       40521.2270        1723.3247            3.76s\n",
        "       100       14790.0769         799.5947            3.76s\n",
        "       200        3609.7187          15.0027            3.62s"
       ]
      },
      {
       "output_type": "stream",
       "stream": "stdout",
       "text": [
        "\n",
        "       300        9971.7670         -43.6069            3.57s\n",
        "       400        5430.5145          13.0471            3.51s"
       ]
      },
      {
       "output_type": "stream",
       "stream": "stdout",
       "text": [
        "\n",
        "       500        7524.5726         -10.1342            3.48s\n",
        "       600        3314.3536          -5.5045            3.44s"
       ]
      },
      {
       "output_type": "stream",
       "stream": "stdout",
       "text": [
        "\n",
        "       700        5420.6318          -4.8531            3.40s\n",
        "       800        6201.9183          -9.0948            3.36s"
       ]
      },
      {
       "output_type": "stream",
       "stream": "stdout",
       "text": [
        "\n",
        "       900        1467.5856          -5.7868            3.33s\n",
        "      1000        1787.0087          -5.7944            3.30s"
       ]
      },
      {
       "output_type": "stream",
       "stream": "stdout",
       "text": [
        "\n",
        "      2000        4310.1996           5.8307            2.94s"
       ]
      },
      {
       "output_type": "stream",
       "stream": "stdout",
       "text": [
        "\n",
        "      3000         394.0468          -0.5946            2.59s"
       ]
      },
      {
       "output_type": "stream",
       "stream": "stdout",
       "text": [
        "\n",
        "      4000         415.1767          -2.5257            2.25s"
       ]
      },
      {
       "output_type": "stream",
       "stream": "stdout",
       "text": [
        "\n",
        "      5000         156.0457          -0.2857            1.90s"
       ]
      },
      {
       "output_type": "stream",
       "stream": "stdout",
       "text": [
        "\n",
        "      6000          92.1465           0.2164            1.55s"
       ]
      },
      {
       "output_type": "stream",
       "stream": "stdout",
       "text": [
        "\n",
        "      7000          51.3683           0.0656            1.21s"
       ]
      },
      {
       "output_type": "stream",
       "stream": "stdout",
       "text": [
        "\n",
        "      8000         249.3478          -0.4122            0.88s"
       ]
      },
      {
       "output_type": "stream",
       "stream": "stdout",
       "text": [
        "\n",
        "      9000         153.8403          -0.6993            0.53s"
       ]
      },
      {
       "output_type": "stream",
       "stream": "stdout",
       "text": [
        "\n",
        "     10000         196.6835          -0.2899            0.18s"
       ]
      },
      {
       "output_type": "stream",
       "stream": "stdout",
       "text": [
        "\n",
        "      Iter       Train Loss      OOB Improve   Remaining Time "
       ]
      },
      {
       "output_type": "stream",
       "stream": "stdout",
       "text": [
        "\n",
        "         1     5469703.1586      331686.8875            8.46s\n",
        "         2     4768291.5819      300405.2752            6.77s\n",
        "         3     4961329.0285      280860.9678            5.99s\n",
        "         4     4065636.0263      278984.1294            5.51s\n",
        "         5     5158946.4253      256684.1937            5.22s\n",
        "         6     4546339.6008      242362.5586            5.01s\n",
        "         7     2879532.2920      214983.5516            4.88s\n",
        "         8     2813317.4394      216858.9007            4.80s\n",
        "         9     2665480.1771      206586.0081            4.72s\n",
        "        10     2971935.8208      192819.1118            4.64s\n",
        "        20     1561071.9201      101210.0141            4.16s\n",
        "        30     1068599.2136       60878.8168            4.01s\n",
        "        40      608848.6579       34685.0746            3.92s\n",
        "        50      320376.6039       19886.1925            3.90s\n",
        "        60      190030.6932        8877.9534            3.92s\n",
        "        70       71261.5135        4269.3731            3.88s\n",
        "        80       96402.8087        3665.7471            3.85s\n",
        "        90       77022.5783        2511.9236            3.82s\n",
        "       100       30403.9017         767.2003            3.84s\n",
        "       200        8191.7151         119.7127            3.68s"
       ]
      },
      {
       "output_type": "stream",
       "stream": "stdout",
       "text": [
        "\n",
        "       300       21461.3968          91.4085            3.63s\n",
        "       400       11217.4091           2.7785            3.57s"
       ]
      },
      {
       "output_type": "stream",
       "stream": "stdout",
       "text": [
        "\n",
        "       500       21016.0413          28.5090            3.53s\n",
        "       600        7136.4968          -0.2126            3.52s"
       ]
      },
      {
       "output_type": "stream",
       "stream": "stdout",
       "text": [
        "\n",
        "       700        2821.2337          -1.2076            3.49s\n",
        "       800        1430.0368          -2.4837            3.44s"
       ]
      },
      {
       "output_type": "stream",
       "stream": "stdout",
       "text": [
        "\n",
        "       900        1260.5493          -5.1444            3.40s\n",
        "      1000        3667.0795          -3.5414            3.36s"
       ]
      },
      {
       "output_type": "stream",
       "stream": "stdout",
       "text": [
        "\n",
        "      2000        2958.0783          -5.2086            2.98s"
       ]
      },
      {
       "output_type": "stream",
       "stream": "stdout",
       "text": [
        "\n",
        "      3000         581.3385          -5.0092            2.62s"
       ]
      },
      {
       "output_type": "stream",
       "stream": "stdout",
       "text": [
        "\n",
        "      4000         340.4324          -0.8587            2.27s"
       ]
      },
      {
       "output_type": "stream",
       "stream": "stdout",
       "text": [
        "\n",
        "      5000         419.3686          -0.6760            1.92s"
       ]
      },
      {
       "output_type": "stream",
       "stream": "stdout",
       "text": [
        "\n",
        "      6000        1258.7517          -1.8938            1.57s"
       ]
      },
      {
       "output_type": "stream",
       "stream": "stdout",
       "text": [
        "\n",
        "      7000          64.5188           0.1121            1.22s"
       ]
      },
      {
       "output_type": "stream",
       "stream": "stdout",
       "text": [
        "\n",
        "      8000         185.2642          -0.6874            0.87s"
       ]
      },
      {
       "output_type": "stream",
       "stream": "stdout",
       "text": [
        "\n",
        "      9000          75.8754          -0.3849            0.52s"
       ]
      },
      {
       "output_type": "stream",
       "stream": "stdout",
       "text": [
        "\n",
        "     10000          60.9489           0.0187            0.17s"
       ]
      },
      {
       "output_type": "stream",
       "stream": "stdout",
       "text": [
        "\n",
        "      Iter       Train Loss      OOB Improve   Remaining Time "
       ]
      },
      {
       "output_type": "stream",
       "stream": "stdout",
       "text": [
        "\n",
        "         1     6391483.3690      333232.1709            8.38s\n",
        "         2     6272877.1155      310298.0177            6.52s\n",
        "         3     4446072.2363      282223.0822            5.78s\n",
        "         4     4257424.9030      270859.5373            5.37s\n",
        "         5     4157121.2954      262626.6968            5.08s\n",
        "         6     4586639.8893      246626.4862            4.99s\n",
        "         7     3355187.3731      243443.9384            4.85s\n",
        "         8     2697359.1312      219877.0565            4.80s\n",
        "         9     4166227.1772      199252.3114            4.86s\n",
        "        10     3391993.2759      197931.7038            4.80s\n",
        "        20     1542399.1001      107122.8446            4.25s\n",
        "        30     1268131.7248       56599.8946            4.06s\n",
        "        40      511415.6672       31055.6545            3.97s\n",
        "        50      309622.7054       18034.3358            3.91s\n",
        "        60      219079.1899       10354.5752            3.89s\n",
        "        70      135860.7365        5340.8405            3.85s\n",
        "        80       55655.0061        3179.7515            3.82s\n",
        "        90       28508.5251        1512.6874            3.79s\n",
        "       100       16013.4187         592.0684            3.77s\n",
        "       200        5636.1399          41.0165            3.66s"
       ]
      },
      {
       "output_type": "stream",
       "stream": "stdout",
       "text": [
        "\n",
        "       300       13555.6465          13.6702            3.64s\n",
        "       400        2415.9899           5.5920            3.59s"
       ]
      },
      {
       "output_type": "stream",
       "stream": "stdout",
       "text": [
        "\n",
        "       500       13935.7449           7.0131            3.55s\n",
        "       600       13797.9307         -27.7899            3.51s"
       ]
      },
      {
       "output_type": "stream",
       "stream": "stdout",
       "text": [
        "\n",
        "       700        1834.7236          -9.9154            3.47s\n",
        "       800        1497.4091           7.0983            3.44s"
       ]
      },
      {
       "output_type": "stream",
       "stream": "stdout",
       "text": [
        "\n",
        "       900       10398.1881          -9.2752            3.41s\n",
        "      1000        6233.3215          -5.2613            3.36s"
       ]
      },
      {
       "output_type": "stream",
       "stream": "stdout",
       "text": [
        "\n",
        "      2000         681.6122          -2.7056            2.99s"
       ]
      },
      {
       "output_type": "stream",
       "stream": "stdout",
       "text": [
        "\n",
        "      3000         306.1574          -0.8878            2.65s"
       ]
      },
      {
       "output_type": "stream",
       "stream": "stdout",
       "text": [
        "\n",
        "      4000         148.2200          -0.9639            2.30s"
       ]
      },
      {
       "output_type": "stream",
       "stream": "stdout",
       "text": [
        "\n",
        "      5000         712.0810          -1.2134            1.95s"
       ]
      },
      {
       "output_type": "stream",
       "stream": "stdout",
       "text": [
        "\n",
        "      6000         267.7160          -0.2456            1.60s"
       ]
      },
      {
       "output_type": "stream",
       "stream": "stdout",
       "text": [
        "\n",
        "      7000         107.7064          -0.9003            1.26s"
       ]
      },
      {
       "output_type": "stream",
       "stream": "stdout",
       "text": [
        "\n",
        "      8000        2539.1141          -4.1191            0.90s"
       ]
      },
      {
       "output_type": "stream",
       "stream": "stdout",
       "text": [
        "\n",
        "      9000          79.1651          -0.3096            0.54s"
       ]
      },
      {
       "output_type": "stream",
       "stream": "stdout",
       "text": [
        "\n",
        "     10000          15.5121           0.0079            0.18s"
       ]
      },
      {
       "output_type": "stream",
       "stream": "stdout",
       "text": [
        "\n",
        "      Iter       Train Loss      OOB Improve   Remaining Time "
       ]
      },
      {
       "output_type": "stream",
       "stream": "stdout",
       "text": [
        "\n",
        "         1     5794484.2829      335213.8319           11.83s\n",
        "         2     4379356.1805      303001.5927            8.45s\n",
        "         3     5246194.9944      287205.5403            7.01s\n",
        "         4     5024305.7148      271659.8900            6.27s\n",
        "         5     4614021.6770      258345.7329            5.81s\n",
        "         6     3998123.5477      249687.3993            5.50s\n",
        "         7     4271325.0590      228745.2251            5.28s\n",
        "         8     3819196.7687      224469.7402            5.12s\n",
        "         9     2959777.5661      202644.3281            5.02s\n",
        "        10     2378839.7558      171381.1844            4.91s\n",
        "        20     1456780.2946       99070.1378            4.29s\n",
        "        30      976247.3090       57326.9109            4.09s\n",
        "        40      658557.3176       31406.0595            3.99s\n",
        "        50      274993.1673       19475.4971            3.93s\n",
        "        60      139358.1341        9522.8233            3.87s\n",
        "        70      158472.6890        5676.1174            3.85s\n",
        "        80      122075.6734        3488.8544            3.82s\n",
        "        90       33685.3364        1758.5218            3.80s\n",
        "       100       36043.6724        1144.5323            3.78s\n",
        "       200        6077.3487          -2.1498            3.63s"
       ]
      },
      {
       "output_type": "stream",
       "stream": "stdout",
       "text": [
        "\n",
        "       300        6681.1391          -3.4973            3.61s\n",
        "       400        3516.0262           1.5048            3.60s"
       ]
      },
      {
       "output_type": "stream",
       "stream": "stdout",
       "text": [
        "\n",
        "       500        2759.6202           7.0779            3.57s\n",
        "       600        1208.4327           7.1325            3.53s"
       ]
      },
      {
       "output_type": "stream",
       "stream": "stdout",
       "text": [
        "\n",
        "       700        9330.9471          -0.4209            3.52s\n",
        "       800        1626.3258          -5.9265            3.47s"
       ]
      },
      {
       "output_type": "stream",
       "stream": "stdout",
       "text": [
        "\n",
        "       900        1227.9463          -6.1475            3.44s\n",
        "      1000        2274.0308          -5.9814            3.40s"
       ]
      },
      {
       "output_type": "stream",
       "stream": "stdout",
       "text": [
        "\n",
        "      2000        1036.1152           3.1779            3.10s"
       ]
      },
      {
       "output_type": "stream",
       "stream": "stdout",
       "text": [
        "\n",
        "      3000         540.5010           1.5343            2.77s"
       ]
      },
      {
       "output_type": "stream",
       "stream": "stdout",
       "text": [
        "\n",
        "      4000         151.7799          -0.4875            2.40s"
       ]
      },
      {
       "output_type": "stream",
       "stream": "stdout",
       "text": [
        "\n",
        "      5000         224.3818          -0.2551            2.01s"
       ]
      },
      {
       "output_type": "stream",
       "stream": "stdout",
       "text": [
        "\n",
        "      6000         277.1353          -1.6526            1.63s"
       ]
      },
      {
       "output_type": "stream",
       "stream": "stdout",
       "text": [
        "\n",
        "      7000          93.8223          -0.0295            1.27s"
       ]
      },
      {
       "output_type": "stream",
       "stream": "stdout",
       "text": [
        "\n",
        "      8000         196.6042          -0.1368            0.90s"
       ]
      },
      {
       "output_type": "stream",
       "stream": "stdout",
       "text": [
        "\n",
        "      9000          67.7490          -0.1731            0.54s"
       ]
      },
      {
       "output_type": "stream",
       "stream": "stdout",
       "text": [
        "\n",
        "     10000         500.0949           0.0385            0.18s"
       ]
      },
      {
       "output_type": "stream",
       "stream": "stdout",
       "text": [
        "\n",
        "      Iter       Train Loss      OOB Improve   Remaining Time "
       ]
      },
      {
       "output_type": "stream",
       "stream": "stdout",
       "text": [
        "\n",
        "         1     3943924.5700      416551.0872            9.93s\n",
        "         2     4401660.1648      407464.1551            7.31s\n",
        "         3     5010366.0387      382624.8656            6.15s\n",
        "         4     3424142.7147      330757.3844            5.55s\n",
        "         5     4438555.0152      315420.2610            5.17s\n",
        "         6     3313876.0839      282427.8206            4.91s\n",
        "         7     3301490.1054      257313.6916            4.72s\n",
        "         8     2187216.0193      201492.3883            4.60s\n",
        "         9     2476314.2962      232873.3689            4.49s\n",
        "        10     2524209.1467      214762.5567            4.40s\n",
        "        20     1111504.2295       87590.3935            3.87s\n",
        "        30      511658.2645       45716.4074            3.71s\n",
        "        40      352594.5939       22461.2746            3.63s\n",
        "        50      171500.6974        9476.9617            3.63s\n",
        "        60       72139.2220        4906.8298            3.59s\n",
        "        70       63978.7041        2954.3225            3.55s\n",
        "        80       36561.2072        1158.3448            3.51s\n",
        "        90       24942.3374         480.9351            3.49s\n",
        "       100       12292.5854         303.9227            3.51s\n",
        "       200        4035.4294          12.2211            3.45s"
       ]
      },
      {
       "output_type": "stream",
       "stream": "stdout",
       "text": [
        "\n",
        "       300        5115.3981         -17.0796            3.45s\n",
        "       400         967.8986           2.7319            3.41s"
       ]
      },
      {
       "output_type": "stream",
       "stream": "stdout",
       "text": [
        "\n",
        "       500        3020.2604           0.2409            3.36s\n",
        "       600        1385.9022         -17.5847            3.31s"
       ]
      },
      {
       "output_type": "stream",
       "stream": "stdout",
       "text": [
        "\n",
        "       700        2649.0920         -22.7970            3.27s\n",
        "       800        3064.7510          -4.1422            3.24s"
       ]
      },
      {
       "output_type": "stream",
       "stream": "stdout",
       "text": [
        "\n",
        "       900         901.7847         -11.1824            3.20s\n",
        "      1000        1489.8899         -10.4475            3.16s"
       ]
      },
      {
       "output_type": "stream",
       "stream": "stdout",
       "text": [
        "\n",
        "      2000         405.1313          -1.8619            2.76s"
       ]
      },
      {
       "output_type": "stream",
       "stream": "stdout",
       "text": [
        "\n",
        "      3000         138.7311          -0.4624            2.38s"
       ]
      },
      {
       "output_type": "stream",
       "stream": "stdout",
       "text": [
        "\n",
        "      4000         173.1686          -1.6156            1.99s"
       ]
      },
      {
       "output_type": "stream",
       "stream": "stdout",
       "text": [
        "\n",
        "      5000          73.1923          -0.7837            1.60s"
       ]
      },
      {
       "output_type": "stream",
       "stream": "stdout",
       "text": [
        "\n",
        "      6000         914.0780           0.1850            1.21s"
       ]
      },
      {
       "output_type": "stream",
       "stream": "stdout",
       "text": [
        "\n",
        "      7000          52.7157          -0.3690            0.80s"
       ]
      },
      {
       "output_type": "stream",
       "stream": "stdout",
       "text": [
        "\n",
        "      8000          53.0781          -0.0484            0.40s"
       ]
      },
      {
       "output_type": "stream",
       "stream": "stdout",
       "text": [
        "\n",
        "      9000           8.9197           0.0613            0.00s"
       ]
      },
      {
       "output_type": "stream",
       "stream": "stdout",
       "text": [
        "\n",
        "      Iter       Train Loss      OOB Improve   Remaining Time "
       ]
      },
      {
       "output_type": "stream",
       "stream": "stdout",
       "text": [
        "\n",
        "         1     5885355.2574      444839.5327            7.25s\n",
        "         2     4955413.2582      396753.9909            5.69s\n",
        "         3     3932357.9146      367525.0259            5.03s\n",
        "         4     4056622.6583      354617.1001            4.72s\n",
        "         5     4141446.9569      317672.9114            4.53s\n",
        "         6     3684762.1724      293066.4612            4.40s\n",
        "         7     2877213.0384      280092.5901            4.28s\n",
        "         8     2951344.3465      254714.3259            4.20s\n",
        "         9     2886283.8614      237581.6511            4.14s\n",
        "        10     2676487.3935      215987.4127            4.09s\n",
        "        20     1108406.4268       92949.9863            3.73s\n",
        "        30      540506.5528       44066.9866            3.71s\n",
        "        40      208213.1236       19609.1105            3.64s\n",
        "        50      158076.3940        9165.1868            3.57s\n",
        "        60       79007.6907        4443.9335            3.53s\n",
        "        70       53170.5798        2095.1085            3.51s\n",
        "        80       13140.4442         699.7354            3.49s\n",
        "        90        5445.8181         194.2818            3.47s\n",
        "       100        7645.3273         164.9261            3.45s\n",
        "       200        2512.7405           8.4506            3.42s"
       ]
      },
      {
       "output_type": "stream",
       "stream": "stdout",
       "text": [
        "\n",
        "       300        5504.3506           2.6820            3.39s\n",
        "       400        1614.7557           3.8272            3.36s"
       ]
      },
      {
       "output_type": "stream",
       "stream": "stdout",
       "text": [
        "\n",
        "       500        3799.5652          22.8394            3.35s\n",
        "       600        3987.9125          -2.4189            3.29s"
       ]
      },
      {
       "output_type": "stream",
       "stream": "stdout",
       "text": [
        "\n",
        "       700         940.2934          -3.8208            3.26s\n",
        "       800        1083.3636          -1.2943            3.22s"
       ]
      },
      {
       "output_type": "stream",
       "stream": "stdout",
       "text": [
        "\n",
        "       900        3521.7265          -1.3776            3.18s\n",
        "      1000         691.7472          -8.9593            3.14s"
       ]
      },
      {
       "output_type": "stream",
       "stream": "stdout",
       "text": [
        "\n",
        "      2000        1223.4712          -4.5003            2.73s"
       ]
      },
      {
       "output_type": "stream",
       "stream": "stdout",
       "text": [
        "\n",
        "      3000          74.1834          -0.1471            2.35s"
       ]
      },
      {
       "output_type": "stream",
       "stream": "stdout",
       "text": [
        "\n",
        "      4000          39.6551           0.2290            2.03s"
       ]
      },
      {
       "output_type": "stream",
       "stream": "stdout",
       "text": [
        "\n",
        "      5000          32.5567          -0.1488            1.62s"
       ]
      },
      {
       "output_type": "stream",
       "stream": "stdout",
       "text": [
        "\n",
        "      6000         448.2269          -0.6088            1.21s"
       ]
      },
      {
       "output_type": "stream",
       "stream": "stdout",
       "text": [
        "\n",
        "      7000         564.1593          -2.3319            0.80s"
       ]
      },
      {
       "output_type": "stream",
       "stream": "stdout",
       "text": [
        "\n",
        "      8000           9.2774           0.0458            0.40s"
       ]
      },
      {
       "output_type": "stream",
       "stream": "stdout",
       "text": [
        "\n",
        "      9000           6.4169          -0.0960            0.00s"
       ]
      },
      {
       "output_type": "stream",
       "stream": "stdout",
       "text": [
        "\n",
        "      Iter       Train Loss      OOB Improve   Remaining Time "
       ]
      },
      {
       "output_type": "stream",
       "stream": "stdout",
       "text": [
        "\n",
        "         1     5570361.3325      423238.2148            7.74s\n",
        "         2     5515024.7436      393275.7666            6.02s\n",
        "         3     4496568.4900      380439.8037            5.28s\n",
        "         4     4163162.4462      306617.0334            4.89s\n",
        "         5     3740770.8737      329615.6492            4.65s\n",
        "         6     4158449.4544      284514.2391            4.47s\n",
        "         7     3141300.2657      264031.7786            4.35s\n",
        "         8     3323183.0139      248438.9598            4.26s\n",
        "         9     3411267.4668      225923.8592            4.18s\n",
        "        10     2503483.1333      196271.4839            4.12s\n",
        "        20     1129461.6642       94170.7433            3.72s\n",
        "        30      628927.8240       45816.1692            3.59s\n",
        "        40      217302.2215       19196.1039            3.81s\n",
        "        50      102695.1049        7991.1878            3.77s\n",
        "        60       95931.5032        4273.9372            3.72s\n",
        "        70       16701.7093        1546.4561            3.68s\n",
        "        80       19066.5065         996.7513            3.64s\n",
        "        90       21229.2317         495.4499            3.62s\n",
        "       100        4358.9305         121.3723            3.60s\n",
        "       200       10200.7648          40.8705            3.47s"
       ]
      },
      {
       "output_type": "stream",
       "stream": "stdout",
       "text": [
        "\n",
        "       300        2170.9012          27.6657            3.41s\n",
        "       400        2388.1785         -27.6772            3.38s"
       ]
      },
      {
       "output_type": "stream",
       "stream": "stdout",
       "text": [
        "\n",
        "       500        1102.9992         -12.7118            3.33s\n",
        "       600        5272.8071         -16.6293            3.29s"
       ]
      },
      {
       "output_type": "stream",
       "stream": "stdout",
       "text": [
        "\n",
        "       700         651.7170          -4.6133            3.26s\n",
        "       800         903.6638          -1.8552            3.21s"
       ]
      },
      {
       "output_type": "stream",
       "stream": "stdout",
       "text": [
        "\n",
        "       900        1094.4475          -2.0708            3.17s\n",
        "      1000         779.9029          -5.7084            3.13s"
       ]
      },
      {
       "output_type": "stream",
       "stream": "stdout",
       "text": [
        "\n",
        "      2000         323.5876          -4.8209            2.73s"
       ]
      },
      {
       "output_type": "stream",
       "stream": "stdout",
       "text": [
        "\n",
        "      3000         689.0478          -4.0782            2.34s"
       ]
      },
      {
       "output_type": "stream",
       "stream": "stdout",
       "text": [
        "\n",
        "      4000         459.8474           0.1344            1.95s"
       ]
      },
      {
       "output_type": "stream",
       "stream": "stdout",
       "text": [
        "\n",
        "      5000          58.0828          -0.1288            1.56s"
       ]
      },
      {
       "output_type": "stream",
       "stream": "stdout",
       "text": [
        "\n",
        "      6000         373.4514          -2.0964            1.17s"
       ]
      },
      {
       "output_type": "stream",
       "stream": "stdout",
       "text": [
        "\n",
        "      7000         866.9131          -2.0986            0.78s"
       ]
      },
      {
       "output_type": "stream",
       "stream": "stdout",
       "text": [
        "\n",
        "      8000         139.1401          -0.1032            0.39s"
       ]
      },
      {
       "output_type": "stream",
       "stream": "stdout",
       "text": [
        "\n",
        "      9000         518.9768          -1.6706            0.00s"
       ]
      },
      {
       "output_type": "stream",
       "stream": "stdout",
       "text": [
        "\n",
        "      Iter       Train Loss      OOB Improve   Remaining Time "
       ]
      },
      {
       "output_type": "stream",
       "stream": "stdout",
       "text": [
        "\n",
        "         1     5941558.3597      458540.6985            7.41s\n",
        "         2     4974044.6067      412661.7373            5.73s\n",
        "         3     3951408.1100      393836.4021            5.10s\n",
        "         4     4230184.7078      346010.5604            4.75s\n",
        "         5     3734699.3718      318485.8767            4.53s\n",
        "         6     3983272.4207      288278.4769            4.37s\n",
        "         7     3712571.2868      268618.1199            4.26s\n",
        "         8     3538729.3896      246406.7751            4.18s\n",
        "         9     3340752.3792      225954.1454            4.13s\n",
        "        10     2352782.0808      215991.3494            4.08s\n",
        "        20     1142620.0087       97295.1061            3.71s\n",
        "        30      491512.2655       42548.2801            3.58s\n",
        "        40      232479.9717       19828.5020            3.54s\n",
        "        50      126680.5476        8289.0745            3.50s\n",
        "        60       80131.1638        4287.8480            3.48s\n",
        "        70       36964.9446        1915.1885            3.45s\n",
        "        80       47466.3145        1202.2241            3.43s\n",
        "        90        5638.9102         294.4278            3.43s\n",
        "       100        7841.9853         184.3738            3.43s\n",
        "       200        2002.9445           0.4060            3.41s"
       ]
      },
      {
       "output_type": "stream",
       "stream": "stdout",
       "text": [
        "\n",
        "       300        1731.5349         -13.0392            3.74s"
       ]
      },
      {
       "output_type": "stream",
       "stream": "stdout",
       "text": [
        "\n",
        "       400        1455.0834         -11.6627            3.92s"
       ]
      },
      {
       "output_type": "stream",
       "stream": "stdout",
       "text": [
        "\n",
        "       500        1494.7853           8.3609            3.98s"
       ]
      },
      {
       "output_type": "stream",
       "stream": "stdout",
       "text": [
        "\n",
        "       600        1539.2004           0.4288            4.00s"
       ]
      },
      {
       "output_type": "stream",
       "stream": "stdout",
       "text": [
        "\n",
        "       700        1141.7242           1.9074            3.97s\n",
        "       800        5701.5020         -18.2490            3.83s"
       ]
      },
      {
       "output_type": "stream",
       "stream": "stdout",
       "text": [
        "\n",
        "       900         476.4989           1.3664            3.81s\n",
        "      1000        9253.4332         -13.4696            3.70s"
       ]
      },
      {
       "output_type": "stream",
       "stream": "stdout",
       "text": [
        "\n",
        "      2000         478.4609          -1.3223            3.02s"
       ]
      },
      {
       "output_type": "stream",
       "stream": "stdout",
       "text": [
        "\n",
        "      3000         247.1610          -0.9930            2.51s"
       ]
      },
      {
       "output_type": "stream",
       "stream": "stdout",
       "text": [
        "\n",
        "      4000          43.3113          -0.2367            2.05s"
       ]
      },
      {
       "output_type": "stream",
       "stream": "stdout",
       "text": [
        "\n",
        "      5000         905.8040          -0.1121            1.62s"
       ]
      },
      {
       "output_type": "stream",
       "stream": "stdout",
       "text": [
        "\n",
        "      6000          99.7626          -0.6728            1.21s"
       ]
      },
      {
       "output_type": "stream",
       "stream": "stdout",
       "text": [
        "\n",
        "      7000        1810.8299          -3.0298            0.80s"
       ]
      },
      {
       "output_type": "stream",
       "stream": "stdout",
       "text": [
        "\n",
        "      8000         300.1247          -0.8830            0.40s"
       ]
      },
      {
       "output_type": "stream",
       "stream": "stdout",
       "text": [
        "\n",
        "      9000         254.0104          -0.0170            0.00s"
       ]
      },
      {
       "output_type": "stream",
       "stream": "stdout",
       "text": [
        "\n",
        "      Iter       Train Loss      OOB Improve   Remaining Time "
       ]
      },
      {
       "output_type": "stream",
       "stream": "stdout",
       "text": [
        "\n",
        "         1     5489366.1793      433048.1986            7.33s\n",
        "         2     4943438.8426      415905.6623            5.69s\n",
        "         3     3465400.4827      391314.4988            5.04s\n",
        "         4     4565540.2361      346174.7696            4.72s\n",
        "         5     4365858.0984      319053.3985            4.49s\n",
        "         6     3241367.8970      304474.8429            4.35s\n",
        "         7     4013581.9360      267758.2940            4.26s\n",
        "         8     2872896.0214      252965.4086            4.18s\n",
        "         9     3307461.3800      219422.3817            4.11s\n",
        "        10     2372087.3139      215364.9113            4.05s\n",
        "        20     1160515.6770       96148.4857            3.71s\n",
        "        30      487155.8612       41988.2919            3.59s\n",
        "        40      230821.9552       18378.1916            3.64s\n",
        "        50      149846.6918        9658.0063            3.64s\n",
        "        60       55519.9648        3887.4739            3.61s\n",
        "        70       25930.9936        1723.9474            3.61s\n",
        "        80       26185.3428        1203.6050            3.59s\n",
        "        90       35844.0215         583.4962            3.57s\n",
        "       100        9695.5653         180.2717            3.54s\n",
        "       200        2557.3593          13.1025            3.47s"
       ]
      },
      {
       "output_type": "stream",
       "stream": "stdout",
       "text": [
        "\n",
        "       300        8708.6862          -1.7841            3.77s"
       ]
      },
      {
       "output_type": "stream",
       "stream": "stdout",
       "text": [
        "\n",
        "       400       12078.3530          12.9366            3.66s\n",
        "       500        2390.1266          -6.9386            3.56s"
       ]
      },
      {
       "output_type": "stream",
       "stream": "stdout",
       "text": [
        "\n",
        "       600         633.8034          -0.5060            3.48s\n",
        "       700        4846.1142          10.8986            3.41s"
       ]
      },
      {
       "output_type": "stream",
       "stream": "stdout",
       "text": [
        "\n",
        "       800         613.0948          -0.6848            3.36s\n",
        "       900         272.0553          -0.4933            3.30s"
       ]
      },
      {
       "output_type": "stream",
       "stream": "stdout",
       "text": [
        "\n",
        "      1000        1111.5019          -5.2712            3.25s\n",
        "      2000         364.1405          -2.7289            2.78s"
       ]
      },
      {
       "output_type": "stream",
       "stream": "stdout",
       "text": [
        "\n",
        "      3000         244.0602          -1.7222            2.37s"
       ]
      },
      {
       "output_type": "stream",
       "stream": "stdout",
       "text": [
        "\n",
        "      4000          46.8360           0.7232            1.97s"
       ]
      },
      {
       "output_type": "stream",
       "stream": "stdout",
       "text": [
        "\n",
        "      5000         129.5863          -0.4275            1.58s"
       ]
      },
      {
       "output_type": "stream",
       "stream": "stdout",
       "text": [
        "\n",
        "      6000          71.5948          -0.3195            1.19s"
       ]
      },
      {
       "output_type": "stream",
       "stream": "stdout",
       "text": [
        "\n",
        "      7000         156.6885          -0.9411            0.79s"
       ]
      },
      {
       "output_type": "stream",
       "stream": "stdout",
       "text": [
        "\n",
        "      8000         194.5947           0.3703            0.40s"
       ]
      },
      {
       "output_type": "stream",
       "stream": "stdout",
       "text": [
        "\n",
        "      9000          48.7481          -0.0779            0.00s"
       ]
      },
      {
       "output_type": "stream",
       "stream": "stdout",
       "text": [
        "\n",
        "      Iter       Train Loss      OOB Improve   Remaining Time "
       ]
      },
      {
       "output_type": "stream",
       "stream": "stdout",
       "text": [
        "\n",
        "         1     5103963.5211      533035.0801            7.52s\n",
        "         2     4628467.4203      474073.6471            5.91s\n",
        "         3     4066762.6940      443137.8054            5.31s\n",
        "         4     3776887.2559      407418.6804            4.94s\n",
        "         5     3301917.5606      364684.9914            4.72s\n",
        "         6     3095384.2280      334418.2183            4.57s\n",
        "         7     2427063.5169      301479.9643            4.45s\n",
        "         8     2208894.1589      270526.5571            4.38s\n",
        "         9     2500441.8516      223653.9567            4.35s\n",
        "        10     2176200.4420      194998.9607            4.31s\n",
        "        20      643907.0442       78663.5103            3.99s\n",
        "        30      331649.2482       26521.2356            3.87s\n",
        "        40      130288.3121        9932.3667            3.87s\n",
        "        50       48645.3289        4249.3713            3.85s\n",
        "        60       41454.3843        1610.4815            3.83s\n",
        "        70       45816.2933         779.8417            3.80s\n",
        "        80       25845.4531         450.1391            3.78s\n",
        "        90       19278.9231         254.6310            3.78s\n",
        "       100       22187.6454          44.8409            3.76s\n",
        "       200       13032.2521         -59.2135            3.64s"
       ]
      },
      {
       "output_type": "stream",
       "stream": "stdout",
       "text": [
        "\n",
        "       300        2877.8153         -16.0427            3.60s\n",
        "       400        6881.7170          -0.7571            3.57s"
       ]
      },
      {
       "output_type": "stream",
       "stream": "stdout",
       "text": [
        "\n",
        "       500        2364.5753         -10.8878            3.52s\n",
        "       600        2398.7619          -4.2055            3.47s"
       ]
      },
      {
       "output_type": "stream",
       "stream": "stdout",
       "text": [
        "\n",
        "       700        1667.5495         -10.8252            3.43s\n",
        "       800        1701.6660          -8.3831            3.38s"
       ]
      },
      {
       "output_type": "stream",
       "stream": "stdout",
       "text": [
        "\n",
        "       900         786.3300          -2.7183            3.34s\n",
        "      1000         340.1934          -4.3378            3.30s"
       ]
      },
      {
       "output_type": "stream",
       "stream": "stdout",
       "text": [
        "\n",
        "      2000          90.8692          -0.6448            2.84s"
       ]
      },
      {
       "output_type": "stream",
       "stream": "stdout",
       "text": [
        "\n",
        "      3000          29.2073          -0.0353            2.39s"
       ]
      },
      {
       "output_type": "stream",
       "stream": "stdout",
       "text": [
        "\n",
        "      4000           7.2879          -0.0493            1.96s"
       ]
      },
      {
       "output_type": "stream",
       "stream": "stdout",
       "text": [
        "\n",
        "      5000           5.3060          -0.0165            1.52s"
       ]
      },
      {
       "output_type": "stream",
       "stream": "stdout",
       "text": [
        "\n",
        "      6000           1.6325          -0.0030            1.09s"
       ]
      },
      {
       "output_type": "stream",
       "stream": "stdout",
       "text": [
        "\n",
        "      7000           0.8292          -0.0034            0.65s"
       ]
      },
      {
       "output_type": "stream",
       "stream": "stdout",
       "text": [
        "\n",
        "      8000           0.2391          -0.0012            0.22s"
       ]
      },
      {
       "output_type": "stream",
       "stream": "stdout",
       "text": [
        "\n",
        "      Iter       Train Loss      OOB Improve   Remaining Time "
       ]
      },
      {
       "output_type": "stream",
       "stream": "stdout",
       "text": [
        "\n",
        "         1     5746723.7231      551537.9712            7.48s\n",
        "         2     5194578.7945      481496.8045            5.82s\n",
        "         3     4123297.0803      433103.5749            5.21s\n",
        "         4     3884470.9545      412352.8651            4.94s\n",
        "         5     3041555.5649      346599.3417            4.73s\n",
        "         6     3531267.2074      313769.1504            4.59s\n",
        "         7     3325806.0140      289568.9781            4.48s\n",
        "         8     2499126.4844      277952.7449            4.39s\n",
        "         9     2206865.9986      233239.2287            4.33s\n",
        "        10     2110025.0250      223749.9729            4.28s\n",
        "        20      875736.6327       80640.0685            3.96s\n",
        "        30      314024.1896       29396.0821            3.83s\n",
        "        40      124724.5924       11665.0274            3.80s\n",
        "        50       53741.6820        3125.7159            3.78s\n",
        "        60       20100.7603        1482.1867            3.83s\n",
        "        70       23766.4536         710.3113            3.80s\n",
        "        80       17633.6607         208.8565            3.77s\n",
        "        90        9146.1012          38.6424            3.76s\n",
        "       100        7583.3003         127.1689            3.74s\n",
        "       200        2932.4575          -9.7461            3.61s"
       ]
      },
      {
       "output_type": "stream",
       "stream": "stdout",
       "text": [
        "\n",
        "       300        3616.2480          -1.5171            3.57s\n",
        "       400        3412.8705          -4.5952            3.52s"
       ]
      },
      {
       "output_type": "stream",
       "stream": "stdout",
       "text": [
        "\n",
        "       500        1409.6132           0.9365            3.48s\n",
        "       600        1020.6796          -4.3766            3.42s"
       ]
      },
      {
       "output_type": "stream",
       "stream": "stdout",
       "text": [
        "\n",
        "       700        1208.2706          -7.9236            3.38s\n",
        "       800         804.1195          -2.7883            3.33s"
       ]
      },
      {
       "output_type": "stream",
       "stream": "stdout",
       "text": [
        "\n",
        "       900         403.6566          -3.0391            3.28s\n",
        "      1000         485.0489          -4.4565            3.24s"
       ]
      },
      {
       "output_type": "stream",
       "stream": "stdout",
       "text": [
        "\n",
        "      2000          82.3041          -0.3990            2.80s"
       ]
      },
      {
       "output_type": "stream",
       "stream": "stdout",
       "text": [
        "\n",
        "      3000          12.7413          -0.1212            2.37s"
       ]
      },
      {
       "output_type": "stream",
       "stream": "stdout",
       "text": [
        "\n",
        "      4000           9.5837          -0.0735            1.94s"
       ]
      },
      {
       "output_type": "stream",
       "stream": "stdout",
       "text": [
        "\n",
        "      5000           4.9209          -0.0071            1.51s"
       ]
      },
      {
       "output_type": "stream",
       "stream": "stdout",
       "text": [
        "\n",
        "      6000           1.9920          -0.0188            1.08s"
       ]
      },
      {
       "output_type": "stream",
       "stream": "stdout",
       "text": [
        "\n",
        "      7000           1.0303          -0.0056            0.66s"
       ]
      },
      {
       "output_type": "stream",
       "stream": "stdout",
       "text": [
        "\n",
        "      8000           0.2437          -0.0004            0.22s"
       ]
      },
      {
       "output_type": "stream",
       "stream": "stdout",
       "text": [
        "\n",
        "      Iter       Train Loss      OOB Improve   Remaining Time "
       ]
      },
      {
       "output_type": "stream",
       "stream": "stdout",
       "text": [
        "\n",
        "         1     5538777.2954      502814.5881            7.38s\n",
        "         2     4948766.6577      479156.8713            5.87s\n",
        "         3     4335731.5010      417492.8833            5.27s\n",
        "         4     3375735.1587      413279.6218            4.95s\n",
        "         5     3448787.5464      363864.5820            4.73s\n",
        "         6     3263921.1903      326424.8660            4.58s\n",
        "         7     2710993.1813      288229.8266            4.47s\n",
        "         8     2791239.2970      266472.5037            4.40s\n",
        "         9     2263812.4718      241388.7526            4.34s\n",
        "        10     2168327.3549      211072.5246            4.29s\n",
        "        20      810086.8402       78962.4348            3.94s\n",
        "        30      337416.0205       27503.4303            3.85s\n",
        "        40      164517.2134       10920.4026            3.79s\n",
        "        50       48978.8598        3901.9555            3.77s\n",
        "        60       36474.0175        2254.1728            3.92s\n",
        "        70       26824.3157         639.6408            4.15s\n",
        "        80       28963.5304         273.9579            4.09s\n",
        "        90       23871.9444         352.7114            4.04s\n",
        "       100       11339.6484         123.8059            4.00s\n",
        "       200        7429.2595           6.8750            3.77s"
       ]
      },
      {
       "output_type": "stream",
       "stream": "stdout",
       "text": [
        "\n",
        "       300        6391.6396          -8.6150            3.85s\n",
        "       400        5917.3558          -3.1837            3.74s"
       ]
      },
      {
       "output_type": "stream",
       "stream": "stdout",
       "text": [
        "\n",
        "       500        2345.5780          -9.0454            3.65s\n",
        "       600        1100.9268          -3.7221            3.56s"
       ]
      },
      {
       "output_type": "stream",
       "stream": "stdout",
       "text": [
        "\n",
        "       700        1176.7669          -3.9797            3.50s\n",
        "       800        1014.4108          -2.4810            3.44s"
       ]
      },
      {
       "output_type": "stream",
       "stream": "stdout",
       "text": [
        "\n",
        "       900         832.5847          -6.4213            3.40s\n",
        "      1000         800.2973          -1.9263            3.34s"
       ]
      },
      {
       "output_type": "stream",
       "stream": "stdout",
       "text": [
        "\n",
        "      2000         136.5168          -1.1763            2.86s"
       ]
      },
      {
       "output_type": "stream",
       "stream": "stdout",
       "text": [
        "\n",
        "      3000          91.6477          -0.2780            2.41s"
       ]
      },
      {
       "output_type": "stream",
       "stream": "stdout",
       "text": [
        "\n",
        "      4000          24.8004          -0.2885            1.97s"
       ]
      },
      {
       "output_type": "stream",
       "stream": "stdout",
       "text": [
        "\n",
        "      5000          14.6793          -0.0381            1.53s"
       ]
      },
      {
       "output_type": "stream",
       "stream": "stdout",
       "text": [
        "\n",
        "      6000           7.8541          -0.0351            1.09s"
       ]
      },
      {
       "output_type": "stream",
       "stream": "stdout",
       "text": [
        "\n",
        "      7000           0.9129          -0.0008            0.66s"
       ]
      },
      {
       "output_type": "stream",
       "stream": "stdout",
       "text": [
        "\n",
        "      8000           1.4341          -0.0033            0.22s"
       ]
      },
      {
       "output_type": "stream",
       "stream": "stdout",
       "text": [
        "\n",
        "      Iter       Train Loss      OOB Improve   Remaining Time "
       ]
      },
      {
       "output_type": "stream",
       "stream": "stdout",
       "text": [
        "\n",
        "         1     4150033.6449      564104.5678            7.39s\n",
        "         2     4725654.4647      489623.7462            5.88s\n",
        "         3     3751800.2698      388797.9174            5.29s\n",
        "         4     4208169.5924      394737.2592            4.95s\n",
        "         5     3131813.2056      390259.9558            4.73s\n",
        "         6     3318765.9339      307617.7783            4.58s\n",
        "         7     3039101.1503      298233.6434            4.47s\n",
        "         8     2450768.6238      280829.9438            4.38s\n",
        "         9     2164075.2237      247913.4452            4.34s\n",
        "        10     2240771.4105      213992.4614            4.28s\n",
        "        20      707880.9096       82143.4462            3.95s\n",
        "        30      273927.6388       32133.8480            3.83s\n",
        "        40       93466.3425        9168.7378            3.78s\n",
        "        50      105403.0060        5823.3499            3.74s\n",
        "        60       49685.9475        1626.1173            3.74s\n",
        "        70        9380.4713         397.0843            3.72s\n",
        "        80       27539.0241         300.4186            3.73s\n",
        "        90       22090.3554         350.8759            3.75s\n",
        "       100       16184.4139         161.8062            3.73s\n",
        "       200       13979.2859         -26.1594            3.65s"
       ]
      },
      {
       "output_type": "stream",
       "stream": "stdout",
       "text": [
        "\n",
        "       300        3056.4078          10.6651            3.60s\n",
        "       400        1267.0469          -6.7579            3.55s"
       ]
      },
      {
       "output_type": "stream",
       "stream": "stdout",
       "text": [
        "\n",
        "       500        2695.7022          -7.3625            3.52s\n",
        "       600        2111.6948          -7.4079            3.47s"
       ]
      },
      {
       "output_type": "stream",
       "stream": "stdout",
       "text": [
        "\n",
        "       700        1606.0093         -11.0928            3.45s\n",
        "       800         491.9288          -5.4624            3.44s"
       ]
      },
      {
       "output_type": "stream",
       "stream": "stdout",
       "text": [
        "\n",
        "       900         633.7297          -3.3268            3.39s\n",
        "      1000         413.9849          -1.1267            3.33s"
       ]
      },
      {
       "output_type": "stream",
       "stream": "stdout",
       "text": [
        "\n",
        "      2000         153.5441          -0.5817            2.90s"
       ]
      },
      {
       "output_type": "stream",
       "stream": "stdout",
       "text": [
        "\n",
        "      3000         111.4335          -0.2431            2.44s"
       ]
      },
      {
       "output_type": "stream",
       "stream": "stdout",
       "text": [
        "\n",
        "      4000          11.8338          -0.0121            1.99s"
       ]
      },
      {
       "output_type": "stream",
       "stream": "stdout",
       "text": [
        "\n",
        "      5000          10.0162          -0.0297            1.54s"
       ]
      },
      {
       "output_type": "stream",
       "stream": "stdout",
       "text": [
        "\n",
        "      6000           2.5493          -0.0095            1.10s"
       ]
      },
      {
       "output_type": "stream",
       "stream": "stdout",
       "text": [
        "\n",
        "      7000           2.7740          -0.0146            0.66s"
       ]
      },
      {
       "output_type": "stream",
       "stream": "stdout",
       "text": [
        "\n",
        "      8000           0.6251          -0.0082            0.22s"
       ]
      },
      {
       "output_type": "stream",
       "stream": "stdout",
       "text": [
        "\n",
        "      Iter       Train Loss      OOB Improve   Remaining Time "
       ]
      },
      {
       "output_type": "stream",
       "stream": "stdout",
       "text": [
        "\n",
        "         1     5494532.8010      511431.4613            7.33s\n",
        "         2     5317681.3126      484275.0423            5.85s\n",
        "         3     4411340.7465      439890.6783            5.55s\n",
        "         4     3648065.8864      387439.7616            5.30s\n",
        "         5     3597594.9197      361864.4446            5.06s\n",
        "         6     3181695.3150      332960.2227            4.86s\n",
        "         7     3035875.9228      296378.6104            4.71s\n",
        "         8     3128322.0071      247004.2673            4.60s\n",
        "         9     2403615.9124      234747.5603            4.53s\n",
        "        10     2181626.3713      208508.8032            4.46s\n",
        "        20      809547.8118       87175.2393            4.04s\n",
        "        30      333695.6650       30468.3621            3.89s\n",
        "        40      130763.5953       11323.6879            3.85s\n",
        "        50       79085.3367        3792.1166            3.81s\n",
        "        60       28909.3530        1684.0061            3.78s\n",
        "        70       13642.2152         592.4952            3.76s\n",
        "        80       14386.3607         141.2212            3.80s\n",
        "        90        6690.4815          -8.8786            3.79s\n",
        "       100       15987.9138         -38.5368            3.77s\n",
        "       200        6668.3045          15.6836            3.68s"
       ]
      },
      {
       "output_type": "stream",
       "stream": "stdout",
       "text": [
        "\n",
        "       300        2244.1101         -12.9861            3.62s\n",
        "       400        4695.1702           5.5645            3.56s"
       ]
      },
      {
       "output_type": "stream",
       "stream": "stdout",
       "text": [
        "\n",
        "       500         895.0884          -9.0224            3.51s\n",
        "       600        2495.1766          -4.0062            3.45s"
       ]
      },
      {
       "output_type": "stream",
       "stream": "stdout",
       "text": [
        "\n",
        "       700        2005.6324          -7.0960            3.41s\n",
        "       800         646.7512          -1.0891            3.36s"
       ]
      },
      {
       "output_type": "stream",
       "stream": "stdout",
       "text": [
        "\n",
        "       900        1482.7681          -1.9926            3.32s\n",
        "      1000        1156.9019          -2.8325            3.27s"
       ]
      },
      {
       "output_type": "stream",
       "stream": "stdout",
       "text": [
        "\n",
        "      2000         259.5778          -1.0315            2.81s"
       ]
      },
      {
       "output_type": "stream",
       "stream": "stdout",
       "text": [
        "\n",
        "      3000          33.2241          -0.0755            2.39s"
       ]
      },
      {
       "output_type": "stream",
       "stream": "stdout",
       "text": [
        "\n",
        "      4000           9.1585          -0.0715            1.95s"
       ]
      },
      {
       "output_type": "stream",
       "stream": "stdout",
       "text": [
        "\n",
        "      5000           2.4523          -0.0075            1.52s"
       ]
      },
      {
       "output_type": "stream",
       "stream": "stdout",
       "text": [
        "\n",
        "      6000           1.2858          -0.0061            1.09s"
       ]
      },
      {
       "output_type": "stream",
       "stream": "stdout",
       "text": [
        "\n",
        "      7000           0.9282          -0.0040            0.66s"
       ]
      },
      {
       "output_type": "stream",
       "stream": "stdout",
       "text": [
        "\n",
        "      8000           0.5860          -0.0050            0.22s"
       ]
      },
      {
       "output_type": "stream",
       "stream": "stdout",
       "text": [
        "\n",
        "      Iter       Train Loss      OOB Improve   Remaining Time "
       ]
      },
      {
       "output_type": "stream",
       "stream": "stdout",
       "text": [
        "\n",
        "         1     5381324.7957      292397.9304           22.00s\n",
        "         2     5069670.0678      273401.3226           19.99s\n",
        "         3     4668899.8084      313080.3427           19.12s\n",
        "         4     4395442.6593      293040.8898           18.66s\n",
        "         5     4108306.4135      294432.9066           18.32s\n",
        "         6     3998862.1376      200644.2920           18.67s\n",
        "         7     3771085.7941      182080.3672           18.51s\n",
        "         8     3470647.4925      215880.0370           18.38s\n",
        "         9     3288660.0850      190236.0747           18.24s\n",
        "        10     3111408.9383      169831.9214           18.17s\n",
        "        20     1690826.4196       92614.5393           17.74s\n",
        "        30      906244.4297       58373.7339           17.54s"
       ]
      },
      {
       "output_type": "stream",
       "stream": "stdout",
       "text": [
        "\n",
        "        40      501922.3727       25941.2874           17.57s\n",
        "        50      273047.4149       14385.1494           17.49s\n",
        "        60      142843.9675       10760.6591           17.44s"
       ]
      },
      {
       "output_type": "stream",
       "stream": "stdout",
       "text": [
        "\n",
        "        70       79018.4815        5275.7561           17.44s\n",
        "        80       43412.3159        2684.5938           17.41s\n",
        "        90       24029.9909        1256.8565           17.46s"
       ]
      },
      {
       "output_type": "stream",
       "stream": "stdout",
       "text": [
        "\n",
        "       100       12658.5108         944.2050           17.97s\n",
        "       200          84.6967           1.7951           17.71s"
       ]
      },
      {
       "output_type": "stream",
       "stream": "stdout",
       "text": [
        "\n",
        "       300          33.0896          -0.1263           16.56s"
       ]
      },
      {
       "output_type": "stream",
       "stream": "stdout",
       "text": [
        "\n",
        "       400          19.1720           0.0022           15.47s"
       ]
      },
      {
       "output_type": "stream",
       "stream": "stdout",
       "text": [
        "\n",
        "       500          10.4278          -0.0437           14.64s"
       ]
      },
      {
       "output_type": "stream",
       "stream": "stdout",
       "text": [
        "\n",
        "       600           6.4665          -0.0564           14.06s"
       ]
      },
      {
       "output_type": "stream",
       "stream": "stdout",
       "text": [
        "\n",
        "       700           1.5045          -0.2970           13.60s"
       ]
      },
      {
       "output_type": "stream",
       "stream": "stdout",
       "text": [
        "\n",
        "       800           2.7534          -0.0002           13.24s"
       ]
      },
      {
       "output_type": "stream",
       "stream": "stdout",
       "text": [
        "\n",
        "       900           1.6841           0.0040           12.94s"
       ]
      },
      {
       "output_type": "stream",
       "stream": "stdout",
       "text": [
        "\n",
        "      1000           1.1327          -0.0002           12.68s"
       ]
      },
      {
       "output_type": "stream",
       "stream": "stdout",
       "text": [
        "\n",
        "      2000           0.0219          -0.0001           10.88s"
       ]
      },
      {
       "output_type": "stream",
       "stream": "stdout",
       "text": [
        "\n",
        "      3000           0.0008          -0.0000            9.52s"
       ]
      },
      {
       "output_type": "stream",
       "stream": "stdout",
       "text": [
        "\n",
        "      4000           0.0000          -0.0000            8.21s"
       ]
      },
      {
       "output_type": "stream",
       "stream": "stdout",
       "text": [
        "\n",
        "      5000           0.0000          -0.0000            6.84s"
       ]
      },
      {
       "output_type": "stream",
       "stream": "stdout",
       "text": [
        "\n",
        "      6000           0.0000          -0.0000            5.45s"
       ]
      },
      {
       "output_type": "stream",
       "stream": "stdout",
       "text": [
        "\n",
        "      7000           0.0000          -0.0000            3.82s"
       ]
      },
      {
       "output_type": "stream",
       "stream": "stdout",
       "text": [
        "\n",
        "      8000           0.0000          -0.0000            2.28s"
       ]
      },
      {
       "output_type": "stream",
       "stream": "stdout",
       "text": [
        "\n",
        "      9000           0.0000          -0.0000            1.04s"
       ]
      },
      {
       "output_type": "stream",
       "stream": "stdout",
       "text": [
        "\n",
        "     10000           0.0000          -0.0000            0.00s"
       ]
      },
      {
       "output_type": "stream",
       "stream": "stdout",
       "text": [
        "\n",
        "      Iter       Train Loss      OOB Improve   Remaining Time \n",
        "         1     5239320.8390      439206.6057           20.53s"
       ]
      },
      {
       "output_type": "stream",
       "stream": "stdout",
       "text": [
        "\n",
        "         2     5140763.3220      295165.9353           20.74s\n",
        "         3     4810994.1420      291503.3404           19.81s\n",
        "         4     4491420.5128      292481.0449           19.29s\n",
        "         5     4247254.8360      263023.7605           18.95s\n",
        "         6     3877575.7298      312573.4635           18.71s\n",
        "         7     3730970.9346      251039.5802           18.44s\n",
        "         8     3470739.0933      258092.8006           18.31s\n",
        "         9     3431493.7240      149750.1499           18.20s\n",
        "        10     3078839.5265      223859.3217           18.14s\n",
        "        20     1708113.5228      103898.8639           17.69s\n",
        "        30      917966.8306       62367.9867           17.51s"
       ]
      },
      {
       "output_type": "stream",
       "stream": "stdout",
       "text": [
        "\n",
        "        40      505410.7551       30761.6798           17.53s\n",
        "        50      280881.3453       13398.5399           17.48s\n",
        "        60      151884.3792        7827.7479           17.39s"
       ]
      },
      {
       "output_type": "stream",
       "stream": "stdout",
       "text": [
        "\n",
        "        70       81671.7016        4796.2905           17.42s\n",
        "        80       44963.3848        2334.9857           17.38s\n",
        "        90       23826.8549        1640.3368           17.33s"
       ]
      },
      {
       "output_type": "stream",
       "stream": "stdout",
       "text": [
        "\n",
        "       100       13314.1433         693.5596           17.32s\n",
        "       200          50.2414           2.1565           16.80s"
       ]
      },
      {
       "output_type": "stream",
       "stream": "stdout",
       "text": [
        "\n",
        "       300           4.9172          -1.0986           15.94s"
       ]
      },
      {
       "output_type": "stream",
       "stream": "stdout",
       "text": [
        "\n",
        "       400           5.0283          -0.2757           14.91s"
       ]
      },
      {
       "output_type": "stream",
       "stream": "stdout",
       "text": [
        "\n",
        "       500           2.7114          -0.0053           14.15s"
       ]
      },
      {
       "output_type": "stream",
       "stream": "stdout",
       "text": [
        "\n",
        "       600           1.3432          -0.0006           13.64s"
       ]
      },
      {
       "output_type": "stream",
       "stream": "stdout",
       "text": [
        "\n",
        "       700           0.7862          -0.0026           13.25s"
       ]
      },
      {
       "output_type": "stream",
       "stream": "stdout",
       "text": [
        "\n",
        "       800           0.5109          -0.0040           12.95s"
       ]
      },
      {
       "output_type": "stream",
       "stream": "stdout",
       "text": [
        "\n",
        "       900           0.2979          -0.0071           12.86s"
       ]
      },
      {
       "output_type": "stream",
       "stream": "stdout",
       "text": [
        "\n",
        "      1000           0.1839          -0.0031           12.66s"
       ]
      },
      {
       "output_type": "stream",
       "stream": "stdout",
       "text": [
        "\n",
        "      2000           0.0019          -0.0000           11.17s"
       ]
      },
      {
       "output_type": "stream",
       "stream": "stdout",
       "text": [
        "\n",
        "      3000           0.0000          -0.0000            9.75s"
       ]
      },
      {
       "output_type": "stream",
       "stream": "stdout",
       "text": [
        "\n",
        "      4000           0.0000          -0.0000            8.47s"
       ]
      },
      {
       "output_type": "stream",
       "stream": "stdout",
       "text": [
        "\n",
        "      5000           0.0000          -0.0000            6.90s"
       ]
      },
      {
       "output_type": "stream",
       "stream": "stdout",
       "text": [
        "\n",
        "      6000           0.0000          -0.0000            4.90s"
       ]
      },
      {
       "output_type": "stream",
       "stream": "stdout",
       "text": [
        "\n",
        "      7000           0.0000          -0.0000            3.25s"
       ]
      },
      {
       "output_type": "stream",
       "stream": "stdout",
       "text": [
        "\n",
        "      8000           0.0000          -0.0000            1.95s"
       ]
      },
      {
       "output_type": "stream",
       "stream": "stdout",
       "text": [
        "\n",
        "      9000           0.0000          -0.0000            0.89s"
       ]
      },
      {
       "output_type": "stream",
       "stream": "stdout",
       "text": [
        "\n",
        "     10000           0.0000          -0.0000            0.00s"
       ]
      },
      {
       "output_type": "stream",
       "stream": "stdout",
       "text": [
        "\n",
        "      Iter       Train Loss      OOB Improve   Remaining Time \n",
        "         1     5443773.7349      256972.0123           21.84s\n",
        "         2     5075845.6814      269184.2299           19.68s\n",
        "         3     4653082.4987      322830.5342           19.06s"
       ]
      },
      {
       "output_type": "stream",
       "stream": "stdout",
       "text": [
        "\n",
        "         4     4475337.9083      246097.2857           19.61s\n",
        "         5     4062383.3732      314755.0215           19.28s\n",
        "         6     3971750.1853      213486.1380           19.08s\n",
        "         7     3662180.1970      243567.1297           19.03s\n",
        "         8     3499499.2127      198506.0424           18.83s\n",
        "         9     3245756.9863      213578.4060           18.63s\n",
        "        10     3053585.7866      201751.3275           18.54s\n",
        "        20     1647588.4339      116700.3408           17.99s\n",
        "        30      922207.3716       48640.4239           17.84s\n",
        "        40      499737.6840       27708.3520           17.79s"
       ]
      },
      {
       "output_type": "stream",
       "stream": "stdout",
       "text": [
        "\n",
        "        50      270754.5200       15341.7858           17.92s\n",
        "        60      148339.4100        7812.5327           17.90s\n",
        "        70       78476.5133        5715.5434           17.79s"
       ]
      },
      {
       "output_type": "stream",
       "stream": "stdout",
       "text": [
        "\n",
        "        80       42627.8026        3053.5092           17.77s\n",
        "        90       23318.3891        1623.5949           17.73s\n",
        "       100       12894.7837         798.6873           17.75s"
       ]
      },
      {
       "output_type": "stream",
       "stream": "stdout",
       "text": [
        "\n",
        "       200          74.1037           1.6335           17.23s"
       ]
      },
      {
       "output_type": "stream",
       "stream": "stdout",
       "text": [
        "\n",
        "       300          30.2468           0.0039           16.69s"
       ]
      },
      {
       "output_type": "stream",
       "stream": "stdout",
       "text": [
        "\n",
        "       400          17.1089          -0.1376           15.70s"
       ]
      },
      {
       "output_type": "stream",
       "stream": "stdout",
       "text": [
        "\n",
        "       500           9.6091          -0.0364           14.89s"
       ]
      },
      {
       "output_type": "stream",
       "stream": "stdout",
       "text": [
        "\n",
        "       600           5.7737          -0.0574           14.38s"
       ]
      },
      {
       "output_type": "stream",
       "stream": "stdout",
       "text": [
        "\n",
        "       700           2.9108          -0.1477           13.95s"
       ]
      },
      {
       "output_type": "stream",
       "stream": "stdout",
       "text": [
        "\n",
        "       800           2.2566          -0.0004           13.59s"
       ]
      },
      {
       "output_type": "stream",
       "stream": "stdout",
       "text": [
        "\n",
        "       900           0.3206          -0.0278           13.28s"
       ]
      },
      {
       "output_type": "stream",
       "stream": "stdout",
       "text": [
        "\n",
        "      1000           0.9859          -0.0024           12.99s"
       ]
      },
      {
       "output_type": "stream",
       "stream": "stdout",
       "text": [
        "\n",
        "      2000           0.0210          -0.0001           11.40s"
       ]
      },
      {
       "output_type": "stream",
       "stream": "stdout",
       "text": [
        "\n",
        "      3000           0.0006          -0.0000           10.01s"
       ]
      },
      {
       "output_type": "stream",
       "stream": "stdout",
       "text": [
        "\n",
        "      4000           0.0000          -0.0000            8.61s"
       ]
      },
      {
       "output_type": "stream",
       "stream": "stdout",
       "text": [
        "\n",
        "      5000           0.0000          -0.0000            7.27s"
       ]
      },
      {
       "output_type": "stream",
       "stream": "stdout",
       "text": [
        "\n",
        "      6000           0.0000          -0.0000            5.73s"
       ]
      },
      {
       "output_type": "stream",
       "stream": "stdout",
       "text": [
        "\n",
        "      7000           0.0000          -0.0000            3.91s"
       ]
      },
      {
       "output_type": "stream",
       "stream": "stdout",
       "text": [
        "\n",
        "      8000           0.0000          -0.0000            2.35s"
       ]
      },
      {
       "output_type": "stream",
       "stream": "stdout",
       "text": [
        "\n",
        "      9000           0.0000           0.0000            1.07s"
       ]
      },
      {
       "output_type": "stream",
       "stream": "stdout",
       "text": [
        "\n",
        "     10000           0.0000          -0.0000            0.00s"
       ]
      },
      {
       "output_type": "stream",
       "stream": "stdout",
       "text": [
        "\n",
        "      Iter       Train Loss      OOB Improve   Remaining Time \n",
        "         1     5324197.9371      386728.4273           20.91s"
       ]
      },
      {
       "output_type": "stream",
       "stream": "stdout",
       "text": [
        "\n",
        "         2     5161196.2041      276287.5950           21.06s\n",
        "         3     4773028.3305      306822.1069           20.13s\n",
        "         4     4627593.7593      212318.6172           19.36s\n",
        "         5     4227466.5622      268818.5883           19.22s\n",
        "         6     3943370.2679      274350.8708           18.91s\n",
        "         7     3814454.6790      198964.5424           18.67s\n",
        "         8     3517483.5804      229548.2303           18.51s\n",
        "         9     3257360.8204      241930.6687           18.38s\n",
        "        10     3138745.3705      189666.3068           18.25s\n",
        "        20     1714440.6984       97900.4473           17.73s\n",
        "        30      911235.8233       64693.5397           17.67s"
       ]
      },
      {
       "output_type": "stream",
       "stream": "stdout",
       "text": [
        "\n",
        "        40      504769.1653       30480.5078           17.65s\n",
        "        50      274214.0926       16948.9859           17.58s\n",
        "        60      149168.8251        9432.4516           17.50s"
       ]
      },
      {
       "output_type": "stream",
       "stream": "stdout",
       "text": [
        "\n",
        "        70       81626.5630        4499.3041           17.48s\n",
        "        80       45100.3081        2353.5343           17.45s\n",
        "        90       24310.7196        1456.4557           17.41s"
       ]
      },
      {
       "output_type": "stream",
       "stream": "stdout",
       "text": [
        "\n",
        "       100       13312.4781         825.5286           17.42s\n",
        "       200         182.1105          -3.2790           16.86s"
       ]
      },
      {
       "output_type": "stream",
       "stream": "stdout",
       "text": [
        "\n",
        "       300          40.6226          -6.1138           15.77s"
       ]
      },
      {
       "output_type": "stream",
       "stream": "stdout",
       "text": [
        "\n",
        "       400          58.4294          -0.3113           14.75s"
       ]
      },
      {
       "output_type": "stream",
       "stream": "stdout",
       "text": [
        "\n",
        "       500          35.9529          -0.6273           14.08s"
       ]
      },
      {
       "output_type": "stream",
       "stream": "stdout",
       "text": [
        "\n",
        "       600          21.6484          -0.3189           13.57s"
       ]
      },
      {
       "output_type": "stream",
       "stream": "stdout",
       "text": [
        "\n",
        "       700          14.2688          -0.0369           13.18s"
       ]
      },
      {
       "output_type": "stream",
       "stream": "stdout",
       "text": [
        "\n",
        "       800           9.2943          -0.0136           12.85s"
       ]
      },
      {
       "output_type": "stream",
       "stream": "stdout",
       "text": [
        "\n",
        "       900           5.6278           0.0007           12.58s"
       ]
      },
      {
       "output_type": "stream",
       "stream": "stdout",
       "text": [
        "\n",
        "      1000           2.3560          -0.2033           12.34s"
       ]
      },
      {
       "output_type": "stream",
       "stream": "stdout",
       "text": [
        "\n",
        "      2000           0.1147          -0.0003           10.60s"
       ]
      },
      {
       "output_type": "stream",
       "stream": "stdout",
       "text": [
        "\n",
        "      3000           0.0031          -0.0000            9.34s"
       ]
      },
      {
       "output_type": "stream",
       "stream": "stdout",
       "text": [
        "\n",
        "      4000           0.0001          -0.0000            8.13s"
       ]
      },
      {
       "output_type": "stream",
       "stream": "stdout",
       "text": [
        "\n",
        "      5000           0.0000          -0.0000            6.83s"
       ]
      },
      {
       "output_type": "stream",
       "stream": "stdout",
       "text": [
        "\n",
        "      6000           0.0000          -0.0000            5.44s"
       ]
      },
      {
       "output_type": "stream",
       "stream": "stdout",
       "text": [
        "\n",
        "      7000           0.0000          -0.0000            3.73s"
       ]
      },
      {
       "output_type": "stream",
       "stream": "stdout",
       "text": [
        "\n",
        "      8000           0.0000          -0.0000            2.23s"
       ]
      },
      {
       "output_type": "stream",
       "stream": "stdout",
       "text": [
        "\n",
        "      9000           0.0000          -0.0000            1.02s"
       ]
      },
      {
       "output_type": "stream",
       "stream": "stdout",
       "text": [
        "\n",
        "     10000           0.0000          -0.0000            0.00s"
       ]
      },
      {
       "output_type": "stream",
       "stream": "stdout",
       "text": [
        "\n",
        "      Iter       Train Loss      OOB Improve   Remaining Time \n",
        "         1     5365168.8515      360673.8885           20.49s"
       ]
      },
      {
       "output_type": "stream",
       "stream": "stdout",
       "text": [
        "\n",
        "         2     5192930.1641      257910.7239           20.63s\n",
        "         3     4706012.4961      343737.0721           20.05s\n",
        "         4     4498695.4214      281826.1497           19.61s\n",
        "         5     4264766.8202      248742.3148           19.14s\n",
        "         6     4057991.8985      208714.9508           18.84s\n",
        "         7     3679282.3711      273584.0747           18.67s\n",
        "         8     3607787.3279      176820.8008           18.53s\n",
        "         9     3323507.1397      207282.7798           18.39s\n",
        "        10     3090115.5971      213171.0443           18.26s\n",
        "        20     1697657.2724      108307.9518           17.81s\n",
        "        30      909628.6724       65933.8273           17.67s"
       ]
      },
      {
       "output_type": "stream",
       "stream": "stdout",
       "text": [
        "\n",
        "        40      504974.6656       30468.0822           17.67s\n",
        "        50      277940.9595       14928.9971           17.58s\n",
        "        60      145345.1254       11281.3260           17.53s"
       ]
      },
      {
       "output_type": "stream",
       "stream": "stdout",
       "text": [
        "\n",
        "        70       81163.0627        5110.3693           17.53s\n",
        "        80       44237.2485        2774.3045           17.54s\n",
        "        90       23628.7543        1827.8519           17.54s"
       ]
      },
      {
       "output_type": "stream",
       "stream": "stdout",
       "text": [
        "\n",
        "       100       13004.2136         922.8560           17.54s\n",
        "       200          75.3744           2.0868           17.07s"
       ]
      },
      {
       "output_type": "stream",
       "stream": "stdout",
       "text": [
        "\n",
        "       300          19.2917          -0.0255           16.23s"
       ]
      },
      {
       "output_type": "stream",
       "stream": "stdout",
       "text": [
        "\n",
        "       400           8.8532          -0.0023           15.29s"
       ]
      },
      {
       "output_type": "stream",
       "stream": "stdout",
       "text": [
        "\n",
        "       500           4.3784          -0.0700           14.63s"
       ]
      },
      {
       "output_type": "stream",
       "stream": "stdout",
       "text": [
        "\n",
        "       600           2.3509           0.0009           14.14s"
       ]
      },
      {
       "output_type": "stream",
       "stream": "stdout",
       "text": [
        "\n",
        "       700           1.2304          -0.0031           13.77s"
       ]
      },
      {
       "output_type": "stream",
       "stream": "stdout",
       "text": [
        "\n",
        "       800           0.7821          -0.0008           13.43s"
       ]
      },
      {
       "output_type": "stream",
       "stream": "stdout",
       "text": [
        "\n",
        "       900           0.4838          -0.0085           13.16s"
       ]
      },
      {
       "output_type": "stream",
       "stream": "stdout",
       "text": [
        "\n",
        "      1000           0.2358          -0.0158           12.93s"
       ]
      },
      {
       "output_type": "stream",
       "stream": "stdout",
       "text": [
        "\n",
        "      2000           0.0043          -0.0001           11.23s"
       ]
      },
      {
       "output_type": "stream",
       "stream": "stdout",
       "text": [
        "\n",
        "      3000           0.0001          -0.0000            9.81s"
       ]
      },
      {
       "output_type": "stream",
       "stream": "stdout",
       "text": [
        "\n",
        "      4000           0.0000          -0.0000            8.39s"
       ]
      },
      {
       "output_type": "stream",
       "stream": "stdout",
       "text": [
        "\n",
        "      5000           0.0000          -0.0000            6.95s"
       ]
      },
      {
       "output_type": "stream",
       "stream": "stdout",
       "text": [
        "\n",
        "      6000           0.0000          -0.0000            5.02s"
       ]
      },
      {
       "output_type": "stream",
       "stream": "stdout",
       "text": [
        "\n",
        "      7000           0.0000          -0.0000            3.33s"
       ]
      },
      {
       "output_type": "stream",
       "stream": "stdout",
       "text": [
        "\n",
        "      8000           0.0000          -0.0000            1.99s"
       ]
      },
      {
       "output_type": "stream",
       "stream": "stdout",
       "text": [
        "\n",
        "      9000           0.0000          -0.0000            0.91s"
       ]
      },
      {
       "output_type": "stream",
       "stream": "stdout",
       "text": [
        "\n",
        "     10000           0.0000          -0.0000            0.00s"
       ]
      },
      {
       "output_type": "stream",
       "stream": "stdout",
       "text": [
        "\n",
        "      Iter       Train Loss      OOB Improve   Remaining Time \n",
        "         1     5294809.5545      349925.8337            8.69s\n",
        "         2     5010094.5785      324984.7375            6.61s\n",
        "         3     4512100.5043      331345.5209            5.90s\n",
        "         4     4336266.0678      292352.4979            5.54s\n",
        "         5     4083292.9698      282201.7050            5.30s\n",
        "         6     3866314.9862      255835.8007            5.17s\n",
        "         7     3398807.1657      252650.9268            5.08s\n",
        "         8     3252269.0583      227046.9984            5.01s\n",
        "         9     3098943.1375      199062.2036            4.92s\n",
        "        10     2891579.5657      197520.2614            4.86s\n",
        "        20     1390351.6994      111145.6013            4.54s"
       ]
      },
      {
       "output_type": "stream",
       "stream": "stdout",
       "text": [
        "\n",
        "        30      830114.1452       54558.6896            4.53s\n",
        "        40      454351.6084       28257.2471            4.46s\n",
        "        50      245600.1462       14947.2056            4.41s\n",
        "        60      126400.4441        7726.6353            4.36s\n",
        "        70       77166.8050        4837.4623            4.38s\n",
        "        80       50826.2480        2012.2513            4.36s\n",
        "        90       33664.0918        1174.3516            4.33s\n",
        "       100       20299.1814         744.0285            4.31s\n",
        "       200        5751.4754          -3.8112            4.14s"
       ]
      },
      {
       "output_type": "stream",
       "stream": "stdout",
       "text": [
        "\n",
        "       300        3688.5800           6.7619            4.05s\n",
        "       400        2615.7770           0.7819            3.99s"
       ]
      },
      {
       "output_type": "stream",
       "stream": "stdout",
       "text": [
        "\n",
        "       500        1759.4703          -3.8839            3.94s\n",
        "       600        1318.7907           4.3867            3.87s"
       ]
      },
      {
       "output_type": "stream",
       "stream": "stdout",
       "text": [
        "\n",
        "       700        1194.3483          -2.6098            3.82s\n",
        "       800        1081.5261          -0.7401            3.77s"
       ]
      },
      {
       "output_type": "stream",
       "stream": "stdout",
       "text": [
        "\n",
        "       900         921.9461          -1.1054            3.72s\n",
        "      1000         802.2723           0.5566            3.67s"
       ]
      },
      {
       "output_type": "stream",
       "stream": "stdout",
       "text": [
        "\n",
        "      2000         282.0270          -0.4711            3.15s"
       ]
      },
      {
       "output_type": "stream",
       "stream": "stdout",
       "text": [
        "\n",
        "      3000         146.5942          -0.1760            2.67s"
       ]
      },
      {
       "output_type": "stream",
       "stream": "stdout",
       "text": [
        "\n",
        "      4000          79.6428          -0.1599            2.18s"
       ]
      },
      {
       "output_type": "stream",
       "stream": "stdout",
       "text": [
        "\n",
        "      5000          49.3755          -0.0560            1.69s"
       ]
      },
      {
       "output_type": "stream",
       "stream": "stdout",
       "text": [
        "\n",
        "      6000          31.3455          -0.0693            1.21s"
       ]
      },
      {
       "output_type": "stream",
       "stream": "stdout",
       "text": [
        "\n",
        "      7000          20.9108          -0.0244            0.72s"
       ]
      },
      {
       "output_type": "stream",
       "stream": "stdout",
       "text": [
        "\n",
        "      8000          15.7301          -0.0623            0.24s"
       ]
      },
      {
       "output_type": "stream",
       "stream": "stdout",
       "text": [
        "\n",
        "      Iter       Train Loss      OOB Improve   Remaining Time "
       ]
      },
      {
       "output_type": "stream",
       "stream": "stdout",
       "text": [
        "\n",
        "         1     5291041.2135      392659.3146            8.26s\n",
        "         2     5150363.6565      324925.9143            6.50s\n",
        "         3     4852222.3535      309049.7249            5.83s\n",
        "         4     4204765.2448      332018.2920            5.51s\n",
        "         5     4052319.7764      293417.7575            5.32s\n",
        "         6     3971499.0391      244613.9141            5.18s\n",
        "         7     3662086.0573      238067.9801            5.06s\n",
        "         8     3449686.3445      226111.4779            4.99s\n",
        "         9     3308016.3373      202013.1229            4.92s\n",
        "        10     3042568.7816      183956.2429            4.86s\n",
        "        20     1616302.9654       85224.2759            4.55s\n",
        "        30      838873.1949       50183.8274            4.45s\n",
        "        40      426028.9422       29391.3964            4.40s\n",
        "        50      233158.2927       15274.4823            4.37s\n",
        "        60      138158.8200        6961.3573            4.35s\n",
        "        70       73354.5314        4086.7732            4.32s\n",
        "        80       43160.0308        1835.0999            4.29s\n",
        "        90       26697.4151        1133.3966            4.34s\n",
        "       100       15941.6383         716.0417            4.32s"
       ]
      },
      {
       "output_type": "stream",
       "stream": "stdout",
       "text": [
        "\n",
        "       200        2202.4724           9.2407            4.18s\n",
        "       300        1349.6001           2.0812            4.07s"
       ]
      },
      {
       "output_type": "stream",
       "stream": "stdout",
       "text": [
        "\n",
        "       400        1025.9610           1.2851            4.02s\n",
        "       500         735.6088          -0.6416            3.94s"
       ]
      },
      {
       "output_type": "stream",
       "stream": "stdout",
       "text": [
        "\n",
        "       600         624.4277           0.6296            3.90s\n",
        "       700         517.8485          -0.1258            3.84s"
       ]
      },
      {
       "output_type": "stream",
       "stream": "stdout",
       "text": [
        "\n",
        "       800         458.3888          -0.3525            3.79s\n",
        "       900         388.6498          -0.0084            3.73s"
       ]
      },
      {
       "output_type": "stream",
       "stream": "stdout",
       "text": [
        "\n",
        "      1000         348.3885          -0.4902            3.68s\n",
        "      2000         131.5038          -0.1948            3.17s"
       ]
      },
      {
       "output_type": "stream",
       "stream": "stdout",
       "text": [
        "\n",
        "      3000          73.6178          -0.0549            2.67s"
       ]
      },
      {
       "output_type": "stream",
       "stream": "stdout",
       "text": [
        "\n",
        "      4000          46.2673          -0.0143            2.18s"
       ]
      },
      {
       "output_type": "stream",
       "stream": "stdout",
       "text": [
        "\n",
        "      5000          27.4449          -0.0112            1.69s"
       ]
      },
      {
       "output_type": "stream",
       "stream": "stdout",
       "text": [
        "\n",
        "      6000          18.7167          -0.0200            1.21s"
       ]
      },
      {
       "output_type": "stream",
       "stream": "stdout",
       "text": [
        "\n",
        "      7000          13.0809          -0.0372            0.72s"
       ]
      },
      {
       "output_type": "stream",
       "stream": "stdout",
       "text": [
        "\n",
        "      8000           8.6582          -0.0081            0.24s"
       ]
      },
      {
       "output_type": "stream",
       "stream": "stdout",
       "text": [
        "\n",
        "      Iter       Train Loss      OOB Improve   Remaining Time "
       ]
      },
      {
       "output_type": "stream",
       "stream": "stdout",
       "text": [
        "\n",
        "         1     5034637.0899      410782.1445           10.29s\n",
        "         2     5069367.4690      321168.1565            8.77s\n",
        "         3     4844535.0471      278711.3586            7.98s\n",
        "         4     4185434.7280      302167.0503            7.61s\n",
        "         5     3972393.3557      287281.6149            7.06s\n",
        "         6     3920145.4991      230919.8256            6.64s\n",
        "         7     3575730.3623      247357.1072            6.36s\n",
        "         8     3288021.5289      233267.7856            6.33s\n",
        "         9     2944829.8298      238116.7808            6.45s\n",
        "        10     2880949.5903      191966.0376            6.51s\n",
        "        20     1509520.2746      107212.8981            6.39s\n",
        "        30      755603.4661       57090.3649            6.32s\n",
        "        40      435664.8075       25000.8195            6.28s\n",
        "        50      251349.0552       13271.2392            6.25s\n",
        "        60      134218.5547        8102.7125            6.22s\n",
        "        70       81971.5284        3770.2367            6.23s"
       ]
      },
      {
       "output_type": "stream",
       "stream": "stdout",
       "text": [
        "\n",
        "        80       45221.6618        2393.5201            6.25s\n",
        "        90       31210.8403        1172.1623            6.23s\n",
        "       100       19352.9759         648.8725            6.26s\n",
        "       200        4831.5827          11.1771            6.07s"
       ]
      },
      {
       "output_type": "stream",
       "stream": "stdout",
       "text": [
        "\n",
        "       300        3254.3258           2.7124            5.91s"
       ]
      },
      {
       "output_type": "stream",
       "stream": "stdout",
       "text": [
        "\n",
        "       400        1958.1915           1.1213            5.94s"
       ]
      },
      {
       "output_type": "stream",
       "stream": "stdout",
       "text": [
        "\n",
        "       500        1534.8695           3.4746            5.82s"
       ]
      },
      {
       "output_type": "stream",
       "stream": "stdout",
       "text": [
        "\n",
        "       600        1204.8412           2.0956            5.69s"
       ]
      },
      {
       "output_type": "stream",
       "stream": "stdout",
       "text": [
        "\n",
        "       700         927.4032          -0.8081            5.53s"
       ]
      },
      {
       "output_type": "stream",
       "stream": "stdout",
       "text": [
        "\n",
        "       800         784.7970           1.6347            5.24s\n",
        "       900         731.7770          -1.5491            5.00s"
       ]
      },
      {
       "output_type": "stream",
       "stream": "stdout",
       "text": [
        "\n",
        "      1000         603.9464          -0.6828            4.81s\n",
        "      2000         256.4792          -0.4976            3.64s"
       ]
      },
      {
       "output_type": "stream",
       "stream": "stdout",
       "text": [
        "\n",
        "      3000         138.4836          -0.4838            3.04s"
       ]
      },
      {
       "output_type": "stream",
       "stream": "stdout",
       "text": [
        "\n",
        "      4000          79.3622          -0.0635            2.50s"
       ]
      },
      {
       "output_type": "stream",
       "stream": "stdout",
       "text": [
        "\n",
        "      5000          50.2733          -0.1339            1.90s"
       ]
      },
      {
       "output_type": "stream",
       "stream": "stdout",
       "text": [
        "\n",
        "      6000          35.5089          -0.0635            1.33s"
       ]
      },
      {
       "output_type": "stream",
       "stream": "stdout",
       "text": [
        "\n",
        "      7000          25.4371          -0.0147            0.79s"
       ]
      },
      {
       "output_type": "stream",
       "stream": "stdout",
       "text": [
        "\n",
        "      8000          17.3571          -0.0272            0.26s"
       ]
      },
      {
       "output_type": "stream",
       "stream": "stdout",
       "text": [
        "\n",
        "      Iter       Train Loss      OOB Improve   Remaining Time "
       ]
      },
      {
       "output_type": "stream",
       "stream": "stdout",
       "text": [
        "\n",
        "         1     5406270.9280      355153.7435            8.08s\n",
        "         2     4966716.9947      365122.9603            6.45s\n",
        "         3     4672900.3108      343855.0317            6.14s\n",
        "         4     4376792.0131      299587.5919            5.87s\n",
        "         5     4184578.4215      267996.1962            5.66s\n",
        "         6     3912288.2157      256526.4400            5.72s\n",
        "         7     3601358.6549      247844.4468            5.56s\n",
        "         8     3264266.5597      253229.7300            5.42s\n",
        "         9     3265963.2865      193757.2586            5.31s\n",
        "        10     3012818.8964      189415.9917            5.21s\n",
        "        20     1487220.6304      113643.5508            4.71s\n",
        "        30      809017.8658       54041.9815            4.53s\n",
        "        40      465812.7907       25461.4283            4.46s\n",
        "        50      236047.6455       17056.1587            4.41s\n",
        "        60      137076.4877        8279.7549            4.37s\n",
        "        70       84223.6251        4130.6557            4.34s\n",
        "        80       52270.4099        2030.4101            4.32s\n",
        "        90       31262.2866        1304.4491            4.30s\n",
        "       100       20902.6351         827.1176            4.28s"
       ]
      },
      {
       "output_type": "stream",
       "stream": "stdout",
       "text": [
        "\n",
        "       200        5347.6384           3.4524            4.14s\n",
        "       300        3499.0458          -6.1961            4.03s"
       ]
      },
      {
       "output_type": "stream",
       "stream": "stdout",
       "text": [
        "\n",
        "       400        2323.9243          -7.9759            3.98s\n",
        "       500        2066.6687           3.5397            3.90s"
       ]
      },
      {
       "output_type": "stream",
       "stream": "stdout",
       "text": [
        "\n",
        "       600        1586.6537          -1.1906            3.84s\n",
        "       700        1265.3199          -3.4395            3.78s"
       ]
      },
      {
       "output_type": "stream",
       "stream": "stdout",
       "text": [
        "\n",
        "       800        1294.2978          -1.6585            3.73s\n",
        "       900         942.1571          -1.2820            3.67s"
       ]
      },
      {
       "output_type": "stream",
       "stream": "stdout",
       "text": [
        "\n",
        "      1000         790.1191          -1.8323            3.63s\n",
        "      2000         298.7242           0.0653            3.12s"
       ]
      },
      {
       "output_type": "stream",
       "stream": "stdout",
       "text": [
        "\n",
        "      3000         157.8832          -0.1596            2.64s"
       ]
      },
      {
       "output_type": "stream",
       "stream": "stdout",
       "text": [
        "\n",
        "      4000          85.5961          -0.0151            2.16s"
       ]
      },
      {
       "output_type": "stream",
       "stream": "stdout",
       "text": [
        "\n",
        "      5000          53.8800          -0.0414            1.68s"
       ]
      },
      {
       "output_type": "stream",
       "stream": "stdout",
       "text": [
        "\n",
        "      6000          34.4998          -0.0574            1.20s"
       ]
      },
      {
       "output_type": "stream",
       "stream": "stdout",
       "text": [
        "\n",
        "      7000          24.4627          -0.0251            0.72s"
       ]
      },
      {
       "output_type": "stream",
       "stream": "stdout",
       "text": [
        "\n",
        "      8000          16.3408          -0.0307            0.24s"
       ]
      },
      {
       "output_type": "stream",
       "stream": "stdout",
       "text": [
        "\n",
        "      Iter       Train Loss      OOB Improve   Remaining Time "
       ]
      },
      {
       "output_type": "stream",
       "stream": "stdout",
       "text": [
        "\n",
        "         1     5338944.4028      379781.1381            8.80s\n",
        "         2     5217882.3399      310104.1026            6.82s\n",
        "         3     4567453.0269      270790.7125            6.05s\n",
        "         4     4305076.9069      329446.7067            5.75s\n",
        "         5     4352687.1329      255032.1334            5.52s\n",
        "         6     3778512.1770      275270.8857            5.37s\n",
        "         7     3505036.5118      264862.7631            5.24s\n",
        "         8     3439703.7305      223606.6851            5.14s\n",
        "         9     3070899.7943      246939.2467            5.08s\n",
        "        10     2777745.6687      246615.3628            5.02s\n",
        "        20     1636560.0307       98815.9780            4.62s\n",
        "        30      829503.4112       56475.6355            4.48s\n",
        "        40      438873.2021       25466.3836            4.44s\n",
        "        50      247731.5558       14828.3551            4.41s\n",
        "        60      147380.0852        8101.2088            4.38s\n",
        "        70       79268.5351        4554.1015            4.34s\n",
        "        80       47870.2858        2517.5122            4.32s\n",
        "        90       33660.4689        1152.5031            4.29s\n",
        "       100       24269.7645         648.8263            4.28s"
       ]
      },
      {
       "output_type": "stream",
       "stream": "stdout",
       "text": [
        "\n",
        "       200        6180.0656          17.8019            4.17s\n",
        "       300        4263.7338           2.2604            4.10s"
       ]
      },
      {
       "output_type": "stream",
       "stream": "stdout",
       "text": [
        "\n",
        "       400        2844.6635          -0.2310            4.05s\n",
        "       500        2101.5175          -5.4433            3.98s"
       ]
      },
      {
       "output_type": "stream",
       "stream": "stdout",
       "text": [
        "\n",
        "       600        1690.3057          -0.4660            3.92s\n",
        "       700        1288.8586          -2.2598            3.85s"
       ]
      },
      {
       "output_type": "stream",
       "stream": "stdout",
       "text": [
        "\n",
        "       800        1064.9218          -3.5105            3.80s\n",
        "       900         982.3906          -4.1012            3.74s"
       ]
      },
      {
       "output_type": "stream",
       "stream": "stdout",
       "text": [
        "\n",
        "      1000         801.6234          -1.6514            3.70s"
       ]
      },
      {
       "output_type": "stream",
       "stream": "stdout",
       "text": [
        "\n",
        "      2000         305.7395          -0.4686            3.18s"
       ]
      },
      {
       "output_type": "stream",
       "stream": "stdout",
       "text": [
        "\n",
        "      3000         176.2013          -0.3020            2.67s"
       ]
      },
      {
       "output_type": "stream",
       "stream": "stdout",
       "text": [
        "\n",
        "      4000         111.1300          -0.1352            2.18s"
       ]
      },
      {
       "output_type": "stream",
       "stream": "stdout",
       "text": [
        "\n",
        "      5000          74.0294          -0.1596            1.69s"
       ]
      },
      {
       "output_type": "stream",
       "stream": "stdout",
       "text": [
        "\n",
        "      6000          45.7223          -0.0587            1.21s"
       ]
      },
      {
       "output_type": "stream",
       "stream": "stdout",
       "text": [
        "\n",
        "      7000          31.3508          -0.0395            0.73s"
       ]
      },
      {
       "output_type": "stream",
       "stream": "stdout",
       "text": [
        "\n",
        "      8000          21.7164          -0.0143            0.24s"
       ]
      },
      {
       "output_type": "stream",
       "stream": "stdout",
       "text": [
        "\n",
        "      Iter       Train Loss      OOB Improve   Remaining Time "
       ]
      },
      {
       "output_type": "stream",
       "stream": "stdout",
       "text": [
        "\n",
        "         1     4459359.4045      921086.7236           14.64s\n",
        "         2     4022285.9273      731453.6354           12.84s\n",
        "         3     3301342.9246      641966.3876           12.23s\n",
        "         4     2823195.0609      541796.6167           11.95s\n",
        "         5     2388023.8381      451865.7122           11.78s\n",
        "         6     2117350.3908      369096.9107           11.74s\n",
        "         7     1843387.8693      304268.5108           11.68s\n",
        "         8     1525720.6674      263275.1736           11.67s\n",
        "         9     1199626.6733      237181.7911           11.73s\n",
        "        10     1129626.1977      182642.5125           12.01s\n",
        "        20      222068.6032       32913.4599           11.48s\n",
        "        30       39823.5040        6790.9588           11.23s\n",
        "        40        7465.1170        1347.7809           11.01s\n",
        "        50        1324.3183         255.0685           10.78s"
       ]
      },
      {
       "output_type": "stream",
       "stream": "stdout",
       "text": [
        "\n",
        "        60         426.6388          43.6761           10.64s\n",
        "        70         197.9000           5.2966           10.49s\n",
        "        80         166.4598          -0.0657           10.26s\n",
        "        90          97.9742          -1.4303           10.07s\n",
        "       100          85.9739          -3.6907            9.89s"
       ]
      },
      {
       "output_type": "stream",
       "stream": "stdout",
       "text": [
        "\n",
        "       200          47.2444          -1.4975            8.96s"
       ]
      },
      {
       "output_type": "stream",
       "stream": "stdout",
       "text": [
        "\n",
        "       300          10.7335          -0.5040            8.60s"
       ]
      },
      {
       "output_type": "stream",
       "stream": "stdout",
       "text": [
        "\n",
        "       400          14.6532          -0.0914            8.45s"
       ]
      },
      {
       "output_type": "stream",
       "stream": "stdout",
       "text": [
        "\n",
        "       500           3.1832          -0.1043            8.30s"
       ]
      },
      {
       "output_type": "stream",
       "stream": "stdout",
       "text": [
        "\n",
        "       600           2.5115          -0.0971            8.15s"
       ]
      },
      {
       "output_type": "stream",
       "stream": "stdout",
       "text": [
        "\n",
        "       700           1.5740          -0.0238            8.11s"
       ]
      },
      {
       "output_type": "stream",
       "stream": "stdout",
       "text": [
        "\n",
        "       800           1.3385          -0.0198            8.15s"
       ]
      },
      {
       "output_type": "stream",
       "stream": "stdout",
       "text": [
        "\n",
        "       900           0.3900          -0.0036            8.38s"
       ]
      },
      {
       "output_type": "stream",
       "stream": "stdout",
       "text": [
        "\n",
        "      1000           0.1981          -0.0027            8.36s"
       ]
      },
      {
       "output_type": "stream",
       "stream": "stdout",
       "text": [
        "\n",
        "      2000           0.0030          -0.0000            8.03s"
       ]
      },
      {
       "output_type": "stream",
       "stream": "stdout",
       "text": [
        "\n",
        "      3000           0.0000          -0.0000            6.94s"
       ]
      },
      {
       "output_type": "stream",
       "stream": "stdout",
       "text": [
        "\n",
        "      4000           0.0000          -0.0000            5.47s"
       ]
      },
      {
       "output_type": "stream",
       "stream": "stdout",
       "text": [
        "\n",
        "      5000           0.0000           0.0000            3.74s"
       ]
      },
      {
       "output_type": "stream",
       "stream": "stdout",
       "text": [
        "\n",
        "      6000           0.0000          -0.0000            2.47s"
       ]
      },
      {
       "output_type": "stream",
       "stream": "stdout",
       "text": [
        "\n",
        "      7000           0.0000          -0.0000            1.49s"
       ]
      },
      {
       "output_type": "stream",
       "stream": "stdout",
       "text": [
        "\n",
        "      8000           0.0000          -0.0000            0.68s"
       ]
      },
      {
       "output_type": "stream",
       "stream": "stdout",
       "text": [
        "\n",
        "      9000           0.0000          -0.0000            0.00s"
       ]
      },
      {
       "output_type": "stream",
       "stream": "stdout",
       "text": [
        "\n",
        "      Iter       Train Loss      OOB Improve   Remaining Time \n",
        "         1     4820486.0932      892422.6880           13.49s\n",
        "         2     3864262.7577      790559.6301           12.16s\n",
        "         3     3514244.2928      625341.7137           11.77s\n",
        "         4     3047092.8849      519301.1278           11.83s\n",
        "         5     2430224.0704      466259.4780           11.78s\n",
        "         6     2256609.6752      358907.8881           11.54s\n",
        "         7     1786531.9047      324679.1776           11.36s\n",
        "         8     1408411.2243      295909.8990           11.23s\n",
        "         9     1286143.7556      233130.6194           11.13s\n",
        "        10     1096563.5657      195193.5084           11.04s\n",
        "        20      214012.5531       36109.9925           10.59s"
       ]
      },
      {
       "output_type": "stream",
       "stream": "stdout",
       "text": [
        "\n",
        "        30       38096.0469        7206.4253           10.54s\n",
        "        40        7503.7494        1392.9222           10.44s\n",
        "        50        1375.0130         265.1565           10.37s\n",
        "        60         416.3439          49.9120           10.25s\n",
        "        70          95.8189           7.7807           10.13s"
       ]
      },
      {
       "output_type": "stream",
       "stream": "stdout",
       "text": [
        "\n",
        "        80         110.6095           0.4549           10.05s\n",
        "        90          59.5710          -2.3481            9.89s\n",
        "       100          29.9299           0.6019            9.76s\n",
        "       200          18.8939          -0.6120            8.98s"
       ]
      },
      {
       "output_type": "stream",
       "stream": "stdout",
       "text": [
        "\n",
        "       300          10.0439          -0.0816            8.68s"
       ]
      },
      {
       "output_type": "stream",
       "stream": "stdout",
       "text": [
        "\n",
        "       400           2.1847          -0.0249            8.49s"
       ]
      },
      {
       "output_type": "stream",
       "stream": "stdout",
       "text": [
        "\n",
        "       500           2.7626          -0.0217            8.37s"
       ]
      },
      {
       "output_type": "stream",
       "stream": "stdout",
       "text": [
        "\n",
        "       600           1.7280          -0.0086            8.27s"
       ]
      },
      {
       "output_type": "stream",
       "stream": "stdout",
       "text": [
        "\n",
        "       700           0.3969          -0.0231            8.16s"
       ]
      },
      {
       "output_type": "stream",
       "stream": "stdout",
       "text": [
        "\n",
        "       800           0.4094          -0.0095            8.05s"
       ]
      },
      {
       "output_type": "stream",
       "stream": "stdout",
       "text": [
        "\n",
        "       900           0.2019          -0.0098            7.94s"
       ]
      },
      {
       "output_type": "stream",
       "stream": "stdout",
       "text": [
        "\n",
        "      1000           0.0479          -0.0005            7.83s"
       ]
      },
      {
       "output_type": "stream",
       "stream": "stdout",
       "text": [
        "\n",
        "      2000           0.0001          -0.0000            6.83s"
       ]
      },
      {
       "output_type": "stream",
       "stream": "stdout",
       "text": [
        "\n",
        "      3000           0.0000          -0.0000            5.95s"
       ]
      },
      {
       "output_type": "stream",
       "stream": "stdout",
       "text": [
        "\n",
        "      4000           0.0000          -0.0000            4.15s"
       ]
      },
      {
       "output_type": "stream",
       "stream": "stdout",
       "text": [
        "\n",
        "      5000           0.0000          -0.0000            2.87s"
       ]
      },
      {
       "output_type": "stream",
       "stream": "stdout",
       "text": [
        "\n",
        "      6000           0.0000          -0.0000            1.92s"
       ]
      },
      {
       "output_type": "stream",
       "stream": "stdout",
       "text": [
        "\n",
        "      7000           0.0000          -0.0000            1.17s"
       ]
      },
      {
       "output_type": "stream",
       "stream": "stdout",
       "text": [
        "\n",
        "      8000           0.0000           0.0000            0.54s"
       ]
      },
      {
       "output_type": "stream",
       "stream": "stdout",
       "text": [
        "\n",
        "      9000           0.0000          -0.0000            0.00s"
       ]
      },
      {
       "output_type": "stream",
       "stream": "stdout",
       "text": [
        "\n",
        "      Iter       Train Loss      OOB Improve   Remaining Time \n",
        "         1     4934185.2300      838348.3918           13.95s\n",
        "         2     4154224.9135      711003.8911           12.41s\n",
        "         3     3249899.9508      653234.2843           11.82s\n",
        "         4     3129754.1480      483095.7780           11.56s\n",
        "         5     2527789.3181      430490.1957           11.31s\n",
        "         6     1984462.1338      390449.8276           11.19s\n",
        "         7     1802725.6527      311029.7154           11.08s\n",
        "         8     1536687.5451      262731.5604           11.09s\n",
        "         9     1199759.6646      237571.5451           11.03s\n",
        "        10     1028706.3084      199115.4092           10.98s\n",
        "        20      196758.1636       37692.7180           10.56s"
       ]
      },
      {
       "output_type": "stream",
       "stream": "stdout",
       "text": [
        "\n",
        "        30       38722.3253        6884.5241           10.87s\n",
        "        40        7184.4698        1268.6470           10.70s\n",
        "        50        1310.5445         251.1200           10.55s\n",
        "        60         282.3361          45.9842           10.42s\n",
        "        70         245.8722           6.9407           10.29s"
       ]
      },
      {
       "output_type": "stream",
       "stream": "stdout",
       "text": [
        "\n",
        "        80         143.6765          -2.8512           10.17s\n",
        "        90         124.5591          -1.4450           10.01s\n",
        "       100          64.4120          -3.8986            9.85s\n",
        "       200          44.5685          -1.5025            9.03s"
       ]
      },
      {
       "output_type": "stream",
       "stream": "stdout",
       "text": [
        "\n",
        "       300           4.8512          -0.0991            8.73s"
       ]
      },
      {
       "output_type": "stream",
       "stream": "stdout",
       "text": [
        "\n",
        "       400           2.1020          -0.0109            8.57s"
       ]
      },
      {
       "output_type": "stream",
       "stream": "stdout",
       "text": [
        "\n",
        "       500           6.8007          -0.0256            8.44s"
       ]
      },
      {
       "output_type": "stream",
       "stream": "stdout",
       "text": [
        "\n",
        "       600           4.1002          -0.0753            8.29s"
       ]
      },
      {
       "output_type": "stream",
       "stream": "stdout",
       "text": [
        "\n",
        "       700           0.6897          -0.0313            8.16s"
       ]
      },
      {
       "output_type": "stream",
       "stream": "stdout",
       "text": [
        "\n",
        "       800           2.1230          -0.0070            8.05s"
       ]
      },
      {
       "output_type": "stream",
       "stream": "stdout",
       "text": [
        "\n",
        "       900           1.2750          -0.0068            7.94s"
       ]
      },
      {
       "output_type": "stream",
       "stream": "stdout",
       "text": [
        "\n",
        "      1000           0.6649          -0.0065            7.82s"
       ]
      },
      {
       "output_type": "stream",
       "stream": "stdout",
       "text": [
        "\n",
        "      2000           0.0011          -0.0000            6.79s"
       ]
      },
      {
       "output_type": "stream",
       "stream": "stdout",
       "text": [
        "\n",
        "      3000           0.0000          -0.0000            5.84s"
       ]
      },
      {
       "output_type": "stream",
       "stream": "stdout",
       "text": [
        "\n",
        "      4000           0.0000          -0.0000            4.75s"
       ]
      },
      {
       "output_type": "stream",
       "stream": "stdout",
       "text": [
        "\n",
        "      5000           0.0000          -0.0000            3.28s"
       ]
      },
      {
       "output_type": "stream",
       "stream": "stdout",
       "text": [
        "\n",
        "      6000           0.0000          -0.0000            2.18s"
       ]
      },
      {
       "output_type": "stream",
       "stream": "stdout",
       "text": [
        "\n",
        "      7000           0.0000          -0.0000            1.32s"
       ]
      },
      {
       "output_type": "stream",
       "stream": "stdout",
       "text": [
        "\n",
        "      8000           0.0000          -0.0000            0.61s"
       ]
      },
      {
       "output_type": "stream",
       "stream": "stdout",
       "text": [
        "\n",
        "      9000           0.0000          -0.0000            0.00s"
       ]
      },
      {
       "output_type": "stream",
       "stream": "stdout",
       "text": [
        "\n",
        "      Iter       Train Loss      OOB Improve   Remaining Time \n",
        "         1     4970584.3171      855019.9780           14.29s\n",
        "         2     4142719.5308      744358.8798           12.44s\n",
        "         3     3331695.7833      658595.6154           11.72s\n",
        "         4     2840367.8289      552972.3588           11.35s\n",
        "         5     2676942.5232      419812.6608           11.14s\n",
        "         6     2127724.6750      381983.1829           11.11s\n",
        "         7     1783945.6284      325732.1040           11.14s\n",
        "         8     1568098.2668      265414.8916           11.05s\n",
        "         9     1272064.6053      235548.2657           11.18s\n",
        "        10      994340.9053      213308.6030           11.10s\n",
        "        20      190631.8131       39637.4957           10.72s"
       ]
      },
      {
       "output_type": "stream",
       "stream": "stdout",
       "text": [
        "\n",
        "        30       41187.5305        6814.3200           10.78s\n",
        "        40        7611.6922        1264.2671           10.63s\n",
        "        50        1342.3009         230.4223           10.52s\n",
        "        60         307.6507          45.6696           10.39s\n",
        "        70         151.9290           2.1129           10.26s"
       ]
      },
      {
       "output_type": "stream",
       "stream": "stdout",
       "text": [
        "\n",
        "        80         337.3287          -7.5892           10.14s\n",
        "        90         103.4587          -3.3926           10.02s\n",
        "       100          35.3265          -2.3229            9.88s\n",
        "       200         123.5511          -5.8683            9.09s"
       ]
      },
      {
       "output_type": "stream",
       "stream": "stdout",
       "text": [
        "\n",
        "       300          51.3164          -1.5041            8.71s"
       ]
      },
      {
       "output_type": "stream",
       "stream": "stdout",
       "text": [
        "\n",
        "       400          36.8487          -0.2569            8.53s"
       ]
      },
      {
       "output_type": "stream",
       "stream": "stdout",
       "text": [
        "\n",
        "       500          19.9677          -0.1406            8.44s"
       ]
      },
      {
       "output_type": "stream",
       "stream": "stdout",
       "text": [
        "\n",
        "       600           9.8270          -0.1223            8.65s"
       ]
      },
      {
       "output_type": "stream",
       "stream": "stdout",
       "text": [
        "\n",
        "       700           1.5036          -0.0778            9.16s"
       ]
      },
      {
       "output_type": "stream",
       "stream": "stdout",
       "text": [
        "\n",
        "       800           1.2103          -0.0647            9.16s"
       ]
      },
      {
       "output_type": "stream",
       "stream": "stdout",
       "text": [
        "\n",
        "       900           0.9123          -0.0083            9.07s"
       ]
      },
      {
       "output_type": "stream",
       "stream": "stdout",
       "text": [
        "\n",
        "      1000           0.7790          -0.0069            8.96s"
       ]
      },
      {
       "output_type": "stream",
       "stream": "stdout",
       "text": [
        "\n",
        "      2000           0.0010          -0.0000            7.88s"
       ]
      },
      {
       "output_type": "stream",
       "stream": "stdout",
       "text": [
        "\n",
        "      3000           0.0000          -0.0000            7.00s"
       ]
      },
      {
       "output_type": "stream",
       "stream": "stdout",
       "text": [
        "\n",
        "      4000           0.0000          -0.0000            5.32s"
       ]
      },
      {
       "output_type": "stream",
       "stream": "stdout",
       "text": [
        "\n",
        "      5000           0.0000          -0.0000            3.62s"
       ]
      },
      {
       "output_type": "stream",
       "stream": "stdout",
       "text": [
        "\n",
        "      6000           0.0000          -0.0000            2.40s"
       ]
      },
      {
       "output_type": "stream",
       "stream": "stdout",
       "text": [
        "\n",
        "      7000           0.0000           0.0000            1.45s"
       ]
      },
      {
       "output_type": "stream",
       "stream": "stdout",
       "text": [
        "\n",
        "      8000           0.0000          -0.0000            0.67s"
       ]
      },
      {
       "output_type": "stream",
       "stream": "stdout",
       "text": [
        "\n",
        "      9000           0.0000          -0.0000            0.00s"
       ]
      },
      {
       "output_type": "stream",
       "stream": "stdout",
       "text": [
        "\n",
        "      Iter       Train Loss      OOB Improve   Remaining Time \n",
        "         1     4896314.4376      874503.7656           13.59s\n",
        "         2     4221147.5363      722187.6874           12.55s\n",
        "         3     3521982.3524      624935.8405           12.00s\n",
        "         4     3035337.7425      521860.1514           11.64s\n",
        "         5     2586700.5772      434203.8355           11.41s\n",
        "         6     2175632.6607      373861.9205           11.24s\n",
        "         7     1788235.1560      322948.6212           11.11s\n",
        "         8     1537489.8705      270718.3670           11.02s\n",
        "         9     1208370.8122      244692.6722           10.95s\n",
        "        10     1082562.5092      198657.9437           10.95s\n",
        "        20      198743.8100       38525.9572           10.83s"
       ]
      },
      {
       "output_type": "stream",
       "stream": "stdout",
       "text": [
        "\n",
        "        30       42408.8289        6509.8133           10.92s\n",
        "        40        7046.3702        1354.4783           11.00s\n",
        "        50        1784.9424         227.6748           10.76s\n",
        "        60         285.4665          44.7304           10.57s\n",
        "        70         221.4216           5.0517           10.45s"
       ]
      },
      {
       "output_type": "stream",
       "stream": "stdout",
       "text": [
        "\n",
        "        80          57.4113          -0.1536           10.70s\n",
        "        90         175.6318          -0.8264           10.96s\n",
        "       100          66.3755          -5.0216           11.15s\n",
        "       200          20.0851          -0.5297           11.16s"
       ]
      },
      {
       "output_type": "stream",
       "stream": "stdout",
       "text": [
        "\n",
        "       300          17.1143          -1.7496           10.29s"
       ]
      },
      {
       "output_type": "stream",
       "stream": "stdout",
       "text": [
        "\n",
        "       400          20.8345          -0.1787           10.41s"
       ]
      },
      {
       "output_type": "stream",
       "stream": "stdout",
       "text": [
        "\n",
        "       500           5.1536          -0.4464            9.90s"
       ]
      },
      {
       "output_type": "stream",
       "stream": "stdout",
       "text": [
        "\n",
        "       600           0.9410          -0.0040            9.52s"
       ]
      },
      {
       "output_type": "stream",
       "stream": "stdout",
       "text": [
        "\n",
        "       700           0.9346          -0.0274            9.21s"
       ]
      },
      {
       "output_type": "stream",
       "stream": "stdout",
       "text": [
        "\n",
        "       800           1.9410          -0.0088            8.97s"
       ]
      },
      {
       "output_type": "stream",
       "stream": "stdout",
       "text": [
        "\n",
        "       900           0.4174          -0.0360            8.74s"
       ]
      },
      {
       "output_type": "stream",
       "stream": "stdout",
       "text": [
        "\n",
        "      1000           0.7803          -0.0048            8.58s"
       ]
      },
      {
       "output_type": "stream",
       "stream": "stdout",
       "text": [
        "\n",
        "      2000           0.0057          -0.0001            7.14s"
       ]
      },
      {
       "output_type": "stream",
       "stream": "stdout",
       "text": [
        "\n",
        "      3000           0.0000          -0.0000            6.01s"
       ]
      },
      {
       "output_type": "stream",
       "stream": "stdout",
       "text": [
        "\n",
        "      4000           0.0000          -0.0000            5.07s"
       ]
      },
      {
       "output_type": "stream",
       "stream": "stdout",
       "text": [
        "\n",
        "      5000           0.0000          -0.0000            3.58s"
       ]
      },
      {
       "output_type": "stream",
       "stream": "stdout",
       "text": [
        "\n",
        "      6000           0.0000          -0.0000            2.37s"
       ]
      },
      {
       "output_type": "stream",
       "stream": "stdout",
       "text": [
        "\n",
        "      7000           0.0000          -0.0000            1.43s"
       ]
      },
      {
       "output_type": "stream",
       "stream": "stdout",
       "text": [
        "\n",
        "      8000           0.0000          -0.0000            0.66s"
       ]
      },
      {
       "output_type": "stream",
       "stream": "stdout",
       "text": [
        "\n",
        "      9000           0.0000          -0.0000            0.00s"
       ]
      },
      {
       "output_type": "stream",
       "stream": "stdout",
       "text": [
        "\n",
        "      Iter       Train Loss      OOB Improve   Remaining Time \n",
        "         1     4912756.2225      628015.3112            7.81s\n",
        "         2     4523379.6706      532292.3539            6.45s\n",
        "         3     4071965.0732      417142.4099            5.88s\n",
        "         4     3706740.3154      417002.3688            5.70s\n",
        "         5     3403822.2596      343149.9580            5.50s\n",
        "         6     2888785.2129      351281.9542            5.39s\n",
        "         7     2735591.0800      284721.3362            5.33s\n",
        "         8     2262212.0016      293670.0922            5.26s\n",
        "         9     2117037.7023      234217.9091            5.20s\n",
        "        10     1988429.5470      199650.0377            5.20s\n",
        "        20      613001.0213       75159.1109            4.95s"
       ]
      },
      {
       "output_type": "stream",
       "stream": "stdout",
       "text": [
        "\n",
        "        30      218451.0117       23185.2477            4.99s\n",
        "        40       79844.6338        7607.6882            4.90s\n",
        "        50       26213.4871        2664.7159            4.85s\n",
        "        60       10866.4733         802.6007            4.80s\n",
        "        70        5120.3785         341.6301            4.76s\n",
        "        80        3138.9745          72.7235            4.73s\n",
        "        90        1928.8631          38.9817            4.67s\n",
        "       100        1625.9741          12.8214            4.64s\n",
        "       200         355.1476          -0.4519            4.37s"
       ]
      },
      {
       "output_type": "stream",
       "stream": "stdout",
       "text": [
        "\n",
        "       300         157.6459          -0.0738            4.27s"
       ]
      },
      {
       "output_type": "stream",
       "stream": "stdout",
       "text": [
        "\n",
        "       400          61.8342          -0.6366            4.20s"
       ]
      },
      {
       "output_type": "stream",
       "stream": "stdout",
       "text": [
        "\n",
        "       500          24.3080          -0.2180            4.15s"
       ]
      },
      {
       "output_type": "stream",
       "stream": "stdout",
       "text": [
        "\n",
        "       600          13.3654          -0.1291            4.35s"
       ]
      },
      {
       "output_type": "stream",
       "stream": "stdout",
       "text": [
        "\n",
        "       700           5.9218          -0.0291            4.63s"
       ]
      },
      {
       "output_type": "stream",
       "stream": "stdout",
       "text": [
        "\n",
        "       800           3.1473          -0.0367            4.80s"
       ]
      },
      {
       "output_type": "stream",
       "stream": "stdout",
       "text": [
        "\n",
        "       900           1.7466          -0.0207            4.78s"
       ]
      },
      {
       "output_type": "stream",
       "stream": "stdout",
       "text": [
        "\n",
        "      1000           0.7588          -0.0079            4.75s"
       ]
      },
      {
       "output_type": "stream",
       "stream": "stdout",
       "text": [
        "\n",
        "      2000           0.0042          -0.0000            3.71s"
       ]
      },
      {
       "output_type": "stream",
       "stream": "stdout",
       "text": [
        "\n",
        "      3000           0.0001          -0.0000            3.04s"
       ]
      },
      {
       "output_type": "stream",
       "stream": "stdout",
       "text": [
        "\n",
        "      4000           0.0000          -0.0000            2.34s"
       ]
      },
      {
       "output_type": "stream",
       "stream": "stdout",
       "text": [
        "\n",
        "      5000           0.0000          -0.0000            1.63s"
       ]
      },
      {
       "output_type": "stream",
       "stream": "stdout",
       "text": [
        "\n",
        "      6000           0.0000          -0.0000            0.91s"
       ]
      },
      {
       "output_type": "stream",
       "stream": "stdout",
       "text": [
        "\n",
        "      7000           0.0000          -0.0000            0.28s"
       ]
      },
      {
       "output_type": "stream",
       "stream": "stdout",
       "text": [
        "\n",
        "      Iter       Train Loss      OOB Improve   Remaining Time "
       ]
      },
      {
       "output_type": "stream",
       "stream": "stdout",
       "text": [
        "\n",
        "         1     4985460.5578      623861.4642            8.10s\n",
        "         2     4361595.5071      575288.3589            6.80s\n",
        "         3     4028516.6789      508474.0751            6.45s\n",
        "         4     3730211.0868      425972.8579            6.25s\n",
        "         5     3216781.1876      369381.4643            5.99s\n",
        "         6     2912017.7657      343782.6989            5.80s\n",
        "         7     2755694.8962      287730.7336            5.66s\n",
        "         8     2261950.0076      299718.9945            5.57s\n",
        "         9     2157687.3522      243760.2114            5.53s\n",
        "        10     2045327.2230      202713.1062            5.48s\n",
        "        20      620188.2259       77380.3989            5.06s\n",
        "        30      221475.1432       25407.4645            4.95s\n",
        "        40       81558.4975        8809.0044            4.87s\n",
        "        50       26236.3238        3048.2326            4.82s\n",
        "        60       12192.2292        1026.9271            4.80s\n",
        "        70        5698.2552         338.5945            4.76s\n",
        "        80        3934.8042         121.2760            4.73s"
       ]
      },
      {
       "output_type": "stream",
       "stream": "stdout",
       "text": [
        "\n",
        "        90        2385.8380          42.3415            4.72s\n",
        "       100        1699.4206           9.0967            4.68s\n",
        "       200         465.5451          -4.6665            4.40s"
       ]
      },
      {
       "output_type": "stream",
       "stream": "stdout",
       "text": [
        "\n",
        "       300         152.3832          -1.1505            4.30s"
       ]
      },
      {
       "output_type": "stream",
       "stream": "stdout",
       "text": [
        "\n",
        "       400          71.6719          -0.4201            4.23s"
       ]
      },
      {
       "output_type": "stream",
       "stream": "stdout",
       "text": [
        "\n",
        "       500          31.2345          -0.2198            4.17s"
       ]
      },
      {
       "output_type": "stream",
       "stream": "stdout",
       "text": [
        "\n",
        "       600          13.8016          -0.0535            4.10s"
       ]
      },
      {
       "output_type": "stream",
       "stream": "stdout",
       "text": [
        "\n",
        "       700           6.9054          -0.0611            4.04s"
       ]
      },
      {
       "output_type": "stream",
       "stream": "stdout",
       "text": [
        "\n",
        "       800           3.7828          -0.0288            3.98s"
       ]
      },
      {
       "output_type": "stream",
       "stream": "stdout",
       "text": [
        "\n",
        "       900           1.8067          -0.0239            3.92s"
       ]
      },
      {
       "output_type": "stream",
       "stream": "stdout",
       "text": [
        "\n",
        "      1000           0.8517          -0.0044            3.86s"
       ]
      },
      {
       "output_type": "stream",
       "stream": "stdout",
       "text": [
        "\n",
        "      2000           0.0039          -0.0000            3.36s"
       ]
      },
      {
       "output_type": "stream",
       "stream": "stdout",
       "text": [
        "\n",
        "      3000           0.0001          -0.0000            2.93s"
       ]
      },
      {
       "output_type": "stream",
       "stream": "stdout",
       "text": [
        "\n",
        "      4000           0.0000          -0.0000            2.23s"
       ]
      },
      {
       "output_type": "stream",
       "stream": "stdout",
       "text": [
        "\n",
        "      5000           0.0000          -0.0000            1.52s"
       ]
      },
      {
       "output_type": "stream",
       "stream": "stdout",
       "text": [
        "\n",
        "      6000           0.0000          -0.0000            0.83s"
       ]
      },
      {
       "output_type": "stream",
       "stream": "stdout",
       "text": [
        "\n",
        "      7000           0.0000          -0.0000            0.25s"
       ]
      },
      {
       "output_type": "stream",
       "stream": "stdout",
       "text": [
        "\n",
        "      Iter       Train Loss      OOB Improve   Remaining Time "
       ]
      },
      {
       "output_type": "stream",
       "stream": "stdout",
       "text": [
        "\n",
        "         1     4858339.7989      640195.7711            8.06s\n",
        "         2     4575823.3415      522318.5372            6.76s\n",
        "         3     3763133.3467      528549.4568            6.23s\n",
        "         4     3701594.1920      401350.7186            6.24s\n",
        "         5     3346507.1004      362209.7291            6.05s\n",
        "         6     2912254.4031      338826.3742            5.89s\n",
        "         7     2641972.3909      294199.9469            5.74s\n",
        "         8     2320872.9731      263943.9619            5.63s\n",
        "         9     2088232.8017      220323.9658            5.56s\n",
        "        10     1947418.9582      193527.2408            5.47s\n",
        "        20      597414.8460       73959.0379            5.11s\n",
        "        30      211005.3990       25874.0116            5.01s\n",
        "        40       74605.5702        7377.6122            4.90s\n",
        "        50       26390.9525        2625.2810            4.90s\n",
        "        60        9682.1289         884.9179            4.90s\n",
        "        70        6132.8843         265.7090            4.89s\n",
        "        80        3509.1687          82.5908            4.84s"
       ]
      },
      {
       "output_type": "stream",
       "stream": "stdout",
       "text": [
        "\n",
        "        90        2181.2490          32.9450            4.89s\n",
        "       100        1549.3858           3.3694            4.84s\n",
        "       200         393.3545          -6.4696            5.24s"
       ]
      },
      {
       "output_type": "stream",
       "stream": "stdout",
       "text": [
        "\n",
        "       300         141.9986          -1.6848            4.85s"
       ]
      },
      {
       "output_type": "stream",
       "stream": "stdout",
       "text": [
        "\n",
        "       400          53.9521          -0.3400            4.64s"
       ]
      },
      {
       "output_type": "stream",
       "stream": "stdout",
       "text": [
        "\n",
        "       500          29.9859          -0.2522            4.50s"
       ]
      },
      {
       "output_type": "stream",
       "stream": "stdout",
       "text": [
        "\n",
        "       600          12.2401          -0.1107            4.39s"
       ]
      },
      {
       "output_type": "stream",
       "stream": "stdout",
       "text": [
        "\n",
        "       700           5.8648          -0.0740            4.29s"
       ]
      },
      {
       "output_type": "stream",
       "stream": "stdout",
       "text": [
        "\n",
        "       800           2.8178          -0.0256            4.20s"
       ]
      },
      {
       "output_type": "stream",
       "stream": "stdout",
       "text": [
        "\n",
        "       900           1.6141          -0.0107            4.11s"
       ]
      },
      {
       "output_type": "stream",
       "stream": "stdout",
       "text": [
        "\n",
        "      1000           0.8037          -0.0080            4.03s"
       ]
      },
      {
       "output_type": "stream",
       "stream": "stdout",
       "text": [
        "\n",
        "      2000           0.0055          -0.0001            3.35s"
       ]
      },
      {
       "output_type": "stream",
       "stream": "stdout",
       "text": [
        "\n",
        "      3000           0.0001          -0.0000            2.70s"
       ]
      },
      {
       "output_type": "stream",
       "stream": "stdout",
       "text": [
        "\n",
        "      4000           0.0000          -0.0000            2.10s"
       ]
      },
      {
       "output_type": "stream",
       "stream": "stdout",
       "text": [
        "\n",
        "      5000           0.0000          -0.0000            1.49s"
       ]
      },
      {
       "output_type": "stream",
       "stream": "stdout",
       "text": [
        "\n",
        "      6000           0.0000          -0.0000            0.82s"
       ]
      },
      {
       "output_type": "stream",
       "stream": "stdout",
       "text": [
        "\n",
        "      7000           0.0000          -0.0000            0.25s"
       ]
      },
      {
       "output_type": "stream",
       "stream": "stdout",
       "text": [
        "\n",
        "      Iter       Train Loss      OOB Improve   Remaining Time "
       ]
      },
      {
       "output_type": "stream",
       "stream": "stdout",
       "text": [
        "\n",
        "         1     5174465.3747      596406.8473            7.95s\n",
        "         2     4671898.0543      516450.2756            6.65s\n",
        "         3     4295740.7300      460794.0469            6.17s\n",
        "         4     3797662.3553      409665.2017            5.91s\n",
        "         5     3302034.4430      390544.2404            5.73s\n",
        "         6     2928604.2227      339350.6143            5.57s\n",
        "         7     2567238.1362      307801.6945            5.46s\n",
        "         8     2365923.8337      281553.0816            5.41s\n",
        "         9     2107819.5214      242093.4060            5.35s\n",
        "        10     1755238.5685      239414.6051            5.35s\n",
        "        20      581582.8414       80494.3158            5.08s\n",
        "        30      229541.0115       22487.5697            4.93s\n",
        "        40       74958.0137        7589.3100            4.87s\n",
        "        50       30240.3332        2809.5820            4.82s\n",
        "        60       12761.5043        1076.6680            4.77s\n",
        "        70        7044.8498         305.1385            4.75s\n",
        "        80        3620.3870         112.3423            4.71s"
       ]
      },
      {
       "output_type": "stream",
       "stream": "stdout",
       "text": [
        "\n",
        "        90        2731.5241          31.8127            4.70s\n",
        "       100        1710.5559          11.8143            4.68s\n",
        "       200         521.1789          -0.2679            4.38s"
       ]
      },
      {
       "output_type": "stream",
       "stream": "stdout",
       "text": [
        "\n",
        "       300         179.4594          -1.2450            4.28s"
       ]
      },
      {
       "output_type": "stream",
       "stream": "stdout",
       "text": [
        "\n",
        "       400          75.0738          -0.3580            4.20s"
       ]
      },
      {
       "output_type": "stream",
       "stream": "stdout",
       "text": [
        "\n",
        "       500          35.0428          -0.2900            4.13s"
       ]
      },
      {
       "output_type": "stream",
       "stream": "stdout",
       "text": [
        "\n",
        "       600          18.3511          -0.1200            4.07s"
       ]
      },
      {
       "output_type": "stream",
       "stream": "stdout",
       "text": [
        "\n",
        "       700           8.5495          -0.0421            4.00s"
       ]
      },
      {
       "output_type": "stream",
       "stream": "stdout",
       "text": [
        "\n",
        "       800           4.7903          -0.0272            3.95s"
       ]
      },
      {
       "output_type": "stream",
       "stream": "stdout",
       "text": [
        "\n",
        "       900           2.3651          -0.0260            3.91s"
       ]
      },
      {
       "output_type": "stream",
       "stream": "stdout",
       "text": [
        "\n",
        "      1000           1.3348          -0.0148            3.86s"
       ]
      },
      {
       "output_type": "stream",
       "stream": "stdout",
       "text": [
        "\n",
        "      2000           0.0111          -0.0002            3.23s"
       ]
      },
      {
       "output_type": "stream",
       "stream": "stdout",
       "text": [
        "\n",
        "      3000           0.0002          -0.0000            2.88s"
       ]
      },
      {
       "output_type": "stream",
       "stream": "stdout",
       "text": [
        "\n",
        "      4000           0.0000          -0.0000            2.30s"
       ]
      },
      {
       "output_type": "stream",
       "stream": "stdout",
       "text": [
        "\n",
        "      5000           0.0000          -0.0000            1.58s"
       ]
      },
      {
       "output_type": "stream",
       "stream": "stdout",
       "text": [
        "\n",
        "      6000           0.0000          -0.0000            0.87s"
       ]
      },
      {
       "output_type": "stream",
       "stream": "stdout",
       "text": [
        "\n",
        "      7000           0.0000          -0.0000            0.27s"
       ]
      },
      {
       "output_type": "stream",
       "stream": "stdout",
       "text": [
        "\n",
        "      Iter       Train Loss      OOB Improve   Remaining Time "
       ]
      },
      {
       "output_type": "stream",
       "stream": "stdout",
       "text": [
        "\n",
        "         1     5225076.1356      566242.9260            7.84s\n",
        "         2     4335513.6667      594141.6220            6.61s\n",
        "         3     4146684.7991      473963.9330            6.14s\n",
        "         4     3922395.6897      393973.4911            5.93s\n",
        "         5     3079988.4371      378946.2003            5.74s\n",
        "         6     3034964.0002      315589.3598            5.59s\n",
        "         7     2827804.6038      274768.6973            5.48s\n",
        "         8     2436664.7649      273426.8069            5.40s\n",
        "         9     2097228.7583      251830.3887            5.35s\n",
        "        10     1895393.9658      234176.4057            5.33s\n",
        "        20      639513.9780       73639.3028            5.09s\n",
        "        30      208449.3326       24876.7565            4.98s\n",
        "        40       73998.1852        9401.7699            4.96s\n",
        "        50       29445.0660        2700.6719            4.92s\n",
        "        60       13118.9713         947.9859            4.87s\n",
        "        70        5839.1265         319.3080            4.84s\n",
        "        80        3242.7947         119.9541            4.79s"
       ]
      },
      {
       "output_type": "stream",
       "stream": "stdout",
       "text": [
        "\n",
        "        90        2430.7040          42.1233            4.79s\n",
        "       100        1679.4451          13.4447            4.75s\n",
        "       200         443.1989          -0.3337            4.44s"
       ]
      },
      {
       "output_type": "stream",
       "stream": "stdout",
       "text": [
        "\n",
        "       300         150.9332          -0.8000            4.34s"
       ]
      },
      {
       "output_type": "stream",
       "stream": "stdout",
       "text": [
        "\n",
        "       400          64.7242          -0.5869            4.25s"
       ]
      },
      {
       "output_type": "stream",
       "stream": "stdout",
       "text": [
        "\n",
        "       500          30.8672          -0.4367            4.18s"
       ]
      },
      {
       "output_type": "stream",
       "stream": "stdout",
       "text": [
        "\n",
        "       600          11.2621          -0.1875            4.12s"
       ]
      },
      {
       "output_type": "stream",
       "stream": "stdout",
       "text": [
        "\n",
        "       700           5.6314          -0.0507            4.06s"
       ]
      },
      {
       "output_type": "stream",
       "stream": "stdout",
       "text": [
        "\n",
        "       800           2.8619          -0.0340            4.00s"
       ]
      },
      {
       "output_type": "stream",
       "stream": "stdout",
       "text": [
        "\n",
        "       900           1.5879          -0.0187            3.94s"
       ]
      },
      {
       "output_type": "stream",
       "stream": "stdout",
       "text": [
        "\n",
        "      1000           0.8173          -0.0063            3.88s"
       ]
      },
      {
       "output_type": "stream",
       "stream": "stdout",
       "text": [
        "\n",
        "      2000           0.0071          -0.0001            3.24s"
       ]
      },
      {
       "output_type": "stream",
       "stream": "stdout",
       "text": [
        "\n",
        "      3000           0.0002          -0.0000            2.64s"
       ]
      },
      {
       "output_type": "stream",
       "stream": "stdout",
       "text": [
        "\n",
        "      4000           0.0000          -0.0000            2.05s"
       ]
      },
      {
       "output_type": "stream",
       "stream": "stdout",
       "text": [
        "\n",
        "      5000           0.0000          -0.0000            1.45s"
       ]
      },
      {
       "output_type": "stream",
       "stream": "stdout",
       "text": [
        "\n",
        "      6000           0.0000          -0.0000            0.82s"
       ]
      },
      {
       "output_type": "stream",
       "stream": "stdout",
       "text": [
        "\n",
        "      7000           0.0000          -0.0000            0.25s"
       ]
      },
      {
       "output_type": "stream",
       "stream": "stdout",
       "text": [
        "\n",
        "      Iter       Train Loss      OOB Improve   Remaining Time "
       ]
      },
      {
       "output_type": "stream",
       "stream": "stdout",
       "text": [
        "\n",
        "         1     5333543.0744      433726.4425           11.97s\n",
        "         2     4923719.0875      398109.3937           10.37s\n",
        "         3     4298696.9645      380978.2042            9.83s\n",
        "         4     4275963.2543      336528.2997            9.68s\n",
        "         5     3598415.1892      322493.7964            9.45s\n",
        "         6     3412054.8571      297311.1348            9.19s\n",
        "         7     2922795.9197      284121.6749            9.10s\n",
        "         8     2957507.7817      249790.6335            8.98s\n",
        "         9     2554972.2116      236821.2772            8.92s\n",
        "        10     2563911.9561      209367.6208            8.84s\n",
        "        20     1173858.0057       90856.0132            8.35s\n",
        "        30      476426.8687       42139.0619            8.32s\n",
        "        40      205937.3965       18572.7663            8.30s\n",
        "        50       92521.5360        8667.0229            8.23s\n",
        "        60       46947.9058        3550.3455            8.21s"
       ]
      },
      {
       "output_type": "stream",
       "stream": "stdout",
       "text": [
        "\n",
        "        70       18299.7998        1649.6955            8.30s\n",
        "        80        7661.8693         708.5671            8.25s\n",
        "        90        4207.2546         320.7175            8.18s\n",
        "       100        2422.0242         138.8844            8.10s\n",
        "       200         221.5866          -4.3103            7.65s"
       ]
      },
      {
       "output_type": "stream",
       "stream": "stdout",
       "text": [
        "\n",
        "       300         137.5124          -0.5375            7.34s"
       ]
      },
      {
       "output_type": "stream",
       "stream": "stdout",
       "text": [
        "\n",
        "       400          47.6001          -0.3315            7.10s"
       ]
      },
      {
       "output_type": "stream",
       "stream": "stdout",
       "text": [
        "\n",
        "       500          36.3770          -0.2143            6.90s"
       ]
      },
      {
       "output_type": "stream",
       "stream": "stdout",
       "text": [
        "\n",
        "       600          35.5222          -0.4969            6.75s"
       ]
      },
      {
       "output_type": "stream",
       "stream": "stdout",
       "text": [
        "\n",
        "       700          22.7570          -0.2862            6.63s"
       ]
      },
      {
       "output_type": "stream",
       "stream": "stdout",
       "text": [
        "\n",
        "       800          11.0602          -0.0612            6.53s"
       ]
      },
      {
       "output_type": "stream",
       "stream": "stdout",
       "text": [
        "\n",
        "       900          11.5147          -0.0503            6.44s"
       ]
      },
      {
       "output_type": "stream",
       "stream": "stdout",
       "text": [
        "\n",
        "      1000           7.0193          -0.0631            6.34s"
       ]
      },
      {
       "output_type": "stream",
       "stream": "stdout",
       "text": [
        "\n",
        "      2000           0.4377          -0.0051            5.44s"
       ]
      },
      {
       "output_type": "stream",
       "stream": "stdout",
       "text": [
        "\n",
        "      3000           0.0231          -0.0001            4.65s"
       ]
      },
      {
       "output_type": "stream",
       "stream": "stdout",
       "text": [
        "\n",
        "      4000           0.0079          -0.0001            3.86s"
       ]
      },
      {
       "output_type": "stream",
       "stream": "stdout",
       "text": [
        "\n",
        "      5000           0.0019          -0.0000            3.08s"
       ]
      },
      {
       "output_type": "stream",
       "stream": "stdout",
       "text": [
        "\n",
        "      6000           0.0001          -0.0000            2.31s"
       ]
      },
      {
       "output_type": "stream",
       "stream": "stdout",
       "text": [
        "\n",
        "      7000           0.0000          -0.0000            1.54s"
       ]
      },
      {
       "output_type": "stream",
       "stream": "stdout",
       "text": [
        "\n",
        "      8000           0.0000          -0.0000            0.77s"
       ]
      },
      {
       "output_type": "stream",
       "stream": "stdout",
       "text": [
        "\n",
        "      9000           0.0000          -0.0000            0.00s"
       ]
      },
      {
       "output_type": "stream",
       "stream": "stdout",
       "text": [
        "\n",
        "      Iter       Train Loss      OOB Improve   Remaining Time "
       ]
      },
      {
       "output_type": "stream",
       "stream": "stdout",
       "text": [
        "\n",
        "         1     5722245.6159      427035.5253           12.12s\n",
        "         2     5235990.3581      394207.6423           10.51s\n",
        "         3     4340423.7062      389965.3634            9.87s\n",
        "         4     4424705.5985      343803.0173            9.84s\n",
        "         5     3736148.6952      328163.0706            9.57s\n",
        "         6     3270250.0193      313955.5150            9.35s\n",
        "         7     3449257.4727      263442.7128            9.15s\n",
        "         8     2979450.0373      254352.5529            9.02s\n",
        "         9     2707553.9208      238279.3699            8.91s\n",
        "        10     2593367.9021      212166.5497            8.82s\n",
        "        20     1249827.1281       89490.7050            8.49s\n",
        "        30      513355.7229       41386.0329            8.32s\n",
        "        40      211414.5102       19071.9234            8.25s\n",
        "        50       94987.1038        8260.5250            8.22s\n",
        "        60       45676.2051        3591.1664            8.16s"
       ]
      },
      {
       "output_type": "stream",
       "stream": "stdout",
       "text": [
        "\n",
        "        70       18872.7831        1723.8401            8.15s\n",
        "        80       10119.3297         721.8195            8.09s\n",
        "        90        4501.6198         319.3959            8.06s\n",
        "       100        2386.8466         155.0456            8.01s\n",
        "       200         176.9366          -0.6243            7.41s"
       ]
      },
      {
       "output_type": "stream",
       "stream": "stdout",
       "text": [
        "\n",
        "       300          96.2127          -0.6666            7.10s"
       ]
      },
      {
       "output_type": "stream",
       "stream": "stdout",
       "text": [
        "\n",
        "       400          38.4965          -0.3444            6.93s"
       ]
      },
      {
       "output_type": "stream",
       "stream": "stdout",
       "text": [
        "\n",
        "       500          28.7304          -0.1474            6.77s"
       ]
      },
      {
       "output_type": "stream",
       "stream": "stdout",
       "text": [
        "\n",
        "       600          21.4187          -0.1063            6.64s"
       ]
      },
      {
       "output_type": "stream",
       "stream": "stdout",
       "text": [
        "\n",
        "       700          16.4667          -0.0770            6.55s"
       ]
      },
      {
       "output_type": "stream",
       "stream": "stdout",
       "text": [
        "\n",
        "       800           7.9836          -0.0588            6.45s"
       ]
      },
      {
       "output_type": "stream",
       "stream": "stdout",
       "text": [
        "\n",
        "       900           7.5981          -0.0349            6.36s"
       ]
      },
      {
       "output_type": "stream",
       "stream": "stdout",
       "text": [
        "\n",
        "      1000           3.3693          -0.0152            6.29s"
       ]
      },
      {
       "output_type": "stream",
       "stream": "stdout",
       "text": [
        "\n",
        "      2000           0.2246          -0.0023            5.53s"
       ]
      },
      {
       "output_type": "stream",
       "stream": "stdout",
       "text": [
        "\n",
        "      3000           0.0136          -0.0001            4.83s"
       ]
      },
      {
       "output_type": "stream",
       "stream": "stdout",
       "text": [
        "\n",
        "      4000           0.0008          -0.0000            4.02s"
       ]
      },
      {
       "output_type": "stream",
       "stream": "stdout",
       "text": [
        "\n",
        "      5000           0.0001          -0.0000            3.23s"
       ]
      },
      {
       "output_type": "stream",
       "stream": "stdout",
       "text": [
        "\n",
        "      6000           0.0000          -0.0000            2.42s"
       ]
      },
      {
       "output_type": "stream",
       "stream": "stdout",
       "text": [
        "\n",
        "      7000           0.0000          -0.0000            1.60s"
       ]
      },
      {
       "output_type": "stream",
       "stream": "stdout",
       "text": [
        "\n",
        "      8000           0.0000          -0.0000            0.76s"
       ]
      },
      {
       "output_type": "stream",
       "stream": "stdout",
       "text": [
        "\n",
        "      9000           0.0000          -0.0000            0.00s"
       ]
      },
      {
       "output_type": "stream",
       "stream": "stdout",
       "text": [
        "\n",
        "      Iter       Train Loss      OOB Improve   Remaining Time "
       ]
      },
      {
       "output_type": "stream",
       "stream": "stdout",
       "text": [
        "\n",
        "         1     5054364.8122      442400.4020           11.91s\n",
        "         2     4724948.4186      410103.9089           10.20s\n",
        "         3     4601018.5334      362701.8738            9.66s\n",
        "         4     4052946.5773      347398.6357            9.24s\n",
        "         5     3659700.8597      323892.7684            9.03s\n",
        "         6     3376803.6512      299751.3289            8.96s\n",
        "         7     3276102.2010      263880.3157            8.84s\n",
        "         8     3062965.0578      243566.3237            8.78s\n",
        "         9     2754217.3562      227420.9834            8.74s\n",
        "        10     2550774.0033      209101.8738            8.67s\n",
        "        20     1144163.1406       91973.2608            8.31s\n",
        "        30      487769.9212       41425.6833            8.16s\n",
        "        40      210755.7668       19080.8981            8.07s\n",
        "        50      105056.6462        7894.6085            8.03s\n",
        "        60       41636.2048        3814.0169            8.05s"
       ]
      },
      {
       "output_type": "stream",
       "stream": "stdout",
       "text": [
        "\n",
        "        70       19131.4601        1573.3622            8.05s\n",
        "        80        8784.5895         708.8793            8.00s\n",
        "        90        4686.2026         321.4740            7.94s\n",
        "       100        2729.4009         139.8867            7.89s\n",
        "       200         218.0573          -0.2380            7.33s"
       ]
      },
      {
       "output_type": "stream",
       "stream": "stdout",
       "text": [
        "\n",
        "       300         178.2076          -0.2796            7.00s"
       ]
      },
      {
       "output_type": "stream",
       "stream": "stdout",
       "text": [
        "\n",
        "       400          70.0078          -0.9088            6.83s"
       ]
      },
      {
       "output_type": "stream",
       "stream": "stdout",
       "text": [
        "\n",
        "       500          69.0188          -1.1829            6.69s"
       ]
      },
      {
       "output_type": "stream",
       "stream": "stdout",
       "text": [
        "\n",
        "       600          22.9785          -0.1450            6.57s"
       ]
      },
      {
       "output_type": "stream",
       "stream": "stdout",
       "text": [
        "\n",
        "       700          19.9765          -0.2702            6.46s"
       ]
      },
      {
       "output_type": "stream",
       "stream": "stdout",
       "text": [
        "\n",
        "       800          45.4298          -0.1511            6.36s"
       ]
      },
      {
       "output_type": "stream",
       "stream": "stdout",
       "text": [
        "\n",
        "       900          30.4189          -0.4655            6.27s"
       ]
      },
      {
       "output_type": "stream",
       "stream": "stdout",
       "text": [
        "\n",
        "      1000          22.5151          -0.3146            6.19s"
       ]
      },
      {
       "output_type": "stream",
       "stream": "stdout",
       "text": [
        "\n",
        "      2000           0.7768          -0.0095            5.39s"
       ]
      },
      {
       "output_type": "stream",
       "stream": "stdout",
       "text": [
        "\n",
        "      3000           0.0451          -0.0004            4.64s"
       ]
      },
      {
       "output_type": "stream",
       "stream": "stdout",
       "text": [
        "\n",
        "      4000           0.0089          -0.0002            3.87s"
       ]
      },
      {
       "output_type": "stream",
       "stream": "stdout",
       "text": [
        "\n",
        "      5000           0.0009          -0.0000            3.08s"
       ]
      },
      {
       "output_type": "stream",
       "stream": "stdout",
       "text": [
        "\n",
        "      6000           0.0006          -0.0000            2.31s"
       ]
      },
      {
       "output_type": "stream",
       "stream": "stdout",
       "text": [
        "\n",
        "      7000           0.0001          -0.0000            1.54s"
       ]
      },
      {
       "output_type": "stream",
       "stream": "stdout",
       "text": [
        "\n",
        "      8000           0.0000          -0.0000            0.77s"
       ]
      },
      {
       "output_type": "stream",
       "stream": "stdout",
       "text": [
        "\n",
        "      9000           0.0000          -0.0000            0.00s"
       ]
      },
      {
       "output_type": "stream",
       "stream": "stdout",
       "text": [
        "\n",
        "      Iter       Train Loss      OOB Improve   Remaining Time "
       ]
      },
      {
       "output_type": "stream",
       "stream": "stdout",
       "text": [
        "\n",
        "         1     5105381.4446      459114.6094           11.91s\n",
        "         2     4777108.7247      421664.6473           10.17s\n",
        "         3     4342421.2603      391339.7940            9.57s\n",
        "         4     4256575.3550      347139.1966            9.19s\n",
        "         5     3925024.7044      320057.0217            8.98s\n",
        "         6     3775355.8041      283075.9207            8.84s\n",
        "         7     3228090.0421      272474.3186            8.73s\n",
        "         8     2900889.0094      259342.9106            8.66s\n",
        "         9     2760996.5339      233636.4409            8.60s\n",
        "        10     2613520.5495      208352.3408            8.56s\n",
        "        20     1153579.7010       93752.6971            8.34s\n",
        "        30      438754.0890       45955.2671            8.21s\n",
        "        40      233252.0824       18872.6384            8.11s\n",
        "        50      104996.6692        8071.5527            8.10s\n",
        "        60       50713.8002        3418.3407            8.04s"
       ]
      },
      {
       "output_type": "stream",
       "stream": "stdout",
       "text": [
        "\n",
        "        70       23024.3207        1567.3907            8.04s\n",
        "        80        9312.7015         724.0732            7.97s\n",
        "        90        5015.8350         318.3099            7.93s\n",
        "       100        1940.1797         138.5663            7.89s\n",
        "       200         239.1776          -4.8854            7.28s"
       ]
      },
      {
       "output_type": "stream",
       "stream": "stdout",
       "text": [
        "\n",
        "       300          93.7671          -1.2850            6.93s"
       ]
      },
      {
       "output_type": "stream",
       "stream": "stdout",
       "text": [
        "\n",
        "       400         107.9785           0.5059            6.76s"
       ]
      },
      {
       "output_type": "stream",
       "stream": "stdout",
       "text": [
        "\n",
        "       500          52.5648          -0.5655            6.61s"
       ]
      },
      {
       "output_type": "stream",
       "stream": "stdout",
       "text": [
        "\n",
        "       600          24.0215          -0.0220            6.50s"
       ]
      },
      {
       "output_type": "stream",
       "stream": "stdout",
       "text": [
        "\n",
        "       700         124.0691          -0.1144            6.40s"
       ]
      },
      {
       "output_type": "stream",
       "stream": "stdout",
       "text": [
        "\n",
        "       800          57.7778          -0.8219            6.32s"
       ]
      },
      {
       "output_type": "stream",
       "stream": "stdout",
       "text": [
        "\n",
        "       900          43.9805          -0.3804            6.23s"
       ]
      },
      {
       "output_type": "stream",
       "stream": "stdout",
       "text": [
        "\n",
        "      1000          41.5139          -0.3752            6.14s"
       ]
      },
      {
       "output_type": "stream",
       "stream": "stdout",
       "text": [
        "\n",
        "      2000           2.1996          -0.0548            5.39s"
       ]
      },
      {
       "output_type": "stream",
       "stream": "stdout",
       "text": [
        "\n",
        "      3000           0.2507          -0.0017            4.63s"
       ]
      },
      {
       "output_type": "stream",
       "stream": "stdout",
       "text": [
        "\n",
        "      4000           0.0306          -0.0001            3.87s"
       ]
      },
      {
       "output_type": "stream",
       "stream": "stdout",
       "text": [
        "\n",
        "      5000           0.0040          -0.0000            3.08s"
       ]
      },
      {
       "output_type": "stream",
       "stream": "stdout",
       "text": [
        "\n",
        "      6000           0.0004          -0.0000            2.31s"
       ]
      },
      {
       "output_type": "stream",
       "stream": "stdout",
       "text": [
        "\n",
        "      7000           0.0001          -0.0000            1.54s"
       ]
      },
      {
       "output_type": "stream",
       "stream": "stdout",
       "text": [
        "\n",
        "      8000           0.0000          -0.0000            0.78s"
       ]
      },
      {
       "output_type": "stream",
       "stream": "stdout",
       "text": [
        "\n",
        "      9000           0.0000          -0.0000            0.00s"
       ]
      },
      {
       "output_type": "stream",
       "stream": "stdout",
       "text": [
        "\n",
        "      Iter       Train Loss      OOB Improve   Remaining Time "
       ]
      },
      {
       "output_type": "stream",
       "stream": "stdout",
       "text": [
        "\n",
        "         1     5175862.8141      456807.1222           11.82s\n",
        "         2     4606522.2109      431200.0057           10.34s\n",
        "         3     4837978.1739      362911.5026           10.07s\n",
        "         4     3842198.0259      367456.5662            9.69s\n",
        "         5     3720843.5354      330365.3277            9.70s\n",
        "         6     3432114.4457      304154.9823            9.54s\n",
        "         7     3074677.9295      285364.2217            9.36s\n",
        "         8     3139860.2528      244598.6487            9.22s\n",
        "         9     2668521.9613      239599.5939            9.10s\n",
        "        10     2547862.2273      213549.8236            9.02s\n",
        "        20     1110640.9883       95398.3290            8.50s\n",
        "        30      509942.4201       41611.4111            8.31s\n",
        "        40      223331.6495       18643.8775            8.31s\n",
        "        50      108369.8454        7784.0863            8.88s\n",
        "        60       41840.5535        3717.0113            8.73s"
       ]
      },
      {
       "output_type": "stream",
       "stream": "stdout",
       "text": [
        "\n",
        "        70       19337.2072        1670.5390            9.04s\n",
        "        80       10642.4601         667.2705            9.35s\n",
        "        90        5121.4402         307.4303            9.59s\n",
        "       100        2085.8062         143.2312            9.80s"
       ]
      },
      {
       "output_type": "stream",
       "stream": "stdout",
       "text": [
        "\n",
        "       200         175.3692          -5.0635            9.69s"
       ]
      },
      {
       "output_type": "stream",
       "stream": "stdout",
       "text": [
        "\n",
        "       300         248.5541          -0.5180            9.24s"
       ]
      },
      {
       "output_type": "stream",
       "stream": "stdout",
       "text": [
        "\n",
        "       400         112.2134          -0.9151            8.49s"
       ]
      },
      {
       "output_type": "stream",
       "stream": "stdout",
       "text": [
        "\n",
        "       500          46.4910          -0.7681            8.02s"
       ]
      },
      {
       "output_type": "stream",
       "stream": "stdout",
       "text": [
        "\n",
        "       600          57.2853          -0.7808            7.70s"
       ]
      },
      {
       "output_type": "stream",
       "stream": "stdout",
       "text": [
        "\n",
        "       700          25.6574          -0.3073            7.44s"
       ]
      },
      {
       "output_type": "stream",
       "stream": "stdout",
       "text": [
        "\n",
        "       800          32.9931          -0.2205            7.23s"
       ]
      },
      {
       "output_type": "stream",
       "stream": "stdout",
       "text": [
        "\n",
        "       900          11.6300          -0.1314            7.05s"
       ]
      },
      {
       "output_type": "stream",
       "stream": "stdout",
       "text": [
        "\n",
        "      1000           7.2984          -0.0682            6.87s"
       ]
      },
      {
       "output_type": "stream",
       "stream": "stdout",
       "text": [
        "\n",
        "      2000           1.2261          -0.0365            5.81s"
       ]
      },
      {
       "output_type": "stream",
       "stream": "stdout",
       "text": [
        "\n",
        "      3000           0.4446          -0.0026            4.85s"
       ]
      },
      {
       "output_type": "stream",
       "stream": "stdout",
       "text": [
        "\n",
        "      4000           0.0345          -0.0007            4.00s"
       ]
      },
      {
       "output_type": "stream",
       "stream": "stdout",
       "text": [
        "\n",
        "      5000           0.0217          -0.0003            3.17s"
       ]
      },
      {
       "output_type": "stream",
       "stream": "stdout",
       "text": [
        "\n",
        "      6000           0.0062          -0.0000            2.38s"
       ]
      },
      {
       "output_type": "stream",
       "stream": "stdout",
       "text": [
        "\n",
        "      7000           0.0003          -0.0000            1.59s"
       ]
      },
      {
       "output_type": "stream",
       "stream": "stdout",
       "text": [
        "\n",
        "      8000           0.0000          -0.0000            0.79s"
       ]
      },
      {
       "output_type": "stream",
       "stream": "stdout",
       "text": [
        "\n",
        "      9000           0.0000          -0.0000            0.00s"
       ]
      },
      {
       "output_type": "stream",
       "stream": "stdout",
       "text": [
        "\n",
        "      Iter       Train Loss      OOB Improve   Remaining Time "
       ]
      },
      {
       "output_type": "stream",
       "stream": "stdout",
       "text": [
        "\n",
        "         1     5212460.1654      333168.6654            9.49s\n",
        "         2     5260341.8500      307418.5676            7.69s\n",
        "         3     5048343.5156      285359.0055            7.01s\n",
        "         4     4081297.6346      285178.0157            6.61s\n",
        "         5     4409317.0134      256284.5195            6.40s\n",
        "         6     3588041.9964      249381.4625            6.24s\n",
        "         7     3893299.9764      226047.5905            6.12s\n",
        "         8     3810743.3145      210673.0544            6.02s\n",
        "         9     3205283.8717      202504.7837            5.93s\n",
        "        10     3171562.2416      191718.8031            5.88s\n",
        "        20     1922337.5506       99789.3219            5.55s\n",
        "        30      800820.5602       58033.8567            5.48s\n",
        "        40      493821.1420       31782.9859            5.38s\n",
        "        50      281525.3474       17228.9496            5.31s\n",
        "        60      159547.1204        9929.3835            5.28s\n",
        "        70       80324.1398        4994.3822            5.25s\n",
        "        80       47034.0485        2831.7506            5.22s\n",
        "        90       31912.3336        1501.2960            5.30s\n",
        "       100       13230.8470         876.8876            5.39s"
       ]
      },
      {
       "output_type": "stream",
       "stream": "stdout",
       "text": [
        "\n",
        "       200        1497.1256           5.3858            6.26s"
       ]
      },
      {
       "output_type": "stream",
       "stream": "stdout",
       "text": [
        "\n",
        "       300        3099.6823           2.1612            6.22s"
       ]
      },
      {
       "output_type": "stream",
       "stream": "stdout",
       "text": [
        "\n",
        "       400         624.9896          -2.6117            6.31s"
       ]
      },
      {
       "output_type": "stream",
       "stream": "stdout",
       "text": [
        "\n",
        "       500         755.4645          -1.6913            6.05s"
       ]
      },
      {
       "output_type": "stream",
       "stream": "stdout",
       "text": [
        "\n",
        "       600         284.7354          -2.2771            5.75s\n",
        "       700         199.3551          -0.8011            5.49s"
       ]
      },
      {
       "output_type": "stream",
       "stream": "stdout",
       "text": [
        "\n",
        "       800        1248.5566          -4.4636            5.30s\n",
        "       900        1534.8654          -5.4081            5.13s"
       ]
      },
      {
       "output_type": "stream",
       "stream": "stdout",
       "text": [
        "\n",
        "      1000         352.3162          -0.3629            5.00s\n",
        "      2000         201.0536          -0.7788            4.15s"
       ]
      },
      {
       "output_type": "stream",
       "stream": "stdout",
       "text": [
        "\n",
        "      3000          19.6870          -0.0475            3.50s"
       ]
      },
      {
       "output_type": "stream",
       "stream": "stdout",
       "text": [
        "\n",
        "      4000          12.1649          -0.2040            2.95s"
       ]
      },
      {
       "output_type": "stream",
       "stream": "stdout",
       "text": [
        "\n",
        "      5000         395.8246          -1.5992            2.43s"
       ]
      },
      {
       "output_type": "stream",
       "stream": "stdout",
       "text": [
        "\n",
        "      6000          10.5305           0.0717            1.93s"
       ]
      },
      {
       "output_type": "stream",
       "stream": "stdout",
       "text": [
        "\n",
        "      7000          51.8748          -0.1460            1.45s"
       ]
      },
      {
       "output_type": "stream",
       "stream": "stdout",
       "text": [
        "\n",
        "      8000           2.9631           0.0002            0.96s"
       ]
      },
      {
       "output_type": "stream",
       "stream": "stdout",
       "text": [
        "\n",
        "      9000          35.3777          -0.0378            0.48s"
       ]
      },
      {
       "output_type": "stream",
       "stream": "stdout",
       "text": [
        "\n",
        "     10000           1.7848           0.0099            0.00s"
       ]
      },
      {
       "output_type": "stream",
       "stream": "stdout",
       "text": [
        "\n",
        "      Iter       Train Loss      OOB Improve   Remaining Time \n",
        "         1     5006138.0331      343059.3259            9.84s\n",
        "         2     4815779.2746      320645.4232            7.77s\n",
        "         3     4762040.7931      302896.1147            7.01s\n",
        "         4     4320878.8952      286386.2995            6.65s\n",
        "         5     4571276.3182      258360.0364            6.42s\n",
        "         6     4166374.7394      247621.7317            6.29s\n",
        "         7     4141900.4417      228251.3239            6.17s"
       ]
      },
      {
       "output_type": "stream",
       "stream": "stdout",
       "text": [
        "\n",
        "         8     3911432.1662      217132.6394            6.46s\n",
        "         9     3320407.9685      205134.7305            6.38s\n",
        "        10     3140855.6435      196736.1238            6.29s\n",
        "        20     1630466.0423      106753.4757            5.76s\n",
        "        30     1019799.4100       56893.4908            5.62s\n",
        "        40      498123.2862       31676.3579            5.48s\n",
        "        50      276623.4517       17751.8165            5.39s\n",
        "        60      156080.3623        9299.8714            5.35s\n",
        "        70       89867.6518        4909.7360            5.30s\n",
        "        80       49125.4938        2849.6761            5.27s\n",
        "        90       22319.9273        1440.3006            5.24s\n",
        "       100       16749.5150         935.5578            5.24s\n",
        "       200        1648.9582          10.3121            4.97s"
       ]
      },
      {
       "output_type": "stream",
       "stream": "stdout",
       "text": [
        "\n",
        "       300        1002.7886          -0.3285            4.84s\n",
        "       400         385.3090          -3.2539            4.70s"
       ]
      },
      {
       "output_type": "stream",
       "stream": "stdout",
       "text": [
        "\n",
        "       500        1029.2006          -0.5856            4.62s\n",
        "       600         282.7519          -2.4380            4.53s"
       ]
      },
      {
       "output_type": "stream",
       "stream": "stdout",
       "text": [
        "\n",
        "       700         170.7525          -0.3494            4.47s\n",
        "       800         688.4465          -0.2869            4.40s"
       ]
      },
      {
       "output_type": "stream",
       "stream": "stdout",
       "text": [
        "\n",
        "       900         345.5810          -0.3809            4.34s\n",
        "      1000         138.8045          -0.3663            4.29s"
       ]
      },
      {
       "output_type": "stream",
       "stream": "stdout",
       "text": [
        "\n",
        "      2000          66.7392          -0.2229            3.77s"
       ]
      },
      {
       "output_type": "stream",
       "stream": "stdout",
       "text": [
        "\n",
        "      3000          30.5234          -0.0404            3.29s"
       ]
      },
      {
       "output_type": "stream",
       "stream": "stdout",
       "text": [
        "\n",
        "      4000          12.0285          -0.0194            2.82s"
       ]
      },
      {
       "output_type": "stream",
       "stream": "stdout",
       "text": [
        "\n",
        "      5000           6.5019          -0.0142            2.35s"
       ]
      },
      {
       "output_type": "stream",
       "stream": "stdout",
       "text": [
        "\n",
        "      6000          22.6521          -0.0562            1.89s"
       ]
      },
      {
       "output_type": "stream",
       "stream": "stdout",
       "text": [
        "\n",
        "      7000           2.3011          -0.0093            1.42s"
       ]
      },
      {
       "output_type": "stream",
       "stream": "stdout",
       "text": [
        "\n",
        "      8000           3.3316          -0.0103            0.95s"
       ]
      },
      {
       "output_type": "stream",
       "stream": "stdout",
       "text": [
        "\n",
        "      9000           1.0038          -0.0037            0.47s"
       ]
      },
      {
       "output_type": "stream",
       "stream": "stdout",
       "text": [
        "\n",
        "     10000           0.7127          -0.0034            0.00s"
       ]
      },
      {
       "output_type": "stream",
       "stream": "stdout",
       "text": [
        "\n",
        "      Iter       Train Loss      OOB Improve   Remaining Time \n",
        "         1     5278752.7741      336351.4658            8.79s\n",
        "         2     4751367.6173      315236.4642            7.19s\n",
        "         3     4819678.3827      288308.3480            6.61s\n",
        "         4     4720879.9895      271613.8008            6.29s"
       ]
      },
      {
       "output_type": "stream",
       "stream": "stdout",
       "text": [
        "\n",
        "         5     4422180.5666      256030.4205            6.65s\n",
        "         6     3970986.3221      242154.7964            6.50s\n",
        "         7     4157033.5580      225867.9810            6.37s\n",
        "         8     3634839.0670      217068.3982            6.26s\n",
        "         9     2952199.0262      207816.5959            6.22s\n",
        "        10     3612923.5405      186571.4104            6.25s\n",
        "        20     1613717.0376      106015.1128            6.05s\n",
        "        30     1079218.0795       54725.4649            5.75s\n",
        "        40      606719.5107       30666.1398            5.59s\n",
        "        50      299291.2430       16413.7568            5.53s\n",
        "        60      153507.7787        9397.1246            5.45s\n",
        "        70       73251.9250        5000.4637            5.38s\n",
        "        80       43615.2451        2712.6654            5.37s\n",
        "        90       28330.6152        1461.9720            5.33s\n",
        "       100       20196.2452         911.6326            5.29s"
       ]
      },
      {
       "output_type": "stream",
       "stream": "stdout",
       "text": [
        "\n",
        "       200         969.6578           7.7797            5.03s\n",
        "       300        2112.0199          -2.6756            4.79s"
       ]
      },
      {
       "output_type": "stream",
       "stream": "stdout",
       "text": [
        "\n",
        "       400         322.6388          -2.9848            4.69s\n",
        "       500         629.6378          -0.5854            4.57s"
       ]
      },
      {
       "output_type": "stream",
       "stream": "stdout",
       "text": [
        "\n",
        "       600         666.8602          -2.2070            4.49s\n",
        "       700        1666.7964          -2.6345            4.42s"
       ]
      },
      {
       "output_type": "stream",
       "stream": "stdout",
       "text": [
        "\n",
        "       800         646.4178          -1.7848            4.37s\n",
        "       900         257.2167          -1.2351            4.30s"
       ]
      },
      {
       "output_type": "stream",
       "stream": "stdout",
       "text": [
        "\n",
        "      1000         107.3622          -0.1051            4.26s\n",
        "      2000          86.0177           0.0241            3.75s"
       ]
      },
      {
       "output_type": "stream",
       "stream": "stdout",
       "text": [
        "\n",
        "      3000          19.2846          -0.0961            3.33s"
       ]
      },
      {
       "output_type": "stream",
       "stream": "stdout",
       "text": [
        "\n",
        "      4000          45.9745          -0.2648            2.84s"
       ]
      },
      {
       "output_type": "stream",
       "stream": "stdout",
       "text": [
        "\n",
        "      5000          17.2188           0.0991            2.37s"
       ]
      },
      {
       "output_type": "stream",
       "stream": "stdout",
       "text": [
        "\n",
        "      6000         137.2911          -0.7905            1.89s"
       ]
      },
      {
       "output_type": "stream",
       "stream": "stdout",
       "text": [
        "\n",
        "      7000           3.1923          -0.0103            1.42s"
       ]
      },
      {
       "output_type": "stream",
       "stream": "stdout",
       "text": [
        "\n",
        "      8000          21.6573          -0.1049            0.95s"
       ]
      },
      {
       "output_type": "stream",
       "stream": "stdout",
       "text": [
        "\n",
        "      9000          75.1636          -0.2309            0.48s"
       ]
      },
      {
       "output_type": "stream",
       "stream": "stdout",
       "text": [
        "\n",
        "     10000          63.0068          -0.1280            0.00s"
       ]
      },
      {
       "output_type": "stream",
       "stream": "stdout",
       "text": [
        "\n",
        "      Iter       Train Loss      OOB Improve   Remaining Time \n",
        "         1     5570453.2199      331281.5703            8.88s\n",
        "         2     5099629.1620      319358.0580            7.14s\n",
        "         3     4672497.3536      299598.7723            6.53s\n",
        "         4     4713566.5855      281539.0289            6.24s\n",
        "         5     4279320.3462      264031.7783            6.08s\n",
        "         6     3933788.0339      248399.3386            5.95s\n",
        "         7     3562128.9975      235892.8888            5.86s\n",
        "         8     3964994.0340      213740.8555            5.79s\n",
        "         9     3316081.4842      210642.5935            5.74s"
       ]
      },
      {
       "output_type": "stream",
       "stream": "stdout",
       "text": [
        "\n",
        "        10     3207513.1548      192971.7199            6.06s\n",
        "        20     1635770.2970      108456.9286            5.66s\n",
        "        30      991630.9213       59093.4760            5.50s\n",
        "        40      543156.8580       32082.9026            5.38s\n",
        "        50      261684.1950       17560.8294            5.31s\n",
        "        60      156203.0228        9250.9565            5.28s\n",
        "        70      109559.8879        4980.1753            5.26s\n",
        "        80       41509.1360        2799.2547            5.22s\n",
        "        90       24277.9027        1500.3809            5.19s\n",
        "       100       11933.4470         877.8507            5.19s\n",
        "       200         759.6174          -4.3932            4.95s"
       ]
      },
      {
       "output_type": "stream",
       "stream": "stdout",
       "text": [
        "\n",
        "       300         610.3851          -7.6941            4.77s\n",
        "       400         433.8851          -5.3962            4.64s"
       ]
      },
      {
       "output_type": "stream",
       "stream": "stdout",
       "text": [
        "\n",
        "       500         668.8057          -2.4463            4.56s\n",
        "       600         196.1602           0.3910            4.48s"
       ]
      },
      {
       "output_type": "stream",
       "stream": "stdout",
       "text": [
        "\n",
        "       700         142.5995           0.2515            4.42s\n",
        "       800        2361.8809          -2.1953            4.36s"
       ]
      },
      {
       "output_type": "stream",
       "stream": "stdout",
       "text": [
        "\n",
        "       900        2102.3195          -0.9011            4.31s\n",
        "      1000         249.5575          -4.4166            4.25s"
       ]
      },
      {
       "output_type": "stream",
       "stream": "stdout",
       "text": [
        "\n",
        "      2000         115.8328          -0.8354            3.72s"
       ]
      },
      {
       "output_type": "stream",
       "stream": "stdout",
       "text": [
        "\n",
        "      3000          32.0239           0.0134            3.25s"
       ]
      },
      {
       "output_type": "stream",
       "stream": "stdout",
       "text": [
        "\n",
        "      4000          29.7061          -0.0715            2.80s"
       ]
      },
      {
       "output_type": "stream",
       "stream": "stdout",
       "text": [
        "\n",
        "      5000          98.6275          -0.7097            2.37s"
       ]
      },
      {
       "output_type": "stream",
       "stream": "stdout",
       "text": [
        "\n",
        "      6000           8.6465           0.1825            1.94s"
       ]
      },
      {
       "output_type": "stream",
       "stream": "stdout",
       "text": [
        "\n",
        "      7000          13.4808          -0.0030            1.47s"
       ]
      },
      {
       "output_type": "stream",
       "stream": "stdout",
       "text": [
        "\n",
        "      8000          90.4907          -0.2352            0.99s"
       ]
      },
      {
       "output_type": "stream",
       "stream": "stdout",
       "text": [
        "\n",
        "      9000          41.4649          -0.1133            0.49s"
       ]
      },
      {
       "output_type": "stream",
       "stream": "stdout",
       "text": [
        "\n",
        "     10000           4.4719           0.0106            0.00s"
       ]
      },
      {
       "output_type": "stream",
       "stream": "stdout",
       "text": [
        "\n",
        "      Iter       Train Loss      OOB Improve   Remaining Time \n",
        "         1     5610176.8973      329710.9347            9.38s\n",
        "         2     5064497.4210      317005.9988            7.46s\n",
        "         3     4862825.2525      297561.6593            6.77s\n",
        "         4     4251163.9442      286111.7496            6.40s\n",
        "         5     5127371.4234      252746.3572            6.19s\n",
        "         6     4177747.4074      244636.4937            6.05s\n",
        "         7     3634642.5193      231672.3488            5.97s\n",
        "         8     2974761.9356      229155.7283            5.87s\n",
        "         9     3262934.7754      208435.0822            5.81s"
       ]
      },
      {
       "output_type": "stream",
       "stream": "stdout",
       "text": [
        "\n",
        "        10     3039054.0201      195835.3899            6.02s\n",
        "        20     1769420.9304      107616.1408            5.62s\n",
        "        30     1117597.1733       55696.0110            5.46s\n",
        "        40      493851.6906       31974.7831            5.48s\n",
        "        50      275783.5726       17678.8485            5.39s\n",
        "        60      172194.5502        9161.0678            5.34s\n",
        "        70       91383.7397        5054.7141            5.31s\n",
        "        80       38713.4802        2861.4504            5.27s\n",
        "        90       24212.4844        1437.6606            5.26s\n",
        "       100       12965.8324         797.8559            5.26s\n",
        "       200        1652.2870         -10.9057            4.97s"
       ]
      },
      {
       "output_type": "stream",
       "stream": "stdout",
       "text": [
        "\n",
        "       300        1286.9497          -9.5199            4.80s\n",
        "       400        1077.5265          -1.3119            4.66s"
       ]
      },
      {
       "output_type": "stream",
       "stream": "stdout",
       "text": [
        "\n",
        "       500         272.8199          -1.8729            4.57s\n",
        "       600         916.2412           1.0526            4.50s"
       ]
      },
      {
       "output_type": "stream",
       "stream": "stdout",
       "text": [
        "\n",
        "       700         248.2113          -1.3252            4.44s\n",
        "       800         150.0788          -0.6348            4.37s"
       ]
      },
      {
       "output_type": "stream",
       "stream": "stdout",
       "text": [
        "\n",
        "       900         849.2834          -1.4153            4.32s\n",
        "      1000         382.0639          -3.3445            4.26s"
       ]
      },
      {
       "output_type": "stream",
       "stream": "stdout",
       "text": [
        "\n",
        "      2000          66.9501          -0.1688            3.76s"
       ]
      },
      {
       "output_type": "stream",
       "stream": "stdout",
       "text": [
        "\n",
        "      3000          37.4932          -0.0928            3.28s"
       ]
      },
      {
       "output_type": "stream",
       "stream": "stdout",
       "text": [
        "\n",
        "      4000          18.0099          -0.0125            2.83s"
       ]
      },
      {
       "output_type": "stream",
       "stream": "stdout",
       "text": [
        "\n",
        "      5000          20.2840          -0.0093            2.39s"
       ]
      },
      {
       "output_type": "stream",
       "stream": "stdout",
       "text": [
        "\n",
        "      6000           8.1852          -0.1050            1.91s"
       ]
      },
      {
       "output_type": "stream",
       "stream": "stdout",
       "text": [
        "\n",
        "      7000           4.4442           0.0171            1.43s"
       ]
      },
      {
       "output_type": "stream",
       "stream": "stdout",
       "text": [
        "\n",
        "      8000           9.5771           0.0037            0.95s"
       ]
      },
      {
       "output_type": "stream",
       "stream": "stdout",
       "text": [
        "\n",
        "      9000           1.2411          -0.0075            0.47s"
       ]
      },
      {
       "output_type": "stream",
       "stream": "stdout",
       "text": [
        "\n",
        "     10000           0.8457           0.0012            0.00s"
       ]
      },
      {
       "output_type": "stream",
       "stream": "stderr",
       "text": [
        "[Parallel(n_jobs=1)]: Done   1 jobs       | elapsed:    6.7s\n",
        "[Parallel(n_jobs=1)]: Done  50 jobs       | elapsed:  4.3min\n"
       ]
      },
      {
       "output_type": "stream",
       "stream": "stdout",
       "text": [
        "\n",
        "      Iter       Train Loss      OOB Improve   Remaining Time "
       ]
      },
      {
       "output_type": "stream",
       "stream": "stdout",
       "text": [
        "\n",
        "         1     5513770.4758      254401.8625           27.21s\n",
        "         2     5047615.2758      317230.5635           25.12s\n",
        "         3     4717214.4718      320371.7861           24.38s\n",
        "         4     4516694.7375      256013.8649           24.12s\n",
        "         5     4294872.1517      215289.7559           23.71s\n",
        "         6     4025633.7859      211789.0244           23.52s\n",
        "         7     3757002.3133      216331.0155           23.38s\n",
        "         8     3519319.3800      211476.4691           23.22s\n",
        "         9     3371359.8035      167222.3041           23.11s\n",
        "        10     3118429.0288      185298.8598           22.98s\n",
        "        20     1690310.8431      105154.4859           23.10s\n",
        "        30      925036.4802       53387.5414           23.00s"
       ]
      },
      {
       "output_type": "stream",
       "stream": "stdout",
       "text": [
        "\n",
        "        40      499674.3455       31218.1034           22.81s\n",
        "        50      270390.1554       17865.1605           22.60s\n",
        "        60      149342.0405        8373.4318           22.52s"
       ]
      },
      {
       "output_type": "stream",
       "stream": "stdout",
       "text": [
        "\n",
        "        70       81309.9409        4587.1440           22.47s\n",
        "        80       42814.2597        3345.0604           22.47s\n",
        "        90       23758.8843        1518.2719           22.40s"
       ]
      },
      {
       "output_type": "stream",
       "stream": "stdout",
       "text": [
        "\n",
        "       100       12973.0518         758.7686           22.40s\n",
        "       200          67.4319           1.5100           21.55s"
       ]
      },
      {
       "output_type": "stream",
       "stream": "stdout",
       "text": [
        "\n",
        "       300          17.4077          -1.0051           20.24s"
       ]
      },
      {
       "output_type": "stream",
       "stream": "stdout",
       "text": [
        "\n",
        "       400          12.8202          -0.0696           18.84s"
       ]
      },
      {
       "output_type": "stream",
       "stream": "stdout",
       "text": [
        "\n",
        "       500           7.7722           0.0033           17.82s"
       ]
      },
      {
       "output_type": "stream",
       "stream": "stdout",
       "text": [
        "\n",
        "       600           5.5340          -0.0136           17.14s"
       ]
      },
      {
       "output_type": "stream",
       "stream": "stdout",
       "text": [
        "\n",
        "       700           3.5135          -0.0015           16.63s"
       ]
      },
      {
       "output_type": "stream",
       "stream": "stdout",
       "text": [
        "\n",
        "       800           2.2816          -0.0003           16.21s"
       ]
      },
      {
       "output_type": "stream",
       "stream": "stdout",
       "text": [
        "\n",
        "       900           1.5491          -0.0008           15.85s"
       ]
      },
      {
       "output_type": "stream",
       "stream": "stdout",
       "text": [
        "\n",
        "      1000           0.5534          -0.0880           15.51s"
       ]
      },
      {
       "output_type": "stream",
       "stream": "stdout",
       "text": [
        "\n",
        "      2000           0.0358          -0.0000           13.29s"
       ]
      },
      {
       "output_type": "stream",
       "stream": "stdout",
       "text": [
        "\n",
        "      3000           0.0011          -0.0000           11.63s"
       ]
      },
      {
       "output_type": "stream",
       "stream": "stdout",
       "text": [
        "\n",
        "      4000           0.0000          -0.0000           10.02s"
       ]
      },
      {
       "output_type": "stream",
       "stream": "stdout",
       "text": [
        "\n",
        "      5000           0.0000          -0.0000            8.38s"
       ]
      },
      {
       "output_type": "stream",
       "stream": "stdout",
       "text": [
        "\n",
        "      6000           0.0000          -0.0000            6.69s"
       ]
      },
      {
       "output_type": "stream",
       "stream": "stdout",
       "text": [
        "\n",
        "      7000           0.0000          -0.0000            4.72s"
       ]
      },
      {
       "output_type": "stream",
       "stream": "stdout",
       "text": [
        "\n",
        "      8000           0.0000          -0.0000            2.82s"
       ]
      },
      {
       "output_type": "stream",
       "stream": "stdout",
       "text": [
        "\n",
        "      9000           0.0000          -0.0000            1.28s"
       ]
      },
      {
       "output_type": "stream",
       "stream": "stdout",
       "text": [
        "\n",
        "     10000           0.0000          -0.0000            0.00s"
       ]
      },
      {
       "output_type": "stream",
       "stream": "stdout",
       "text": [
        "\n",
        "Best hyperparameters: {'learning_rate': 0.03, 'min_samples_leaf': 4, 'n_estimators': 10000, 'subsample': 0.9, 'max_features': 6, 'max_depth': 7}\n",
        "      Iter       Train Loss      OOB Improve   Remaining Time \n",
        "         1     5318991.3891      375208.0729           26.03s\n",
        "         2     5068235.9665      308634.2354           24.32s\n",
        "         3     4713306.3105      320558.8703           23.66s\n",
        "         4     4444617.9401      293997.5728           23.28s\n",
        "         5     4228439.8884      251969.8615           23.04s\n",
        "         6     4047088.0813      199966.7197           22.70s\n",
        "         7     3724022.5885      234535.9975           22.57s\n",
        "         8     3518038.9577      212563.3815           22.48s\n",
        "         9     3343364.4826      181751.7815           22.41s\n",
        "        10     3121435.6559      184712.6263           22.41s\n",
        "        20     1662487.8922      119612.4820           22.20s"
       ]
      },
      {
       "output_type": "stream",
       "stream": "stdout",
       "text": [
        "\n",
        "        30      922891.1380       55117.7843           22.37s\n",
        "        40      503923.3151       28732.1122           22.49s\n",
        "        50      268336.0376       18963.3410           22.35s"
       ]
      },
      {
       "output_type": "stream",
       "stream": "stdout",
       "text": [
        "\n",
        "        60      149384.2222        8330.3719           22.29s\n",
        "        70       81250.6814        4566.8925           22.25s\n",
        "        80       42677.5551        3354.9277           22.18s"
       ]
      },
      {
       "output_type": "stream",
       "stream": "stdout",
       "text": [
        "\n",
        "        90       24086.0086        1347.9394           22.19s\n",
        "       100       12895.4658         860.0848           22.13s\n",
        "       200          33.8311          -0.4038           21.47s"
       ]
      },
      {
       "output_type": "stream",
       "stream": "stdout",
       "text": [
        "\n",
        "       300          25.7864          -0.0531           20.08s"
       ]
      },
      {
       "output_type": "stream",
       "stream": "stdout",
       "text": [
        "\n",
        "       400          15.3630          -0.1272           18.70s"
       ]
      },
      {
       "output_type": "stream",
       "stream": "stdout",
       "text": [
        "\n",
        "       500           9.8933          -0.0005           17.69s"
       ]
      },
      {
       "output_type": "stream",
       "stream": "stdout",
       "text": [
        "\n",
        "       600           4.9491          -0.2202           17.11s"
       ]
      },
      {
       "output_type": "stream",
       "stream": "stdout",
       "text": [
        "\n",
        "       700           4.1573          -0.0010           16.54s"
       ]
      },
      {
       "output_type": "stream",
       "stream": "stdout",
       "text": [
        "\n",
        "       800           2.6579          -0.0006           16.08s"
       ]
      },
      {
       "output_type": "stream",
       "stream": "stdout",
       "text": [
        "\n",
        "       900           1.6994           0.0004           15.69s"
       ]
      },
      {
       "output_type": "stream",
       "stream": "stdout",
       "text": [
        "\n",
        "      1000           1.1878          -0.0036           15.40s"
       ]
      },
      {
       "output_type": "stream",
       "stream": "stdout",
       "text": [
        "\n",
        "      2000           0.0454          -0.0001           13.25s"
       ]
      },
      {
       "output_type": "stream",
       "stream": "stdout",
       "text": [
        "\n",
        "      3000           0.0018          -0.0000           11.60s"
       ]
      },
      {
       "output_type": "stream",
       "stream": "stdout",
       "text": [
        "\n",
        "      4000           0.0001          -0.0000            9.99s"
       ]
      },
      {
       "output_type": "stream",
       "stream": "stdout",
       "text": [
        "\n",
        "      5000           0.0000          -0.0000            8.35s"
       ]
      },
      {
       "output_type": "stream",
       "stream": "stdout",
       "text": [
        "\n",
        "      6000           0.0000          -0.0000            6.68s"
       ]
      },
      {
       "output_type": "stream",
       "stream": "stdout",
       "text": [
        "\n",
        "      7000           0.0000          -0.0000            4.84s"
       ]
      },
      {
       "output_type": "stream",
       "stream": "stdout",
       "text": [
        "\n",
        "      8000           0.0000          -0.0000            2.90s"
       ]
      },
      {
       "output_type": "stream",
       "stream": "stdout",
       "text": [
        "\n",
        "      9000           0.0000          -0.0000            1.32s"
       ]
      },
      {
       "output_type": "stream",
       "stream": "stdout",
       "text": [
        "\n",
        "     10000           0.0000          -0.0000            0.00s"
       ]
      },
      {
       "output_type": "stream",
       "stream": "stdout",
       "text": [
        "\n",
        "--- 282.993798018 seconds ---\n"
       ]
      },
      {
       "output_type": "stream",
       "stream": "stderr",
       "text": [
        "[Parallel(n_jobs=1)]: Done  50 out of  50 | elapsed:  4.3min finished\n"
       ]
      }
     ],
     "prompt_number": 78
    },
    {
     "cell_type": "code",
     "collapsed": false,
     "input": [
      "mean_absolute_error(y_test, est.predict(X_test))"
     ],
     "language": "python",
     "metadata": {},
     "outputs": [
      {
       "metadata": {},
       "output_type": "pyout",
       "prompt_number": 19,
       "text": [
        "17.520945335426575"
       ]
      }
     ],
     "prompt_number": 19
    },
    {
     "cell_type": "code",
     "collapsed": false,
     "input": [
      "mean_absolute_error(y_test, est.predict(X_test))#7000trees"
     ],
     "language": "python",
     "metadata": {},
     "outputs": [
      {
       "metadata": {},
       "output_type": "pyout",
       "prompt_number": 26,
       "text": [
        "15.640830155822943"
       ]
      }
     ],
     "prompt_number": 26
    },
    {
     "cell_type": "code",
     "collapsed": false,
     "input": [
      "mean_absolute_error(y_test, est.predict(X_test)) #8000trees"
     ],
     "language": "python",
     "metadata": {},
     "outputs": [
      {
       "metadata": {},
       "output_type": "pyout",
       "prompt_number": 30,
       "text": [
        "14.21665036751901"
       ]
      }
     ],
     "prompt_number": 30
    },
    {
     "cell_type": "code",
     "collapsed": false,
     "input": [
      "mean_absolute_error(y_test, est.predict(X_test)) #8000"
     ],
     "language": "python",
     "metadata": {},
     "outputs": [
      {
       "metadata": {},
       "output_type": "pyout",
       "prompt_number": 33,
       "text": [
        "11.483076554112587"
       ]
      }
     ],
     "prompt_number": 33
    },
    {
     "cell_type": "code",
     "collapsed": false,
     "input": [
      "mean_absolute_error(y_test, est.predict(X_test)) "
     ],
     "language": "python",
     "metadata": {},
     "outputs": [
      {
       "metadata": {},
       "output_type": "pyout",
       "prompt_number": 35,
       "text": [
        "16.176309610547182"
       ]
      }
     ],
     "prompt_number": 35
    },
    {
     "cell_type": "code",
     "collapsed": false,
     "input": [
      "mean_absolute_error(y_test, est.predict(X_test)) "
     ],
     "language": "python",
     "metadata": {},
     "outputs": [
      {
       "metadata": {},
       "output_type": "pyout",
       "prompt_number": 37,
       "text": [
        "12.942786957812705"
       ]
      }
     ],
     "prompt_number": 37
    },
    {
     "cell_type": "code",
     "collapsed": false,
     "input": [
      "mean_absolute_error(y_test, est.predict(X_test)) "
     ],
     "language": "python",
     "metadata": {},
     "outputs": [
      {
       "metadata": {},
       "output_type": "pyout",
       "prompt_number": 79,
       "text": [
        "8.384206944405701"
       ]
      }
     ],
     "prompt_number": 79
    },
    {
     "cell_type": "code",
     "collapsed": false,
     "input": [
      "errors_mape1 = []\n",
      "errors_mae1 = []\n",
      "\n",
      "p = 0\n",
      "j = 1\n",
      "for i in range(0,len(X.std_day),120):\n",
      "    \n",
      "        est.fit(X[p*120:j*120],y[p*120:j*120])\n",
      "        errors_mape1.append(np.mean(np.abs((y[p*120:j*122] - est.predict(X[p*120:j*122])) / y[p*120:j*122])) * 100)\n",
      "        errors_mae1.append(mean_absolute_error(est.predict(X[p*120:j*122]),y[p*120:j*122]))\n",
      "    \n",
      "        p += 1\n",
      "        j += 1\n"
     ],
     "language": "python",
     "metadata": {},
     "outputs": [
      {
       "output_type": "stream",
       "stream": "stdout",
       "text": [
        "      Iter       Train Loss      OOB Improve   Remaining Time \n",
        "         1      422370.9051       23992.1177            7.17s\n",
        "         2      342579.8370       44972.5285            5.86s\n",
        "         3      380770.3248       19709.7275            5.31s\n",
        "         4      352371.0549       22061.8763            4.98s\n",
        "         5      326630.1936       23372.5207            4.76s\n",
        "         6      300539.7145       25666.1495            4.60s\n",
        "         7      320278.6821        3516.0339            4.50s\n",
        "         8      271279.6852       15019.5428            4.41s\n",
        "         9      271570.8969       11016.6072            4.31s\n",
        "        10      239712.0451       19624.2696            4.23s\n",
        "        20      113743.3403       18405.5667            3.76s\n",
        "        30       75558.0075        3401.2642            3.58s\n",
        "        40       41289.2289        2111.1644            3.54s\n",
        "        50       21716.6434        1282.3515            3.50s\n",
        "        60       12537.0173         692.9841            3.45s\n",
        "        70        7167.6806         431.5131            3.41s\n",
        "        80        4145.1874         172.7830            3.38s\n",
        "        90        2306.6617         123.2643            3.46s\n",
        "       100        1424.9605          62.6096            3.47s\n",
        "       200         118.7563          -0.0006            3.41s"
       ]
      },
      {
       "output_type": "stream",
       "stream": "stdout",
       "text": [
        "\n",
        "       300          38.1509          -0.0180            3.38s\n",
        "       400          11.7681          -0.2307            3.37s"
       ]
      },
      {
       "output_type": "stream",
       "stream": "stdout",
       "text": [
        "\n",
        "       500           4.6578          -0.0515            3.34s\n",
        "       600           1.4747          -0.0426            3.31s"
       ]
      },
      {
       "output_type": "stream",
       "stream": "stdout",
       "text": [
        "\n",
        "       700           0.7793          -0.0058            3.26s\n",
        "       800           0.3389          -0.0020            3.24s"
       ]
      },
      {
       "output_type": "stream",
       "stream": "stdout",
       "text": [
        "\n",
        "       900           0.1565          -0.0000            3.20s\n",
        "      1000           0.0677          -0.0004            3.18s"
       ]
      },
      {
       "output_type": "stream",
       "stream": "stdout",
       "text": [
        "\n",
        "      2000           0.0000          -0.0000            2.78s"
       ]
      },
      {
       "output_type": "stream",
       "stream": "stdout",
       "text": [
        "\n",
        "      3000           0.0000           0.0000            2.35s"
       ]
      },
      {
       "output_type": "stream",
       "stream": "stdout",
       "text": [
        "\n",
        "      4000           0.0000          -0.0000            1.76s"
       ]
      },
      {
       "output_type": "stream",
       "stream": "stdout",
       "text": [
        "\n",
        "      5000           0.0000          -0.0000            1.33s"
       ]
      },
      {
       "output_type": "stream",
       "stream": "stdout",
       "text": [
        "\n",
        "      6000           0.0000          -0.0000            0.99s"
       ]
      },
      {
       "output_type": "stream",
       "stream": "stdout",
       "text": [
        "\n",
        "      7000           0.0000          -0.0000            0.70s"
       ]
      },
      {
       "output_type": "stream",
       "stream": "stdout",
       "text": [
        "\n",
        "      8000           0.0000          -0.0000            0.45s"
       ]
      },
      {
       "output_type": "stream",
       "stream": "stdout",
       "text": [
        "\n",
        "      9000           0.0000          -0.0000            0.22s"
       ]
      },
      {
       "output_type": "stream",
       "stream": "stdout",
       "text": [
        "\n",
        "     10000           0.0000           0.0000            0.00s"
       ]
      },
      {
       "output_type": "stream",
       "stream": "stdout",
       "text": [
        "\n",
        "      Iter       Train Loss      OOB Improve   Remaining Time \n",
        "         1      421018.9755       17579.1430            5.36s\n",
        "         2      383272.8386       21538.1284            4.47s\n",
        "         3      349768.7786       27280.8825            4.14s\n",
        "         4      315171.0277       34520.4461            3.99s\n",
        "         5      329398.3688       13423.5137            3.88s\n",
        "         6      300196.2132       17446.8141            3.79s\n",
        "         7      274342.5107       22468.7755            3.75s\n",
        "         8      270329.1502       12889.0341            3.69s\n",
        "         9      257559.6265       11122.3592            3.66s\n",
        "        10      237813.6232       13453.0599            3.63s\n",
        "        20      125636.1977        9491.4053            3.56s\n",
        "        30       75155.8834        1421.9655            3.82s"
       ]
      },
      {
       "output_type": "stream",
       "stream": "stdout",
       "text": [
        "\n",
        "        40       40648.5159         930.6605            3.90s\n",
        "        50       20482.8260        1460.2603            3.78s\n",
        "        60       11646.5444         552.1398            3.68s\n",
        "        70        6219.9934         397.5821            3.65s\n",
        "        80        3390.2179         259.3818            3.60s\n",
        "        90        1846.0638         135.0439            3.55s\n",
        "       100        1036.8837          92.4670            3.51s\n",
        "       200          29.4054          -0.1396            3.57s"
       ]
      },
      {
       "output_type": "stream",
       "stream": "stdout",
       "text": [
        "\n",
        "       300           5.8534          -0.3724            3.48s\n",
        "       400           5.2053           0.0012            3.46s"
       ]
      },
      {
       "output_type": "stream",
       "stream": "stdout",
       "text": [
        "\n",
        "       500           2.4905           0.0035            3.41s\n",
        "       600           1.1847          -0.0294            3.37s"
       ]
      },
      {
       "output_type": "stream",
       "stream": "stdout",
       "text": [
        "\n",
        "       700           0.5230          -0.0265            3.34s\n",
        "       800           0.2750          -0.0142            3.30s"
       ]
      },
      {
       "output_type": "stream",
       "stream": "stdout",
       "text": [
        "\n",
        "       900           0.1394          -0.0006            3.27s\n",
        "      1000           0.0803          -0.0005            3.23s"
       ]
      },
      {
       "output_type": "stream",
       "stream": "stdout",
       "text": [
        "\n",
        "      2000           0.0000          -0.0000            2.80s"
       ]
      },
      {
       "output_type": "stream",
       "stream": "stdout",
       "text": [
        "\n",
        "      3000           0.0000          -0.0000            2.33s"
       ]
      },
      {
       "output_type": "stream",
       "stream": "stdout",
       "text": [
        "\n",
        "      4000           0.0000          -0.0000            1.72s"
       ]
      },
      {
       "output_type": "stream",
       "stream": "stdout",
       "text": [
        "\n",
        "      5000           0.0000          -0.0000            1.35s"
       ]
      },
      {
       "output_type": "stream",
       "stream": "stdout",
       "text": [
        "\n",
        "      6000           0.0000          -0.0000            1.00s"
       ]
      },
      {
       "output_type": "stream",
       "stream": "stdout",
       "text": [
        "\n",
        "      7000           0.0000          -0.0000            0.71s"
       ]
      },
      {
       "output_type": "stream",
       "stream": "stdout",
       "text": [
        "\n",
        "      8000           0.0000          -0.0000            0.45s"
       ]
      },
      {
       "output_type": "stream",
       "stream": "stdout",
       "text": [
        "\n",
        "      9000           0.0000          -0.0000            0.22s"
       ]
      },
      {
       "output_type": "stream",
       "stream": "stdout",
       "text": [
        "\n",
        "     10000           0.0000          -0.0000            0.00s"
       ]
      },
      {
       "output_type": "stream",
       "stream": "stdout",
       "text": [
        "\n",
        "      Iter       Train Loss      OOB Improve   Remaining Time \n",
        "         1      724196.8074       49115.3539            5.62s\n",
        "         2      727197.7954       21312.6814            4.70s\n",
        "         3      656663.8706       37252.3795            4.35s\n",
        "         4      635780.5497       21397.4059            4.20s\n",
        "         5      612814.9412       14018.8366            4.11s\n",
        "         6      557312.1407       24175.5867            4.05s\n",
        "         7      506409.1368       31840.4388            3.98s\n",
        "         8      498239.1362       21374.5902            3.95s\n",
        "         9      458942.5095       22551.2200            3.92s\n",
        "        10      402646.5239       37767.4171            3.90s\n",
        "        20      248874.8634        4698.6108            3.65s\n",
        "        30      119421.2924       12970.8673            3.64s"
       ]
      },
      {
       "output_type": "stream",
       "stream": "stdout",
       "text": [
        "\n",
        "        40       67197.2294        5408.6530            4.12s\n",
        "        50       37953.7418        2176.9177            4.11s\n",
        "        60       21362.0240         952.9440            4.23s\n",
        "        70       11786.1909         678.2057            4.38s\n",
        "        80        6694.2421         316.5251            4.48s\n",
        "        90        2972.6621         255.5532            4.61s\n",
        "       100        2259.4925          72.4241            4.68s\n",
        "       200         198.6771           0.3710            4.36s"
       ]
      },
      {
       "output_type": "stream",
       "stream": "stdout",
       "text": [
        "\n",
        "       300          89.6632          -0.0062            4.34s\n",
        "       400          37.1368          -0.1554            4.03s"
       ]
      },
      {
       "output_type": "stream",
       "stream": "stdout",
       "text": [
        "\n",
        "       500          15.9027           0.0040            3.84s\n",
        "       600           5.9502          -0.0155            3.72s"
       ]
      },
      {
       "output_type": "stream",
       "stream": "stdout",
       "text": [
        "\n",
        "       700           2.2377          -0.0073            3.76s\n",
        "       800           0.9243          -0.0000            3.70s"
       ]
      },
      {
       "output_type": "stream",
       "stream": "stdout",
       "text": [
        "\n",
        "       900           0.3525          -0.0038            3.63s\n",
        "      1000           0.1583          -0.0018            3.60s"
       ]
      },
      {
       "output_type": "stream",
       "stream": "stdout",
       "text": [
        "\n",
        "      2000           0.0000          -0.0000            3.20s"
       ]
      },
      {
       "output_type": "stream",
       "stream": "stdout",
       "text": [
        "\n",
        "      3000           0.0000          -0.0000            2.69s"
       ]
      },
      {
       "output_type": "stream",
       "stream": "stdout",
       "text": [
        "\n",
        "      4000           0.0000          -0.0000            1.99s"
       ]
      },
      {
       "output_type": "stream",
       "stream": "stdout",
       "text": [
        "\n",
        "      5000           0.0000          -0.0000            1.48s"
       ]
      },
      {
       "output_type": "stream",
       "stream": "stdout",
       "text": [
        "\n",
        "      6000           0.0000          -0.0000            1.09s"
       ]
      },
      {
       "output_type": "stream",
       "stream": "stdout",
       "text": [
        "\n",
        "      7000           0.0000          -0.0000            0.77s"
       ]
      },
      {
       "output_type": "stream",
       "stream": "stdout",
       "text": [
        "\n",
        "      8000           0.0000          -0.0000            0.49s"
       ]
      },
      {
       "output_type": "stream",
       "stream": "stdout",
       "text": [
        "\n",
        "      9000           0.0000          -0.0000            0.23s"
       ]
      },
      {
       "output_type": "stream",
       "stream": "stdout",
       "text": [
        "\n",
        "     10000           0.0000          -0.0000            0.00s"
       ]
      },
      {
       "output_type": "stream",
       "stream": "stdout",
       "text": [
        "\n",
        "      Iter       Train Loss      OOB Improve   Remaining Time \n",
        "         1      414664.3510        6789.5995            5.51s\n",
        "         2      393490.2921        4785.8033            4.62s\n",
        "         3      282990.3825       50487.0257            4.32s\n",
        "         4      340396.9857        9178.7585            4.12s\n",
        "         5      316278.1637       11119.6117            4.02s\n",
        "         6      301759.9453        9271.3225            3.95s\n",
        "         7      287688.3498       11005.3473            3.89s\n",
        "         8      275962.3305        4489.5744            3.86s\n",
        "         9      260782.9711        3828.5774            3.84s\n",
        "        10      200846.9889       22106.1342            3.92s\n",
        "        20      129059.2820       13464.5692            4.02s\n",
        "        30       66403.0205        6846.1881            3.79s"
       ]
      },
      {
       "output_type": "stream",
       "stream": "stdout",
       "text": [
        "\n",
        "        40       32882.6148        5474.3416            3.77s\n",
        "        50       20618.5680        2688.6204            3.69s\n",
        "        60       17204.2782         216.2013            3.64s\n",
        "        70       10714.2736          96.3584            3.60s\n",
        "        80        6297.2143         372.0810            3.57s\n",
        "        90        5052.6226          37.4141            3.53s\n",
        "       100        2950.9113         212.9983            3.52s\n",
        "       200         664.3736         -55.4097            3.45s"
       ]
      },
      {
       "output_type": "stream",
       "stream": "stdout",
       "text": [
        "\n",
        "       300         291.0842          -9.1033            3.42s\n",
        "       400         210.1380          -0.5381            3.34s"
       ]
      },
      {
       "output_type": "stream",
       "stream": "stdout",
       "text": [
        "\n",
        "       500         125.9677          -0.1520            3.28s\n",
        "       600          76.0556          -1.2731            3.25s"
       ]
      },
      {
       "output_type": "stream",
       "stream": "stdout",
       "text": [
        "\n",
        "       700          49.1109          -0.3142            3.20s\n",
        "       800          19.7220          -2.0268            3.20s"
       ]
      },
      {
       "output_type": "stream",
       "stream": "stdout",
       "text": [
        "\n",
        "       900          19.8588          -0.0648            3.16s\n",
        "      1000          12.5005          -0.0219            3.12s"
       ]
      },
      {
       "output_type": "stream",
       "stream": "stdout",
       "text": [
        "\n",
        "      2000           0.1716          -0.0044            2.78s"
       ]
      },
      {
       "output_type": "stream",
       "stream": "stdout",
       "text": [
        "\n",
        "      3000           0.0040          -0.0000            2.53s"
       ]
      },
      {
       "output_type": "stream",
       "stream": "stdout",
       "text": [
        "\n",
        "      4000           0.0001          -0.0000            2.13s"
       ]
      },
      {
       "output_type": "stream",
       "stream": "stdout",
       "text": [
        "\n",
        "      5000           0.0000          -0.0000            1.78s"
       ]
      },
      {
       "output_type": "stream",
       "stream": "stdout",
       "text": [
        "\n",
        "      6000           0.0000          -0.0000            1.35s"
       ]
      },
      {
       "output_type": "stream",
       "stream": "stdout",
       "text": [
        "\n",
        "      7000           0.0000          -0.0000            0.94s"
       ]
      },
      {
       "output_type": "stream",
       "stream": "stdout",
       "text": [
        "\n",
        "      8000           0.0000          -0.0000            0.59s"
       ]
      },
      {
       "output_type": "stream",
       "stream": "stdout",
       "text": [
        "\n",
        "      9000           0.0000          -0.0000            0.28s"
       ]
      },
      {
       "output_type": "stream",
       "stream": "stdout",
       "text": [
        "\n",
        "     10000           0.0000          -0.0000            0.00s"
       ]
      },
      {
       "output_type": "stream",
       "stream": "stdout",
       "text": [
        "\n",
        "      Iter       Train Loss      OOB Improve   Remaining Time "
       ]
      },
      {
       "output_type": "stream",
       "stream": "stdout",
       "text": [
        "\n",
        "         1       77604.3458        4275.1647            6.23s\n",
        "         2       73503.9177        3789.7950            5.75s\n",
        "         3       71108.6255        2498.7352            5.25s\n",
        "         4       65696.4213        3062.9574            4.76s\n",
        "         5       61252.3606        3262.4174            4.44s\n",
        "         6       57610.5240        3144.4222            4.23s\n",
        "         7       54402.8334        2989.5965            4.15s\n",
        "         8       52166.9335        2094.2236            4.03s\n",
        "         9       49661.1154        1728.0325            3.94s\n",
        "        10       44442.2964        2970.4050            3.86s\n",
        "        20       24789.3705        1576.9885            3.43s\n",
        "        30       13208.9626        1286.8793            3.80s\n",
        "        40        8022.3469         402.9901            4.00s\n",
        "        50        4761.7585         208.7690            3.99s\n",
        "        60        2912.5804         106.9925            3.83s\n",
        "        70        1859.1919          58.0929            3.83s\n",
        "        80        1225.4357          49.4553            4.02s\n",
        "        90         917.3595          21.7734            4.04s\n",
        "       100         718.1464          12.3193            3.94s\n",
        "       200         246.0247          -0.0297            3.56s"
       ]
      },
      {
       "output_type": "stream",
       "stream": "stdout",
       "text": [
        "\n",
        "       300         115.9516           0.2069            3.71s\n",
        "       400          57.2458          -0.1329            3.56s"
       ]
      },
      {
       "output_type": "stream",
       "stream": "stdout",
       "text": [
        "\n",
        "       500          25.0863          -0.2894            3.40s\n",
        "       600          13.0979          -0.0012            3.29s"
       ]
      },
      {
       "output_type": "stream",
       "stream": "stdout",
       "text": [
        "\n",
        "       700           2.3132          -0.3000            3.19s\n",
        "       800           3.0439          -0.0247            3.13s"
       ]
      },
      {
       "output_type": "stream",
       "stream": "stdout",
       "text": [
        "\n",
        "       900           1.2424          -0.0436            3.09s\n",
        "      1000           0.6721          -0.0035            3.02s"
       ]
      },
      {
       "output_type": "stream",
       "stream": "stdout",
       "text": [
        "\n",
        "      2000           0.0019          -0.0000            2.59s"
       ]
      },
      {
       "output_type": "stream",
       "stream": "stdout",
       "text": [
        "\n",
        "      3000           0.0001          -0.0000            2.24s"
       ]
      },
      {
       "output_type": "stream",
       "stream": "stdout",
       "text": [
        "\n",
        "      4000           0.0000          -0.0000            1.90s"
       ]
      },
      {
       "output_type": "stream",
       "stream": "stdout",
       "text": [
        "\n",
        "      5000           0.0000          -0.0000            1.54s"
       ]
      },
      {
       "output_type": "stream",
       "stream": "stdout",
       "text": [
        "\n",
        "      6000           0.0000          -0.0000            1.18s"
       ]
      },
      {
       "output_type": "stream",
       "stream": "stdout",
       "text": [
        "\n",
        "      7000           0.0000          -0.0000            0.83s"
       ]
      },
      {
       "output_type": "stream",
       "stream": "stdout",
       "text": [
        "\n",
        "      8000           0.0000          -0.0000            0.52s"
       ]
      },
      {
       "output_type": "stream",
       "stream": "stdout",
       "text": [
        "\n",
        "      9000           0.0000           0.0000            0.25s"
       ]
      },
      {
       "output_type": "stream",
       "stream": "stdout",
       "text": [
        "\n",
        "     10000           0.0000          -0.0000            0.00s"
       ]
      },
      {
       "output_type": "stream",
       "stream": "stdout",
       "text": [
        "\n",
        "      Iter       Train Loss      OOB Improve   Remaining Time "
       ]
      },
      {
       "output_type": "stream",
       "stream": "stdout",
       "text": [
        "\n",
        "         1      325168.4038       19156.6606            5.79s\n",
        "         2      271688.8491       36523.2671            5.43s\n",
        "         3      268964.5647       27624.8901            5.19s\n",
        "         4      276513.4373       13115.5265            4.70s\n",
        "         5      236683.5286       24106.1571            4.39s\n",
        "         6      228024.8650       20048.0854            4.19s\n",
        "         7      230361.1057       10540.1599            4.03s\n",
        "         8      204864.8132       16240.7872            3.91s\n",
        "         9      197386.7150       13244.8499            3.81s\n",
        "        10      193407.7206        8054.1507            3.73s\n",
        "        20      102066.6887        5850.3208            3.95s\n",
        "        30       55744.5043        3288.5824            4.07s\n",
        "        40       31674.1383        1021.9293            4.21s\n",
        "        50       16881.5273         876.9526            3.93s\n",
        "        60        9186.0711         459.0175            3.85s\n",
        "        70        4878.8562         352.1394            3.93s\n",
        "        80        2592.6842         242.6815            4.02s\n",
        "        90        1530.7027          71.8827            3.90s\n",
        "       100         830.9518          47.6081            3.85s\n",
        "       200          13.7292           0.0879            3.32s"
       ]
      },
      {
       "output_type": "stream",
       "stream": "stdout",
       "text": [
        "\n",
        "       300           5.0904          -0.0103            3.53s\n",
        "       400           2.2413          -0.0020            3.35s"
       ]
      },
      {
       "output_type": "stream",
       "stream": "stdout",
       "text": [
        "\n",
        "       500           1.0259          -0.0067            3.43s\n",
        "       600           0.4734          -0.0063            3.32s"
       ]
      },
      {
       "output_type": "stream",
       "stream": "stdout",
       "text": [
        "\n",
        "       700           0.2425          -0.0016            3.22s\n",
        "       800           0.1183          -0.0036            3.18s"
       ]
      },
      {
       "output_type": "stream",
       "stream": "stdout",
       "text": [
        "\n",
        "       900           0.0689          -0.0014            3.18s\n",
        "      1000           0.0370          -0.0016            3.11s"
       ]
      },
      {
       "output_type": "stream",
       "stream": "stdout",
       "text": [
        "\n",
        "      2000           0.0025          -0.0004            2.85s"
       ]
      },
      {
       "output_type": "stream",
       "stream": "stdout",
       "text": [
        "\n",
        "      3000           0.0010          -0.0000            2.51s"
       ]
      },
      {
       "output_type": "stream",
       "stream": "stdout",
       "text": [
        "\n",
        "      4000           0.0002           0.0000            2.10s"
       ]
      },
      {
       "output_type": "stream",
       "stream": "stdout",
       "text": [
        "\n",
        "      5000           0.0000          -0.0000            1.72s"
       ]
      },
      {
       "output_type": "stream",
       "stream": "stdout",
       "text": [
        "\n",
        "      6000           0.0000          -0.0000            1.38s"
       ]
      },
      {
       "output_type": "stream",
       "stream": "stdout",
       "text": [
        "\n",
        "      7000           0.0000          -0.0000            0.99s"
       ]
      },
      {
       "output_type": "stream",
       "stream": "stdout",
       "text": [
        "\n",
        "      8000           0.0000          -0.0000            0.64s"
       ]
      },
      {
       "output_type": "stream",
       "stream": "stdout",
       "text": [
        "\n",
        "      9000           0.0000          -0.0000            0.31s"
       ]
      },
      {
       "output_type": "stream",
       "stream": "stdout",
       "text": [
        "\n",
        "     10000           0.0000          -0.0000            0.00s"
       ]
      },
      {
       "output_type": "stream",
       "stream": "stdout",
       "text": [
        "\n",
        "      Iter       Train Loss      OOB Improve   Remaining Time "
       ]
      },
      {
       "output_type": "stream",
       "stream": "stdout",
       "text": [
        "\n",
        "         1     1809785.9969       34233.7979            5.95s\n",
        "         2     1451415.8521      170624.4423            4.97s\n",
        "         3     1552003.4693       71007.6086            4.59s\n",
        "         4     1463497.8172       63031.9951            4.35s\n",
        "         5     1432716.9907       24922.3785            4.20s\n",
        "         6     1242392.6982       82350.0542            4.10s\n",
        "         7     1154047.0946       79218.9488            4.02s\n",
        "         8     1156512.8364       31161.2694            3.97s\n",
        "         9     1131611.1197       15336.3574            3.92s\n",
        "        10      880634.6165      112753.3927            3.88s\n",
        "        20      548886.4237       28373.1572            3.56s\n",
        "        30      318715.3622        4075.8681            3.44s\n",
        "        40      165535.0008        8239.2705            3.43s\n",
        "        50       81014.5300        9576.4170            3.39s\n",
        "        60       50182.6663        2009.0485            3.36s\n",
        "        70       26478.4059        2075.4316            3.35s\n",
        "        80       14114.2725        1159.8881            3.41s\n",
        "        90        8780.9855         236.1754            3.50s\n",
        "       100        4433.5892         400.2053            3.48s\n",
        "       200         240.1243          -0.1587            3.40s"
       ]
      },
      {
       "output_type": "stream",
       "stream": "stdout",
       "text": [
        "\n",
        "       300         103.8134          -2.4711            3.38s\n",
        "       400          40.5466          -0.5760            3.34s"
       ]
      },
      {
       "output_type": "stream",
       "stream": "stdout",
       "text": [
        "\n",
        "       500          28.8921          -0.0102            3.29s\n",
        "       600           9.1159          -0.8142            3.29s"
       ]
      },
      {
       "output_type": "stream",
       "stream": "stdout",
       "text": [
        "\n",
        "       700           8.0901          -0.0256            3.37s\n",
        "       800           4.2635          -0.0190            3.32s"
       ]
      },
      {
       "output_type": "stream",
       "stream": "stdout",
       "text": [
        "\n",
        "       900           2.6152          -0.0088            3.38s\n",
        "      1000           1.6073          -0.0011            3.32s"
       ]
      },
      {
       "output_type": "stream",
       "stream": "stdout",
       "text": [
        "\n",
        "      2000           0.0088           0.0000            2.89s"
       ]
      },
      {
       "output_type": "stream",
       "stream": "stdout",
       "text": [
        "\n",
        "      3000           0.0000          -0.0000            2.63s"
       ]
      },
      {
       "output_type": "stream",
       "stream": "stdout",
       "text": [
        "\n",
        "      4000           0.0000          -0.0000            2.17s"
       ]
      },
      {
       "output_type": "stream",
       "stream": "stdout",
       "text": [
        "\n",
        "      5000           0.0000          -0.0000            1.65s"
       ]
      },
      {
       "output_type": "stream",
       "stream": "stdout",
       "text": [
        "\n",
        "      6000           0.0000           0.0000            1.21s"
       ]
      },
      {
       "output_type": "stream",
       "stream": "stdout",
       "text": [
        "\n",
        "      7000           0.0000          -0.0000            0.85s"
       ]
      },
      {
       "output_type": "stream",
       "stream": "stdout",
       "text": [
        "\n",
        "      8000           0.0000          -0.0000            0.54s"
       ]
      },
      {
       "output_type": "stream",
       "stream": "stdout",
       "text": [
        "\n",
        "      9000           0.0000          -0.0000            0.26s"
       ]
      },
      {
       "output_type": "stream",
       "stream": "stdout",
       "text": [
        "\n",
        "     10000           0.0000          -0.0000            0.00s"
       ]
      },
      {
       "output_type": "stream",
       "stream": "stdout",
       "text": [
        "\n",
        "      Iter       Train Loss      OOB Improve   Remaining Time "
       ]
      },
      {
       "output_type": "stream",
       "stream": "stdout",
       "text": [
        "\n",
        "         1     2035339.1434      106052.7868            5.89s\n",
        "         2     1828000.0815      126850.3734            4.94s\n",
        "         3     1778680.1258      110357.8873            4.55s\n",
        "         4     1647133.2122      119196.6303            4.39s\n",
        "         5     1571638.9158       89239.4991            4.22s\n",
        "         6     1505669.1005       74897.3821            4.11s\n",
        "         7     1417817.6228       70477.0921            4.02s\n",
        "         8     1202392.3234      139476.7731            4.00s\n",
        "         9     1260494.6942       56503.8782            4.08s\n",
        "        10     1173687.2862       60619.7071            4.04s\n",
        "        20      650965.3451       29471.2134            3.65s\n",
        "        30      341568.4746       23435.5458            3.50s\n",
        "        40      185519.0177       13564.9080            3.43s\n",
        "        50      103626.0128        6461.8999            3.39s\n",
        "        60       54521.1242        5070.1110            3.37s\n",
        "        70       33736.4061        1428.3145            3.34s\n",
        "        80       19320.5235         793.0166            3.33s\n",
        "        90       11149.4690         425.5852            3.32s\n",
        "       100        6742.8853         209.4074            3.32s\n",
        "       200         681.2800          -9.9142            3.46s"
       ]
      },
      {
       "output_type": "stream",
       "stream": "stdout",
       "text": [
        "\n",
        "       300         279.8741          -0.7286            3.46s\n",
        "       400          58.4659          -6.1667            3.39s"
       ]
      },
      {
       "output_type": "stream",
       "stream": "stdout",
       "text": [
        "\n",
        "       500          59.2109          -0.0983            3.36s\n",
        "       600          27.1444           0.0211            3.35s"
       ]
      },
      {
       "output_type": "stream",
       "stream": "stdout",
       "text": [
        "\n",
        "       700          10.3373          -0.0043            3.34s\n",
        "       800           4.0746          -0.0065            3.30s"
       ]
      },
      {
       "output_type": "stream",
       "stream": "stdout",
       "text": [
        "\n",
        "       900           1.5055          -0.0038            3.35s\n",
        "      1000           0.5557          -0.0011            3.31s"
       ]
      },
      {
       "output_type": "stream",
       "stream": "stdout",
       "text": [
        "\n",
        "      2000           0.0000          -0.0000            2.93s"
       ]
      },
      {
       "output_type": "stream",
       "stream": "stdout",
       "text": [
        "\n",
        "      3000           0.0000          -0.0000            2.37s"
       ]
      },
      {
       "output_type": "stream",
       "stream": "stdout",
       "text": [
        "\n",
        "      4000           0.0000          -0.0000            1.77s"
       ]
      },
      {
       "output_type": "stream",
       "stream": "stdout",
       "text": [
        "\n",
        "      5000           0.0000          -0.0000            1.34s"
       ]
      },
      {
       "output_type": "stream",
       "stream": "stdout",
       "text": [
        "\n",
        "      6000           0.0000          -0.0000            1.01s"
       ]
      },
      {
       "output_type": "stream",
       "stream": "stdout",
       "text": [
        "\n",
        "      7000           0.0000          -0.0000            0.72s"
       ]
      },
      {
       "output_type": "stream",
       "stream": "stdout",
       "text": [
        "\n",
        "      8000           0.0000          -0.0000            0.46s"
       ]
      },
      {
       "output_type": "stream",
       "stream": "stdout",
       "text": [
        "\n",
        "      9000           0.0000          -0.0000            0.22s"
       ]
      },
      {
       "output_type": "stream",
       "stream": "stdout",
       "text": [
        "\n",
        "     10000           0.0000          -0.0000            0.00s"
       ]
      },
      {
       "output_type": "stream",
       "stream": "stdout",
       "text": [
        "\n",
        "      Iter       Train Loss      OOB Improve   Remaining Time \n",
        "         1      784271.2565       54932.0759            7.01s\n",
        "         2      773553.9517       33731.3731            6.44s\n",
        "         3      639338.0778       77114.4396            6.07s\n",
        "         4      651881.2789       44866.0961            5.87s\n",
        "         5      650310.8573       23431.3255            5.64s\n",
        "         6      580488.8292       39745.9632            5.27s\n",
        "         7      552166.7128       31642.5582            5.01s\n",
        "         8      527132.1015       28365.8176            4.83s\n",
        "         9      488289.9042       33695.7208            4.68s\n",
        "        10      444292.0268       34007.5177            4.55s\n",
        "        20      254311.6170       15758.8692            3.86s"
       ]
      },
      {
       "output_type": "stream",
       "stream": "stdout",
       "text": [
        "\n",
        "        30      147585.8456        6792.3834            3.78s\n",
        "        40       83019.5659        3465.3386            3.64s\n",
        "        50       46565.5328        2741.4987            3.61s\n",
        "        60       28191.8169        1109.9824            3.55s\n",
        "        70       12085.5268         813.4828            3.51s\n",
        "        80       11216.2556         252.3675            3.48s\n",
        "        90        8013.5430         126.4746            3.47s\n",
        "       100        6004.4901          92.6240            3.51s\n",
        "       200        1903.3769          -4.5416            3.49s"
       ]
      },
      {
       "output_type": "stream",
       "stream": "stdout",
       "text": [
        "\n",
        "       300         903.2905          -4.5947            3.44s\n",
        "       400         452.3256          -0.2369            3.40s"
       ]
      },
      {
       "output_type": "stream",
       "stream": "stdout",
       "text": [
        "\n",
        "       500          91.1010         -14.8233            3.37s\n",
        "       600         133.9668          -0.4189            3.32s"
       ]
      },
      {
       "output_type": "stream",
       "stream": "stdout",
       "text": [
        "\n",
        "       700          70.0452           0.0332            3.27s\n",
        "       800          31.4034          -0.1004            3.24s"
       ]
      },
      {
       "output_type": "stream",
       "stream": "stdout",
       "text": [
        "\n",
        "       900          11.7983          -0.5385            3.19s\n",
        "      1000           6.9542          -0.0554            3.16s"
       ]
      },
      {
       "output_type": "stream",
       "stream": "stdout",
       "text": [
        "\n",
        "      2000           0.0045          -0.0000            2.77s"
       ]
      },
      {
       "output_type": "stream",
       "stream": "stdout",
       "text": [
        "\n",
        "      3000           0.0000          -0.0000            2.44s"
       ]
      },
      {
       "output_type": "stream",
       "stream": "stdout",
       "text": [
        "\n",
        "      4000           0.0000          -0.0000            1.92s"
       ]
      },
      {
       "output_type": "stream",
       "stream": "stdout",
       "text": [
        "\n",
        "      5000           0.0000          -0.0000            1.43s"
       ]
      },
      {
       "output_type": "stream",
       "stream": "stdout",
       "text": [
        "\n",
        "      6000           0.0000          -0.0000            1.05s"
       ]
      },
      {
       "output_type": "stream",
       "stream": "stdout",
       "text": [
        "\n",
        "      7000           0.0000          -0.0000            0.74s"
       ]
      },
      {
       "output_type": "stream",
       "stream": "stdout",
       "text": [
        "\n",
        "      8000           0.0000          -0.0000            0.47s"
       ]
      },
      {
       "output_type": "stream",
       "stream": "stdout",
       "text": [
        "\n",
        "      9000           0.0000          -0.0000            0.23s"
       ]
      },
      {
       "output_type": "stream",
       "stream": "stdout",
       "text": [
        "\n",
        "     10000           0.0000          -0.0000            0.00s"
       ]
      },
      {
       "output_type": "stream",
       "stream": "stdout",
       "text": [
        "\n",
        "      Iter       Train Loss      OOB Improve   Remaining Time \n",
        "         1     6143924.3892      375144.2812            5.41s"
       ]
      },
      {
       "output_type": "stream",
       "stream": "stdout",
       "text": [
        "\n",
        "         2     5874978.4193      300833.0982            6.04s\n",
        "         3     5437224.8825      350474.2622            5.48s\n",
        "         4     5135995.8539      312614.8400            5.06s\n",
        "         5     4786254.9426      320112.0554            4.78s\n",
        "         6     4633852.4758      226072.9855            4.75s\n",
        "         7     4210060.2079      293214.6608            4.65s\n",
        "         8     3960553.8351      294962.9955            4.56s\n",
        "         9     3787965.1786      234502.3211            4.48s\n",
        "        10     3512964.1807      250809.8620            4.38s\n",
        "        20     1925716.1787      127889.4690            3.83s\n",
        "        30     1062116.1919       63509.3240            3.63s\n",
        "        40      583448.2682       33449.4812            3.53s\n",
        "        50      307953.2551       20746.1403            3.47s\n",
        "        60      173160.2999       10690.8188            3.44s\n",
        "        70       96315.6801        5551.8114            3.47s\n",
        "        80       50275.7344        4570.3213            3.50s\n",
        "        90       29567.2339        1525.1396            3.59s\n",
        "       100       15741.5815         909.7217            3.56s\n",
        "       200         757.4163           1.2681            3.42s"
       ]
      },
      {
       "output_type": "stream",
       "stream": "stdout",
       "text": [
        "\n",
        "       300         399.4932          -1.2460            3.43s\n",
        "       400         220.5726          -0.0705            3.48s"
       ]
      },
      {
       "output_type": "stream",
       "stream": "stdout",
       "text": [
        "\n",
        "       500         108.2393          -1.8841            3.41s\n",
        "       600          60.7952          -0.0769            3.38s"
       ]
      },
      {
       "output_type": "stream",
       "stream": "stdout",
       "text": [
        "\n",
        "       700          30.0255          -0.0973            3.36s\n",
        "       800          17.1982          -0.0049            3.32s"
       ]
      },
      {
       "output_type": "stream",
       "stream": "stdout",
       "text": [
        "\n",
        "       900           4.9586          -0.7146            3.28s\n",
        "      1000           5.1970          -0.0063            3.24s"
       ]
      },
      {
       "output_type": "stream",
       "stream": "stdout",
       "text": [
        "\n",
        "      2000           0.0074          -0.0009            2.83s"
       ]
      },
      {
       "output_type": "stream",
       "stream": "stdout",
       "text": [
        "\n",
        "      3000           0.0000          -0.0000            2.48s"
       ]
      },
      {
       "output_type": "stream",
       "stream": "stdout",
       "text": [
        "\n",
        "      4000           0.0000          -0.0000            2.06s"
       ]
      },
      {
       "output_type": "stream",
       "stream": "stdout",
       "text": [
        "\n",
        "      5000           0.0000          -0.0000            1.54s"
       ]
      },
      {
       "output_type": "stream",
       "stream": "stdout",
       "text": [
        "\n",
        "      6000           0.0000          -0.0000            1.12s"
       ]
      },
      {
       "output_type": "stream",
       "stream": "stdout",
       "text": [
        "\n",
        "      7000           0.0000          -0.0000            0.79s"
       ]
      },
      {
       "output_type": "stream",
       "stream": "stdout",
       "text": [
        "\n",
        "      8000           0.0000          -0.0000            0.50s"
       ]
      },
      {
       "output_type": "stream",
       "stream": "stdout",
       "text": [
        "\n",
        "      9000           0.0000          -0.0000            0.24s"
       ]
      },
      {
       "output_type": "stream",
       "stream": "stdout",
       "text": [
        "\n",
        "     10000           0.0000          -0.0000            0.00s"
       ]
      },
      {
       "output_type": "stream",
       "stream": "stdout",
       "text": [
        "\n",
        "      Iter       Train Loss      OOB Improve   Remaining Time "
       ]
      },
      {
       "output_type": "stream",
       "stream": "stdout",
       "text": [
        "\n",
        "         1     1333484.0229       45210.0701            4.26s\n",
        "         2      993486.6780      116158.1998            3.35s\n",
        "         3     1190034.4878       41705.2898            2.99s\n",
        "         4     1116618.4325       42692.1272            2.78s\n",
        "         5     1071453.8180       47387.3462            2.65s\n",
        "         6      989663.1638       39703.9275            2.57s\n",
        "         7      721750.8810       90510.5523            2.58s\n",
        "         8      591185.0130       90756.6655            2.53s\n",
        "         9      648546.0281       79330.4388            2.49s\n",
        "        10      733676.3447       63372.7925            2.45s\n",
        "        20      464056.0613       19080.0208            2.13s\n",
        "        30      223693.3583       25302.3469            2.02s\n",
        "        40      182408.2219        1030.2652            1.96s\n",
        "        50       60534.1512        6694.6707            1.96s\n",
        "        60       78530.6681        1966.1112            1.93s\n",
        "        70       61725.0597         630.8708            1.92s\n",
        "        80       49426.2613        -177.6382            1.91s\n",
        "        90       10467.5274        -919.3695            1.90s\n",
        "       100       33773.5622         -88.2403            1.90s\n",
        "       200        2764.4342        -851.6034            1.94s\n",
        "       300        6259.0513        -112.9724            1.91s"
       ]
      },
      {
       "output_type": "stream",
       "stream": "stdout",
       "text": [
        "\n",
        "       400        2952.2976         -28.3684            1.91s\n",
        "       500        1285.7842          -0.2409            1.90s\n",
        "       600         201.5339         -35.7677            1.88s"
       ]
      },
      {
       "output_type": "stream",
       "stream": "stdout",
       "text": [
        "\n",
        "       700         262.0125          -0.2699            1.85s\n",
        "       800         112.0151          -3.6005            1.84s\n",
        "       900          56.5302          -0.1077            1.83s"
       ]
      },
      {
       "output_type": "stream",
       "stream": "stdout",
       "text": [
        "\n",
        "      1000          27.6503          -0.1182            1.81s\n",
        "      2000           0.0120          -0.0000            1.57s"
       ]
      },
      {
       "output_type": "stream",
       "stream": "stdout",
       "text": [
        "\n",
        "      3000           0.0000          -0.0000            1.36s"
       ]
      },
      {
       "output_type": "stream",
       "stream": "stdout",
       "text": [
        "\n",
        "      4000           0.0000           0.0000            1.11s"
       ]
      },
      {
       "output_type": "stream",
       "stream": "stdout",
       "text": [
        "\n",
        "      5000           0.0000          -0.0000            0.88s"
       ]
      },
      {
       "output_type": "stream",
       "stream": "stdout",
       "text": [
        "\n",
        "      6000           0.0000          -0.0000            0.68s"
       ]
      },
      {
       "output_type": "stream",
       "stream": "stdout",
       "text": [
        "\n",
        "      7000           0.0000          -0.0000            0.50s"
       ]
      },
      {
       "output_type": "stream",
       "stream": "stdout",
       "text": [
        "\n",
        "      8000           0.0000          -0.0000            0.33s"
       ]
      },
      {
       "output_type": "stream",
       "stream": "stdout",
       "text": [
        "\n",
        "      9000           0.0000          -0.0000            0.16s"
       ]
      },
      {
       "output_type": "stream",
       "stream": "stdout",
       "text": [
        "\n",
        "     10000           0.0000          -0.0000            0.00s"
       ]
      },
      {
       "output_type": "stream",
       "stream": "stdout",
       "text": [
        "\n"
       ]
      }
     ],
     "prompt_number": 80
    },
    {
     "cell_type": "code",
     "collapsed": false,
     "input": [
      "# Due to variance of the prediction outcome we repeat the fit process N times(30 minimum) and average all over them.\n",
      "# The average prediction is very close enough to the actual measurement\n",
      "start_time = time.time()\n",
      "r = []\n",
      "for i in range(40):\n",
      "    est.fit(X[15*60:16*60],y[15*60:16*60])\n",
      "    r.append(est.predict(X[(16*60):(16*60)+1]))\n",
      "print (\"--- %s seconds ---\" % (time.time() - start_time))"
     ],
     "language": "python",
     "metadata": {},
     "outputs": [
      {
       "output_type": "stream",
       "stream": "stdout",
       "text": [
        "      Iter       Train Loss      OOB Improve   Remaining Time \n",
        "         1     1741378.4315       64952.4025            6.92s\n",
        "         2     1576580.3109      111089.6738            5.76s\n",
        "         3     1433290.9724      116510.9077            5.31s\n",
        "         4     1523607.4757       26103.7877            5.05s\n",
        "         5     1302383.5277       83859.3755            4.89s\n",
        "         6     1337362.2940       28582.4154            4.75s\n",
        "         7     1087705.6366       91410.2311            4.66s\n",
        "         8     1096195.0946       84252.7781            4.60s\n",
        "         9     1056065.9582       66261.5525            4.55s\n",
        "        10      940568.9454       86282.7955            4.62s\n",
        "        20      557364.1223       31438.3805            4.81s\n",
        "        30      341336.9468        5198.8846            4.56s\n",
        "        40      193028.9048        5815.2168            4.38s\n",
        "        50      116068.7867        7710.8602            4.02s\n",
        "        60       78938.5905         538.2220            3.79s\n",
        "        70       42428.7895        2629.6421            3.62s\n",
        "        80       38201.9811         277.4540            3.45s\n",
        "        90       29729.3657         267.6821            3.31s\n",
        "       100       13303.2392        1217.5594            3.24s\n",
        "       200        5127.8861         -76.3646            3.03s"
       ]
      },
      {
       "output_type": "stream",
       "stream": "stdout",
       "text": [
        "\n",
        "       300        1318.6514           0.6990            2.82s\n",
        "       400         409.5067          -1.2180            2.76s"
       ]
      },
      {
       "output_type": "stream",
       "stream": "stdout",
       "text": [
        "\n",
        "       500         103.2629          -6.3938            2.78s\n",
        "       600          44.5129          -1.3720            2.71s"
       ]
      },
      {
       "output_type": "stream",
       "stream": "stdout",
       "text": [
        "\n",
        "       700           8.8994          -0.8393            2.68s\n",
        "       800           5.5894          -0.0689            2.64s"
       ]
      },
      {
       "output_type": "stream",
       "stream": "stdout",
       "text": [
        "\n",
        "       900           1.7459          -0.0421            2.56s\n",
        "      1000           0.4904          -0.0270            2.52s"
       ]
      },
      {
       "output_type": "stream",
       "stream": "stdout",
       "text": [
        "\n",
        "      2000           0.0000          -0.0000            2.09s"
       ]
      },
      {
       "output_type": "stream",
       "stream": "stdout",
       "text": [
        "\n",
        "      3000           0.0000          -0.0000            1.66s"
       ]
      },
      {
       "output_type": "stream",
       "stream": "stdout",
       "text": [
        "\n",
        "      4000           0.0000          -0.0000            1.31s"
       ]
      },
      {
       "output_type": "stream",
       "stream": "stdout",
       "text": [
        "\n",
        "      5000           0.0000          -0.0000            1.03s"
       ]
      },
      {
       "output_type": "stream",
       "stream": "stdout",
       "text": [
        "\n",
        "      6000           0.0000          -0.0000            0.79s"
       ]
      },
      {
       "output_type": "stream",
       "stream": "stdout",
       "text": [
        "\n",
        "      7000           0.0000           0.0000            0.58s"
       ]
      },
      {
       "output_type": "stream",
       "stream": "stdout",
       "text": [
        "\n",
        "      8000           0.0000          -0.0000            0.38s"
       ]
      },
      {
       "output_type": "stream",
       "stream": "stdout",
       "text": [
        "\n",
        "      9000           0.0000           0.0000            0.19s"
       ]
      },
      {
       "output_type": "stream",
       "stream": "stdout",
       "text": [
        "\n",
        "     10000           0.0000          -0.0000            0.00s"
       ]
      },
      {
       "output_type": "stream",
       "stream": "stdout",
       "text": [
        "\n",
        "      Iter       Train Loss      OOB Improve   Remaining Time \n",
        "         1     1719230.5859       81150.8019            4.57s\n",
        "         2     1663278.3974       37334.3450            3.55s\n",
        "         3     1518233.5766       58007.1132            3.18s\n",
        "         4     1188975.6234      152544.8687            2.98s\n",
        "         5     1373258.7473       77895.9858            2.87s\n",
        "         6     1316153.4363       36801.6392            2.82s\n",
        "         7     1185819.5597       71379.1395            2.75s\n",
        "         8     1049603.4028       80238.7110            2.70s\n",
        "         9     1070969.4792       48823.1142            2.66s\n",
        "        10     1064906.8293        5686.7254            2.63s\n",
        "        20      547359.9517       36559.1508            2.37s\n",
        "        30      340183.5682        7567.4733            2.27s\n",
        "        40      178359.0402       11474.2862            2.23s\n",
        "        50      122188.3410        1619.3527            2.22s\n",
        "        60       78166.1584         536.4528            2.27s\n",
        "        70       51686.5711         505.5313            2.31s\n",
        "        80       22749.3316         897.5123            2.35s\n",
        "        90       28502.7845        -206.7044            2.33s\n",
        "       100       22439.8598        -291.6363            2.32s\n",
        "       200        4589.6658         -80.4222            2.46s"
       ]
      },
      {
       "output_type": "stream",
       "stream": "stdout",
       "text": [
        "\n",
        "       300        1210.9576          -3.9990            2.43s\n",
        "       400         429.5308          -0.5272            2.42s"
       ]
      },
      {
       "output_type": "stream",
       "stream": "stdout",
       "text": [
        "\n",
        "       500          78.5402          -8.6962            2.44s\n",
        "       600          43.1507          -0.8640            2.41s"
       ]
      },
      {
       "output_type": "stream",
       "stream": "stdout",
       "text": [
        "\n",
        "       700          14.2360          -0.0336            2.39s\n",
        "       800           4.8410          -0.0029            2.36s"
       ]
      },
      {
       "output_type": "stream",
       "stream": "stdout",
       "text": [
        "\n",
        "       900           1.4062          -0.0063            2.31s\n",
        "      1000           0.4539          -0.0002            2.29s\n",
        "      2000           0.0000           0.0000            2.01s"
       ]
      },
      {
       "output_type": "stream",
       "stream": "stdout",
       "text": [
        "\n",
        "      3000           0.0000           0.0000            1.62s"
       ]
      },
      {
       "output_type": "stream",
       "stream": "stdout",
       "text": [
        "\n",
        "      4000           0.0000          -0.0000            1.27s"
       ]
      },
      {
       "output_type": "stream",
       "stream": "stdout",
       "text": [
        "\n",
        "      5000           0.0000          -0.0000            1.00s"
       ]
      },
      {
       "output_type": "stream",
       "stream": "stdout",
       "text": [
        "\n",
        "      6000           0.0000          -0.0000            0.77s"
       ]
      },
      {
       "output_type": "stream",
       "stream": "stdout",
       "text": [
        "\n",
        "      7000           0.0000          -0.0000            0.56s"
       ]
      },
      {
       "output_type": "stream",
       "stream": "stdout",
       "text": [
        "\n",
        "      8000           0.0000          -0.0000            0.36s"
       ]
      },
      {
       "output_type": "stream",
       "stream": "stdout",
       "text": [
        "\n",
        "      9000           0.0000          -0.0000            0.18s"
       ]
      },
      {
       "output_type": "stream",
       "stream": "stdout",
       "text": [
        "\n",
        "     10000           0.0000          -0.0000            0.00s"
       ]
      },
      {
       "output_type": "stream",
       "stream": "stdout",
       "text": [
        "\n",
        "      Iter       Train Loss      OOB Improve   Remaining Time \n",
        "         1     1796361.8818       31079.9080            4.81s\n",
        "         2     1434132.0626      149760.4343            3.86s\n",
        "         3     1580139.8769       33650.9098            3.44s\n",
        "         4     1423869.3786       65213.5580            3.22s\n",
        "         5     1317700.2006       86258.4076            3.07s\n",
        "         6     1155188.2040      109856.8639            2.98s\n",
        "         7     1254190.4124       28054.0398            2.90s\n",
        "         8     1133248.8185       48929.9635            2.84s\n",
        "         9     1095167.6508       39108.1331            2.79s\n",
        "        10     1022134.9448       39413.8099            2.75s\n",
        "        20      578219.0602       20390.7981            2.44s\n",
        "        30      289014.4453       25565.5079            2.43s\n",
        "        40      192585.6606        7469.8463            2.40s\n",
        "        50      102041.8950        6417.9082            2.63s\n",
        "        60       54402.9142        1878.4449            2.55s\n",
        "        70       51730.9830         605.1936            2.49s\n",
        "        80       35321.3974        1422.2756            2.46s\n",
        "        90       26554.7785         719.0787            2.48s\n",
        "       100       22835.9625        -204.5803            2.46s\n",
        "       200        4920.4114         -40.8907            2.37s"
       ]
      },
      {
       "output_type": "stream",
       "stream": "stdout",
       "text": [
        "\n",
        "       300        1203.9642          -7.6001            2.34s\n",
        "       400         341.1195          -5.7546            2.34s\n",
        "       500         107.4524          -2.1986            2.32s"
       ]
      },
      {
       "output_type": "stream",
       "stream": "stdout",
       "text": [
        "\n",
        "       600          22.6015          -1.4632            2.33s\n",
        "       700          14.0664          -0.1169            2.32s"
       ]
      },
      {
       "output_type": "stream",
       "stream": "stdout",
       "text": [
        "\n",
        "       800           4.7841          -0.1017            2.29s\n",
        "       900           1.8402          -0.0045            2.33s"
       ]
      },
      {
       "output_type": "stream",
       "stream": "stdout",
       "text": [
        "\n",
        "      1000           0.4695          -0.0469            2.36s\n",
        "      2000           0.0000          -0.0000            2.06s"
       ]
      },
      {
       "output_type": "stream",
       "stream": "stdout",
       "text": [
        "\n",
        "      3000           0.0000          -0.0000            1.65s"
       ]
      },
      {
       "output_type": "stream",
       "stream": "stdout",
       "text": [
        "\n",
        "      4000           0.0000          -0.0000            1.29s"
       ]
      },
      {
       "output_type": "stream",
       "stream": "stdout",
       "text": [
        "\n",
        "      5000           0.0000          -0.0000            1.01s"
       ]
      },
      {
       "output_type": "stream",
       "stream": "stdout",
       "text": [
        "\n",
        "      6000           0.0000          -0.0000            0.77s"
       ]
      },
      {
       "output_type": "stream",
       "stream": "stdout",
       "text": [
        "\n",
        "      7000           0.0000          -0.0000            0.56s"
       ]
      },
      {
       "output_type": "stream",
       "stream": "stdout",
       "text": [
        "\n",
        "      8000           0.0000          -0.0000            0.37s"
       ]
      },
      {
       "output_type": "stream",
       "stream": "stdout",
       "text": [
        "\n",
        "      9000           0.0000          -0.0000            0.18s"
       ]
      },
      {
       "output_type": "stream",
       "stream": "stdout",
       "text": [
        "\n",
        "     10000           0.0000          -0.0000            0.00s"
       ]
      },
      {
       "output_type": "stream",
       "stream": "stdout",
       "text": [
        "\n",
        "      Iter       Train Loss      OOB Improve   Remaining Time \n",
        "         1     1688919.6685       81645.1931            4.35s\n",
        "         2     1516345.7568      103409.9276            3.45s\n",
        "         3     1475408.3158      111493.3379            3.11s\n",
        "         4     1426913.7919       65176.8389            2.93s\n",
        "         5     1290352.6831       98566.7891            2.82s\n",
        "         6     1166088.9565       84869.9563            2.74s\n",
        "         7      984291.9691      123903.2138            2.68s\n",
        "         8     1171671.9466       41052.3848            2.66s\n",
        "         9      991386.1596       90619.2633            2.63s\n",
        "        10      939511.6324       84073.9357            2.60s\n",
        "        20      523828.4663       38510.7151            2.40s\n",
        "        30      261369.3704       34985.9482            2.33s\n",
        "        40      192556.5217       11067.3410            2.28s\n",
        "        50      119085.1424        4081.3512            2.27s\n",
        "        60       61243.8911        6976.7669            2.25s\n",
        "        70       52538.7581        -373.1763            2.23s\n",
        "        80       36423.2845         -19.5919            2.23s\n",
        "        90       27689.1329         242.6978            2.31s\n",
        "       100       22829.5678         251.3252            2.33s\n",
        "       200        4343.1188         -49.9470            2.44s"
       ]
      },
      {
       "output_type": "stream",
       "stream": "stdout",
       "text": [
        "\n",
        "       300         851.5353         -72.7776            2.43s\n",
        "       400         255.9211         -19.7314            2.39s\n",
        "       500         130.6714          -0.0765            2.34s"
       ]
      },
      {
       "output_type": "stream",
       "stream": "stdout",
       "text": [
        "\n",
        "       600          46.5245          -0.1503            2.33s\n",
        "       700          13.8217          -0.3237            2.30s\n",
        "       800           4.9641          -0.0673            2.27s"
       ]
      },
      {
       "output_type": "stream",
       "stream": "stdout",
       "text": [
        "\n",
        "       900           1.2923          -0.0582            2.23s\n",
        "      1000           0.5709          -0.0015            2.23s\n",
        "      2000           0.0000          -0.0000            1.92s"
       ]
      },
      {
       "output_type": "stream",
       "stream": "stdout",
       "text": [
        "\n",
        "      3000           0.0000           0.0000            1.56s"
       ]
      },
      {
       "output_type": "stream",
       "stream": "stdout",
       "text": [
        "\n",
        "      4000           0.0000          -0.0000            1.22s"
       ]
      },
      {
       "output_type": "stream",
       "stream": "stdout",
       "text": [
        "\n",
        "      5000           0.0000          -0.0000            0.96s"
       ]
      },
      {
       "output_type": "stream",
       "stream": "stdout",
       "text": [
        "\n",
        "      6000           0.0000          -0.0000            0.74s"
       ]
      },
      {
       "output_type": "stream",
       "stream": "stdout",
       "text": [
        "\n",
        "      7000           0.0000          -0.0000            0.54s"
       ]
      },
      {
       "output_type": "stream",
       "stream": "stdout",
       "text": [
        "\n",
        "      8000           0.0000          -0.0000            0.35s"
       ]
      },
      {
       "output_type": "stream",
       "stream": "stdout",
       "text": [
        "\n",
        "      9000           0.0000          -0.0000            0.18s"
       ]
      },
      {
       "output_type": "stream",
       "stream": "stdout",
       "text": [
        "\n",
        "     10000           0.0000          -0.0000            0.00s"
       ]
      },
      {
       "output_type": "stream",
       "stream": "stdout",
       "text": [
        "\n",
        "      Iter       Train Loss      OOB Improve   Remaining Time \n",
        "         1     1630812.4298      135343.4097            4.42s\n",
        "         2     1623265.2364       57161.6014            3.49s\n",
        "         3     1463953.5187      110791.5007            3.14s\n",
        "         4     1449977.6675       48118.8294            2.97s\n",
        "         5     1386878.1331       41819.0467            2.85s\n",
        "         6     1285566.9684       56216.4172            2.78s\n",
        "         7     1277700.8048       11777.6842            2.71s\n",
        "         8     1142758.0341       44979.8526            2.67s\n",
        "         9     1043765.1519       63493.1035            2.63s\n",
        "        10      958557.5537       82729.7353            2.60s\n",
        "        20      570934.4777       21450.0504            2.35s\n",
        "        30      329312.2152        9964.2110            2.28s\n",
        "        40      193573.0861        7957.6765            2.29s\n",
        "        50      116429.7047        4638.0621            2.27s\n",
        "        60       72130.3518        3697.4060            2.25s\n",
        "        70       52939.0632         998.9795            2.29s\n",
        "        80       37144.2840         484.8803            2.30s\n",
        "        90       16886.7987        -103.4795            2.30s\n",
        "       100       24021.5310         113.3305            2.36s\n",
        "       200        5621.8026         -83.8076            2.35s"
       ]
      },
      {
       "output_type": "stream",
       "stream": "stdout",
       "text": [
        "\n",
        "       300        1650.0172         -40.5174            2.32s\n",
        "       400         563.8603          -3.4165            2.37s"
       ]
      },
      {
       "output_type": "stream",
       "stream": "stdout",
       "text": [
        "\n",
        "       500         173.9107          -5.9937            2.31s\n",
        "       600          57.8152          -0.7713            2.29s\n",
        "       700          17.8073          -0.7812            2.25s"
       ]
      },
      {
       "output_type": "stream",
       "stream": "stdout",
       "text": [
        "\n",
        "       800           5.7875          -0.5163            2.23s\n",
        "       900           2.2172          -0.0168            2.20s\n",
        "      1000           0.7453          -0.0008            2.19s"
       ]
      },
      {
       "output_type": "stream",
       "stream": "stdout",
       "text": [
        "\n",
        "      2000           0.0000          -0.0000            1.90s"
       ]
      },
      {
       "output_type": "stream",
       "stream": "stdout",
       "text": [
        "\n",
        "      3000           0.0000          -0.0000            1.54s"
       ]
      },
      {
       "output_type": "stream",
       "stream": "stdout",
       "text": [
        "\n",
        "      4000           0.0000           0.0000            1.21s"
       ]
      },
      {
       "output_type": "stream",
       "stream": "stdout",
       "text": [
        "\n",
        "      5000           0.0000          -0.0000            0.96s"
       ]
      },
      {
       "output_type": "stream",
       "stream": "stdout",
       "text": [
        "\n",
        "      6000           0.0000          -0.0000            0.74s"
       ]
      },
      {
       "output_type": "stream",
       "stream": "stdout",
       "text": [
        "\n",
        "      7000           0.0000          -0.0000            0.54s"
       ]
      },
      {
       "output_type": "stream",
       "stream": "stdout",
       "text": [
        "\n",
        "      8000           0.0000          -0.0000            0.35s"
       ]
      },
      {
       "output_type": "stream",
       "stream": "stdout",
       "text": [
        "\n",
        "      9000           0.0000          -0.0000            0.17s"
       ]
      },
      {
       "output_type": "stream",
       "stream": "stdout",
       "text": [
        "\n",
        "     10000           0.0000           0.0000            0.00s"
       ]
      },
      {
       "output_type": "stream",
       "stream": "stdout",
       "text": [
        "\n",
        "      Iter       Train Loss      OOB Improve   Remaining Time \n",
        "         1     1808098.5820       21907.0427            4.50s\n",
        "         2     1458596.7022      121821.5810            3.51s\n",
        "         3     1376192.4358      128926.9624            3.29s\n",
        "         4     1424187.2934       62570.0526            3.24s\n",
        "         5     1290324.4676       91148.0659            3.11s\n",
        "         6     1145449.3963      110984.8061            3.02s\n",
        "         7     1162290.3269       76394.0126            2.95s\n",
        "         8     1075424.2490       97012.7707            2.90s\n",
        "         9     1020406.0480       67509.0469            2.96s\n",
        "        10      987727.5483       42291.2067            3.00s\n",
        "        20      480907.4416       54987.9256            2.65s\n",
        "        30      287132.9628       20277.4685            2.47s\n",
        "        40      197225.8344        6797.2148            2.43s\n",
        "        50      101283.1648        8703.4226            2.41s\n",
        "        60       78644.4508        2317.4127            2.46s\n",
        "        70       52096.1545         778.0105            2.62s\n",
        "        80       36961.8094         920.7315            2.57s\n",
        "        90       29254.6694          86.0421            2.53s\n",
        "       100       23867.3630          14.4865            2.49s\n",
        "       200        4685.5718         -57.3091            2.49s"
       ]
      },
      {
       "output_type": "stream",
       "stream": "stdout",
       "text": [
        "\n",
        "       300        1186.1595         -10.6516            2.70s\n",
        "       400         320.5799          -2.3459            2.79s"
       ]
      },
      {
       "output_type": "stream",
       "stream": "stdout",
       "text": [
        "\n",
        "       500          96.1964          -3.3648            2.82s\n",
        "       600          41.7171          -0.1009            2.75s"
       ]
      },
      {
       "output_type": "stream",
       "stream": "stdout",
       "text": [
        "\n",
        "       700           9.6655          -0.6435            2.74s\n",
        "       800           3.7562          -0.1119            2.65s"
       ]
      },
      {
       "output_type": "stream",
       "stream": "stdout",
       "text": [
        "\n",
        "       900           1.2174          -0.0456            2.58s\n",
        "      1000           0.5447          -0.0043            2.54s"
       ]
      },
      {
       "output_type": "stream",
       "stream": "stdout",
       "text": [
        "\n",
        "      2000           0.0001          -0.0000            2.10s"
       ]
      },
      {
       "output_type": "stream",
       "stream": "stdout",
       "text": [
        "\n",
        "      3000           0.0000           0.0000            1.70s"
       ]
      },
      {
       "output_type": "stream",
       "stream": "stdout",
       "text": [
        "\n",
        "      4000           0.0000          -0.0000            1.31s"
       ]
      },
      {
       "output_type": "stream",
       "stream": "stdout",
       "text": [
        "\n",
        "      5000           0.0000          -0.0000            1.02s"
       ]
      },
      {
       "output_type": "stream",
       "stream": "stdout",
       "text": [
        "\n",
        "      6000           0.0000          -0.0000            0.78s"
       ]
      },
      {
       "output_type": "stream",
       "stream": "stdout",
       "text": [
        "\n",
        "      7000           0.0000          -0.0000            0.56s"
       ]
      },
      {
       "output_type": "stream",
       "stream": "stdout",
       "text": [
        "\n",
        "      8000           0.0000          -0.0000            0.36s"
       ]
      },
      {
       "output_type": "stream",
       "stream": "stdout",
       "text": [
        "\n",
        "      9000           0.0000          -0.0000            0.18s"
       ]
      },
      {
       "output_type": "stream",
       "stream": "stdout",
       "text": [
        "\n",
        "     10000           0.0000          -0.0000            0.00s"
       ]
      },
      {
       "output_type": "stream",
       "stream": "stdout",
       "text": [
        "\n",
        "      Iter       Train Loss      OOB Improve   Remaining Time \n",
        "         1     1619768.5053      139316.4479            6.73s\n",
        "         2     1549338.0936       87330.8826            5.43s\n",
        "         3     1356321.2407      128304.9883            4.93s\n",
        "         4     1498492.1440       36584.2780            4.67s\n",
        "         5     1283706.7989       78673.7722            4.52s\n",
        "         6     1325208.5048       28498.1682            4.41s\n",
        "         7     1219022.5778       44600.8926            4.35s\n",
        "         8     1156330.1881       52056.9508            4.31s\n",
        "         9      904609.8151      118056.6425            4.30s\n",
        "        10      988477.6331       69829.1946            4.39s\n",
        "        20      576291.2035       26035.9177            3.66s\n",
        "        30      318714.0060       19834.8434            3.23s\n",
        "        40      198760.3778        3990.2818            3.17s\n",
        "        50      120312.6057        3096.8976            2.96s\n",
        "        60       61848.5371        5762.1295            2.82s\n",
        "        70       43418.1899        3237.3385            2.72s\n",
        "        80       38125.2421         656.0470            2.66s\n",
        "        90       30355.6420        -104.0944            2.62s\n",
        "       100       23053.3934        -612.5890            2.61s\n",
        "       200        5145.8316          -6.4542            2.63s"
       ]
      },
      {
       "output_type": "stream",
       "stream": "stdout",
       "text": [
        "\n",
        "       300        1427.8603         -41.0332            2.48s\n",
        "       400         591.0749          -5.7630            2.53s"
       ]
      },
      {
       "output_type": "stream",
       "stream": "stdout",
       "text": [
        "\n",
        "       500         181.9440          -6.8340            2.49s\n",
        "       600          58.6655          -1.4430            2.44s\n",
        "       700          18.5608          -0.1581            2.37s"
       ]
      },
      {
       "output_type": "stream",
       "stream": "stdout",
       "text": [
        "\n",
        "       800           6.4955          -0.0149            2.32s\n",
        "       900           1.9048           0.0001            2.31s\n",
        "      1000           0.6025          -0.0086            2.26s"
       ]
      },
      {
       "output_type": "stream",
       "stream": "stdout",
       "text": [
        "\n",
        "      2000           0.0000          -0.0000            2.00s"
       ]
      },
      {
       "output_type": "stream",
       "stream": "stdout",
       "text": [
        "\n",
        "      3000           0.0000          -0.0000            1.60s"
       ]
      },
      {
       "output_type": "stream",
       "stream": "stdout",
       "text": [
        "\n",
        "      4000           0.0000          -0.0000            1.25s"
       ]
      },
      {
       "output_type": "stream",
       "stream": "stdout",
       "text": [
        "\n",
        "      5000           0.0000          -0.0000            1.00s"
       ]
      },
      {
       "output_type": "stream",
       "stream": "stdout",
       "text": [
        "\n",
        "      6000           0.0000          -0.0000            0.77s"
       ]
      },
      {
       "output_type": "stream",
       "stream": "stdout",
       "text": [
        "\n",
        "      7000           0.0000          -0.0000            0.56s"
       ]
      },
      {
       "output_type": "stream",
       "stream": "stdout",
       "text": [
        "\n",
        "      8000           0.0000          -0.0000            0.36s"
       ]
      },
      {
       "output_type": "stream",
       "stream": "stdout",
       "text": [
        "\n",
        "      9000           0.0000          -0.0000            0.18s"
       ]
      },
      {
       "output_type": "stream",
       "stream": "stdout",
       "text": [
        "\n",
        "     10000           0.0000          -0.0000            0.00s"
       ]
      },
      {
       "output_type": "stream",
       "stream": "stdout",
       "text": [
        "\n",
        "      Iter       Train Loss      OOB Improve   Remaining Time \n",
        "         1     1772856.2581       52824.3747            4.33s\n",
        "         2     1533282.1970       95208.3935            3.44s\n",
        "         3     1503498.2764       82311.9443            3.10s\n",
        "         4     1367008.9386      109152.7857            2.92s\n",
        "         5     1364338.1109       66987.6263            2.81s\n",
        "         6     1240371.8261       81763.8420            2.74s\n",
        "         7     1226248.5563       34846.7967            2.68s\n",
        "         8     1073529.7548       75280.9810            2.63s\n",
        "         9      985176.7973       75957.6083            2.60s\n",
        "        10     1004547.3501       56184.2052            2.57s\n",
        "        20      573791.9740       25013.1697            2.33s\n",
        "        30      304412.3823       20880.3155            2.24s\n",
        "        40      192122.5008        7943.4986            2.21s\n",
        "        50       71136.6128        7175.1189            2.18s\n",
        "        60       76582.6111        1393.0465            2.17s\n",
        "        70       52265.3118        1309.5201            2.17s\n",
        "        80       36413.8783         475.7138            2.17s\n",
        "        90       16562.4647        1150.7925            2.17s\n",
        "       100       23287.1077         169.1113            2.17s\n",
        "       200        5332.3636          -6.1847            2.28s"
       ]
      },
      {
       "output_type": "stream",
       "stream": "stdout",
       "text": [
        "\n",
        "       300        1295.8992         -57.2898            2.29s\n",
        "       400         464.9780          -1.0170            2.38s"
       ]
      },
      {
       "output_type": "stream",
       "stream": "stdout",
       "text": [
        "\n",
        "       500         114.7291          -4.2286            2.32s\n",
        "       600          48.4182          -0.9232            2.31s\n",
        "       700           8.7848          -1.1220            2.33s"
       ]
      },
      {
       "output_type": "stream",
       "stream": "stdout",
       "text": [
        "\n",
        "       800           5.7606          -0.0446            2.31s\n",
        "       900           1.7676          -0.0177            2.29s"
       ]
      },
      {
       "output_type": "stream",
       "stream": "stdout",
       "text": [
        "\n",
        "      1000           0.5153          -0.0008            2.26s\n",
        "      2000           0.0000          -0.0000            1.98s"
       ]
      },
      {
       "output_type": "stream",
       "stream": "stdout",
       "text": [
        "\n",
        "      3000           0.0000          -0.0000            1.58s"
       ]
      },
      {
       "output_type": "stream",
       "stream": "stdout",
       "text": [
        "\n",
        "      4000           0.0000          -0.0000            1.25s"
       ]
      },
      {
       "output_type": "stream",
       "stream": "stdout",
       "text": [
        "\n",
        "      5000           0.0000          -0.0000            0.99s"
       ]
      },
      {
       "output_type": "stream",
       "stream": "stdout",
       "text": [
        "\n",
        "      6000           0.0000          -0.0000            0.76s"
       ]
      },
      {
       "output_type": "stream",
       "stream": "stdout",
       "text": [
        "\n",
        "      7000           0.0000          -0.0000            0.55s"
       ]
      },
      {
       "output_type": "stream",
       "stream": "stdout",
       "text": [
        "\n",
        "      8000           0.0000          -0.0000            0.36s"
       ]
      },
      {
       "output_type": "stream",
       "stream": "stdout",
       "text": [
        "\n",
        "      9000           0.0000          -0.0000            0.18s"
       ]
      },
      {
       "output_type": "stream",
       "stream": "stdout",
       "text": [
        "\n",
        "     10000           0.0000          -0.0000            0.00s"
       ]
      },
      {
       "output_type": "stream",
       "stream": "stdout",
       "text": [
        "\n",
        "      Iter       Train Loss      OOB Improve   Remaining Time \n",
        "         1     1736136.7563       59301.4420            4.56s\n",
        "         2     1656027.0263       44786.0137            3.54s\n",
        "         3     1606884.5816       23147.3725            3.23s\n",
        "         4     1352628.4370       69526.3962            3.04s\n",
        "         5     1428889.0726       15441.1262            2.92s\n",
        "         6     1222956.8050       67932.7149            2.83s\n",
        "         7     1200411.1586       43670.6225            2.77s\n",
        "         8     1143181.8327       54854.3563            2.73s\n",
        "         9     1156447.9521        5581.6149            2.68s\n",
        "        10      986421.9402       66591.1840            2.65s\n",
        "        20      592079.5294       19033.7124            2.45s\n",
        "        30      333654.2206       15649.6106            2.34s\n",
        "        40      201515.7647        7876.4100            2.37s\n",
        "        50       98922.4072       12269.9447            2.53s\n",
        "        60       55955.2200        4755.2331            2.54s\n",
        "        70       53094.4436         454.2988            2.71s\n",
        "        80       38190.8284          70.3495            2.68s\n",
        "        90       23979.0908        -183.8538            2.64s\n",
        "       100       22556.8959         237.8285            2.63s\n",
        "       200        5145.8800         -23.9559            2.45s"
       ]
      },
      {
       "output_type": "stream",
       "stream": "stdout",
       "text": [
        "\n",
        "       300        1424.6007         -12.5038            2.45s\n",
        "       400         458.7866          -5.8450            2.52s"
       ]
      },
      {
       "output_type": "stream",
       "stream": "stdout",
       "text": [
        "\n",
        "       500         154.4440          -1.8742            2.67s\n",
        "       600          22.2538          -3.3220            2.67s"
       ]
      },
      {
       "output_type": "stream",
       "stream": "stdout",
       "text": [
        "\n",
        "       700          17.1696           0.0225            2.63s\n",
        "       800           5.2847          -0.0582            2.65s"
       ]
      },
      {
       "output_type": "stream",
       "stream": "stdout",
       "text": [
        "\n",
        "       900           1.4910          -0.0740            2.59s\n",
        "      1000           0.6440          -0.0013            2.51s\n",
        "      2000           0.0000          -0.0000            2.10s"
       ]
      },
      {
       "output_type": "stream",
       "stream": "stdout",
       "text": [
        "\n",
        "      3000           0.0000          -0.0000            1.67s"
       ]
      },
      {
       "output_type": "stream",
       "stream": "stdout",
       "text": [
        "\n",
        "      4000           0.0000          -0.0000            1.30s"
       ]
      },
      {
       "output_type": "stream",
       "stream": "stdout",
       "text": [
        "\n",
        "      5000           0.0000          -0.0000            1.01s"
       ]
      },
      {
       "output_type": "stream",
       "stream": "stdout",
       "text": [
        "\n",
        "      6000           0.0000          -0.0000            0.82s"
       ]
      },
      {
       "output_type": "stream",
       "stream": "stdout",
       "text": [
        "\n",
        "      7000           0.0000          -0.0000            0.59s"
       ]
      },
      {
       "output_type": "stream",
       "stream": "stdout",
       "text": [
        "\n",
        "      8000           0.0000          -0.0000            0.39s"
       ]
      },
      {
       "output_type": "stream",
       "stream": "stdout",
       "text": [
        "\n",
        "      9000           0.0000          -0.0000            0.19s"
       ]
      },
      {
       "output_type": "stream",
       "stream": "stdout",
       "text": [
        "\n",
        "     10000           0.0000          -0.0000            0.00s"
       ]
      },
      {
       "output_type": "stream",
       "stream": "stdout",
       "text": [
        "\n",
        "      Iter       Train Loss      OOB Improve   Remaining Time \n",
        "         1     1672027.1528      106078.4555            4.42s\n",
        "         2     1555482.5099      110746.6896            3.51s\n",
        "         3     1384280.1793      116699.9556            3.13s\n",
        "         4     1368495.9223      105610.5992            2.94s\n",
        "         5     1391909.7886       35433.2506            2.82s\n",
        "         6     1279491.0376       38565.1813            2.74s\n",
        "         7     1093359.3252       85383.0385            2.68s\n",
        "         8     1064180.0039       92503.6313            2.66s\n",
        "         9     1068961.3894       59746.4569            2.62s\n",
        "        10     1036666.8470       26709.5241            2.59s\n",
        "        20      563105.1658       35044.0775            2.33s\n",
        "        30      326783.6874       13370.7840            2.26s\n",
        "        40      202351.1989        2842.5115            2.22s\n",
        "        50      124948.2272        1645.5088            2.23s\n",
        "        60       65227.9483        4189.9063            2.23s\n",
        "        70       54412.9513         -42.4697            2.22s\n",
        "        80       23146.2469         715.9005            2.21s\n",
        "        90       30129.0541        -356.0288            2.21s\n",
        "       100       23007.1833        -744.6676            2.22s\n",
        "       200        3200.5607        -146.8607            2.49s"
       ]
      },
      {
       "output_type": "stream",
       "stream": "stdout",
       "text": [
        "\n",
        "       300        1103.8025           6.8335            2.41s\n",
        "       400         418.2498          -0.4240            2.35s\n",
        "       500          68.5909          -2.0501            2.34s"
       ]
      },
      {
       "output_type": "stream",
       "stream": "stdout",
       "text": [
        "\n",
        "       600          47.7749          -0.6319            2.34s\n",
        "       700          18.4613          -0.0523            2.38s"
       ]
      },
      {
       "output_type": "stream",
       "stream": "stdout",
       "text": [
        "\n",
        "       800           6.0914          -0.1153            2.35s\n",
        "       900           1.9790          -0.0146            2.31s\n",
        "      1000           0.6785          -0.0007            2.29s"
       ]
      },
      {
       "output_type": "stream",
       "stream": "stdout",
       "text": [
        "\n",
        "      2000           0.0000          -0.0000            1.97s"
       ]
      },
      {
       "output_type": "stream",
       "stream": "stdout",
       "text": [
        "\n",
        "      3000           0.0000          -0.0000            1.59s"
       ]
      },
      {
       "output_type": "stream",
       "stream": "stdout",
       "text": [
        "\n",
        "      4000           0.0000           0.0000            1.26s"
       ]
      },
      {
       "output_type": "stream",
       "stream": "stdout",
       "text": [
        "\n",
        "      5000           0.0000          -0.0000            1.01s"
       ]
      },
      {
       "output_type": "stream",
       "stream": "stdout",
       "text": [
        "\n",
        "      6000           0.0000          -0.0000            0.77s"
       ]
      },
      {
       "output_type": "stream",
       "stream": "stdout",
       "text": [
        "\n",
        "      7000           0.0000          -0.0000            0.56s"
       ]
      },
      {
       "output_type": "stream",
       "stream": "stdout",
       "text": [
        "\n",
        "      8000           0.0000          -0.0000            0.36s"
       ]
      },
      {
       "output_type": "stream",
       "stream": "stdout",
       "text": [
        "\n",
        "      9000           0.0000          -0.0000            0.18s"
       ]
      },
      {
       "output_type": "stream",
       "stream": "stdout",
       "text": [
        "\n",
        "     10000           0.0000          -0.0000            0.00s"
       ]
      },
      {
       "output_type": "stream",
       "stream": "stdout",
       "text": [
        "\n",
        "      Iter       Train Loss      OOB Improve   Remaining Time \n",
        "         1     1634000.3168      131193.5139            4.33s\n",
        "         2     1465619.1898      120037.6888            3.44s\n",
        "         3     1535434.3320       58146.8991            3.09s\n",
        "         4     1427438.0173       72737.1855            2.92s\n",
        "         5     1357621.1783       64267.8933            2.82s\n",
        "         6     1351421.2227       11776.2628            2.74s\n",
        "         7      961729.4862      158402.0200            2.68s\n",
        "         8     1180791.8752       29020.6668            2.64s\n",
        "         9     1007283.2351       71320.4699            2.60s\n",
        "        10     1086354.2097        5045.7510            2.58s\n",
        "        20      525338.7620       50609.0295            2.34s\n",
        "        30      335122.7833       11694.7766            2.30s\n",
        "        40      179721.7927        8757.6980            2.27s\n",
        "        50      120552.4821        3342.4919            2.24s\n",
        "        60       68211.8841        3096.1888            2.25s\n",
        "        70       51638.7379        2027.3703            2.24s\n",
        "        80       37391.0639         318.6575            2.36s\n",
        "        90       27878.0727         385.4179            2.36s\n",
        "       100       23299.5633         356.6563            2.35s\n",
        "       200        5740.2672         -59.9763            2.34s"
       ]
      },
      {
       "output_type": "stream",
       "stream": "stdout",
       "text": [
        "\n",
        "       300        1535.0295         -16.1283            2.35s\n",
        "       400         451.0713           0.4577            2.57s"
       ]
      },
      {
       "output_type": "stream",
       "stream": "stdout",
       "text": [
        "\n",
        "       500          89.0993          -7.4011            2.73s\n",
        "       600          42.3027          -0.5027            2.69s"
       ]
      },
      {
       "output_type": "stream",
       "stream": "stdout",
       "text": [
        "\n",
        "       700          14.4133          -0.0739            2.61s\n",
        "       800           3.7021          -0.1497            2.54s\n",
        "       900           1.6370          -0.0054            2.49s"
       ]
      },
      {
       "output_type": "stream",
       "stream": "stdout",
       "text": [
        "\n",
        "      1000           0.4367          -0.0172            2.43s\n",
        "      2000           0.0000          -0.0000            2.04s"
       ]
      },
      {
       "output_type": "stream",
       "stream": "stdout",
       "text": [
        "\n",
        "      3000           0.0000          -0.0000            1.66s"
       ]
      },
      {
       "output_type": "stream",
       "stream": "stdout",
       "text": [
        "\n",
        "      4000           0.0000          -0.0000            1.30s"
       ]
      },
      {
       "output_type": "stream",
       "stream": "stdout",
       "text": [
        "\n",
        "      5000           0.0000          -0.0000            1.02s"
       ]
      },
      {
       "output_type": "stream",
       "stream": "stdout",
       "text": [
        "\n",
        "      6000           0.0000          -0.0000            0.78s"
       ]
      },
      {
       "output_type": "stream",
       "stream": "stdout",
       "text": [
        "\n",
        "      7000           0.0000           0.0000            0.57s"
       ]
      },
      {
       "output_type": "stream",
       "stream": "stdout",
       "text": [
        "\n",
        "      8000           0.0000          -0.0000            0.37s"
       ]
      },
      {
       "output_type": "stream",
       "stream": "stdout",
       "text": [
        "\n",
        "      9000           0.0000          -0.0000            0.18s"
       ]
      },
      {
       "output_type": "stream",
       "stream": "stdout",
       "text": [
        "\n",
        "     10000           0.0000          -0.0000            0.00s"
       ]
      },
      {
       "output_type": "stream",
       "stream": "stdout",
       "text": [
        "\n",
        "      Iter       Train Loss      OOB Improve   Remaining Time \n",
        "         1     1532441.5471      161233.0790            4.39s\n",
        "         2     1623592.6163       92818.2181            3.46s\n",
        "         3     1568612.8466       30646.6536            3.12s\n",
        "         4     1475566.9879       46165.8632            2.94s\n",
        "         5     1375020.3250       45313.9424            2.88s\n",
        "         6     1140665.5304      119917.0379            2.80s\n",
        "         7     1114581.6382       99095.7035            2.87s\n",
        "         8     1158512.2941       39015.0127            2.82s\n",
        "         9     1088918.6496       39448.0085            2.77s\n",
        "        10     1002238.0159       45850.2104            2.74s\n",
        "        20      571015.2956       27777.5230            2.42s\n",
        "        30      279583.9513       29486.1369            2.56s\n",
        "        40      161631.6281       11750.2319            2.53s\n",
        "        50      122523.8312        4459.7699            2.45s\n",
        "        60       77223.5328        2500.3234            2.42s\n",
        "        70       53769.5775        1224.6781            2.38s\n",
        "        80       14861.5638         642.8042            2.35s\n",
        "        90       23855.4462        1091.5725            2.37s\n",
        "       100       24118.4889        -623.5495            2.42s\n",
        "       200        5544.3727         -43.9489            2.34s"
       ]
      },
      {
       "output_type": "stream",
       "stream": "stdout",
       "text": [
        "\n",
        "       300        1225.5064         -31.8731            2.30s\n",
        "       400         426.3207          -8.1312            2.45s"
       ]
      },
      {
       "output_type": "stream",
       "stream": "stdout",
       "text": [
        "\n",
        "       500          69.5654          -9.8951            2.40s\n",
        "       600          57.3462          -0.7707            2.42s"
       ]
      },
      {
       "output_type": "stream",
       "stream": "stdout",
       "text": [
        "\n",
        "       700          18.1866          -0.1295            2.49s\n",
        "       800           6.0813          -0.0323            2.51s"
       ]
      },
      {
       "output_type": "stream",
       "stream": "stdout",
       "text": [
        "\n",
        "       900           1.7206          -0.0463            2.59s\n",
        "      1000           0.6484          -0.0012            2.53s"
       ]
      },
      {
       "output_type": "stream",
       "stream": "stdout",
       "text": [
        "\n",
        "      2000           0.0000          -0.0000            2.11s"
       ]
      },
      {
       "output_type": "stream",
       "stream": "stdout",
       "text": [
        "\n",
        "      3000           0.0000          -0.0000            1.71s"
       ]
      },
      {
       "output_type": "stream",
       "stream": "stdout",
       "text": [
        "\n",
        "      4000           0.0000          -0.0000            1.32s"
       ]
      },
      {
       "output_type": "stream",
       "stream": "stdout",
       "text": [
        "\n",
        "      5000           0.0000           0.0000            1.03s"
       ]
      },
      {
       "output_type": "stream",
       "stream": "stdout",
       "text": [
        "\n",
        "      6000           0.0000          -0.0000            0.79s"
       ]
      },
      {
       "output_type": "stream",
       "stream": "stdout",
       "text": [
        "\n",
        "      7000           0.0000          -0.0000            0.57s"
       ]
      },
      {
       "output_type": "stream",
       "stream": "stdout",
       "text": [
        "\n",
        "      8000           0.0000          -0.0000            0.37s"
       ]
      },
      {
       "output_type": "stream",
       "stream": "stdout",
       "text": [
        "\n",
        "      9000           0.0000          -0.0000            0.18s"
       ]
      },
      {
       "output_type": "stream",
       "stream": "stdout",
       "text": [
        "\n",
        "     10000           0.0000          -0.0000            0.00s"
       ]
      },
      {
       "output_type": "stream",
       "stream": "stdout",
       "text": [
        "\n",
        "      Iter       Train Loss      OOB Improve   Remaining Time \n",
        "         1     1723797.6179       79678.0976            4.33s\n",
        "         2     1654338.6717       50957.9370            3.44s\n",
        "         3     1570344.3376       45591.9709            3.10s\n",
        "         4     1421679.0629       78382.7506            2.92s\n",
        "         5     1262063.7732       94993.1909            2.81s\n",
        "         6     1159877.1918       89650.9795            2.77s\n",
        "         7     1223253.0011       47219.1420            2.71s\n",
        "         8     1145695.1165       47092.9254            2.67s\n",
        "         9     1060567.0656       51532.0620            2.63s\n",
        "        10     1028256.3773       32602.6582            2.60s\n",
        "        20      555626.8866       35966.5499            2.51s\n",
        "        30      323902.4364       19432.8725            2.82s\n",
        "        40      184521.9582        7712.9083            2.83s\n",
        "        50      108653.7316        6115.2363            2.73s\n",
        "        60       76802.2893        1936.2600            2.64s\n",
        "        70       47014.0143        1438.3832            2.62s\n",
        "        80       39527.1898        -291.7431            2.59s\n",
        "        90       29683.8747         376.2016            2.54s\n",
        "       100       23914.2888        -406.3667            2.50s\n",
        "       200        5828.9103         -28.3075            2.53s"
       ]
      },
      {
       "output_type": "stream",
       "stream": "stdout",
       "text": [
        "\n",
        "       300        1530.2686          -7.0819            2.41s\n",
        "       400         452.7144         -15.3532            2.45s"
       ]
      },
      {
       "output_type": "stream",
       "stream": "stdout",
       "text": [
        "\n",
        "       500          94.4738          -9.2724            2.42s\n",
        "       600          69.9836           0.0137            2.39s"
       ]
      },
      {
       "output_type": "stream",
       "stream": "stdout",
       "text": [
        "\n",
        "       700          22.5981          -0.0419            2.34s\n",
        "       800           7.0734          -0.0114            2.31s\n",
        "       900           1.6980          -0.1202            2.31s"
       ]
      },
      {
       "output_type": "stream",
       "stream": "stdout",
       "text": [
        "\n",
        "      1000           0.6845          -0.0031            2.28s\n",
        "      2000           0.0000          -0.0000            1.96s"
       ]
      },
      {
       "output_type": "stream",
       "stream": "stdout",
       "text": [
        "\n",
        "      3000           0.0000          -0.0000            1.56s"
       ]
      },
      {
       "output_type": "stream",
       "stream": "stdout",
       "text": [
        "\n",
        "      4000           0.0000          -0.0000            1.23s"
       ]
      },
      {
       "output_type": "stream",
       "stream": "stdout",
       "text": [
        "\n",
        "      5000           0.0000          -0.0000            0.97s"
       ]
      },
      {
       "output_type": "stream",
       "stream": "stdout",
       "text": [
        "\n",
        "      6000           0.0000          -0.0000            0.75s"
       ]
      },
      {
       "output_type": "stream",
       "stream": "stdout",
       "text": [
        "\n",
        "      7000           0.0000          -0.0000            0.54s"
       ]
      },
      {
       "output_type": "stream",
       "stream": "stdout",
       "text": [
        "\n",
        "      8000           0.0000          -0.0000            0.36s"
       ]
      },
      {
       "output_type": "stream",
       "stream": "stdout",
       "text": [
        "\n",
        "      9000           0.0000          -0.0000            0.17s"
       ]
      },
      {
       "output_type": "stream",
       "stream": "stdout",
       "text": [
        "\n",
        "     10000           0.0000          -0.0000            0.00s"
       ]
      },
      {
       "output_type": "stream",
       "stream": "stdout",
       "text": [
        "\n",
        "      Iter       Train Loss      OOB Improve   Remaining Time \n",
        "         1     1603389.4091      124846.3713            4.37s\n",
        "         2     1695547.7811       26505.3868            3.60s\n",
        "         3     1506428.0266       83930.7045            3.20s\n",
        "         4     1347829.2786       82427.2163            3.00s\n",
        "         5     1359408.7370       69434.8118            2.88s\n",
        "         6     1308350.2699       36478.5346            2.79s\n",
        "         7     1180489.7118       71558.1778            2.76s\n",
        "         8      945551.2069      132098.4331            2.71s\n",
        "         9      954233.5734       95415.7531            2.67s\n",
        "        10     1015247.2707       43642.3129            2.64s\n",
        "        20      570844.1780       30970.7836            2.35s\n",
        "        30      277978.6892       33065.4272            2.30s\n",
        "        40      203638.4224        2390.0981            2.35s\n",
        "        50      119434.3738        3949.6733            2.34s\n",
        "        60       50844.6453        3844.5311            2.30s\n",
        "        70       53895.2531         467.5941            2.27s\n",
        "        80       38589.1107         137.3556            2.25s\n",
        "        90       29515.5409         403.3787            2.24s\n",
        "       100       20337.5268         105.6618            2.25s\n",
        "       200        5386.2058         -24.2788            2.50s"
       ]
      },
      {
       "output_type": "stream",
       "stream": "stdout",
       "text": [
        "\n",
        "       300        1371.1775         -27.2170            2.42s\n",
        "       400         473.0835          -5.5963            2.52s"
       ]
      },
      {
       "output_type": "stream",
       "stream": "stdout",
       "text": [
        "\n",
        "       500         154.1970          -1.4694            2.47s\n",
        "       600          53.6967          -0.4883            2.49s"
       ]
      },
      {
       "output_type": "stream",
       "stream": "stdout",
       "text": [
        "\n",
        "       700          16.9937          -0.4804            2.45s\n",
        "       800           6.6603          -0.0356            2.43s"
       ]
      },
      {
       "output_type": "stream",
       "stream": "stdout",
       "text": [
        "\n",
        "       900           2.2928          -0.0116            2.39s\n",
        "      1000           0.6914          -0.0145            2.36s"
       ]
      },
      {
       "output_type": "stream",
       "stream": "stdout",
       "text": [
        "\n",
        "      2000           0.0000          -0.0000            2.01s"
       ]
      },
      {
       "output_type": "stream",
       "stream": "stdout",
       "text": [
        "\n",
        "      3000           0.0000           0.0000            1.62s"
       ]
      },
      {
       "output_type": "stream",
       "stream": "stdout",
       "text": [
        "\n",
        "      4000           0.0000          -0.0000            1.35s"
       ]
      },
      {
       "output_type": "stream",
       "stream": "stdout",
       "text": [
        "\n",
        "      5000           0.0000          -0.0000            1.10s"
       ]
      },
      {
       "output_type": "stream",
       "stream": "stdout",
       "text": [
        "\n",
        "      6000           0.0000          -0.0000            0.85s"
       ]
      },
      {
       "output_type": "stream",
       "stream": "stdout",
       "text": [
        "\n",
        "      7000           0.0000          -0.0000            0.61s"
       ]
      },
      {
       "output_type": "stream",
       "stream": "stdout",
       "text": [
        "\n",
        "      8000           0.0000          -0.0000            0.40s"
       ]
      },
      {
       "output_type": "stream",
       "stream": "stdout",
       "text": [
        "\n",
        "      9000           0.0000          -0.0000            0.19s"
       ]
      },
      {
       "output_type": "stream",
       "stream": "stdout",
       "text": [
        "\n",
        "     10000           0.0000          -0.0000            0.00s"
       ]
      },
      {
       "output_type": "stream",
       "stream": "stdout",
       "text": [
        "\n",
        "      Iter       Train Loss      OOB Improve   Remaining Time \n",
        "         1     1320801.2508      193838.2408            4.40s\n",
        "         2     1545407.7335      127200.7825            3.47s\n",
        "         3     1562524.4117       60024.3285            3.12s\n",
        "         4     1423246.5785       75816.4039            2.93s\n",
        "         5     1421866.4066       21691.7198            2.87s\n",
        "         6     1296120.1458       44795.3947            2.79s\n",
        "         7     1151225.5123       95444.3528            2.73s\n",
        "         8     1072216.6844       86675.4775            2.69s\n",
        "         9     1109339.5669       18766.0572            2.72s\n",
        "        10      937016.4407       86158.1449            2.71s\n",
        "        20      588645.8080       11460.6992            2.40s\n",
        "        30      341261.1898        3649.6890            2.30s\n",
        "        40      201872.2825        2711.2708            2.25s\n",
        "        50      122117.5638        2588.0268            2.25s\n",
        "        60       73780.3724        1441.4678            2.34s\n",
        "        70       51913.2292         342.5852            2.32s\n",
        "        80       37501.3343         449.9204            2.32s\n",
        "        90       28717.7061         290.0477            2.31s\n",
        "       100       23657.2284          89.3331            2.32s\n",
        "       200        5544.5622          91.8414            2.38s"
       ]
      },
      {
       "output_type": "stream",
       "stream": "stdout",
       "text": [
        "\n",
        "       300        1228.1855          -2.3341            2.69s\n",
        "       400         394.1198           0.5250            2.73s"
       ]
      },
      {
       "output_type": "stream",
       "stream": "stdout",
       "text": [
        "\n",
        "       500         145.8696          -2.9348            2.60s\n",
        "       600          57.1721          -0.4995            2.52s\n",
        "       700          18.3425          -0.1288            2.46s"
       ]
      },
      {
       "output_type": "stream",
       "stream": "stdout",
       "text": [
        "\n",
        "       800           6.4079           0.0151            2.40s\n",
        "       900           2.2671          -0.0126            2.35s\n",
        "      1000           0.7377           0.0001            2.30s"
       ]
      },
      {
       "output_type": "stream",
       "stream": "stdout",
       "text": [
        "\n",
        "      2000           0.0000           0.0000            1.98s"
       ]
      },
      {
       "output_type": "stream",
       "stream": "stdout",
       "text": [
        "\n",
        "      3000           0.0000          -0.0000            1.57s"
       ]
      },
      {
       "output_type": "stream",
       "stream": "stdout",
       "text": [
        "\n",
        "      4000           0.0000          -0.0000            1.23s"
       ]
      },
      {
       "output_type": "stream",
       "stream": "stdout",
       "text": [
        "\n",
        "      5000           0.0000          -0.0000            0.98s"
       ]
      },
      {
       "output_type": "stream",
       "stream": "stdout",
       "text": [
        "\n",
        "      6000           0.0000          -0.0000            0.75s"
       ]
      },
      {
       "output_type": "stream",
       "stream": "stdout",
       "text": [
        "\n",
        "      7000           0.0000          -0.0000            0.55s"
       ]
      },
      {
       "output_type": "stream",
       "stream": "stdout",
       "text": [
        "\n",
        "      8000           0.0000          -0.0000            0.36s"
       ]
      },
      {
       "output_type": "stream",
       "stream": "stdout",
       "text": [
        "\n",
        "      9000           0.0000          -0.0000            0.18s"
       ]
      },
      {
       "output_type": "stream",
       "stream": "stdout",
       "text": [
        "\n",
        "     10000           0.0000          -0.0000            0.00s"
       ]
      },
      {
       "output_type": "stream",
       "stream": "stdout",
       "text": [
        "\n",
        "      Iter       Train Loss      OOB Improve   Remaining Time \n",
        "         1     1712992.4639       69813.8180            4.42s\n",
        "         2     1580756.4409       89186.1343            3.56s\n",
        "         3     1449680.8225       75961.9142            3.17s\n",
        "         4     1383284.6493       88755.3500            2.97s\n",
        "         5     1220330.5736      119076.6690            2.85s\n",
        "         6     1300521.4806       42003.4546            2.77s\n",
        "         7      988596.5917      145633.0734            2.71s\n",
        "         8     1180814.2317       26261.5709            2.66s\n",
        "         9     1077488.5773       38629.0027            2.62s\n",
        "        10     1034901.7173       38731.2063            2.59s\n",
        "        20      514893.1153       44452.5203            2.34s\n",
        "        30      342308.5718        6430.8051            2.33s\n",
        "        40      198830.0683        5202.8042            2.64s\n",
        "        50      120591.1385        3064.7587            2.60s\n",
        "        60       53730.4860        4909.3942            2.53s\n",
        "        70       51839.1949         900.6894            2.49s\n",
        "        80       22891.6793        1964.4053            2.45s\n",
        "        90       28634.4129         337.6888            2.42s\n",
        "       100       24665.6873          19.1838            2.40s\n",
        "       200        5162.7157        -146.0389            2.57s"
       ]
      },
      {
       "output_type": "stream",
       "stream": "stdout",
       "text": [
        "\n",
        "       300        1539.1447           2.8187            2.84s\n",
        "       400         501.9913         -11.3891            2.79s"
       ]
      },
      {
       "output_type": "stream",
       "stream": "stdout",
       "text": [
        "\n",
        "       500          83.8864         -15.5128            2.66s\n",
        "       600          61.9323          -1.3416            2.63s"
       ]
      },
      {
       "output_type": "stream",
       "stream": "stdout",
       "text": [
        "\n",
        "       700          19.6500          -0.1910            2.65s\n",
        "       800           6.9730          -0.0098            2.60s"
       ]
      },
      {
       "output_type": "stream",
       "stream": "stdout",
       "text": [
        "\n",
        "       900           2.4133          -0.0121            2.54s\n",
        "      1000           0.3361          -0.0656            2.48s\n",
        "      2000           0.0000          -0.0000            2.04s"
       ]
      },
      {
       "output_type": "stream",
       "stream": "stdout",
       "text": [
        "\n",
        "      3000           0.0000          -0.0000            1.62s"
       ]
      },
      {
       "output_type": "stream",
       "stream": "stdout",
       "text": [
        "\n",
        "      4000           0.0000          -0.0000            1.26s"
       ]
      },
      {
       "output_type": "stream",
       "stream": "stdout",
       "text": [
        "\n",
        "      5000           0.0000          -0.0000            1.00s"
       ]
      },
      {
       "output_type": "stream",
       "stream": "stdout",
       "text": [
        "\n",
        "      6000           0.0000          -0.0000            0.77s"
       ]
      },
      {
       "output_type": "stream",
       "stream": "stdout",
       "text": [
        "\n",
        "      7000           0.0000          -0.0000            0.56s"
       ]
      },
      {
       "output_type": "stream",
       "stream": "stdout",
       "text": [
        "\n",
        "      8000           0.0000          -0.0000            0.36s"
       ]
      },
      {
       "output_type": "stream",
       "stream": "stdout",
       "text": [
        "\n",
        "      9000           0.0000          -0.0000            0.18s"
       ]
      },
      {
       "output_type": "stream",
       "stream": "stdout",
       "text": [
        "\n",
        "     10000           0.0000          -0.0000            0.00s"
       ]
      },
      {
       "output_type": "stream",
       "stream": "stdout",
       "text": [
        "\n",
        "      Iter       Train Loss      OOB Improve   Remaining Time \n",
        "         1     1623662.5112      108521.1374            4.75s\n",
        "         2     1617906.6225       78440.6129            4.38s\n",
        "         3     1504551.9911       73954.1444            4.22s\n",
        "         4     1478903.9414       41516.4178            4.10s\n",
        "         5     1365895.0467       64270.7241            4.19s\n",
        "         6     1308125.2097       51873.2969            4.14s\n",
        "         7      968377.1602      132906.4933            4.11s\n",
        "         8     1146082.6012       53197.0492            4.08s\n",
        "         9     1077020.6712       32076.1161            4.05s\n",
        "        10     1049159.5370       25818.6426            4.03s\n",
        "        20      578693.4815       20994.2665            3.35s\n",
        "        30      276665.1654       23511.1440            3.18s\n",
        "        40      189820.1359        9161.1285            2.91s\n",
        "        50      121226.0294        1962.9937            2.81s\n",
        "        60       76304.6746        1494.5790            2.77s\n",
        "        70       52935.3106         192.3311            2.74s\n",
        "        80       29347.7133        1744.7742            2.85s\n",
        "        90       17417.7340        -183.8777            2.85s\n",
        "       100       18895.6294         761.5746            2.83s\n",
        "       200        4857.2559          43.8673            2.55s"
       ]
      },
      {
       "output_type": "stream",
       "stream": "stdout",
       "text": [
        "\n",
        "       300        1198.2824           0.7679            2.45s\n",
        "       400         365.2934         -10.2248            2.42s\n",
        "       500         107.5278          -0.8220            2.38s"
       ]
      },
      {
       "output_type": "stream",
       "stream": "stdout",
       "text": [
        "\n",
        "       600          42.5439           0.0019            2.33s\n",
        "       700           7.5740          -0.1725            2.30s\n",
        "       800           4.8768          -0.1468            2.30s"
       ]
      },
      {
       "output_type": "stream",
       "stream": "stdout",
       "text": [
        "\n",
        "       900           1.8373          -0.0064            2.36s\n",
        "      1000           0.5320          -0.0064            2.41s"
       ]
      },
      {
       "output_type": "stream",
       "stream": "stdout",
       "text": [
        "\n",
        "      2000           0.0000          -0.0000            2.09s"
       ]
      },
      {
       "output_type": "stream",
       "stream": "stdout",
       "text": [
        "\n",
        "      3000           0.0000          -0.0000            1.61s"
       ]
      },
      {
       "output_type": "stream",
       "stream": "stdout",
       "text": [
        "\n",
        "      4000           0.0000          -0.0000            1.26s"
       ]
      },
      {
       "output_type": "stream",
       "stream": "stdout",
       "text": [
        "\n",
        "      5000           0.0000          -0.0000            0.99s"
       ]
      },
      {
       "output_type": "stream",
       "stream": "stdout",
       "text": [
        "\n",
        "      6000           0.0000          -0.0000            0.77s"
       ]
      },
      {
       "output_type": "stream",
       "stream": "stdout",
       "text": [
        "\n",
        "      7000           0.0000          -0.0000            0.56s"
       ]
      },
      {
       "output_type": "stream",
       "stream": "stdout",
       "text": [
        "\n",
        "      8000           0.0000          -0.0000            0.36s"
       ]
      },
      {
       "output_type": "stream",
       "stream": "stdout",
       "text": [
        "\n",
        "      9000           0.0000           0.0000            0.18s"
       ]
      },
      {
       "output_type": "stream",
       "stream": "stdout",
       "text": [
        "\n",
        "     10000           0.0000          -0.0000            0.00s"
       ]
      },
      {
       "output_type": "stream",
       "stream": "stdout",
       "text": [
        "\n",
        "      Iter       Train Loss      OOB Improve   Remaining Time \n",
        "         1     1729599.4528       72950.9733            4.76s\n",
        "         2     1508899.7945      146471.8788            3.69s\n",
        "         3     1310581.8417      148560.3032            3.27s\n",
        "         4     1386283.8130       82250.3047            3.05s\n",
        "         5     1217182.6891      120120.6136            2.92s\n",
        "         6     1220834.6313       71851.1497            2.83s\n",
        "         7     1034818.1010      131305.3778            2.77s\n",
        "         8      942867.7336      140128.8673            2.74s\n",
        "         9     1116409.1968       27428.5278            2.71s\n",
        "        10     1031534.9063       52307.2709            2.69s\n",
        "        20      562870.3274       41422.9991            2.41s\n",
        "        30      331078.8201       15149.5038            2.36s\n",
        "        40      167612.2772       14966.1502            2.29s\n",
        "        50      120818.6787        3764.1551            2.26s\n",
        "        60       72985.0381        2776.1985            2.24s\n",
        "        70       52495.8179        2124.7092            2.22s\n",
        "        80       34061.5681         644.1181            2.22s\n",
        "        90       30398.2384         244.5036            2.22s\n",
        "       100       24448.4670         268.1261            2.26s\n",
        "       200        5496.9553          -2.1619            2.39s"
       ]
      },
      {
       "output_type": "stream",
       "stream": "stdout",
       "text": [
        "\n",
        "       300        1571.3885          -9.1653            2.36s\n",
        "       400         470.2931          -9.2524            2.37s\n",
        "       500         172.3284          -0.6220            2.31s"
       ]
      },
      {
       "output_type": "stream",
       "stream": "stdout",
       "text": [
        "\n",
        "       600          61.9570          -0.0048            2.27s\n",
        "       700          11.5008          -0.9793            2.27s\n",
        "       800           5.2553          -0.1948            2.25s"
       ]
      },
      {
       "output_type": "stream",
       "stream": "stdout",
       "text": [
        "\n",
        "       900           2.2409          -0.0174            2.21s\n",
        "      1000           0.6583          -0.0007            2.20s\n",
        "      2000           0.0000          -0.0000            1.91s"
       ]
      },
      {
       "output_type": "stream",
       "stream": "stdout",
       "text": [
        "\n",
        "      3000           0.0000          -0.0000            1.53s"
       ]
      },
      {
       "output_type": "stream",
       "stream": "stdout",
       "text": [
        "\n",
        "      4000           0.0000           0.0000            1.21s"
       ]
      },
      {
       "output_type": "stream",
       "stream": "stdout",
       "text": [
        "\n",
        "      5000           0.0000          -0.0000            0.95s"
       ]
      },
      {
       "output_type": "stream",
       "stream": "stdout",
       "text": [
        "\n",
        "      6000           0.0000          -0.0000            0.74s"
       ]
      },
      {
       "output_type": "stream",
       "stream": "stdout",
       "text": [
        "\n",
        "      7000           0.0000          -0.0000            0.54s"
       ]
      },
      {
       "output_type": "stream",
       "stream": "stdout",
       "text": [
        "\n",
        "      8000           0.0000          -0.0000            0.36s"
       ]
      },
      {
       "output_type": "stream",
       "stream": "stdout",
       "text": [
        "\n",
        "      9000           0.0000          -0.0000            0.18s"
       ]
      },
      {
       "output_type": "stream",
       "stream": "stdout",
       "text": [
        "\n",
        "     10000           0.0000          -0.0000            0.00s"
       ]
      },
      {
       "output_type": "stream",
       "stream": "stdout",
       "text": [
        "\n",
        "      Iter       Train Loss      OOB Improve   Remaining Time \n",
        "         1     1683031.1987       93526.2256            6.50s\n",
        "         2     1598600.6843       82946.1484            5.36s\n",
        "         3     1547207.8353       53300.1224            4.94s\n",
        "         4     1462168.5639       48369.0874            4.74s\n",
        "         5     1369382.4545       51967.3560            4.63s\n",
        "         6     1318844.7989       34559.9864            4.56s\n",
        "         7     1180917.3288       67074.0991            4.49s\n",
        "         8     1143753.0805       55314.9601            4.43s\n",
        "         9      894004.0025      121316.6630            4.33s\n",
        "        10      996097.0954       65434.3064            4.25s\n",
        "        20      585755.3512       17320.6957            3.68s\n",
        "        30      310784.1822       18605.4556            3.50s\n",
        "        40      196062.8232        5605.4513            3.41s\n",
        "        50       95600.4942        8836.5660            3.39s\n",
        "        60       73633.0637        2105.0685            3.43s\n",
        "        70       51838.0557         274.4599            3.45s\n",
        "        80       36730.9663         332.7472            3.46s\n",
        "        90       28612.3500         -40.5501            3.46s\n",
        "       100       23011.8181        -196.5860            3.50s\n",
        "       200        4889.0000        -141.3034            3.09s"
       ]
      },
      {
       "output_type": "stream",
       "stream": "stdout",
       "text": [
        "\n",
        "       300        1339.7672         -18.3765            2.96s\n",
        "       400         445.0976          -3.6893            2.77s"
       ]
      },
      {
       "output_type": "stream",
       "stream": "stdout",
       "text": [
        "\n",
        "       500         146.2292          -2.0731            2.66s\n",
        "       600          49.1710          -0.7238            2.56s\n",
        "       700          18.4611          -0.0147            2.54s"
       ]
      },
      {
       "output_type": "stream",
       "stream": "stdout",
       "text": [
        "\n",
        "       800           5.2717          -0.1549            2.49s\n",
        "       900           1.5593          -0.0525            2.44s\n",
        "      1000           0.6029          -0.0067            2.39s"
       ]
      },
      {
       "output_type": "stream",
       "stream": "stdout",
       "text": [
        "\n",
        "      2000           0.0000          -0.0000            2.21s"
       ]
      },
      {
       "output_type": "stream",
       "stream": "stdout",
       "text": [
        "\n",
        "      3000           0.0000          -0.0000            1.73s"
       ]
      },
      {
       "output_type": "stream",
       "stream": "stdout",
       "text": [
        "\n",
        "      4000           0.0000          -0.0000            1.33s"
       ]
      },
      {
       "output_type": "stream",
       "stream": "stdout",
       "text": [
        "\n",
        "      5000           0.0000          -0.0000            1.03s"
       ]
      },
      {
       "output_type": "stream",
       "stream": "stdout",
       "text": [
        "\n",
        "      6000           0.0000          -0.0000            0.79s"
       ]
      },
      {
       "output_type": "stream",
       "stream": "stdout",
       "text": [
        "\n",
        "      7000           0.0000          -0.0000            0.58s"
       ]
      },
      {
       "output_type": "stream",
       "stream": "stdout",
       "text": [
        "\n",
        "      8000           0.0000          -0.0000            0.38s"
       ]
      },
      {
       "output_type": "stream",
       "stream": "stdout",
       "text": [
        "\n",
        "      9000           0.0000          -0.0000            0.19s"
       ]
      },
      {
       "output_type": "stream",
       "stream": "stdout",
       "text": [
        "\n",
        "     10000           0.0000          -0.0000            0.00s"
       ]
      },
      {
       "output_type": "stream",
       "stream": "stdout",
       "text": [
        "\n",
        "      Iter       Train Loss      OOB Improve   Remaining Time \n",
        "         1     1611871.5562      109840.6635            4.38s\n",
        "         2     1568901.6510       99865.6798            3.45s\n",
        "         3     1529172.1732       72471.5808            3.09s\n",
        "         4     1509864.8310       23089.0866            2.91s\n",
        "         5     1350788.4934       77316.7456            2.80s\n",
        "         6     1282202.6838       61768.5627            2.77s\n",
        "         7     1253438.3404       21469.5246            2.71s\n",
        "         8     1095222.1122       85533.0762            2.67s\n",
        "         9     1091986.4673       38128.9258            2.63s\n",
        "        10      947902.9900       71934.6476            2.60s\n",
        "        20      525288.3823       49004.4922            2.33s\n",
        "        30      281191.6850       28620.0136            2.25s\n",
        "        40      162431.5215       14759.3630            2.26s\n",
        "        50       86096.9203        7337.5983            2.26s\n",
        "        60       76310.1103        1752.7185            2.25s\n",
        "        70       50671.5407         457.5973            2.34s\n",
        "        80       36668.1477        -447.8987            2.38s\n",
        "        90       12484.4493         -51.7517            2.37s\n",
        "       100       24163.0910         -41.5615            2.43s\n",
        "       200        4572.2596        -101.0241            2.49s"
       ]
      },
      {
       "output_type": "stream",
       "stream": "stdout",
       "text": [
        "\n",
        "       300        1273.5889         -17.7710            2.42s\n",
        "       400         487.7683          -6.2556            2.39s\n",
        "       500         172.2371          -0.8912            2.32s"
       ]
      },
      {
       "output_type": "stream",
       "stream": "stdout",
       "text": [
        "\n",
        "       600          25.3404          -3.8904            2.28s\n",
        "       700          16.3492          -0.4328            2.30s"
       ]
      },
      {
       "output_type": "stream",
       "stream": "stdout",
       "text": [
        "\n",
        "       800           5.4453          -0.0337            2.26s\n",
        "       900           1.6436          -0.0518            2.23s\n",
        "      1000           0.5030          -0.0040            2.24s"
       ]
      },
      {
       "output_type": "stream",
       "stream": "stdout",
       "text": [
        "\n",
        "      2000           0.0000          -0.0000            1.95s"
       ]
      },
      {
       "output_type": "stream",
       "stream": "stdout",
       "text": [
        "\n",
        "      3000           0.0000          -0.0000            1.55s"
       ]
      },
      {
       "output_type": "stream",
       "stream": "stdout",
       "text": [
        "\n",
        "      4000           0.0000          -0.0000            1.23s"
       ]
      },
      {
       "output_type": "stream",
       "stream": "stdout",
       "text": [
        "\n",
        "      5000           0.0000          -0.0000            0.98s"
       ]
      },
      {
       "output_type": "stream",
       "stream": "stdout",
       "text": [
        "\n",
        "      6000           0.0000          -0.0000            0.76s"
       ]
      },
      {
       "output_type": "stream",
       "stream": "stdout",
       "text": [
        "\n",
        "      7000           0.0000          -0.0000            0.55s"
       ]
      },
      {
       "output_type": "stream",
       "stream": "stdout",
       "text": [
        "\n",
        "      8000           0.0000          -0.0000            0.36s"
       ]
      },
      {
       "output_type": "stream",
       "stream": "stdout",
       "text": [
        "\n",
        "      9000           0.0000          -0.0000            0.18s"
       ]
      },
      {
       "output_type": "stream",
       "stream": "stdout",
       "text": [
        "\n",
        "     10000           0.0000          -0.0000            0.00s"
       ]
      },
      {
       "output_type": "stream",
       "stream": "stdout",
       "text": [
        "\n",
        "      Iter       Train Loss      OOB Improve   Remaining Time \n",
        "         1     1721017.0305       52668.5403            4.89s\n",
        "         2     1635918.9445       56813.8502            3.75s\n",
        "         3     1563685.5175       47007.4597            3.31s\n",
        "         4     1507435.5605       22913.9902            3.07s\n",
        "         5     1339447.7189       76266.2552            2.94s\n",
        "         6     1208043.1664       76541.2747            2.84s\n",
        "         7     1241540.7744       46999.4011            2.77s\n",
        "         8     1149593.0944       44255.8572            2.72s\n",
        "         9     1011691.6534       63060.1868            2.68s\n",
        "        10      952985.5664       61996.8601            2.64s\n",
        "        20      585352.9492       21614.7665            2.39s\n",
        "        30      316987.6562       22343.2747            2.29s\n",
        "        40      194575.6505        4498.3780            2.24s\n",
        "        50       99270.2593        7129.1452            2.25s\n",
        "        60       67660.1704        3248.8206            2.24s\n",
        "        70       50875.7728         999.7161            2.27s\n",
        "        80       29406.0652        2043.1693            2.29s\n",
        "        90       27990.5398         339.7654            2.29s\n",
        "       100       22634.0642        -467.7472            2.31s\n",
        "       200        4092.9088        -108.8679            2.33s"
       ]
      },
      {
       "output_type": "stream",
       "stream": "stdout",
       "text": [
        "\n",
        "       300        1416.8965         -13.5528            2.28s\n",
        "       400         470.9411          -0.0760            2.35s"
       ]
      },
      {
       "output_type": "stream",
       "stream": "stdout",
       "text": [
        "\n",
        "       500         152.2472          -2.6555            2.34s\n",
        "       600          56.6653          -0.1078            2.29s\n",
        "       700          19.6297          -0.0595            2.25s"
       ]
      },
      {
       "output_type": "stream",
       "stream": "stdout",
       "text": [
        "\n",
        "       800           6.5342          -0.1524            2.26s\n",
        "       900           2.0138          -0.0247            2.25s"
       ]
      },
      {
       "output_type": "stream",
       "stream": "stdout",
       "text": [
        "\n",
        "      1000           0.3460          -0.0351            2.23s\n",
        "      2000           0.0000           0.0000            1.95s"
       ]
      },
      {
       "output_type": "stream",
       "stream": "stdout",
       "text": [
        "\n",
        "      3000           0.0000          -0.0000            1.56s"
       ]
      },
      {
       "output_type": "stream",
       "stream": "stdout",
       "text": [
        "\n",
        "      4000           0.0000          -0.0000            1.23s"
       ]
      },
      {
       "output_type": "stream",
       "stream": "stdout",
       "text": [
        "\n",
        "      5000           0.0000          -0.0000            0.97s"
       ]
      },
      {
       "output_type": "stream",
       "stream": "stdout",
       "text": [
        "\n",
        "      6000           0.0000          -0.0000            0.75s"
       ]
      },
      {
       "output_type": "stream",
       "stream": "stdout",
       "text": [
        "\n",
        "      7000           0.0000          -0.0000            0.55s"
       ]
      },
      {
       "output_type": "stream",
       "stream": "stdout",
       "text": [
        "\n",
        "      8000           0.0000           0.0000            0.36s"
       ]
      },
      {
       "output_type": "stream",
       "stream": "stdout",
       "text": [
        "\n",
        "      9000           0.0000          -0.0000            0.18s"
       ]
      },
      {
       "output_type": "stream",
       "stream": "stdout",
       "text": [
        "\n",
        "     10000           0.0000          -0.0000            0.00s"
       ]
      },
      {
       "output_type": "stream",
       "stream": "stdout",
       "text": [
        "\n",
        "      Iter       Train Loss      OOB Improve   Remaining Time \n",
        "         1     1746490.2666       55349.6339            4.43s\n",
        "         2     1643853.9578       54993.8154            3.47s\n",
        "         3     1377764.0102      121209.0340            3.11s\n",
        "         4     1395980.5522       97636.6103            2.93s\n",
        "         5     1121221.3244      169513.8833            2.81s\n",
        "         6     1274740.1666       64991.8534            2.73s\n",
        "         7     1197951.4917       67012.7552            2.67s\n",
        "         8     1132733.2044       59841.2355            2.63s\n",
        "         9     1108583.8949       23637.6793            2.59s\n",
        "        10     1019189.1437       27920.5709            2.57s\n",
        "        20      582995.2791       16155.6540            2.32s\n",
        "        30      283054.2173       29554.3539            2.24s\n",
        "        40      193701.0880        8557.0162            2.21s\n",
        "        50      122167.2782        2262.3399            2.19s\n",
        "        60       54882.6320        2907.8467            2.20s\n",
        "        70       55785.1102         596.3936            2.24s\n",
        "        80       38996.5888         513.7483            2.23s\n",
        "        90       29145.7831         847.7625            2.33s\n",
        "       100       12963.6835        1076.2163            2.35s\n",
        "       200        5609.9277        -174.0598            2.44s"
       ]
      },
      {
       "output_type": "stream",
       "stream": "stdout",
       "text": [
        "\n",
        "       300         614.8099        -105.7475            2.43s\n",
        "       400         518.3097          -2.3973            2.54s"
       ]
      },
      {
       "output_type": "stream",
       "stream": "stdout",
       "text": [
        "\n",
        "       500         175.1863          -2.6482            2.72s\n",
        "       600          51.5625          -1.7575            2.72s"
       ]
      },
      {
       "output_type": "stream",
       "stream": "stdout",
       "text": [
        "\n",
        "       700          17.9410          -0.4881            2.72s\n",
        "       800           6.1823          -0.1727            2.78s"
       ]
      },
      {
       "output_type": "stream",
       "stream": "stdout",
       "text": [
        "\n",
        "       900           2.0795          -0.0492            2.75s\n",
        "      1000           0.7733          -0.0031            2.70s"
       ]
      },
      {
       "output_type": "stream",
       "stream": "stdout",
       "text": [
        "\n",
        "      2000           0.0000          -0.0000            2.18s"
       ]
      },
      {
       "output_type": "stream",
       "stream": "stdout",
       "text": [
        "\n",
        "      3000           0.0000          -0.0000            1.69s"
       ]
      },
      {
       "output_type": "stream",
       "stream": "stdout",
       "text": [
        "\n",
        "      4000           0.0000          -0.0000            1.32s"
       ]
      },
      {
       "output_type": "stream",
       "stream": "stdout",
       "text": [
        "\n",
        "      5000           0.0000          -0.0000            1.02s"
       ]
      },
      {
       "output_type": "stream",
       "stream": "stdout",
       "text": [
        "\n",
        "      6000           0.0000          -0.0000            0.79s"
       ]
      },
      {
       "output_type": "stream",
       "stream": "stdout",
       "text": [
        "\n",
        "      7000           0.0000          -0.0000            0.57s"
       ]
      },
      {
       "output_type": "stream",
       "stream": "stdout",
       "text": [
        "\n",
        "      8000           0.0000          -0.0000            0.37s"
       ]
      },
      {
       "output_type": "stream",
       "stream": "stdout",
       "text": [
        "\n",
        "      9000           0.0000          -0.0000            0.18s"
       ]
      },
      {
       "output_type": "stream",
       "stream": "stdout",
       "text": [
        "\n",
        "     10000           0.0000          -0.0000            0.00s"
       ]
      },
      {
       "output_type": "stream",
       "stream": "stdout",
       "text": [
        "\n",
        "      Iter       Train Loss      OOB Improve   Remaining Time \n",
        "         1     1570530.8784      123769.7584            4.39s\n",
        "         2     1656665.4409       44405.8433            3.49s\n",
        "         3     1462420.4743       95556.2782            3.13s\n",
        "         4     1324776.4226      128893.6293            2.96s\n",
        "         5     1338913.5581       70388.3682            2.84s\n",
        "         6     1168378.5500       93207.6423            2.76s\n",
        "         7     1180869.2721       88176.3019            2.71s\n",
        "         8     1080956.6928       72144.9304            2.66s\n",
        "         9     1044439.7549       75699.6649            2.63s\n",
        "        10      930703.9995       80902.0140            2.60s\n",
        "        20      435385.0177       68698.9953            2.35s\n",
        "        30      316739.2924       23779.2087            2.25s\n",
        "        40      194244.8653        6161.4582            2.22s\n",
        "        50      119176.2870        4388.4008            2.19s\n",
        "        60       77155.2478        1648.6262            2.23s\n",
        "        70       53738.8170         799.0072            2.22s\n",
        "        80       23629.0596          16.9155            2.26s\n",
        "        90       29448.6631         322.2296            2.34s\n",
        "       100       20439.7861         -50.2826            2.34s\n",
        "       200        5180.2016        -156.3758            2.35s"
       ]
      },
      {
       "output_type": "stream",
       "stream": "stdout",
       "text": [
        "\n",
        "       300         783.8184         -77.6517            2.29s\n",
        "       400         394.0384          -2.8789            2.33s\n",
        "       500         141.2508          -0.3979            2.28s"
       ]
      },
      {
       "output_type": "stream",
       "stream": "stdout",
       "text": [
        "\n",
        "       600          45.8635          -0.5461            2.23s\n",
        "       700          12.1505          -0.4642            2.22s\n",
        "       800           5.3166           0.0131            2.21s"
       ]
      },
      {
       "output_type": "stream",
       "stream": "stdout",
       "text": [
        "\n",
        "       900           1.6704          -0.0549            2.18s\n",
        "      1000           0.6212          -0.0279            2.15s\n",
        "      2000           0.0000          -0.0000            1.89s"
       ]
      },
      {
       "output_type": "stream",
       "stream": "stdout",
       "text": [
        "\n",
        "      3000           0.0000          -0.0000            1.56s"
       ]
      },
      {
       "output_type": "stream",
       "stream": "stdout",
       "text": [
        "\n",
        "      4000           0.0000          -0.0000            1.23s"
       ]
      },
      {
       "output_type": "stream",
       "stream": "stdout",
       "text": [
        "\n",
        "      5000           0.0000          -0.0000            0.97s"
       ]
      },
      {
       "output_type": "stream",
       "stream": "stdout",
       "text": [
        "\n",
        "      6000           0.0000          -0.0000            0.75s"
       ]
      },
      {
       "output_type": "stream",
       "stream": "stdout",
       "text": [
        "\n",
        "      7000           0.0000          -0.0000            0.54s"
       ]
      },
      {
       "output_type": "stream",
       "stream": "stdout",
       "text": [
        "\n",
        "      8000           0.0000          -0.0000            0.36s"
       ]
      },
      {
       "output_type": "stream",
       "stream": "stdout",
       "text": [
        "\n",
        "      9000           0.0000          -0.0000            0.18s"
       ]
      },
      {
       "output_type": "stream",
       "stream": "stdout",
       "text": [
        "\n",
        "     10000           0.0000           0.0000            0.00s"
       ]
      },
      {
       "output_type": "stream",
       "stream": "stdout",
       "text": [
        "\n",
        "      Iter       Train Loss      OOB Improve   Remaining Time \n",
        "         1     1581861.5628      124626.4039            4.61s\n",
        "         2     1627691.4697       74140.0466            3.61s\n",
        "         3     1488815.1046       81420.2903            3.22s\n",
        "         4     1497415.6614       32239.2798            3.11s\n",
        "         5     1428746.3808       17547.0839            3.01s\n",
        "         6     1248712.5319       74443.5834            2.91s\n",
        "         7     1163172.6361       80287.6592            2.83s\n",
        "         8     1063120.2687       61953.4775            2.77s\n",
        "         9     1063122.0537       59752.1747            2.74s\n",
        "        10      994438.3968       59304.4522            2.70s\n",
        "        20      562356.7028       29420.9427            2.40s\n",
        "        30      242699.1900       37922.0670            2.29s\n",
        "        40      170800.1377       11010.8392            2.24s\n",
        "        50      122843.4802        4371.7070            2.22s\n",
        "        60       77585.4046        3403.9417            2.20s\n",
        "        70       35249.7430         534.9563            2.19s\n",
        "        80       39276.5769         389.2579            2.23s\n",
        "        90       29190.2872        -518.4278            2.29s\n",
        "       100       13365.7908        -107.0054            2.38s\n",
        "       200        6243.3309        -137.4480            2.37s"
       ]
      },
      {
       "output_type": "stream",
       "stream": "stdout",
       "text": [
        "\n",
        "       300        1341.0446         -49.6020            2.37s\n",
        "       400         568.3809          -7.1009            2.41s"
       ]
      },
      {
       "output_type": "stream",
       "stream": "stdout",
       "text": [
        "\n",
        "       500         214.0029          -1.8656            2.52s\n",
        "       600          74.8118           0.3355            2.61s"
       ]
      },
      {
       "output_type": "stream",
       "stream": "stdout",
       "text": [
        "\n",
        "       700          23.0785          -0.9167            2.53s\n",
        "       800           8.7147          -0.0339            2.50s"
       ]
      },
      {
       "output_type": "stream",
       "stream": "stdout",
       "text": [
        "\n",
        "       900           1.6100          -0.1681            2.48s\n",
        "      1000           0.7400          -0.0191            2.43s"
       ]
      },
      {
       "output_type": "stream",
       "stream": "stdout",
       "text": [
        "\n",
        "      2000           0.0000          -0.0000            2.03s"
       ]
      },
      {
       "output_type": "stream",
       "stream": "stdout",
       "text": [
        "\n",
        "      3000           0.0000          -0.0000            1.62s"
       ]
      },
      {
       "output_type": "stream",
       "stream": "stdout",
       "text": [
        "\n",
        "      4000           0.0000          -0.0000            1.27s"
       ]
      },
      {
       "output_type": "stream",
       "stream": "stdout",
       "text": [
        "\n",
        "      5000           0.0000          -0.0000            0.99s"
       ]
      },
      {
       "output_type": "stream",
       "stream": "stdout",
       "text": [
        "\n",
        "      6000           0.0000          -0.0000            0.76s"
       ]
      },
      {
       "output_type": "stream",
       "stream": "stdout",
       "text": [
        "\n",
        "      7000           0.0000          -0.0000            0.55s"
       ]
      },
      {
       "output_type": "stream",
       "stream": "stdout",
       "text": [
        "\n",
        "      8000           0.0000          -0.0000            0.36s"
       ]
      },
      {
       "output_type": "stream",
       "stream": "stdout",
       "text": [
        "\n",
        "      9000           0.0000          -0.0000            0.18s"
       ]
      },
      {
       "output_type": "stream",
       "stream": "stdout",
       "text": [
        "\n",
        "     10000           0.0000          -0.0000            0.00s"
       ]
      },
      {
       "output_type": "stream",
       "stream": "stdout",
       "text": [
        "\n",
        "      Iter       Train Loss      OOB Improve   Remaining Time \n",
        "         1     1774846.8210       29566.3513            4.41s\n",
        "         2     1536652.0477      133786.7598            3.47s\n",
        "         3     1556385.6425       59791.9684            3.12s\n",
        "         4     1370828.5570       66940.9415            3.00s\n",
        "         5     1315318.0664       67044.6178            2.87s\n",
        "         6     1288728.2995       60903.7361            2.79s\n",
        "         7     1068110.1307       94402.4794            2.72s\n",
        "         8      997768.5781      134777.9675            2.74s\n",
        "         9     1089409.5040       38464.7677            2.82s\n",
        "        10     1059771.5222        7277.7254            2.93s\n",
        "        20      572128.4436       25681.3110            2.71s\n",
        "        30      334029.1751        8950.7059            2.51s\n",
        "        40      191771.3200        9045.3419            2.42s\n",
        "        50      122109.8888        2107.7314            2.35s\n",
        "        60       79542.7880         667.6065            2.31s\n",
        "        70       44888.2700        2423.9785            2.28s\n",
        "        80       37679.6265          12.8175            2.27s\n",
        "        90       28384.7293         384.8332            2.26s\n",
        "       100       23176.8298         -96.6486            2.25s\n",
        "       200        5498.3089           3.1611            2.31s"
       ]
      },
      {
       "output_type": "stream",
       "stream": "stdout",
       "text": [
        "\n",
        "       300        1132.0318         -31.3804            2.38s\n",
        "       400         318.7539         -21.5370            2.32s\n",
        "       500         153.1399          -3.4159            2.32s"
       ]
      },
      {
       "output_type": "stream",
       "stream": "stdout",
       "text": [
        "\n",
        "       600          57.3221          -0.3437            2.31s\n",
        "       700          17.7476          -0.0232            2.30s"
       ]
      },
      {
       "output_type": "stream",
       "stream": "stdout",
       "text": [
        "\n",
        "       800           5.4946           0.0301            2.26s\n",
        "       900           1.8670          -0.0133            2.22s\n",
        "      1000           0.5904          -0.0014            2.23s"
       ]
      },
      {
       "output_type": "stream",
       "stream": "stdout",
       "text": [
        "\n",
        "      2000           0.0000          -0.0000            1.94s"
       ]
      },
      {
       "output_type": "stream",
       "stream": "stdout",
       "text": [
        "\n",
        "      3000           0.0000          -0.0000            1.56s"
       ]
      },
      {
       "output_type": "stream",
       "stream": "stdout",
       "text": [
        "\n",
        "      4000           0.0000          -0.0000            1.23s"
       ]
      },
      {
       "output_type": "stream",
       "stream": "stdout",
       "text": [
        "\n",
        "      5000           0.0000          -0.0000            0.97s"
       ]
      },
      {
       "output_type": "stream",
       "stream": "stdout",
       "text": [
        "\n",
        "      6000           0.0000          -0.0000            0.75s"
       ]
      },
      {
       "output_type": "stream",
       "stream": "stdout",
       "text": [
        "\n",
        "      7000           0.0000          -0.0000            0.54s"
       ]
      },
      {
       "output_type": "stream",
       "stream": "stdout",
       "text": [
        "\n",
        "      8000           0.0000          -0.0000            0.35s"
       ]
      },
      {
       "output_type": "stream",
       "stream": "stdout",
       "text": [
        "\n",
        "      9000           0.0000          -0.0000            0.17s"
       ]
      },
      {
       "output_type": "stream",
       "stream": "stdout",
       "text": [
        "\n",
        "     10000           0.0000          -0.0000            0.00s"
       ]
      },
      {
       "output_type": "stream",
       "stream": "stdout",
       "text": [
        "\n",
        "      Iter       Train Loss      OOB Improve   Remaining Time \n",
        "         1     1771445.9652       42753.1104            4.34s\n",
        "         2     1570465.8377      122229.6096            3.46s\n",
        "         3     1471944.5229       84159.1008            3.10s\n",
        "         4     1369917.9926       87743.1598            2.91s\n",
        "         5     1221052.9441      100856.7063            2.81s\n",
        "         6     1262416.8351       75139.0519            2.74s\n",
        "         7     1215870.0006       42397.3738            2.69s\n",
        "         8     1010445.3996       93933.2307            2.64s\n",
        "         9     1013388.9293       74146.5948            2.60s\n",
        "        10      986002.4935       65343.5662            2.58s\n",
        "        20      606368.3264        2777.7372            2.37s\n",
        "        30      344292.8187        3131.4233            2.28s\n",
        "        40      198318.3954        5877.1078            2.23s\n",
        "        50      121709.0708        2693.0093            2.21s\n",
        "        60       78478.2727        1787.0368            2.19s\n",
        "        70       42466.4770        2994.6049            2.18s\n",
        "        80       22676.7815        2450.9811            2.19s\n",
        "        90       28535.0091        -977.4643            2.20s\n",
        "       100       23648.5510        -154.3255            2.45s\n",
        "       200        5617.5502         -56.9131            2.50s"
       ]
      },
      {
       "output_type": "stream",
       "stream": "stdout",
       "text": [
        "\n",
        "       300         849.1596         -64.4268            2.41s\n",
        "       400         562.0275          -2.8919            2.40s\n",
        "       500         189.7899          -0.7541            2.36s"
       ]
      },
      {
       "output_type": "stream",
       "stream": "stdout",
       "text": [
        "\n",
        "       600          60.1285          -1.2438            2.32s\n",
        "       700          22.7410          -0.2771            2.29s\n",
        "       800           6.3025          -0.0781            2.26s"
       ]
      },
      {
       "output_type": "stream",
       "stream": "stdout",
       "text": [
        "\n",
        "       900           1.1793          -0.1734            2.21s\n",
        "      1000           0.7633          -0.0034            2.20s\n",
        "      2000           0.0000          -0.0000            1.91s"
       ]
      },
      {
       "output_type": "stream",
       "stream": "stdout",
       "text": [
        "\n",
        "      3000           0.0000          -0.0000            1.54s"
       ]
      },
      {
       "output_type": "stream",
       "stream": "stdout",
       "text": [
        "\n",
        "      4000           0.0000          -0.0000            1.25s"
       ]
      },
      {
       "output_type": "stream",
       "stream": "stdout",
       "text": [
        "\n",
        "      5000           0.0000          -0.0000            0.98s"
       ]
      },
      {
       "output_type": "stream",
       "stream": "stdout",
       "text": [
        "\n",
        "      6000           0.0000           0.0000            0.75s"
       ]
      },
      {
       "output_type": "stream",
       "stream": "stdout",
       "text": [
        "\n",
        "      7000           0.0000          -0.0000            0.54s"
       ]
      },
      {
       "output_type": "stream",
       "stream": "stdout",
       "text": [
        "\n",
        "      8000           0.0000          -0.0000            0.35s"
       ]
      },
      {
       "output_type": "stream",
       "stream": "stdout",
       "text": [
        "\n",
        "      9000           0.0000          -0.0000            0.18s"
       ]
      },
      {
       "output_type": "stream",
       "stream": "stdout",
       "text": [
        "\n",
        "     10000           0.0000          -0.0000            0.00s"
       ]
      },
      {
       "output_type": "stream",
       "stream": "stdout",
       "text": [
        "\n",
        "      Iter       Train Loss      OOB Improve   Remaining Time \n",
        "         1     1808195.1885       20663.2757            4.47s\n",
        "         2     1630506.3334       65360.7477            3.53s\n",
        "         3     1455556.0412      107851.3735            3.16s\n",
        "         4     1400788.6091       88434.9611            2.96s\n",
        "         5     1419701.7805       25672.0150            2.83s\n",
        "         6     1310838.7070       27348.1481            2.75s\n",
        "         7     1050465.2142      107611.4658            2.69s\n",
        "         8     1080271.5541       97226.9443            2.65s\n",
        "         9      953056.1064       83052.7710            2.61s\n",
        "        10     1015083.5510       48558.3259            2.58s\n",
        "        20      593481.0120       11155.0331            2.34s\n",
        "        30      339129.7500        8003.7748            2.25s\n",
        "        40      197912.3468        9136.0400            2.21s\n",
        "        50      118440.1790        5194.7061            2.21s\n",
        "        60       62403.3005        5538.4840            2.20s\n",
        "        70       53334.8785         722.1863            2.19s\n",
        "        80       15467.4426        -233.6518            2.23s\n",
        "        90       29962.4864          52.9568            2.23s\n",
        "       100       23043.9602        -790.3235            2.26s\n",
        "       200        5824.5509         -35.1362            2.36s"
       ]
      },
      {
       "output_type": "stream",
       "stream": "stdout",
       "text": [
        "\n",
        "       300        1520.8297         -11.7153            2.29s\n",
        "       400         388.6971           1.4533            2.46s"
       ]
      },
      {
       "output_type": "stream",
       "stream": "stdout",
       "text": [
        "\n",
        "       500         145.0238          -3.1679            2.61s\n",
        "       600          51.6487          -0.4284            2.71s"
       ]
      },
      {
       "output_type": "stream",
       "stream": "stdout",
       "text": [
        "\n",
        "       700          17.9780          -0.0103            2.69s\n",
        "       800           6.0131          -0.0190            2.60s"
       ]
      },
      {
       "output_type": "stream",
       "stream": "stdout",
       "text": [
        "\n",
        "       900           1.3055          -0.0739            2.59s\n",
        "      1000           0.5983          -0.0252            2.62s"
       ]
      },
      {
       "output_type": "stream",
       "stream": "stdout",
       "text": [
        "\n",
        "      2000           0.0000          -0.0000            2.26s"
       ]
      },
      {
       "output_type": "stream",
       "stream": "stdout",
       "text": [
        "\n",
        "      3000           0.0000          -0.0000            1.83s"
       ]
      },
      {
       "output_type": "stream",
       "stream": "stdout",
       "text": [
        "\n",
        "      4000           0.0000          -0.0000            1.40s"
       ]
      },
      {
       "output_type": "stream",
       "stream": "stdout",
       "text": [
        "\n",
        "      5000           0.0000          -0.0000            1.08s"
       ]
      },
      {
       "output_type": "stream",
       "stream": "stdout",
       "text": [
        "\n",
        "      6000           0.0000          -0.0000            0.82s"
       ]
      },
      {
       "output_type": "stream",
       "stream": "stdout",
       "text": [
        "\n",
        "      7000           0.0000          -0.0000            0.59s"
       ]
      },
      {
       "output_type": "stream",
       "stream": "stdout",
       "text": [
        "\n",
        "      8000           0.0000          -0.0000            0.38s"
       ]
      },
      {
       "output_type": "stream",
       "stream": "stdout",
       "text": [
        "\n",
        "      9000           0.0000          -0.0000            0.19s"
       ]
      },
      {
       "output_type": "stream",
       "stream": "stdout",
       "text": [
        "\n",
        "     10000           0.0000          -0.0000            0.00s"
       ]
      },
      {
       "output_type": "stream",
       "stream": "stdout",
       "text": [
        "\n",
        "      Iter       Train Loss      OOB Improve   Remaining Time \n",
        "         1     1711065.6580       66099.0913            4.79s\n",
        "         2     1687317.0145       42726.3357            3.72s\n",
        "         3     1378547.1584      118032.2272            3.29s\n",
        "         4     1428708.3004       66663.6038            3.05s\n",
        "         5     1404489.5465       34532.4004            2.91s\n",
        "         6     1191487.2420       95320.9790            2.83s\n",
        "         7     1211137.8435       61485.1113            2.76s\n",
        "         8     1185731.1486       25027.6731            2.71s\n",
        "         9      953089.7224       85431.4632            2.66s\n",
        "        10      971106.7608       56201.0799            2.63s\n",
        "        20      556186.4640       41494.2015            2.36s\n",
        "        30      240109.4827       22126.9239            2.26s\n",
        "        40      189879.7310       10117.2786            2.22s\n",
        "        50      105613.2215        7385.1401            2.19s\n",
        "        60       52753.5385        3181.2798            2.19s\n",
        "        70       52922.2477        1056.5709            2.31s\n",
        "        80       38323.8307         407.5644            2.32s\n",
        "        90       29981.5299          59.1222            2.30s\n",
        "       100       19061.1604        -199.6579            2.29s\n",
        "       200        5951.1143         -57.5828            2.50s"
       ]
      },
      {
       "output_type": "stream",
       "stream": "stdout",
       "text": [
        "\n",
        "       300        1709.7813         -39.3581            2.46s\n",
        "       400         531.5385          -2.1287            2.47s"
       ]
      },
      {
       "output_type": "stream",
       "stream": "stdout",
       "text": [
        "\n",
        "       500          97.5624         -10.1380            2.41s\n",
        "       600          37.0417          -3.4317            2.44s"
       ]
      },
      {
       "output_type": "stream",
       "stream": "stdout",
       "text": [
        "\n",
        "       700          24.4073          -0.0484            2.40s\n",
        "       800           4.2766          -0.4770            2.37s\n",
        "       900           1.9325          -0.1211            2.31s"
       ]
      },
      {
       "output_type": "stream",
       "stream": "stdout",
       "text": [
        "\n",
        "      1000           0.8222          -0.0062            2.27s\n",
        "      2000           0.0000          -0.0000            1.95s"
       ]
      },
      {
       "output_type": "stream",
       "stream": "stdout",
       "text": [
        "\n",
        "      3000           0.0000          -0.0000            1.56s"
       ]
      },
      {
       "output_type": "stream",
       "stream": "stdout",
       "text": [
        "\n",
        "      4000           0.0000          -0.0000            1.22s"
       ]
      },
      {
       "output_type": "stream",
       "stream": "stdout",
       "text": [
        "\n",
        "      5000           0.0000          -0.0000            0.96s"
       ]
      },
      {
       "output_type": "stream",
       "stream": "stdout",
       "text": [
        "\n",
        "      6000           0.0000          -0.0000            0.78s"
       ]
      },
      {
       "output_type": "stream",
       "stream": "stdout",
       "text": [
        "\n",
        "      7000           0.0000          -0.0000            0.56s"
       ]
      },
      {
       "output_type": "stream",
       "stream": "stdout",
       "text": [
        "\n",
        "      8000           0.0000          -0.0000            0.37s"
       ]
      },
      {
       "output_type": "stream",
       "stream": "stdout",
       "text": [
        "\n",
        "      9000           0.0000          -0.0000            0.18s"
       ]
      },
      {
       "output_type": "stream",
       "stream": "stdout",
       "text": [
        "\n",
        "     10000           0.0000          -0.0000            0.00s"
       ]
      },
      {
       "output_type": "stream",
       "stream": "stdout",
       "text": [
        "\n",
        "      Iter       Train Loss      OOB Improve   Remaining Time \n",
        "         1     1654866.5427      133615.5679            4.41s\n",
        "         2     1657725.8065       46403.9197            3.45s\n",
        "         3     1552296.7077       53304.1619            3.11s\n",
        "         4     1411684.9789       87465.7050            2.92s\n",
        "         5     1437992.0347       10210.7630            2.81s\n",
        "         6     1351216.3657       16803.2216            2.74s\n",
        "         7     1236442.6155       37666.7819            2.80s\n",
        "         8     1181841.9431       29464.4994            2.76s\n",
        "         9     1070743.3076       50357.6374            2.72s\n",
        "        10      979308.8126       48535.2352            2.69s\n",
        "        20      584209.7867       19884.5043            2.40s\n",
        "        30      270456.9680       32216.1686            2.35s\n",
        "        40      182438.0902        9738.9806            2.43s\n",
        "        50      122908.5505        2855.2687            2.38s\n",
        "        60       54865.4812        3411.3316            2.34s\n",
        "        70       53281.0411        1126.6580            2.31s\n",
        "        80       37170.7061         611.3909            2.31s\n",
        "        90       28804.1428        -337.5313            2.31s\n",
        "       100       19472.5437         659.1260            2.33s\n",
        "       200        4804.0283        -150.4472            2.31s"
       ]
      },
      {
       "output_type": "stream",
       "stream": "stdout",
       "text": [
        "\n",
        "       300        1321.4233         -41.3805            2.34s\n",
        "       400         237.8539         -31.2611            2.39s"
       ]
      },
      {
       "output_type": "stream",
       "stream": "stdout",
       "text": [
        "\n",
        "       500         153.9421          -2.9210            2.34s\n",
        "       600          25.8080          -2.6131            2.33s\n",
        "       700          18.9767          -0.3100            2.30s"
       ]
      },
      {
       "output_type": "stream",
       "stream": "stdout",
       "text": [
        "\n",
        "       800           6.8109          -0.0747            2.28s\n",
        "       900           2.2752           0.0007            2.28s"
       ]
      },
      {
       "output_type": "stream",
       "stream": "stdout",
       "text": [
        "\n",
        "      1000           0.7395          -0.0043            2.25s\n",
        "      2000           0.0000          -0.0000            1.95s"
       ]
      },
      {
       "output_type": "stream",
       "stream": "stdout",
       "text": [
        "\n",
        "      3000           0.0000          -0.0000            1.54s"
       ]
      },
      {
       "output_type": "stream",
       "stream": "stdout",
       "text": [
        "\n",
        "      4000           0.0000          -0.0000            1.22s"
       ]
      },
      {
       "output_type": "stream",
       "stream": "stdout",
       "text": [
        "\n",
        "      5000           0.0000          -0.0000            0.99s"
       ]
      },
      {
       "output_type": "stream",
       "stream": "stdout",
       "text": [
        "\n",
        "      6000           0.0000          -0.0000            0.76s"
       ]
      },
      {
       "output_type": "stream",
       "stream": "stdout",
       "text": [
        "\n",
        "      7000           0.0000          -0.0000            0.56s"
       ]
      },
      {
       "output_type": "stream",
       "stream": "stdout",
       "text": [
        "\n",
        "      8000           0.0000          -0.0000            0.36s"
       ]
      },
      {
       "output_type": "stream",
       "stream": "stdout",
       "text": [
        "\n",
        "      9000           0.0000          -0.0000            0.18s"
       ]
      },
      {
       "output_type": "stream",
       "stream": "stdout",
       "text": [
        "\n",
        "     10000           0.0000          -0.0000            0.00s"
       ]
      },
      {
       "output_type": "stream",
       "stream": "stdout",
       "text": [
        "\n",
        "      Iter       Train Loss      OOB Improve   Remaining Time \n",
        "         1     1665684.1416      119824.6340            4.69s\n",
        "         2     1664626.7787       42898.8555            3.63s\n",
        "         3     1540609.4981       61564.2011            3.22s\n",
        "         4     1413227.1474       86857.2174            3.00s\n",
        "         5     1302749.4941       81213.5652            2.88s\n",
        "         6     1225518.3385       70475.1317            2.80s\n",
        "         7     1020933.9501      125596.6914            2.74s\n",
        "         8     1134876.1615       56003.4085            2.69s\n",
        "         9     1126566.7928       12748.0910            2.65s\n",
        "        10      911715.7957       72263.0980            2.65s\n",
        "        20      575666.9125       18484.7986            2.37s\n",
        "        30      335193.8900        7804.3797            2.26s\n",
        "        40      199259.2248        3511.6907            2.23s\n",
        "        50       94522.1119       11812.7112            2.20s\n",
        "        60       52997.5469        5025.7377            2.20s\n",
        "        70       27294.6366        2121.0292            2.19s\n",
        "        80       39243.4513        -331.0573            2.18s\n",
        "        90       23049.7475        1222.5839            2.17s\n",
        "       100       23968.5501        -267.1085            2.17s\n",
        "       200        5492.6318        -107.5240            2.30s"
       ]
      },
      {
       "output_type": "stream",
       "stream": "stdout",
       "text": [
        "\n",
        "       300         878.3522         -41.3126            2.49s\n",
        "       400         556.2621          -7.6863            2.70s"
       ]
      },
      {
       "output_type": "stream",
       "stream": "stdout",
       "text": [
        "\n",
        "       500         194.1630           0.6843            2.79s\n",
        "       600          83.3300          -0.0921            2.82s"
       ]
      },
      {
       "output_type": "stream",
       "stream": "stdout",
       "text": [
        "\n",
        "       700          13.6481          -1.2970            2.89s\n",
        "       800           8.5159          -0.1319            2.90s"
       ]
      },
      {
       "output_type": "stream",
       "stream": "stdout",
       "text": [
        "\n",
        "       900           3.0534          -0.0059            2.86s\n",
        "      1000           0.9418          -0.0237            2.89s"
       ]
      },
      {
       "output_type": "stream",
       "stream": "stdout",
       "text": [
        "\n",
        "      2000           0.0000          -0.0000            2.31s"
       ]
      },
      {
       "output_type": "stream",
       "stream": "stdout",
       "text": [
        "\n",
        "      3000           0.0000          -0.0000            1.81s"
       ]
      },
      {
       "output_type": "stream",
       "stream": "stdout",
       "text": [
        "\n",
        "      4000           0.0000          -0.0000            1.41s"
       ]
      },
      {
       "output_type": "stream",
       "stream": "stdout",
       "text": [
        "\n",
        "      5000           0.0000          -0.0000            1.09s"
       ]
      },
      {
       "output_type": "stream",
       "stream": "stdout",
       "text": [
        "\n",
        "      6000           0.0000          -0.0000            0.83s"
       ]
      },
      {
       "output_type": "stream",
       "stream": "stdout",
       "text": [
        "\n",
        "      7000           0.0000          -0.0000            0.59s"
       ]
      },
      {
       "output_type": "stream",
       "stream": "stdout",
       "text": [
        "\n",
        "      8000           0.0000          -0.0000            0.38s"
       ]
      },
      {
       "output_type": "stream",
       "stream": "stdout",
       "text": [
        "\n",
        "      9000           0.0000          -0.0000            0.19s"
       ]
      },
      {
       "output_type": "stream",
       "stream": "stdout",
       "text": [
        "\n",
        "     10000           0.0000          -0.0000            0.00s"
       ]
      },
      {
       "output_type": "stream",
       "stream": "stdout",
       "text": [
        "\n",
        "      Iter       Train Loss      OOB Improve   Remaining Time \n",
        "         1     1398244.6822      165104.0536            4.42s\n",
        "         2     1574951.4183      117311.8087            3.49s\n",
        "         3     1585885.4042       34311.4019            3.14s\n",
        "         4     1336169.7111      112882.7748            2.96s\n",
        "         5     1278144.7806       75816.0786            2.84s\n",
        "         6     1325858.1765       22269.8153            2.76s\n",
        "         7     1148305.9479       95145.4825            2.75s\n",
        "         8     1017555.5082       87498.5377            2.70s\n",
        "         9     1012743.1514       99490.2326            2.66s\n",
        "        10     1008836.6160       55707.2497            2.63s\n",
        "        20      514309.6567       44766.3939            2.36s\n",
        "        30      328868.4604       10780.7053            2.26s\n",
        "        40      190296.8479        9133.9801            2.50s\n",
        "        50      118868.3464        6214.4189            2.46s\n",
        "        60       57952.6522        5007.1534            2.41s\n",
        "        70       51220.9379        1608.0594            2.38s\n",
        "        80       22775.3884         294.1396            2.35s\n",
        "        90       29639.1216         287.5524            2.34s\n",
        "       100       22681.8860         -20.4829            2.34s\n",
        "       200        5439.4117          69.3995            2.42s"
       ]
      },
      {
       "output_type": "stream",
       "stream": "stdout",
       "text": [
        "\n",
        "       300        1637.8797          -8.7923            2.42s\n",
        "       400         520.7746          -1.0149            2.45s"
       ]
      },
      {
       "output_type": "stream",
       "stream": "stdout",
       "text": [
        "\n",
        "       500         139.5960          -4.4411            2.37s\n",
        "       600          56.0710          -0.2010            2.35s\n",
        "       700          18.3117          -0.1026            2.31s"
       ]
      },
      {
       "output_type": "stream",
       "stream": "stdout",
       "text": [
        "\n",
        "       800           5.7278          -0.1437            2.27s\n",
        "       900           2.0235          -0.0246            2.23s\n",
        "      1000           0.5631          -0.0111            2.20s"
       ]
      },
      {
       "output_type": "stream",
       "stream": "stdout",
       "text": [
        "\n",
        "      2000           0.0000          -0.0000            1.95s"
       ]
      },
      {
       "output_type": "stream",
       "stream": "stdout",
       "text": [
        "\n",
        "      3000           0.0000          -0.0000            1.56s"
       ]
      },
      {
       "output_type": "stream",
       "stream": "stdout",
       "text": [
        "\n",
        "      4000           0.0000          -0.0000            1.23s"
       ]
      },
      {
       "output_type": "stream",
       "stream": "stdout",
       "text": [
        "\n",
        "      5000           0.0000          -0.0000            0.97s"
       ]
      },
      {
       "output_type": "stream",
       "stream": "stdout",
       "text": [
        "\n",
        "      6000           0.0000          -0.0000            0.76s"
       ]
      },
      {
       "output_type": "stream",
       "stream": "stdout",
       "text": [
        "\n",
        "      7000           0.0000          -0.0000            0.55s"
       ]
      },
      {
       "output_type": "stream",
       "stream": "stdout",
       "text": [
        "\n",
        "      8000           0.0000          -0.0000            0.36s"
       ]
      },
      {
       "output_type": "stream",
       "stream": "stdout",
       "text": [
        "\n",
        "      9000           0.0000          -0.0000            0.18s"
       ]
      },
      {
       "output_type": "stream",
       "stream": "stdout",
       "text": [
        "\n",
        "     10000           0.0000          -0.0000            0.00s"
       ]
      },
      {
       "output_type": "stream",
       "stream": "stdout",
       "text": [
        "\n",
        "      Iter       Train Loss      OOB Improve   Remaining Time \n",
        "         1     1738805.2908       61551.3312            4.47s\n",
        "         2     1638699.4252       55520.4361            3.50s\n",
        "         3     1384712.9952      122173.8125            3.16s\n",
        "         4     1513085.4826       19950.2894            2.98s\n",
        "         5     1418841.0689       21919.9582            2.89s\n",
        "         6     1258306.2110       65184.5424            2.80s\n",
        "         7     1235129.6366       38068.5053            2.73s\n",
        "         8     1198076.4159       19447.0383            2.68s\n",
        "         9      916578.6252      114294.3997            2.64s\n",
        "        10      934083.0815       80693.5388            2.62s\n",
        "        20      581674.2892       21970.9325            2.34s\n",
        "        30      340092.6725       11085.7281            2.32s\n",
        "        40      198879.7522        7315.6972            2.44s\n",
        "        50      123178.5494        4394.8588            2.55s\n",
        "        60       80412.9478         867.4828            2.59s\n",
        "        70       55624.6693         953.1582            2.59s\n",
        "        80       39389.6089         201.2899            2.57s\n",
        "        90       23904.0053         747.4682            2.62s\n",
        "       100       18615.0926         565.6629            2.69s\n",
        "       200        5049.0326         -52.2252            2.50s"
       ]
      },
      {
       "output_type": "stream",
       "stream": "stdout",
       "text": [
        "\n",
        "       300        1430.9722         -24.8522            2.41s\n",
        "       400         492.9042          -5.9918            2.40s\n",
        "       500         173.6493          -0.3769            2.37s"
       ]
      },
      {
       "output_type": "stream",
       "stream": "stdout",
       "text": [
        "\n",
        "       600          47.3222          -1.1977            2.32s\n",
        "       700          15.6820          -0.1796            2.29s\n",
        "       800           6.5768          -0.0051            2.26s"
       ]
      },
      {
       "output_type": "stream",
       "stream": "stdout",
       "text": [
        "\n",
        "       900           2.1255          -0.0254            2.24s\n",
        "      1000           0.7856           0.0012            2.21s\n",
        "      2000           0.0001           0.0000            1.92s"
       ]
      },
      {
       "output_type": "stream",
       "stream": "stdout",
       "text": [
        "\n",
        "      3000           0.0000          -0.0000            1.59s"
       ]
      },
      {
       "output_type": "stream",
       "stream": "stdout",
       "text": [
        "\n",
        "      4000           0.0000          -0.0000            1.25s"
       ]
      },
      {
       "output_type": "stream",
       "stream": "stdout",
       "text": [
        "\n",
        "      5000           0.0000          -0.0000            0.99s"
       ]
      },
      {
       "output_type": "stream",
       "stream": "stdout",
       "text": [
        "\n",
        "      6000           0.0000          -0.0000            0.76s"
       ]
      },
      {
       "output_type": "stream",
       "stream": "stdout",
       "text": [
        "\n",
        "      7000           0.0000          -0.0000            0.55s"
       ]
      },
      {
       "output_type": "stream",
       "stream": "stdout",
       "text": [
        "\n",
        "      8000           0.0000          -0.0000            0.36s"
       ]
      },
      {
       "output_type": "stream",
       "stream": "stdout",
       "text": [
        "\n",
        "      9000           0.0000          -0.0000            0.18s"
       ]
      },
      {
       "output_type": "stream",
       "stream": "stdout",
       "text": [
        "\n",
        "     10000           0.0000          -0.0000            0.00s"
       ]
      },
      {
       "output_type": "stream",
       "stream": "stdout",
       "text": [
        "\n",
        "      Iter       Train Loss      OOB Improve   Remaining Time \n",
        "         1     1755218.3423       50584.3165            4.54s\n",
        "         2     1674157.4286       33599.9862            3.56s\n",
        "         3     1396638.0600      141300.6227            3.16s\n",
        "         4     1432226.5134       75286.6287            2.97s\n",
        "         5     1308148.7494       70307.7215            2.84s\n",
        "         6     1211357.1821       59570.0574            2.76s\n",
        "         7     1220647.7698       27336.3833            2.73s\n",
        "         8     1124776.8299       54332.6658            2.68s\n",
        "         9      979415.5752       59112.0145            2.63s\n",
        "        10      970967.6036       77104.2156            2.61s\n",
        "        20      557137.8688       29481.0900            2.34s\n",
        "        30      336181.1837        9198.2636            2.27s\n",
        "        40      196771.7208        5934.0594            2.22s\n",
        "        50      120499.3615        3201.8160            2.20s\n",
        "        60       79348.8897         333.2991            2.18s\n",
        "        70       54775.4038         176.7901            2.19s\n",
        "        80       39625.7476         198.0122            2.19s\n",
        "        90       30491.8322          -4.1281            2.27s\n",
        "       100       23398.2858        -397.6044            2.28s\n",
        "       200        2884.9827          16.0159            2.32s"
       ]
      },
      {
       "output_type": "stream",
       "stream": "stdout",
       "text": [
        "\n",
        "       300        1374.5917         -38.2820            2.31s\n",
        "       400         505.4251          -2.8341            2.35s"
       ]
      },
      {
       "output_type": "stream",
       "stream": "stdout",
       "text": [
        "\n",
        "       500         182.3131          -2.2578            2.34s\n",
        "       600          62.0011          -0.4091            2.33s"
       ]
      },
      {
       "output_type": "stream",
       "stream": "stdout",
       "text": [
        "\n",
        "       700          22.5453          -0.0621            2.29s\n",
        "       800           7.1588           0.0165            2.33s"
       ]
      },
      {
       "output_type": "stream",
       "stream": "stdout",
       "text": [
        "\n",
        "       900           2.3366          -0.0245            2.30s\n",
        "      1000           0.7010          -0.0271            2.27s\n",
        "      2000           0.0000          -0.0000            1.96s"
       ]
      },
      {
       "output_type": "stream",
       "stream": "stdout",
       "text": [
        "\n",
        "      3000           0.0000          -0.0000            1.58s"
       ]
      },
      {
       "output_type": "stream",
       "stream": "stdout",
       "text": [
        "\n",
        "      4000           0.0000          -0.0000            1.32s"
       ]
      },
      {
       "output_type": "stream",
       "stream": "stdout",
       "text": [
        "\n",
        "      5000           0.0000          -0.0000            1.03s"
       ]
      },
      {
       "output_type": "stream",
       "stream": "stdout",
       "text": [
        "\n",
        "      6000           0.0000          -0.0000            0.78s"
       ]
      },
      {
       "output_type": "stream",
       "stream": "stdout",
       "text": [
        "\n",
        "      7000           0.0000          -0.0000            0.57s"
       ]
      },
      {
       "output_type": "stream",
       "stream": "stdout",
       "text": [
        "\n",
        "      8000           0.0000          -0.0000            0.37s"
       ]
      },
      {
       "output_type": "stream",
       "stream": "stdout",
       "text": [
        "\n",
        "      9000           0.0000           0.0000            0.18s"
       ]
      },
      {
       "output_type": "stream",
       "stream": "stdout",
       "text": [
        "\n",
        "     10000           0.0000          -0.0000            0.00s"
       ]
      },
      {
       "output_type": "stream",
       "stream": "stdout",
       "text": [
        "\n",
        "      Iter       Train Loss      OOB Improve   Remaining Time \n",
        "         1     1701324.0473       65912.6953            4.32s\n",
        "         2     1701345.7019       27136.6020            3.41s\n",
        "         3     1535813.9521       47895.7047            3.06s\n",
        "         4     1254581.8593      138590.8500            2.88s\n",
        "         5     1418963.2877       24399.5910            2.76s\n",
        "         6     1250959.7181       75231.2279            2.69s\n",
        "         7     1205163.2963       55245.0017            2.64s\n",
        "         8     1014278.4765       90045.4661            2.60s\n",
        "         9     1039117.4609       81868.6078            2.57s\n",
        "        10     1034864.9235       41601.8978            2.55s\n",
        "        20      537599.1637       45355.8355            2.39s\n",
        "        30      341754.2308        5142.5355            2.29s\n",
        "        40      196251.9998        6494.9581            2.25s\n",
        "        50      123892.0085        2426.2581            2.22s\n",
        "        60       73645.7327        3578.3246            2.20s\n",
        "        70       46115.6638        1693.7779            2.36s\n",
        "        80       38065.4293         482.2982            2.35s\n",
        "        90       29379.4797         187.5608            2.36s\n",
        "       100       23970.7803          34.3996            2.35s\n",
        "       200        5469.8723         -28.5760            2.38s"
       ]
      },
      {
       "output_type": "stream",
       "stream": "stdout",
       "text": [
        "\n",
        "       300        1552.7356          -3.4767            2.35s\n",
        "       400         490.1425         -10.7167            2.38s"
       ]
      },
      {
       "output_type": "stream",
       "stream": "stdout",
       "text": [
        "\n",
        "       500         155.0093          -0.8856            2.39s\n",
        "       600          63.8202          -0.0483            2.34s\n",
        "       700          19.8539          -0.0235            2.30s"
       ]
      },
      {
       "output_type": "stream",
       "stream": "stdout",
       "text": [
        "\n",
        "       800           7.8718          -0.0520            2.26s\n",
        "       900           2.7882          -0.0053            2.24s\n",
        "      1000           1.0356          -0.0065            2.23s"
       ]
      },
      {
       "output_type": "stream",
       "stream": "stdout",
       "text": [
        "\n",
        "      2000           0.0000          -0.0000            1.94s"
       ]
      },
      {
       "output_type": "stream",
       "stream": "stdout",
       "text": [
        "\n",
        "      3000           0.0000          -0.0000            1.56s"
       ]
      },
      {
       "output_type": "stream",
       "stream": "stdout",
       "text": [
        "\n",
        "      4000           0.0000          -0.0000            1.23s"
       ]
      },
      {
       "output_type": "stream",
       "stream": "stdout",
       "text": [
        "\n",
        "      5000           0.0000          -0.0000            0.97s"
       ]
      },
      {
       "output_type": "stream",
       "stream": "stdout",
       "text": [
        "\n",
        "      6000           0.0000          -0.0000            0.75s"
       ]
      },
      {
       "output_type": "stream",
       "stream": "stdout",
       "text": [
        "\n",
        "      7000           0.0000          -0.0000            0.55s"
       ]
      },
      {
       "output_type": "stream",
       "stream": "stdout",
       "text": [
        "\n",
        "      8000           0.0000          -0.0000            0.36s"
       ]
      },
      {
       "output_type": "stream",
       "stream": "stdout",
       "text": [
        "\n",
        "      9000           0.0000          -0.0000            0.18s"
       ]
      },
      {
       "output_type": "stream",
       "stream": "stdout",
       "text": [
        "\n",
        "     10000           0.0000          -0.0000            0.00s"
       ]
      },
      {
       "output_type": "stream",
       "stream": "stdout",
       "text": [
        "\n",
        "      Iter       Train Loss      OOB Improve   Remaining Time \n",
        "         1     1682107.0475       81593.3938            4.52s\n",
        "         2     1583710.6436       93275.9586            3.54s\n",
        "         3     1554638.8491       54149.0811            3.17s\n",
        "         4     1425539.5322       75580.6744            3.03s\n",
        "         5     1416614.5922       20348.2212            2.90s\n",
        "         6     1254538.3148       51101.6317            2.81s\n",
        "         7     1158867.8379       69904.8644            2.75s\n",
        "         8      955869.7580      113583.3710            2.73s\n",
        "         9     1015553.3608       88695.0392            2.71s\n",
        "        10      974648.2001       64525.7697            2.68s\n",
        "        20      550919.3556       40761.2167            2.38s\n",
        "        30      315568.0115       19522.0632            2.28s\n",
        "        40      169929.0976       10659.3465            2.23s\n",
        "        50      120225.3512        3881.7407            2.20s\n",
        "        60       76220.9686        1481.8766            2.21s\n",
        "        70       33771.6626        2899.8191            2.20s\n",
        "        80       36677.4529        -109.2776            2.18s\n",
        "        90       23971.7000        -449.8210            2.18s\n",
        "       100       13229.5544        1313.3907            2.18s\n",
        "       200        5465.4952         -82.2951            2.33s"
       ]
      },
      {
       "output_type": "stream",
       "stream": "stdout",
       "text": [
        "\n",
        "       300        1046.5073         -59.6331            2.27s\n",
        "       400         471.7589          -0.4566            2.34s\n",
        "       500         138.1399          -2.4938            2.30s"
       ]
      },
      {
       "output_type": "stream",
       "stream": "stdout",
       "text": [
        "\n",
        "       600          54.3351          -0.4260            2.28s\n",
        "       700          18.5442          -0.1868            2.31s"
       ]
      },
      {
       "output_type": "stream",
       "stream": "stdout",
       "text": [
        "\n",
        "       800           5.6936          -0.0684            2.39s\n",
        "       900           2.1081          -0.0023            2.46s"
       ]
      },
      {
       "output_type": "stream",
       "stream": "stdout",
       "text": [
        "\n",
        "      1000           0.6612          -0.0081            2.52s\n",
        "      2000           0.0000          -0.0000            2.08s"
       ]
      },
      {
       "output_type": "stream",
       "stream": "stdout",
       "text": [
        "\n",
        "      3000           0.0000          -0.0000            1.66s"
       ]
      },
      {
       "output_type": "stream",
       "stream": "stdout",
       "text": [
        "\n",
        "      4000           0.0000          -0.0000            1.33s"
       ]
      },
      {
       "output_type": "stream",
       "stream": "stdout",
       "text": [
        "\n",
        "      5000           0.0000          -0.0000            1.07s"
       ]
      },
      {
       "output_type": "stream",
       "stream": "stdout",
       "text": [
        "\n",
        "      6000           0.0000          -0.0000            0.83s"
       ]
      },
      {
       "output_type": "stream",
       "stream": "stdout",
       "text": [
        "\n",
        "      7000           0.0000           0.0000            0.61s"
       ]
      },
      {
       "output_type": "stream",
       "stream": "stdout",
       "text": [
        "\n",
        "      8000           0.0000          -0.0000            0.39s"
       ]
      },
      {
       "output_type": "stream",
       "stream": "stdout",
       "text": [
        "\n",
        "      9000           0.0000          -0.0000            0.19s"
       ]
      },
      {
       "output_type": "stream",
       "stream": "stdout",
       "text": [
        "\n",
        "     10000           0.0000          -0.0000            0.00s"
       ]
      },
      {
       "output_type": "stream",
       "stream": "stdout",
       "text": [
        "\n",
        "      Iter       Train Loss      OOB Improve   Remaining Time \n",
        "         1     1449392.1083      114352.4335            4.55s\n",
        "         2     1598129.7651       96828.0370            3.55s\n",
        "         3     1561465.8012       62014.1548            3.16s\n",
        "         4     1459428.1632       51200.8002            2.96s\n",
        "         5     1373705.7617       56572.0456            2.84s\n",
        "         6     1273258.4450       70757.9070            2.77s\n",
        "         7     1181981.3176       79265.6652            2.71s\n",
        "         8     1115410.8633       73876.4995            2.66s\n",
        "         9      973522.8654       85443.1912            2.62s\n",
        "        10     1030991.2480       32426.6833            2.60s\n",
        "        20      559672.9633       31199.9092            3.03s\n",
        "        30      284872.4190       29913.0010            3.18s\n",
        "        40      171750.2229       14184.2169            3.17s\n",
        "        50      118196.6703        5755.8267            3.17s\n",
        "        60       69249.8593        5032.4533            3.17s\n",
        "        70       55455.4082         461.7145            3.21s\n",
        "        80       39308.7931         708.2889            3.28s\n",
        "        90       30922.9154          89.0066            3.30s\n",
        "       100       13623.4864        -426.3086            3.33s\n",
        "       200        3180.1536         -49.6545            3.48s"
       ]
      },
      {
       "output_type": "stream",
       "stream": "stdout",
       "text": [
        "\n",
        "       300        1598.1144           9.6268            3.39s\n",
        "       400         523.2073          -5.8375            3.44s"
       ]
      },
      {
       "output_type": "stream",
       "stream": "stdout",
       "text": [
        "\n",
        "       500         194.2201          -2.1402            3.43s\n",
        "       600          21.0002           0.3237            3.40s"
       ]
      },
      {
       "output_type": "stream",
       "stream": "stdout",
       "text": [
        "\n",
        "       700          24.2467          -0.1896            3.39s\n",
        "       800           3.4808          -0.5210            3.32s"
       ]
      },
      {
       "output_type": "stream",
       "stream": "stdout",
       "text": [
        "\n",
        "       900           2.9128          -0.0160            3.28s\n",
        "      1000           1.0450          -0.0038            3.26s"
       ]
      },
      {
       "output_type": "stream",
       "stream": "stdout",
       "text": [
        "\n",
        "      2000           0.0000          -0.0000            2.44s"
       ]
      },
      {
       "output_type": "stream",
       "stream": "stdout",
       "text": [
        "\n",
        "      3000           0.0000          -0.0000            1.91s"
       ]
      },
      {
       "output_type": "stream",
       "stream": "stdout",
       "text": [
        "\n",
        "      4000           0.0000          -0.0000            1.46s"
       ]
      },
      {
       "output_type": "stream",
       "stream": "stdout",
       "text": [
        "\n",
        "      5000           0.0000          -0.0000            1.12s"
       ]
      },
      {
       "output_type": "stream",
       "stream": "stdout",
       "text": [
        "\n",
        "      6000           0.0000          -0.0000            0.85s"
       ]
      },
      {
       "output_type": "stream",
       "stream": "stdout",
       "text": [
        "\n",
        "      7000           0.0000          -0.0000            0.61s"
       ]
      },
      {
       "output_type": "stream",
       "stream": "stdout",
       "text": [
        "\n",
        "      8000           0.0000          -0.0000            0.40s"
       ]
      },
      {
       "output_type": "stream",
       "stream": "stdout",
       "text": [
        "\n",
        "      9000           0.0000          -0.0000            0.20s"
       ]
      },
      {
       "output_type": "stream",
       "stream": "stdout",
       "text": [
        "\n",
        "     10000           0.0000          -0.0000            0.00s"
       ]
      },
      {
       "output_type": "stream",
       "stream": "stdout",
       "text": [
        "\n",
        "      Iter       Train Loss      OOB Improve   Remaining Time \n",
        "         1     1693017.8910       96146.1555            4.38s\n",
        "         2     1691533.7280       28829.8429            3.47s\n",
        "         3     1555553.5033       55355.7633            3.15s\n",
        "         4     1483570.3682       37275.9255            2.96s\n",
        "         5     1285823.5868      117846.9349            2.84s\n",
        "         6     1264487.9393       46575.4256            2.77s\n",
        "         7     1229557.1299       38176.6894            2.70s\n",
        "         8     1154801.3854       46910.3968            2.66s\n",
        "         9     1019972.4608       68928.8477            2.62s\n",
        "        10     1062897.1557       14133.2049            2.58s\n",
        "        20      537923.9679       42032.1771            2.33s\n",
        "        30      281005.4531       21624.2549            2.25s\n",
        "        40      203380.9098        1414.7703            2.21s\n",
        "        50       93891.6354        9537.3478            2.19s\n",
        "        60       70302.7920        2700.0269            2.26s\n",
        "        70       54846.8235         797.8292            2.34s\n",
        "        80       39840.7046         355.1507            2.43s\n",
        "        90       30625.5876          82.4400            2.41s\n",
        "       100       24535.5456          52.9247            2.38s\n",
        "       200        3370.8429        -374.8081            2.45s"
       ]
      },
      {
       "output_type": "stream",
       "stream": "stdout",
       "text": [
        "\n",
        "       300        1684.4436          -4.0018            2.43s\n",
        "       400         494.5437         -18.7477            2.35s\n",
        "       500         140.8123          -8.7479            2.41s"
       ]
      },
      {
       "output_type": "stream",
       "stream": "stdout",
       "text": [
        "\n",
        "       600          56.9396          -0.5641            2.41s\n",
        "       700          19.2097          -0.0607            2.34s\n",
        "       800           6.2568          -0.0761            2.33s"
       ]
      },
      {
       "output_type": "stream",
       "stream": "stdout",
       "text": [
        "\n",
        "       900           2.1094          -0.0025            2.31s\n",
        "      1000           0.6768          -0.0014            2.28s\n",
        "      2000           0.0000          -0.0000            1.94s"
       ]
      },
      {
       "output_type": "stream",
       "stream": "stdout",
       "text": [
        "\n",
        "      3000           0.0000          -0.0000            1.55s"
       ]
      },
      {
       "output_type": "stream",
       "stream": "stdout",
       "text": [
        "\n",
        "      4000           0.0000          -0.0000            1.22s"
       ]
      },
      {
       "output_type": "stream",
       "stream": "stdout",
       "text": [
        "\n",
        "      5000           0.0000          -0.0000            0.96s"
       ]
      },
      {
       "output_type": "stream",
       "stream": "stdout",
       "text": [
        "\n",
        "      6000           0.0000          -0.0000            0.74s"
       ]
      },
      {
       "output_type": "stream",
       "stream": "stdout",
       "text": [
        "\n",
        "      7000           0.0000          -0.0000            0.54s"
       ]
      },
      {
       "output_type": "stream",
       "stream": "stdout",
       "text": [
        "\n",
        "      8000           0.0000          -0.0000            0.35s"
       ]
      },
      {
       "output_type": "stream",
       "stream": "stdout",
       "text": [
        "\n",
        "      9000           0.0000          -0.0000            0.17s"
       ]
      },
      {
       "output_type": "stream",
       "stream": "stdout",
       "text": [
        "\n",
        "     10000           0.0000          -0.0000            0.00s"
       ]
      },
      {
       "output_type": "stream",
       "stream": "stdout",
       "text": [
        "\n",
        "      Iter       Train Loss      OOB Improve   Remaining Time \n",
        "         1     1491390.2016      185202.4331            6.97s\n",
        "         2     1596852.5755       81194.7364            5.43s\n",
        "         3     1463189.2763       90223.3687            4.46s\n",
        "         4     1305662.4592      142531.1305            3.98s\n",
        "         5     1345677.5910       72299.3996            3.67s\n",
        "         6     1010920.2303      168422.6376            3.46s\n",
        "         7     1262167.1217       23129.6123            3.30s\n",
        "         8     1113430.0385       63975.7240            3.19s\n",
        "         9     1025581.5692       71600.1490            3.10s\n",
        "        10      821862.1457      112810.8440            3.03s\n",
        "        20      544157.0184       30988.7496            3.04s\n",
        "        30      331378.6504        8750.5332            2.75s\n",
        "        40      182757.1201        7976.1979            2.59s\n",
        "        50      119164.4700        3791.5698            2.51s\n",
        "        60       73461.2332        3471.6556            2.61s\n",
        "        70       52844.8637         811.4228            2.57s\n",
        "        80       39534.4879         195.8181            2.52s\n",
        "        90       25707.4884         427.3293            2.48s\n",
        "       100       23780.9037         133.9659            2.46s\n",
        "       200        4812.8317         -18.0415            2.35s"
       ]
      },
      {
       "output_type": "stream",
       "stream": "stdout",
       "text": [
        "\n",
        "       300        1457.8401         -36.0957            2.41s\n",
        "       400         520.8140           0.7613            2.43s"
       ]
      },
      {
       "output_type": "stream",
       "stream": "stdout",
       "text": [
        "\n",
        "       500         180.7402          -0.9988            2.42s\n",
        "       600          59.3191          -0.2518            2.36s\n",
        "       700          19.6975          -0.1017            2.31s"
       ]
      },
      {
       "output_type": "stream",
       "stream": "stdout",
       "text": [
        "\n",
        "       800           6.4649          -0.0262            2.30s\n",
        "       900           2.2262          -0.0473            2.32s"
       ]
      },
      {
       "output_type": "stream",
       "stream": "stdout",
       "text": [
        "\n",
        "      1000           0.7102          -0.0052            2.27s\n",
        "      2000           0.0000          -0.0000            2.19s"
       ]
      },
      {
       "output_type": "stream",
       "stream": "stdout",
       "text": [
        "\n",
        "      3000           0.0000          -0.0000            1.69s"
       ]
      },
      {
       "output_type": "stream",
       "stream": "stdout",
       "text": [
        "\n",
        "      4000           0.0000          -0.0000            1.31s"
       ]
      },
      {
       "output_type": "stream",
       "stream": "stdout",
       "text": [
        "\n",
        "      5000           0.0000          -0.0000            1.02s"
       ]
      },
      {
       "output_type": "stream",
       "stream": "stdout",
       "text": [
        "\n",
        "      6000           0.0000          -0.0000            0.78s"
       ]
      },
      {
       "output_type": "stream",
       "stream": "stdout",
       "text": [
        "\n",
        "      7000           0.0000          -0.0000            0.57s"
       ]
      },
      {
       "output_type": "stream",
       "stream": "stdout",
       "text": [
        "\n",
        "      8000           0.0000          -0.0000            0.37s"
       ]
      },
      {
       "output_type": "stream",
       "stream": "stdout",
       "text": [
        "\n",
        "      9000           0.0000          -0.0000            0.18s"
       ]
      },
      {
       "output_type": "stream",
       "stream": "stdout",
       "text": [
        "\n",
        "     10000           0.0000          -0.0000            0.00s"
       ]
      },
      {
       "output_type": "stream",
       "stream": "stdout",
       "text": [
        "\n",
        "      Iter       Train Loss      OOB Improve   Remaining Time \n",
        "         1     1543372.3172      142640.5390            4.82s\n",
        "         2     1549744.8078      117102.4423            3.76s\n",
        "         3     1454279.1872       71747.5474            3.31s\n",
        "         4     1450502.5455       62250.0649            3.17s\n",
        "         5     1289647.4340       94159.3340            3.02s\n",
        "         6     1255408.8753       62625.2197            2.91s\n",
        "         7     1210763.0263       50261.3794            2.83s\n",
        "         8     1049688.5786       96764.0968            2.77s\n",
        "         9     1053164.0046       47178.6791            2.72s\n",
        "        10     1000064.0140       61380.7999            2.68s\n",
        "        20      588418.3854       15076.6155            2.43s\n",
        "        30      330040.5721       11911.9877            2.34s\n",
        "        40      193887.2196        7213.2997            2.31s\n",
        "        50      115765.4000        5226.2269            2.30s\n",
        "        60       74865.7480        2949.4706            2.52s\n",
        "        70       51114.2656        1064.0290            2.73s\n",
        "        80       36194.4758         116.9690            3.12s\n",
        "        90       24299.5472         487.4171            3.05s\n",
        "       100       23025.3635          76.1998            2.98s\n",
        "       200        5058.3959         -60.3013            2.79s"
       ]
      },
      {
       "output_type": "stream",
       "stream": "stdout",
       "text": [
        "\n",
        "       300        1425.5896         -24.7287            2.60s\n",
        "       400         459.3869          -4.2310            2.54s\n",
        "       500         130.5869          -2.8371            2.55s"
       ]
      },
      {
       "output_type": "stream",
       "stream": "stdout",
       "text": [
        "\n",
        "       600          52.0693          -0.6841            2.49s\n",
        "       700          11.9407          -1.1320            2.47s"
       ]
      },
      {
       "output_type": "stream",
       "stream": "stdout",
       "text": [
        "\n",
        "       800           6.5210           0.0042            2.45s\n",
        "       900           1.9186          -0.0107            2.46s"
       ]
      },
      {
       "output_type": "stream",
       "stream": "stdout",
       "text": [
        "\n",
        "      1000           0.4773          -0.0233            2.41s\n",
        "      2000           0.0000          -0.0000            2.09s"
       ]
      },
      {
       "output_type": "stream",
       "stream": "stdout",
       "text": [
        "\n",
        "      3000           0.0000          -0.0000            1.69s"
       ]
      },
      {
       "output_type": "stream",
       "stream": "stdout",
       "text": [
        "\n",
        "      4000           0.0000          -0.0000            1.33s"
       ]
      },
      {
       "output_type": "stream",
       "stream": "stdout",
       "text": [
        "\n",
        "      5000           0.0000          -0.0000            1.05s"
       ]
      },
      {
       "output_type": "stream",
       "stream": "stdout",
       "text": [
        "\n",
        "      6000           0.0000          -0.0000            0.80s"
       ]
      },
      {
       "output_type": "stream",
       "stream": "stdout",
       "text": [
        "\n",
        "      7000           0.0000          -0.0000            0.58s"
       ]
      },
      {
       "output_type": "stream",
       "stream": "stdout",
       "text": [
        "\n",
        "      8000           0.0000          -0.0000            0.38s"
       ]
      },
      {
       "output_type": "stream",
       "stream": "stdout",
       "text": [
        "\n",
        "      9000           0.0000          -0.0000            0.19s"
       ]
      },
      {
       "output_type": "stream",
       "stream": "stdout",
       "text": [
        "\n",
        "     10000           0.0000          -0.0000            0.00s"
       ]
      },
      {
       "output_type": "stream",
       "stream": "stdout",
       "text": [
        "\n",
        "      Iter       Train Loss      OOB Improve   Remaining Time \n",
        "         1     1667166.3483      118420.9221            4.45s\n",
        "         2     1422048.5556      129563.9010            3.57s\n",
        "         3     1471248.1056       88086.7246            3.20s\n",
        "         4     1420231.5927       67456.8450            2.99s\n",
        "         5     1295378.0084      109799.5443            2.86s\n",
        "         6     1185649.7605       81336.8208            2.78s\n",
        "         7     1132040.4749      104621.8590            2.74s\n",
        "         8      995944.9971       88413.5110            2.69s\n",
        "         9     1054461.6720       71066.9863            2.65s\n",
        "        10      914677.5475       82205.4384            2.65s\n",
        "        20      527620.6344       36321.6637            2.38s\n",
        "        30      322340.4277       18759.1500            2.30s\n",
        "        40      151964.3226       13650.8292            2.26s\n",
        "        50      120713.8232        4950.9881            2.23s\n",
        "        60       63587.0653        5712.7858            2.22s\n",
        "        70       43878.7251        2597.9015            2.22s\n",
        "        80       37226.2209        1277.6855            2.26s\n",
        "        90       23636.5945        1288.8334            2.27s\n",
        "       100       12397.7595        -790.6180            2.30s\n",
        "       200        4784.2374        -414.3826            2.73s"
       ]
      },
      {
       "output_type": "stream",
       "stream": "stdout",
       "text": [
        "\n",
        "       300        1419.7037          -8.3883            3.00s\n",
        "       400         377.1289          -8.8825            3.17s"
       ]
      },
      {
       "output_type": "stream",
       "stream": "stdout",
       "text": [
        "\n",
        "       500         125.5245          -3.5194            3.13s\n",
        "       600          27.1906          -2.8070            3.20s"
       ]
      },
      {
       "output_type": "stream",
       "stream": "stdout",
       "text": [
        "\n",
        "       700          17.1408          -0.1355            3.05s\n",
        "       800           4.9836          -0.0589            2.95s"
       ]
      },
      {
       "output_type": "stream",
       "stream": "stdout",
       "text": [
        "\n",
        "       900           1.3959          -0.0176            2.86s\n",
        "      1000           0.3056          -0.0315            2.77s"
       ]
      },
      {
       "output_type": "stream",
       "stream": "stdout",
       "text": [
        "\n",
        "      2000           0.0000          -0.0000            2.24s"
       ]
      },
      {
       "output_type": "stream",
       "stream": "stdout",
       "text": [
        "\n",
        "      3000           0.0000          -0.0000            1.74s"
       ]
      },
      {
       "output_type": "stream",
       "stream": "stdout",
       "text": [
        "\n",
        "      4000           0.0000          -0.0000            1.35s"
       ]
      },
      {
       "output_type": "stream",
       "stream": "stdout",
       "text": [
        "\n",
        "      5000           0.0000          -0.0000            1.06s"
       ]
      },
      {
       "output_type": "stream",
       "stream": "stdout",
       "text": [
        "\n",
        "      6000           0.0000          -0.0000            0.81s"
       ]
      },
      {
       "output_type": "stream",
       "stream": "stdout",
       "text": [
        "\n",
        "      7000           0.0000          -0.0000            0.59s"
       ]
      },
      {
       "output_type": "stream",
       "stream": "stdout",
       "text": [
        "\n",
        "      8000           0.0000          -0.0000            0.38s"
       ]
      },
      {
       "output_type": "stream",
       "stream": "stdout",
       "text": [
        "\n",
        "      9000           0.0000          -0.0000            0.19s"
       ]
      },
      {
       "output_type": "stream",
       "stream": "stdout",
       "text": [
        "\n",
        "     10000           0.0000          -0.0000            0.00s"
       ]
      },
      {
       "output_type": "stream",
       "stream": "stdout",
       "text": [
        "\n",
        "--- 71.6295800209 seconds ---\n"
       ]
      }
     ],
     "prompt_number": 175
    },
    {
     "cell_type": "code",
     "collapsed": false,
     "input": [
      "print np.mean(r)\n",
      "print y[(16*60):(16*60)+1]"
     ],
     "language": "python",
     "metadata": {},
     "outputs": [
      {
       "output_type": "stream",
       "stream": "stdout",
       "text": [
        "6333.73459127\n",
        "960    6338.4\n",
        "Name: kwh, dtype: object\n"
       ]
      }
     ],
     "prompt_number": 176
    },
    {
     "cell_type": "code",
     "collapsed": false,
     "input": [
      "plt.hist(daily_data.std_day)\n",
      "plt.show()"
     ],
     "language": "python",
     "metadata": {},
     "outputs": [],
     "prompt_number": 76
    },
    {
     "cell_type": "code",
     "collapsed": false,
     "input": [],
     "language": "python",
     "metadata": {},
     "outputs": []
    }
   ],
   "metadata": {}
  }
 ]
}