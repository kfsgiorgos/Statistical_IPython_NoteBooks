{
 "cells": [
  {
   "cell_type": "code",
   "execution_count": 2,
   "metadata": {
    "collapsed": false,
    "scrolled": true
   },
   "outputs": [],
   "source": [
    "import pandas as pd\n",
    "import numpy as np\n",
    "import warnings\n",
    "import matplotlib.pyplot as plt\n",
    "import seaborn as sns\n",
    "warnings.filterwarnings(\"ignore\")\n",
    "import time\n",
    "from sklearn.ensemble import GradientBoostingRegressor\n",
    "from sklearn.cross_validation import train_test_split\n",
    "from sklearn.metrics import mean_squared_error\n",
    "from sklearn.metrics import mean_absolute_error\n",
    "from sklearn.grid_search import RandomizedSearchCV\n",
    "import collections\n",
    "import matplotlib\n",
    "%matplotlib inline"
   ]
  },
  {
   "cell_type": "markdown",
   "metadata": {},
   "source": [
    "# In this Notebook I am going to illustrate the steps I followed in order too predict the next hour of a specific weekday. For instance we want to predict the 1st hour of the next day. We first check what weekday is (for instance it is 0) and then we subset the loaded dataset and keep only weekday==0 in order to train our model and predict the first hour. We can repeat the whole process for all the hours in the next day. In this case we will train 24 models because for each hour we have a different model. We followed this process because we assumed that thre is a significant pattern in electrticity consumption on every hour of each weekday."
   ]
  },
  {
   "cell_type": "code",
   "execution_count": 3,
   "metadata": {
    "collapsed": true,
    "scrolled": true
   },
   "outputs": [],
   "source": [
    "load_data = pd.read_csv('/home/gkaiafas/datasets/Load_Protergia/0a05916b-d667-497f-b78c-749536429dbd.csv')\n",
    "load_data.columns=['Time', 'kwh']\n",
    "load_data['Time'] = pd.to_datetime(load_data['Time'])\n",
    "load_data.head()\n",
    "#### we sort the dataframe based on Time\n",
    "data = load_data.sort('Time')"
   ]
  },
  {
   "cell_type": "code",
   "execution_count": 4,
   "metadata": {
    "collapsed": true,
    "scrolled": true
   },
   "outputs": [],
   "source": [
    "data['day_of_the_year'] = data['Time'].map(lambda x: x.dayofyear)\n",
    "data['hour'] = data['Time'].map(lambda x: x.hour)\n",
    "data['weekday'] = data['Time'].map(lambda x: x.weekday())\n",
    "data['quarter'] = data['Time'].map(lambda x: x.quarter)\n",
    "data['year'] = data['Time'].map(lambda x: x.year)"
   ]
  },
  {
   "cell_type": "markdown",
   "metadata": {},
   "source": [
    "#####  We make some investigation on consumption data"
   ]
  },
  {
   "cell_type": "code",
   "execution_count": 5,
   "metadata": {
    "collapsed": false,
    "scrolled": true
   },
   "outputs": [
    {
     "name": "stdout",
     "output_type": "stream",
     "text": [
      "8038\n",
      "0\n",
      "4\n",
      "131.8\n",
      "10000.0\n"
     ]
    }
   ],
   "source": [
    "print len(data.kwh[data['kwh']==0])\n",
    "print len(data.kwh[data['kwh']<0])\n",
    "print len(data.kwh[data['kwh']==max(data.kwh)])\n",
    "print max(data.kwh[data.kwh!=max(data.kwh)])\n",
    "print max(data.kwh)"
   ]
  },
  {
   "cell_type": "markdown",
   "metadata": {},
   "source": [
    "##### Handling of non sensible i-meter writings"
   ]
  },
  {
   "cell_type": "code",
   "execution_count": 6,
   "metadata": {
    "collapsed": true,
    "scrolled": true
   },
   "outputs": [],
   "source": [
    "data.kwh[data.kwh==0.0] = min(data.kwh[(data.kwh>0.0) & (data.kwh!=max(data.kwh))])\n",
    "data.ix[data.kwh[data.kwh==max(data.kwh)].index] =  data.kwh.ix[data.kwh[data.kwh==max(data.kwh)].index[0]-1]"
   ]
  },
  {
   "cell_type": "code",
   "execution_count": 7,
   "metadata": {
    "collapsed": false,
    "scrolled": true
   },
   "outputs": [
    {
     "data": {
      "text/plain": [
       "count    119424.000000\n",
       "mean         26.847336\n",
       "std          26.045828\n",
       "min           0.200000\n",
       "25%           4.400000\n",
       "50%          17.200000\n",
       "75%          46.400000\n",
       "max         131.800000\n",
       "Name: kwh, dtype: float64"
      ]
     },
     "execution_count": 7,
     "metadata": {},
     "output_type": "execute_result"
    }
   ],
   "source": [
    "data.kwh.describe()"
   ]
  },
  {
   "cell_type": "markdown",
   "metadata": {},
   "source": [
    "##### We create an Ordered_dictionary of dataframes  after group_by Year & Day_of_the_year. When we do not have 96 points in each day we drop the day"
   ]
  },
  {
   "cell_type": "code",
   "execution_count": 8,
   "metadata": {
    "collapsed": false,
    "scrolled": true
   },
   "outputs": [
    {
     "name": "stdout",
     "output_type": "stream",
     "text": [
      "1245\n",
      "1243\n"
     ]
    }
   ],
   "source": [
    "t = data.groupby(['day_of_the_year','year'])\n",
    "groups = (dict(list(t)))\n",
    "groups = collections.OrderedDict(sorted(groups.items()))\n",
    "# print groups[1].iloc[0]\n",
    "# print groups[365].iloc[0]\n",
    "print len(groups)\n",
    "for i in groups.keys():\n",
    "    if len(groups[i]) != 96:\n",
    "        del groups[i]\n",
    "print len(groups)"
   ]
  },
  {
   "cell_type": "code",
   "execution_count": 9,
   "metadata": {
    "collapsed": false,
    "scrolled": true
   },
   "outputs": [
    {
     "name": "stdout",
     "output_type": "stream",
     "text": [
      "The slowest run took 5.40 times longer than the fastest. This could mean that an intermediate result is being cached \n",
      "1000000 loops, best of 3: 353 ns per loop\n"
     ]
    }
   ],
   "source": [
    "list_of_dataframes = [groups[i] for i in groups.keys()]\n",
    "data = pd.concat(list_of_dataframes)\n",
    "%timeit max(range(10))"
   ]
  },
  {
   "cell_type": "markdown",
   "metadata": {},
   "source": [
    "##  the previous dataframe has only the days for which are valid(96 measurements). The scope of the Ordered_dict was to find an efficient way to track all the days and investigate how many of them are consisted by all the measurements."
   ]
  },
  {
   "cell_type": "markdown",
   "metadata": {},
   "source": [
    "######  Now we will group_by weekday and hour to make the feature engineering and proceed to the predictive model. This model will predict the consumption of a specific day using the sum of the quarters per hour of a day and the features we can reveal."
   ]
  },
  {
   "cell_type": "code",
   "execution_count": 10,
   "metadata": {
    "collapsed": false,
    "scrolled": true
   },
   "outputs": [],
   "source": [
    "t1 = data.groupby(['weekday','hour'])\n",
    "groups1 = (dict(list(t1)))\n",
    "groups1 = collections.OrderedDict(sorted(groups1.items()))"
   ]
  },
  {
   "cell_type": "markdown",
   "metadata": {},
   "source": [
    "##### The following dataframe contains all the quarters for Weeday==0 & Hour==0 and as a first approach we wiil build our model based on this."
   ]
  },
  {
   "cell_type": "code",
   "execution_count": 11,
   "metadata": {
    "collapsed": false,
    "scrolled": true
   },
   "outputs": [
    {
     "data": {
      "text/plain": [
       "(712, 5)"
      ]
     },
     "execution_count": 11,
     "metadata": {},
     "output_type": "execute_result"
    }
   ],
   "source": [
    "data1 = groups1[0,0]\n",
    "x = data1[:data1.shape[0]]\n",
    "x = x.drop(['hour','weekday'],axis=1)\n",
    "x.index = range(len(x))\n",
    "x.head(15)\n",
    "x.shape"
   ]
  },
  {
   "cell_type": "code",
   "execution_count": 12,
   "metadata": {
    "collapsed": false,
    "scrolled": true
   },
   "outputs": [
    {
     "data": {
      "text/html": [
       "<div>\n",
       "<table border=\"1\" class=\"dataframe\">\n",
       "  <thead>\n",
       "    <tr style=\"text-align: right;\">\n",
       "      <th></th>\n",
       "      <th>Time</th>\n",
       "      <th>kwh</th>\n",
       "      <th>day_of_the_year</th>\n",
       "      <th>quarter</th>\n",
       "      <th>year</th>\n",
       "    </tr>\n",
       "  </thead>\n",
       "  <tbody>\n",
       "    <tr>\n",
       "      <th>0</th>\n",
       "      <td>2012-01-02 00:00:00</td>\n",
       "      <td>9.0</td>\n",
       "      <td>2</td>\n",
       "      <td>1</td>\n",
       "      <td>2012</td>\n",
       "    </tr>\n",
       "    <tr>\n",
       "      <th>1</th>\n",
       "      <td>2012-01-02 00:15:00</td>\n",
       "      <td>31.6</td>\n",
       "      <td>2</td>\n",
       "      <td>1</td>\n",
       "      <td>2012</td>\n",
       "    </tr>\n",
       "    <tr>\n",
       "      <th>2</th>\n",
       "      <td>2012-01-02 00:30:00</td>\n",
       "      <td>28.2</td>\n",
       "      <td>2</td>\n",
       "      <td>1</td>\n",
       "      <td>2012</td>\n",
       "    </tr>\n",
       "    <tr>\n",
       "      <th>3</th>\n",
       "      <td>2012-01-02 00:45:00</td>\n",
       "      <td>36.4</td>\n",
       "      <td>2</td>\n",
       "      <td>1</td>\n",
       "      <td>2012</td>\n",
       "    </tr>\n",
       "    <tr>\n",
       "      <th>4</th>\n",
       "      <td>2012-01-09 00:00:00</td>\n",
       "      <td>31.2</td>\n",
       "      <td>9</td>\n",
       "      <td>1</td>\n",
       "      <td>2012</td>\n",
       "    </tr>\n",
       "    <tr>\n",
       "      <th>5</th>\n",
       "      <td>2012-01-09 00:15:00</td>\n",
       "      <td>25.6</td>\n",
       "      <td>9</td>\n",
       "      <td>1</td>\n",
       "      <td>2012</td>\n",
       "    </tr>\n",
       "    <tr>\n",
       "      <th>6</th>\n",
       "      <td>2012-01-09 00:30:00</td>\n",
       "      <td>13.2</td>\n",
       "      <td>9</td>\n",
       "      <td>1</td>\n",
       "      <td>2012</td>\n",
       "    </tr>\n",
       "    <tr>\n",
       "      <th>7</th>\n",
       "      <td>2012-01-09 00:45:00</td>\n",
       "      <td>10.0</td>\n",
       "      <td>9</td>\n",
       "      <td>1</td>\n",
       "      <td>2012</td>\n",
       "    </tr>\n",
       "    <tr>\n",
       "      <th>8</th>\n",
       "      <td>2012-01-16 00:00:00</td>\n",
       "      <td>13.2</td>\n",
       "      <td>16</td>\n",
       "      <td>1</td>\n",
       "      <td>2012</td>\n",
       "    </tr>\n",
       "    <tr>\n",
       "      <th>9</th>\n",
       "      <td>2012-01-16 00:15:00</td>\n",
       "      <td>15.0</td>\n",
       "      <td>16</td>\n",
       "      <td>1</td>\n",
       "      <td>2012</td>\n",
       "    </tr>\n",
       "    <tr>\n",
       "      <th>10</th>\n",
       "      <td>2012-01-16 00:30:00</td>\n",
       "      <td>15.2</td>\n",
       "      <td>16</td>\n",
       "      <td>1</td>\n",
       "      <td>2012</td>\n",
       "    </tr>\n",
       "    <tr>\n",
       "      <th>11</th>\n",
       "      <td>2012-01-16 00:45:00</td>\n",
       "      <td>22.2</td>\n",
       "      <td>16</td>\n",
       "      <td>1</td>\n",
       "      <td>2012</td>\n",
       "    </tr>\n",
       "    <tr>\n",
       "      <th>12</th>\n",
       "      <td>2012-01-23 00:45:00</td>\n",
       "      <td>8.4</td>\n",
       "      <td>23</td>\n",
       "      <td>1</td>\n",
       "      <td>2012</td>\n",
       "    </tr>\n",
       "    <tr>\n",
       "      <th>13</th>\n",
       "      <td>2012-01-23 00:30:00</td>\n",
       "      <td>8.8</td>\n",
       "      <td>23</td>\n",
       "      <td>1</td>\n",
       "      <td>2012</td>\n",
       "    </tr>\n",
       "    <tr>\n",
       "      <th>14</th>\n",
       "      <td>2012-01-23 00:00:00</td>\n",
       "      <td>20.4</td>\n",
       "      <td>23</td>\n",
       "      <td>1</td>\n",
       "      <td>2012</td>\n",
       "    </tr>\n",
       "  </tbody>\n",
       "</table>\n",
       "</div>"
      ],
      "text/plain": [
       "                  Time   kwh  day_of_the_year  quarter  year\n",
       "0  2012-01-02 00:00:00   9.0                2        1  2012\n",
       "1  2012-01-02 00:15:00  31.6                2        1  2012\n",
       "2  2012-01-02 00:30:00  28.2                2        1  2012\n",
       "3  2012-01-02 00:45:00  36.4                2        1  2012\n",
       "4  2012-01-09 00:00:00  31.2                9        1  2012\n",
       "5  2012-01-09 00:15:00  25.6                9        1  2012\n",
       "6  2012-01-09 00:30:00  13.2                9        1  2012\n",
       "7  2012-01-09 00:45:00  10.0                9        1  2012\n",
       "8  2012-01-16 00:00:00  13.2               16        1  2012\n",
       "9  2012-01-16 00:15:00  15.0               16        1  2012\n",
       "10 2012-01-16 00:30:00  15.2               16        1  2012\n",
       "11 2012-01-16 00:45:00  22.2               16        1  2012\n",
       "12 2012-01-23 00:45:00   8.4               23        1  2012\n",
       "13 2012-01-23 00:30:00   8.8               23        1  2012\n",
       "14 2012-01-23 00:00:00  20.4               23        1  2012"
      ]
     },
     "execution_count": 12,
     "metadata": {},
     "output_type": "execute_result"
    }
   ],
   "source": [
    "x2012 = x[x['year']==2012]\n",
    "x2012 = x2012.sort(['day_of_the_year'], ascending=[True])\n",
    "x2013 = x[x['year']==2013]\n",
    "x2013 = x2013.sort(['day_of_the_year'], ascending=[True])\n",
    "x2014 = x[x['year']==2014]\n",
    "x2014 = x2014.sort(['day_of_the_year'], ascending=[True])\n",
    "x2015 = x[x['year']==2015]\n",
    "x2015 = x2015.sort(['day_of_the_year'], ascending=[True])\n",
    "x1 = pd.concat([x2012, x2013, x2014, x2015], ignore_index=True)\n",
    "x1.shape\n",
    "x1.head(15)"
   ]
  },
  {
   "cell_type": "markdown",
   "metadata": {},
   "source": [
    "#####  We make some feature engineering in the 4 quarters of each hour"
   ]
  },
  {
   "cell_type": "code",
   "execution_count": 13,
   "metadata": {
    "collapsed": true,
    "scrolled": true
   },
   "outputs": [],
   "source": [
    "p = 0\n",
    "j = 1\n",
    "y = []\n",
    "yy1 = []\n",
    "yy2 = []\n",
    "yy3 = []\n",
    "yy4 = []\n",
    "yy5 = []\n",
    "yy6 = []\n",
    "g1 = []\n",
    "g2 = []\n",
    "g3 = []\n",
    "g4 = []\n",
    "g5 = []\n",
    "g6 = []\n",
    "for jj in range(0, len(x1), 4):\n",
    "        y.append(sum(x1['kwh'][p*4:j*4]))\n",
    "        yy1.append(np.mean(x1['kwh'][p*4:j*4]))\n",
    "        yy2.append(np.std(x1['kwh'][p*4:j*4]))\n",
    "        yy3.append(max(x1['kwh'][p*4:j*4]))\n",
    "        w2 = x1['kwh'][p*4:j*4]\n",
    "        yy4.append(float(len(w2[w2 > w2.mean()])))# / len(w2))\n",
    "        yy5.append((np.ptp(x1['kwh'][p*4:j*4])))\n",
    "        w3 = x1['kwh'][p*4:j*4]\n",
    "        ww = list(w3)\n",
    "        w4 = w3.map(lambda k: (k-np.mean(w3)))\n",
    "        yy6.append(sum(w4))\n",
    "        rr1 = [ww[ij]-ww[ij+1] for ij in range(len(ww)-1)]\n",
    "        rr2 = [ww[ij]-ww[ij+2] for ij in range(0, len(ww)-2, 1)]\n",
    "        rr3 = [ww[ij]-ww[ij+3] for ij in range(0, len(ww)-3, 1)]\n",
    "        g1.append(rr1[0])\n",
    "        g2.append(rr1[1])\n",
    "        g3.append(rr1[2])\n",
    "        g4.append(rr2[0])\n",
    "        g5.append(rr2[1])\n",
    "        g6.append(rr3[0])\n",
    "        p += 1\n",
    "        j += 1"
   ]
  },
  {
   "cell_type": "code",
   "execution_count": 14,
   "metadata": {
    "collapsed": true,
    "scrolled": true
   },
   "outputs": [],
   "source": [
    "data = pd.DataFrame([y, yy1, yy2, yy3, yy4, yy5, yy6, g1, g2, g3, g4, g5, g6]).T\n",
    "data.columns = ['kwh', 'mean_day', 'std_day','max_day', '#values_exceed_mean', 'max-min', 'standarized_sum',\n",
    "                '1st_diff', '1st_diff1', '1st_diff2', '2nd_diff', '2nd_diff1', '3rd_diff']"
   ]
  },
  {
   "cell_type": "code",
   "execution_count": 15,
   "metadata": {
    "collapsed": false,
    "scrolled": true
   },
   "outputs": [
    {
     "data": {
      "text/html": [
       "<div>\n",
       "<table border=\"1\" class=\"dataframe\">\n",
       "  <thead>\n",
       "    <tr style=\"text-align: right;\">\n",
       "      <th></th>\n",
       "      <th>kwh</th>\n",
       "      <th>mean_day</th>\n",
       "      <th>std_day</th>\n",
       "      <th>max_day</th>\n",
       "      <th>#values_exceed_mean</th>\n",
       "      <th>max-min</th>\n",
       "      <th>standarized_sum</th>\n",
       "      <th>1st_diff</th>\n",
       "      <th>1st_diff1</th>\n",
       "      <th>1st_diff2</th>\n",
       "      <th>2nd_diff</th>\n",
       "      <th>2nd_diff1</th>\n",
       "      <th>3rd_diff</th>\n",
       "    </tr>\n",
       "  </thead>\n",
       "  <tbody>\n",
       "    <tr>\n",
       "      <th>0</th>\n",
       "      <td>105.2</td>\n",
       "      <td>26.30</td>\n",
       "      <td>10.404326</td>\n",
       "      <td>36.4</td>\n",
       "      <td>3</td>\n",
       "      <td>27.4</td>\n",
       "      <td>1.065814e-14</td>\n",
       "      <td>-22.6</td>\n",
       "      <td>3.4</td>\n",
       "      <td>-8.2</td>\n",
       "      <td>-19.2</td>\n",
       "      <td>-4.8</td>\n",
       "      <td>-27.4</td>\n",
       "    </tr>\n",
       "    <tr>\n",
       "      <th>1</th>\n",
       "      <td>80.0</td>\n",
       "      <td>20.00</td>\n",
       "      <td>8.704022</td>\n",
       "      <td>31.2</td>\n",
       "      <td>2</td>\n",
       "      <td>21.2</td>\n",
       "      <td>0.000000e+00</td>\n",
       "      <td>5.6</td>\n",
       "      <td>12.4</td>\n",
       "      <td>3.2</td>\n",
       "      <td>18.0</td>\n",
       "      <td>15.6</td>\n",
       "      <td>21.2</td>\n",
       "    </tr>\n",
       "    <tr>\n",
       "      <th>2</th>\n",
       "      <td>65.6</td>\n",
       "      <td>16.40</td>\n",
       "      <td>3.438023</td>\n",
       "      <td>22.2</td>\n",
       "      <td>1</td>\n",
       "      <td>9.0</td>\n",
       "      <td>3.552714e-15</td>\n",
       "      <td>-1.8</td>\n",
       "      <td>-0.2</td>\n",
       "      <td>-7.0</td>\n",
       "      <td>-2.0</td>\n",
       "      <td>-7.2</td>\n",
       "      <td>-9.0</td>\n",
       "    </tr>\n",
       "    <tr>\n",
       "      <th>3</th>\n",
       "      <td>47.6</td>\n",
       "      <td>11.90</td>\n",
       "      <td>4.942671</td>\n",
       "      <td>20.4</td>\n",
       "      <td>1</td>\n",
       "      <td>12.0</td>\n",
       "      <td>-1.776357e-15</td>\n",
       "      <td>-0.4</td>\n",
       "      <td>-11.6</td>\n",
       "      <td>10.4</td>\n",
       "      <td>-12.0</td>\n",
       "      <td>-1.2</td>\n",
       "      <td>-1.6</td>\n",
       "    </tr>\n",
       "    <tr>\n",
       "      <th>4</th>\n",
       "      <td>50.6</td>\n",
       "      <td>12.65</td>\n",
       "      <td>3.001250</td>\n",
       "      <td>16.6</td>\n",
       "      <td>2</td>\n",
       "      <td>8.4</td>\n",
       "      <td>0.000000e+00</td>\n",
       "      <td>8.4</td>\n",
       "      <td>-4.2</td>\n",
       "      <td>-1.0</td>\n",
       "      <td>4.2</td>\n",
       "      <td>-5.2</td>\n",
       "      <td>3.2</td>\n",
       "    </tr>\n",
       "  </tbody>\n",
       "</table>\n",
       "</div>"
      ],
      "text/plain": [
       "     kwh  mean_day    std_day  max_day  #values_exceed_mean  max-min  \\\n",
       "0  105.2     26.30  10.404326     36.4                    3     27.4   \n",
       "1   80.0     20.00   8.704022     31.2                    2     21.2   \n",
       "2   65.6     16.40   3.438023     22.2                    1      9.0   \n",
       "3   47.6     11.90   4.942671     20.4                    1     12.0   \n",
       "4   50.6     12.65   3.001250     16.6                    2      8.4   \n",
       "\n",
       "   standarized_sum  1st_diff  1st_diff1  1st_diff2  2nd_diff  2nd_diff1  \\\n",
       "0     1.065814e-14     -22.6        3.4       -8.2     -19.2       -4.8   \n",
       "1     0.000000e+00       5.6       12.4        3.2      18.0       15.6   \n",
       "2     3.552714e-15      -1.8       -0.2       -7.0      -2.0       -7.2   \n",
       "3    -1.776357e-15      -0.4      -11.6       10.4     -12.0       -1.2   \n",
       "4     0.000000e+00       8.4       -4.2       -1.0       4.2       -5.2   \n",
       "\n",
       "   3rd_diff  \n",
       "0     -27.4  \n",
       "1      21.2  \n",
       "2      -9.0  \n",
       "3      -1.6  \n",
       "4       3.2  "
      ]
     },
     "execution_count": 15,
     "metadata": {},
     "output_type": "execute_result"
    }
   ],
   "source": [
    "data.head()"
   ]
  },
  {
   "cell_type": "markdown",
   "metadata": {},
   "source": [
    "##### In the dataframe with all the information for weekday==0 & hour==0 we have to extract the year & day_of_the_year and append them in the previous dataframe. We will overcome the problem having dublicated information because we only one writing for year and day_of_the_year"
   ]
  },
  {
   "cell_type": "code",
   "execution_count": 16,
   "metadata": {
    "collapsed": false,
    "scrolled": false
   },
   "outputs": [
    {
     "name": "stdout",
     "output_type": "stream",
     "text": [
      "    day_of_the_year  quarter  year\n",
      "0                 2        1  2012\n",
      "1                 9        1  2012\n",
      "2                16        1  2012\n",
      "3                23        1  2012\n",
      "4                30        1  2012\n",
      "5                37        1  2012\n",
      "6                44        1  2012\n",
      "7                51        1  2012\n",
      "8                58        1  2012\n",
      "9                65        1  2012\n",
      "10               72        1  2012\n",
      "11               79        1  2012\n",
      "12               86        1  2012\n",
      "13               93        2  2012\n",
      "14              100        2  2012\n"
     ]
    }
   ],
   "source": [
    "p = 0\n",
    "y = []\n",
    "# df = pd.DataFrame([1,2,3,4,5,6], columns=list('ABDFGR'))\n",
    "for i in range(0,len(x1),4):\n",
    "    y.append(np.ravel(x1[['day_of_the_year', 'quarter', 'year']][p*4:(p*4)+1].values))\n",
    "    p += 1\n",
    "t = pd.DataFrame.from_records(y)\n",
    "t.columns = 'day_of_the_year', 'quarter', 'year'\n",
    "print t.head(15)"
   ]
  },
  {
   "cell_type": "markdown",
   "metadata": {},
   "source": [
    "#####  We have to assert that concat was succesful without importing NaN values"
   ]
  },
  {
   "cell_type": "code",
   "execution_count": 17,
   "metadata": {
    "collapsed": false,
    "scrolled": true
   },
   "outputs": [
    {
     "name": "stdout",
     "output_type": "stream",
     "text": [
      "day_of_the_year        0\n",
      "quarter                0\n",
      "year                   0\n",
      "kwh                    0\n",
      "mean_day               0\n",
      "std_day                0\n",
      "max_day                0\n",
      "#values_exceed_mean    0\n",
      "max-min                0\n",
      "standarized_sum        0\n",
      "1st_diff               0\n",
      "1st_diff1              0\n",
      "1st_diff2              0\n",
      "2nd_diff               0\n",
      "2nd_diff1              0\n",
      "3rd_diff               0\n",
      "dtype: int64\n",
      "day_of_the_year        0\n",
      "quarter                0\n",
      "year                   0\n",
      "kwh                    0\n",
      "mean_day               0\n",
      "std_day                0\n",
      "max_day                0\n",
      "#values_exceed_mean    0\n",
      "max-min                0\n",
      "standarized_sum        0\n",
      "1st_diff               0\n",
      "1st_diff1              0\n",
      "1st_diff2              0\n",
      "2nd_diff               0\n",
      "2nd_diff1              0\n",
      "3rd_diff               0\n",
      "dtype: int64\n"
     ]
    }
   ],
   "source": [
    "result = pd.concat([t, data], axis=1)\n",
    "result = result.drop(result.index[[0,-1]])\n",
    "print result.apply(lambda col: pd.isnull(col).sum())\n",
    "nan_index = pd.isnull(result).any(1).nonzero()[0]\n",
    "result = result.drop(result.index[nan_index])\n",
    "print result.apply(lambda col: pd.isnull(col).sum())"
   ]
  },
  {
   "cell_type": "markdown",
   "metadata": {},
   "source": [
    "#### We split our dataset and start with cross_validation"
   ]
  },
  {
   "cell_type": "markdown",
   "metadata": {},
   "source": [
    "###### The column kwh is the target value"
   ]
  },
  {
   "cell_type": "code",
   "execution_count": 18,
   "metadata": {
    "collapsed": false,
    "scrolled": true
   },
   "outputs": [
    {
     "data": {
      "text/html": [
       "<div>\n",
       "<table border=\"1\" class=\"dataframe\">\n",
       "  <thead>\n",
       "    <tr style=\"text-align: right;\">\n",
       "      <th></th>\n",
       "      <th>day_of_the_year</th>\n",
       "      <th>quarter</th>\n",
       "      <th>year</th>\n",
       "      <th>kwh</th>\n",
       "      <th>mean_day</th>\n",
       "      <th>std_day</th>\n",
       "      <th>max_day</th>\n",
       "      <th>#values_exceed_mean</th>\n",
       "      <th>max-min</th>\n",
       "      <th>standarized_sum</th>\n",
       "      <th>1st_diff</th>\n",
       "      <th>1st_diff1</th>\n",
       "      <th>1st_diff2</th>\n",
       "      <th>2nd_diff</th>\n",
       "      <th>2nd_diff1</th>\n",
       "      <th>3rd_diff</th>\n",
       "    </tr>\n",
       "  </thead>\n",
       "  <tbody>\n",
       "    <tr>\n",
       "      <th>1</th>\n",
       "      <td>9</td>\n",
       "      <td>1</td>\n",
       "      <td>2012</td>\n",
       "      <td>80.0</td>\n",
       "      <td>20.00</td>\n",
       "      <td>8.704022</td>\n",
       "      <td>31.2</td>\n",
       "      <td>2</td>\n",
       "      <td>21.2</td>\n",
       "      <td>0.000000e+00</td>\n",
       "      <td>5.6</td>\n",
       "      <td>12.4</td>\n",
       "      <td>3.2</td>\n",
       "      <td>18.0</td>\n",
       "      <td>15.6</td>\n",
       "      <td>21.2</td>\n",
       "    </tr>\n",
       "    <tr>\n",
       "      <th>2</th>\n",
       "      <td>16</td>\n",
       "      <td>1</td>\n",
       "      <td>2012</td>\n",
       "      <td>65.6</td>\n",
       "      <td>16.40</td>\n",
       "      <td>3.438023</td>\n",
       "      <td>22.2</td>\n",
       "      <td>1</td>\n",
       "      <td>9.0</td>\n",
       "      <td>3.552714e-15</td>\n",
       "      <td>-1.8</td>\n",
       "      <td>-0.2</td>\n",
       "      <td>-7.0</td>\n",
       "      <td>-2.0</td>\n",
       "      <td>-7.2</td>\n",
       "      <td>-9.0</td>\n",
       "    </tr>\n",
       "    <tr>\n",
       "      <th>3</th>\n",
       "      <td>23</td>\n",
       "      <td>1</td>\n",
       "      <td>2012</td>\n",
       "      <td>47.6</td>\n",
       "      <td>11.90</td>\n",
       "      <td>4.942671</td>\n",
       "      <td>20.4</td>\n",
       "      <td>1</td>\n",
       "      <td>12.0</td>\n",
       "      <td>-1.776357e-15</td>\n",
       "      <td>-0.4</td>\n",
       "      <td>-11.6</td>\n",
       "      <td>10.4</td>\n",
       "      <td>-12.0</td>\n",
       "      <td>-1.2</td>\n",
       "      <td>-1.6</td>\n",
       "    </tr>\n",
       "    <tr>\n",
       "      <th>4</th>\n",
       "      <td>30</td>\n",
       "      <td>1</td>\n",
       "      <td>2012</td>\n",
       "      <td>50.6</td>\n",
       "      <td>12.65</td>\n",
       "      <td>3.001250</td>\n",
       "      <td>16.6</td>\n",
       "      <td>2</td>\n",
       "      <td>8.4</td>\n",
       "      <td>0.000000e+00</td>\n",
       "      <td>8.4</td>\n",
       "      <td>-4.2</td>\n",
       "      <td>-1.0</td>\n",
       "      <td>4.2</td>\n",
       "      <td>-5.2</td>\n",
       "      <td>3.2</td>\n",
       "    </tr>\n",
       "    <tr>\n",
       "      <th>5</th>\n",
       "      <td>37</td>\n",
       "      <td>1</td>\n",
       "      <td>2012</td>\n",
       "      <td>57.2</td>\n",
       "      <td>14.30</td>\n",
       "      <td>5.566866</td>\n",
       "      <td>23.2</td>\n",
       "      <td>2</td>\n",
       "      <td>14.0</td>\n",
       "      <td>-3.552714e-15</td>\n",
       "      <td>-8.4</td>\n",
       "      <td>13.2</td>\n",
       "      <td>0.8</td>\n",
       "      <td>4.8</td>\n",
       "      <td>14.0</td>\n",
       "      <td>5.6</td>\n",
       "    </tr>\n",
       "    <tr>\n",
       "      <th>6</th>\n",
       "      <td>44</td>\n",
       "      <td>1</td>\n",
       "      <td>2012</td>\n",
       "      <td>46.6</td>\n",
       "      <td>11.65</td>\n",
       "      <td>4.366635</td>\n",
       "      <td>18.0</td>\n",
       "      <td>2</td>\n",
       "      <td>10.6</td>\n",
       "      <td>-1.776357e-15</td>\n",
       "      <td>-0.4</td>\n",
       "      <td>-10.2</td>\n",
       "      <td>4.6</td>\n",
       "      <td>-10.6</td>\n",
       "      <td>-5.6</td>\n",
       "      <td>-6.0</td>\n",
       "    </tr>\n",
       "    <tr>\n",
       "      <th>7</th>\n",
       "      <td>51</td>\n",
       "      <td>1</td>\n",
       "      <td>2012</td>\n",
       "      <td>46.6</td>\n",
       "      <td>11.65</td>\n",
       "      <td>3.726594</td>\n",
       "      <td>16.8</td>\n",
       "      <td>2</td>\n",
       "      <td>8.8</td>\n",
       "      <td>5.329071e-15</td>\n",
       "      <td>3.2</td>\n",
       "      <td>5.6</td>\n",
       "      <td>-0.2</td>\n",
       "      <td>8.8</td>\n",
       "      <td>5.4</td>\n",
       "      <td>8.6</td>\n",
       "    </tr>\n",
       "    <tr>\n",
       "      <th>8</th>\n",
       "      <td>58</td>\n",
       "      <td>1</td>\n",
       "      <td>2012</td>\n",
       "      <td>49.0</td>\n",
       "      <td>12.25</td>\n",
       "      <td>4.950505</td>\n",
       "      <td>20.8</td>\n",
       "      <td>1</td>\n",
       "      <td>12.0</td>\n",
       "      <td>1.776357e-15</td>\n",
       "      <td>-11.2</td>\n",
       "      <td>11.0</td>\n",
       "      <td>1.0</td>\n",
       "      <td>-0.2</td>\n",
       "      <td>12.0</td>\n",
       "      <td>0.8</td>\n",
       "    </tr>\n",
       "    <tr>\n",
       "      <th>9</th>\n",
       "      <td>65</td>\n",
       "      <td>1</td>\n",
       "      <td>2012</td>\n",
       "      <td>43.8</td>\n",
       "      <td>10.95</td>\n",
       "      <td>3.063903</td>\n",
       "      <td>14.4</td>\n",
       "      <td>2</td>\n",
       "      <td>6.6</td>\n",
       "      <td>2.664535e-15</td>\n",
       "      <td>-6.4</td>\n",
       "      <td>6.6</td>\n",
       "      <td>-5.8</td>\n",
       "      <td>0.2</td>\n",
       "      <td>0.8</td>\n",
       "      <td>-5.6</td>\n",
       "    </tr>\n",
       "    <tr>\n",
       "      <th>10</th>\n",
       "      <td>72</td>\n",
       "      <td>1</td>\n",
       "      <td>2012</td>\n",
       "      <td>42.0</td>\n",
       "      <td>10.50</td>\n",
       "      <td>4.220190</td>\n",
       "      <td>17.8</td>\n",
       "      <td>1</td>\n",
       "      <td>10.0</td>\n",
       "      <td>8.881784e-16</td>\n",
       "      <td>-9.4</td>\n",
       "      <td>9.8</td>\n",
       "      <td>0.2</td>\n",
       "      <td>0.4</td>\n",
       "      <td>10.0</td>\n",
       "      <td>0.6</td>\n",
       "    </tr>\n",
       "  </tbody>\n",
       "</table>\n",
       "</div>"
      ],
      "text/plain": [
       "    day_of_the_year  quarter  year   kwh  mean_day   std_day  max_day  \\\n",
       "1                 9        1  2012  80.0     20.00  8.704022     31.2   \n",
       "2                16        1  2012  65.6     16.40  3.438023     22.2   \n",
       "3                23        1  2012  47.6     11.90  4.942671     20.4   \n",
       "4                30        1  2012  50.6     12.65  3.001250     16.6   \n",
       "5                37        1  2012  57.2     14.30  5.566866     23.2   \n",
       "6                44        1  2012  46.6     11.65  4.366635     18.0   \n",
       "7                51        1  2012  46.6     11.65  3.726594     16.8   \n",
       "8                58        1  2012  49.0     12.25  4.950505     20.8   \n",
       "9                65        1  2012  43.8     10.95  3.063903     14.4   \n",
       "10               72        1  2012  42.0     10.50  4.220190     17.8   \n",
       "\n",
       "    #values_exceed_mean  max-min  standarized_sum  1st_diff  1st_diff1  \\\n",
       "1                     2     21.2     0.000000e+00       5.6       12.4   \n",
       "2                     1      9.0     3.552714e-15      -1.8       -0.2   \n",
       "3                     1     12.0    -1.776357e-15      -0.4      -11.6   \n",
       "4                     2      8.4     0.000000e+00       8.4       -4.2   \n",
       "5                     2     14.0    -3.552714e-15      -8.4       13.2   \n",
       "6                     2     10.6    -1.776357e-15      -0.4      -10.2   \n",
       "7                     2      8.8     5.329071e-15       3.2        5.6   \n",
       "8                     1     12.0     1.776357e-15     -11.2       11.0   \n",
       "9                     2      6.6     2.664535e-15      -6.4        6.6   \n",
       "10                    1     10.0     8.881784e-16      -9.4        9.8   \n",
       "\n",
       "    1st_diff2  2nd_diff  2nd_diff1  3rd_diff  \n",
       "1         3.2      18.0       15.6      21.2  \n",
       "2        -7.0      -2.0       -7.2      -9.0  \n",
       "3        10.4     -12.0       -1.2      -1.6  \n",
       "4        -1.0       4.2       -5.2       3.2  \n",
       "5         0.8       4.8       14.0       5.6  \n",
       "6         4.6     -10.6       -5.6      -6.0  \n",
       "7        -0.2       8.8        5.4       8.6  \n",
       "8         1.0      -0.2       12.0       0.8  \n",
       "9        -5.8       0.2        0.8      -5.6  \n",
       "10        0.2       0.4       10.0       0.6  "
      ]
     },
     "execution_count": 18,
     "metadata": {},
     "output_type": "execute_result"
    }
   ],
   "source": [
    "result.head(10)"
   ]
  },
  {
   "cell_type": "code",
   "execution_count": 19,
   "metadata": {
    "collapsed": true,
    "scrolled": true
   },
   "outputs": [],
   "source": [
    "X = result.drop(['kwh','#values_exceed_mean'],axis=1)\n",
    "y= result['kwh']\n",
    "X_train, X_test, y_train, y_test = train_test_split(X[:len(X)-1], y[:len(y)-1], test_size=0.25)"
   ]
  },
  {
   "cell_type": "markdown",
   "metadata": {},
   "source": [
    "#### We will use GradientBoostingRegressor and optimize the hyperparameters using RandomGridSearchCV"
   ]
  },
  {
   "cell_type": "code",
   "execution_count": 21,
   "metadata": {
    "collapsed": false,
    "scrolled": false
   },
   "outputs": [
    {
     "name": "stderr",
     "output_type": "stream",
     "text": [
      "[Parallel(n_jobs=1)]: Done   1 jobs       | elapsed:    6.1s\n",
      "[Parallel(n_jobs=1)]: Done  50 jobs       | elapsed:  3.7min\n",
      "[Parallel(n_jobs=1)]: Done 200 jobs       | elapsed: 13.1min\n",
      "[Parallel(n_jobs=1)]: Done 250 out of 250 | elapsed: 16.3min finished\n"
     ]
    },
    {
     "name": "stdout",
     "output_type": "stream",
     "text": [
      "Fitting 5 folds for each of 50 candidates, totalling 250 fits\n",
      "--- 984.039857149 seconds ---\n"
     ]
    }
   ],
   "source": [
    "start_time = time.time()\n",
    "param_grid = {'learning_rate': [0.07, 0.01, 0.08, 0.02, 0.03, 0.04, 0.05, 0.055, 0.045, 0.035],\n",
    "              'max_depth': [2, 3, 4, 5, 6, 7, 8, 9, 10, 11, 12, 13, 14],\n",
    "              'n_estimators': [9000, 8000, 10000, 8500, 9500, 10500, 7500],\n",
    "              'max_features': [2, 3, 4, 5, 6, 7, 8, 9, 10, 11, 12, 13, 14],\n",
    "              'min_samples_leaf':[2, 3, 4, 5, 6, 7, 8, 9, 10, 11, 12, 13, 14],\n",
    "              'subsample':[0.1, 0.2, 0.09, 0.3, 0.4, 0.5, 0.6, 0.7, 0.8, 0.9],\n",
    "              'loss':['huber']\n",
    "#               'min_samples_split':[2, 3, 4, 5, 6]\n",
    "              }\n",
    "#  scoring=sklearn.metrics.make_scorer(mean_squared_error),\n",
    "est = GradientBoostingRegressor()\n",
    "# this may take some minutes\n",
    "gs_cv = RandomizedSearchCV(est, param_grid, cv=5, n_jobs=1, verbose=1,n_iter=50).fit(X_train, y_train)\n",
    "\n",
    "# best hyperparameter setting\n",
    "# print('Best hyperparameters: %r' % gs_cv.best_params_)\n",
    "est.set_params(**gs_cv.best_params_)\n",
    "est.fit(X_train, y_train)\n",
    "print (\"--- %s seconds ---\" % (time.time() - start_time))"
   ]
  },
  {
   "cell_type": "code",
   "execution_count": 22,
   "metadata": {
    "collapsed": false,
    "scrolled": true
   },
   "outputs": [
    {
     "name": "stdout",
     "output_type": "stream",
     "text": [
      "3.19695301032\n"
     ]
    }
   ],
   "source": [
    "print np.mean(abs(y_test-est.predict(X_test))/y_test)*100"
   ]
  },
  {
   "cell_type": "markdown",
   "metadata": {},
   "source": [
    "####  We have excluded the last value of our DataFrame to investigate the predictive power of our model. The following results are highly acceptable"
   ]
  },
  {
   "cell_type": "code",
   "execution_count": 23,
   "metadata": {
    "collapsed": false,
    "scrolled": true
   },
   "outputs": [
    {
     "name": "stdout",
     "output_type": "stream",
     "text": [
      "The predicted value is:  [ 273.8244227]\n",
      "The True value is:  [ 269.]\n",
      "The absolute error for the next Friday hour==0 is:  [ 4.8244227]\n"
     ]
    }
   ],
   "source": [
    "print \"The predicted value is: \" ,np.ravel(est.predict(X.tail(1)))\n",
    "print \"The True value is: \",np.ravel(y.tail(1))\n",
    "print \"The absolute error for the next Friday hour==0 is: \",np.ravel(abs(y.tail(1) - est.predict(X.tail(1))))"
   ]
  },
  {
   "cell_type": "markdown",
   "metadata": {},
   "source": [
    "###  We are going to repeat the previous tuning many times to understand the variability of RandomGridSearchCV. It is low extension of simulation in order to find out the Confidence Interval of the True Error value"
   ]
  },
  {
   "cell_type": "code",
   "execution_count": 24,
   "metadata": {
    "collapsed": false,
    "scrolled": false
   },
   "outputs": [
    {
     "name": "stdout",
     "output_type": "stream",
     "text": [
      "--- 775.879564047 seconds ---\n"
     ]
    }
   ],
   "source": [
    "start_time = time.time()\n",
    "errors = []\n",
    "hyperm = []\n",
    "for i in range(25):\n",
    "    param_grid = {'learning_rate': [0.07, 0.01, 0.08, 0.02, 0.03, 0.04, 0.05, 0.055, 0.045, 0.035],\n",
    "              'max_depth': [2, 3, 4, 5, 6, 7, 8, 9, 10, 11, 12, 13, 14],\n",
    "              'n_estimators': [1000, 700, 800, 500, 1200,1500,2000, 1700],\n",
    "              'max_features': [2, 3, 4, 5, 6, 7, 8, 9, 10, 11, 12, 13, 14],\n",
    "              'min_samples_leaf':[2, 3, 4, 5, 6, 7, 8, 9, 10, 11, 12, 13, 14],\n",
    "              'subsample':[0.1, 0.2, 0.09, 0.3, 0.4, 0.5, 0.6, 0.7, 0.8, 0.9],\n",
    "                  'loss':['huber']\n",
    "#               'min_samples_split':[2, 3, 4, 5, 6]\n",
    "              }\n",
    "#  scoring=sklearn.metrics.make_scorer(mean_squared_error),\n",
    "    est = GradientBoostingRegressor()\n",
    "# this may take some minutes\n",
    "    gs_cv = RandomizedSearchCV(est, param_grid, cv=5, n_jobs=1).fit(X_train, y_train)\n",
    "\n",
    "# best hyperparameter setting\n",
    "    # print('Best hyperparameters: %r' % gs_cv.best_params_)\n",
    "    hyperm.append(gs_cv.best_params_)\n",
    "    est.set_params(**gs_cv.best_params_)\n",
    "    est.fit(X_train, y_train)\n",
    "    # print (\"--- %s seconds ---\" % (time.time() - start_time))\n",
    "    errors.append(np.mean(abs(y_test-est.predict(X_test))/y_test)*100)\n",
    "print (\"--- %s seconds ---\" % (time.time() - start_time)) "
   ]
  },
  {
   "cell_type": "code",
   "execution_count": 25,
   "metadata": {
    "collapsed": false,
    "scrolled": true
   },
   "outputs": [
    {
     "data": {
      "image/png": "[encoded data removed]",
      "text/plain": [
       "<matplotlib.figure.Figure at 0x7fd2352e7a50>"
      ]
     },
     "metadata": {},
     "output_type": "display_data"
    }
   ],
   "source": [
    "matplotlib.rcParams['figure.figsize'] = (16, 8)\n",
    "sns.set_style(\"darkgrid\")\n",
    "ax = sns.kdeplot(np.array(errors), shade=True, color='g')\n",
    "plt.title('Density plot of RandomGridSearchCV errors', fontsize=25)\n",
    "sns.plt.show()"
   ]
  },
  {
   "cell_type": "markdown",
   "metadata": {},
   "source": [
    "##  Next, we plot the predicted vs true values for a specific tuning hyperpameter just for illustration"
   ]
  },
  {
   "cell_type": "code",
   "execution_count": 27,
   "metadata": {
    "collapsed": false,
    "scrolled": true
   },
   "outputs": [
    {
     "data": {
      "text/plain": [
       "GradientBoostingRegressor(alpha=0.9, init=None, learning_rate=0.01,\n",
       "             loss='huber', max_depth=2, max_features=11,\n",
       "             max_leaf_nodes=None, min_samples_leaf=4, min_samples_split=2,\n",
       "             min_weight_fraction_leaf=0.0, n_estimators=1700,\n",
       "             random_state=None, subsample=0.9, verbose=0, warm_start=False)"
      ]
     },
     "execution_count": 27,
     "metadata": {},
     "output_type": "execute_result"
    }
   ],
   "source": [
    "import random\n",
    "# We chooce randomly tuned hypermaters from the list(hyperm)\n",
    "est.set_params(**hyperm[random.randint(0, len(hyperm))])\n",
    "est.fit(X_train, y_train)"
   ]
  },
  {
   "cell_type": "code",
   "execution_count": 28,
   "metadata": {
    "collapsed": false,
    "scrolled": true
   },
   "outputs": [
    {
     "data": {
      "text/plain": [
       "6.1400875731697084"
      ]
     },
     "execution_count": 28,
     "metadata": {},
     "output_type": "execute_result"
    }
   ],
   "source": [
    "(np.mean(abs(y_test-est.predict(X_test))/y_test))*100"
   ]
  },
  {
   "cell_type": "code",
   "execution_count": 29,
   "metadata": {
    "collapsed": false,
    "scrolled": true
   },
   "outputs": [
    {
     "data": {
      "image/png": "[encoded data removed]",
      "text/plain": [
       "<matplotlib.figure.Figure at 0x7fd252d18b10>"
      ]
     },
     "metadata": {},
     "output_type": "display_data"
    }
   ],
   "source": [
    "sns.set_style(\"dark\")\n",
    "plt.plot(y_test.values, 'r')\n",
    "plt.plot(est.predict(X_test), 'g')\n",
    "plt.title('Red is for True Values ; Green is for Predicted Values ', fontsize=25)\n",
    "sns.plt.show()"
   ]
  },
  {
   "cell_type": "code",
   "execution_count": null,
   "metadata": {
    "collapsed": true,
    "scrolled": true
   },
   "outputs": [],
   "source": []
  }
 ],
 "metadata": {
  "kernelspec": {
   "display_name": "Python 2",
   "language": "python",
   "name": "python2"
  },
  "language_info": {
   "codemirror_mode": {
    "name": "ipython",
    "version": 2
   },
   "file_extension": ".py",
   "mimetype": "text/x-python",
   "name": "python",
   "nbconvert_exporter": "python",
   "pygments_lexer": "ipython2",
   "version": "2.7.6"
  }
 },
 "nbformat": 4,
 "nbformat_minor": 0
}
